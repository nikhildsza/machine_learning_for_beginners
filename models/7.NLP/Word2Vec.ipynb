{
 "cells": [
  {
   "cell_type": "markdown",
   "metadata": {},
   "source": [
    "Word2Vec on Game of Thrones data"
   ]
  },
  {
   "cell_type": "code",
   "execution_count": 4,
   "metadata": {},
   "outputs": [
    {
     "name": "stderr",
     "output_type": "stream",
     "text": [
      "/tmp/ipykernel_4447/344542387.py:1: DeprecationWarning: \n",
      "Pyarrow will become a required dependency of pandas in the next major release of pandas (pandas 3.0),\n",
      "(to allow more performant data types, such as the Arrow string type, and better interoperability with other libraries)\n",
      "but was not found to be installed on your system.\n",
      "If this would cause problems for you,\n",
      "please provide us feedback at https://github.com/pandas-dev/pandas/issues/54466\n",
      "        \n",
      "  import pandas as pd\n"
     ]
    }
   ],
   "source": [
    "import pandas as pd\n",
    "import gensim\n",
    "import os\n",
    "from nltk.tokenize import sent_tokenize\n",
    "from gensim.utils import simple_preprocess\n",
    "from nltk.corpus import stopwords"
   ]
  },
  {
   "cell_type": "code",
   "execution_count": 5,
   "metadata": {},
   "outputs": [],
   "source": [
    "story = []\n",
    "for filename in os.listdir('/home/nikhilds/GitHub(ML)/machine_learning_for_beginners/datasets/4.NLP/Word2Vec'):\n",
    "    f = open(os.path.join('/home/nikhilds/GitHub(ML)/machine_learning_for_beginners/datasets/4.NLP/Word2Vec',filename),encoding='latin1')\n",
    "    corpus = f.read()\n",
    "    raw_sent = sent_tokenize(corpus)\n",
    "    for sent in raw_sent:\n",
    "        processed_word = simple_preprocess(sent)\n",
    "        filtered_words = [word for word in processed_word if word not in stopwords.words('english')]\n",
    "        story.append(filtered_words)\n"
   ]
  },
  {
   "cell_type": "code",
   "execution_count": 6,
   "metadata": {},
   "outputs": [
    {
     "data": {
      "text/plain": [
       "145020"
      ]
     },
     "execution_count": 6,
     "metadata": {},
     "output_type": "execute_result"
    }
   ],
   "source": [
    "len(story)"
   ]
  },
  {
   "cell_type": "code",
   "execution_count": 7,
   "metadata": {},
   "outputs": [
    {
     "data": {
      "text/plain": [
       "[['clash',\n",
       "  'kings',\n",
       "  'book',\n",
       "  'two',\n",
       "  'song',\n",
       "  'ice',\n",
       "  'fire',\n",
       "  'george',\n",
       "  'martin',\n",
       "  'prologue',\n",
       "  'comet',\n",
       "  'tail',\n",
       "  'spread',\n",
       "  'across',\n",
       "  'dawn',\n",
       "  'red',\n",
       "  'slash',\n",
       "  'bled',\n",
       "  'crags',\n",
       "  'dragonstone',\n",
       "  'like',\n",
       "  'wound',\n",
       "  'pink',\n",
       "  'purple',\n",
       "  'sky'],\n",
       " ['maester', 'stood', 'windswept', 'balcony', 'outside', 'chambers'],\n",
       " ['ravens', 'came', 'long', 'flight'],\n",
       " ['droppings',\n",
       "  'speckled',\n",
       "  'gargoyles',\n",
       "  'rose',\n",
       "  'twelve',\n",
       "  'feet',\n",
       "  'tall',\n",
       "  'either',\n",
       "  'side',\n",
       "  'hellhound',\n",
       "  'wyvern',\n",
       "  'two',\n",
       "  'thousand',\n",
       "  'brooded',\n",
       "  'walls',\n",
       "  'ancient',\n",
       "  'fortress'],\n",
       " ['first',\n",
       "  'came',\n",
       "  'dragonstone',\n",
       "  'army',\n",
       "  'stone',\n",
       "  'grotesques',\n",
       "  'made',\n",
       "  'uneasy',\n",
       "  'years',\n",
       "  'passed',\n",
       "  'grown',\n",
       "  'used'],\n",
       " ['thought', 'old', 'friends'],\n",
       " ['three', 'watched', 'sky', 'together', 'foreboding'],\n",
       " ['maester', 'believe', 'omens'],\n",
       " ['yet'],\n",
       " [],\n",
       " [],\n",
       " ['old',\n",
       "  'cressen',\n",
       "  'never',\n",
       "  'seen',\n",
       "  'comet',\n",
       "  'half',\n",
       "  'bright',\n",
       "  'yet',\n",
       "  'color',\n",
       "  'terrible',\n",
       "  'color',\n",
       "  'color',\n",
       "  'blood',\n",
       "  'flame',\n",
       "  'sunsets'],\n",
       " ['wondered', 'gargoyles', 'ever', 'seen', 'like'],\n",
       " ['much', 'longer', 'would', 'still', 'long', 'gone'],\n",
       " ['stone', 'tongues', 'could', 'speak'],\n",
       " [],\n",
       " [],\n",
       " ['folly'],\n",
       " ['leaned',\n",
       "  'battlement',\n",
       "  'sea',\n",
       "  'crashing',\n",
       "  'beneath',\n",
       "  'black',\n",
       "  'stone',\n",
       "  'rough',\n",
       "  'beneath',\n",
       "  'fingers'],\n",
       " ['talking', 'gargoyles', 'prophecies', 'sky'],\n",
       " ['old', 'done', 'man', 'grown', 'giddy', 'child'],\n",
       " ['lifetime', 'hard', 'wisdom', 'fled', 'along', 'health', 'strength'],\n",
       " ['maester', 'trained', 'chained', 'great', 'citadel', 'oldtown'],\n",
       " ['come', 'superstition', 'filled', 'head', 'ignorant', 'fieldhand'],\n",
       " ['yet'],\n",
       " [],\n",
       " [],\n",
       " ['yet'],\n",
       " [],\n",
       " [],\n",
       " ['comet',\n",
       "  'burned',\n",
       "  'even',\n",
       "  'day',\n",
       "  'pale',\n",
       "  'grey',\n",
       "  'steam',\n",
       "  'rose',\n",
       "  'hot',\n",
       "  'vents',\n",
       "  'dragonmont',\n",
       "  'behind',\n",
       "  'castle',\n",
       "  'yestermorn',\n",
       "  'white',\n",
       "  'raven',\n",
       "  'brought',\n",
       "  'word',\n",
       "  'citadel',\n",
       "  'word',\n",
       "  'long',\n",
       "  'expected',\n",
       "  'less',\n",
       "  'fearful',\n",
       "  'word',\n",
       "  'summer',\n",
       "  'end'],\n",
       " ['omens'],\n",
       " ['many', 'deny'],\n",
       " ['mean'],\n",
       " ['wanted', 'cry'],\n",
       " ['page', 'maester', 'cressen', 'visitors'],\n",
       " ['pylos',\n",
       "  'spoke',\n",
       "  'softly',\n",
       "  'loath',\n",
       "  'disturb',\n",
       "  'cressen',\n",
       "  'solemn',\n",
       "  'meditations'],\n",
       " ['known', 'drivel', 'filled', 'head', 'would', 'shouted'],\n",
       " ['princess', 'would', 'see', 'white', 'raven'],\n",
       " ['ever', 'correct', 'pylos', 'called', 'princess', 'lord', 'father', 'king'],\n",
       " ['king',\n",
       "  'smoking',\n",
       "  'rock',\n",
       "  'great',\n",
       "  'salt',\n",
       "  'sea',\n",
       "  'yet',\n",
       "  'king',\n",
       "  'nonetheless'],\n",
       " ['fool'],\n",
       " ['old',\n",
       "  'man',\n",
       "  'turned',\n",
       "  'away',\n",
       "  'dawn',\n",
       "  'keeping',\n",
       "  'hand',\n",
       "  'wyvern',\n",
       "  'steady'],\n",
       " ['help', 'chair', 'show'],\n",
       " ['taking', 'arm', 'pylos', 'led', 'inside'],\n",
       " ['youth',\n",
       "  'cressen',\n",
       "  'walked',\n",
       "  'briskly',\n",
       "  'far',\n",
       "  'eightieth',\n",
       "  'name',\n",
       "  'day',\n",
       "  'legs',\n",
       "  'frail',\n",
       "  'unsteady'],\n",
       " ['two',\n",
       "  'years',\n",
       "  'past',\n",
       "  'fallen',\n",
       "  'shattered',\n",
       "  'hip',\n",
       "  'never',\n",
       "  'mended',\n",
       "  'properly'],\n",
       " ['last',\n",
       "  'year',\n",
       "  'took',\n",
       "  'ill',\n",
       "  'citadel',\n",
       "  'sent',\n",
       "  'pylos',\n",
       "  'oldtown',\n",
       "  'mere',\n",
       "  'days',\n",
       "  'lord',\n",
       "  'stannis',\n",
       "  'closed',\n",
       "  'isle'],\n",
       " [],\n",
       " [],\n",
       " ['help', 'labors', 'said', 'cressen', 'knew', 'truth'],\n",
       " ['pylos', 'come', 'replace', 'died'],\n",
       " ['mind'],\n",
       " ['someone', 'must', 'take', 'place', 'sooner', 'would', 'like'],\n",
       " [],\n",
       " [],\n",
       " ['let', 'younger', 'man', 'settle', 'behind', 'books', 'papers'],\n",
       " ['go', 'bring'],\n",
       " ['ill', 'keep', 'lady', 'waiting'],\n",
       " ['waved',\n",
       "  'hand',\n",
       "  'feeble',\n",
       "  'gesture',\n",
       "  'haste',\n",
       "  'man',\n",
       "  'longer',\n",
       "  'capable',\n",
       "  'hastening'],\n",
       " ['flesh',\n",
       "  'wrinkled',\n",
       "  'spotted',\n",
       "  'skin',\n",
       "  'papery',\n",
       "  'thin',\n",
       "  'could',\n",
       "  'see',\n",
       "  'web',\n",
       "  'veins',\n",
       "  'shape',\n",
       "  'bones',\n",
       "  'beneath'],\n",
       " ['trembled', 'hands', 'sure', 'deft'],\n",
       " [],\n",
       " [],\n",
       " ['pylos', 'returned', 'girl', 'came', 'shy', 'ever'],\n",
       " ['behind',\n",
       "  'shuffling',\n",
       "  'hopping',\n",
       "  'queer',\n",
       "  'sideways',\n",
       "  'walk',\n",
       "  'came',\n",
       "  'fool'],\n",
       " ['head',\n",
       "  'mock',\n",
       "  'helm',\n",
       "  'fashioned',\n",
       "  'old',\n",
       "  'tin',\n",
       "  'bucket',\n",
       "  'rack',\n",
       "  'deer',\n",
       "  'antlers',\n",
       "  'strapped',\n",
       "  'crown',\n",
       "  'hung',\n",
       "  'cowbells'],\n",
       " ['every',\n",
       "  'lurching',\n",
       "  'step',\n",
       "  'bells',\n",
       "  'rang',\n",
       "  'different',\n",
       "  'voice',\n",
       "  'clang',\n",
       "  'dang',\n",
       "  'bong',\n",
       "  'dong',\n",
       "  'ring',\n",
       "  'ling',\n",
       "  'clong',\n",
       "  'clong',\n",
       "  'clong'],\n",
       " ['comes', 'see', 'us', 'early', 'pylos'],\n",
       " ['cressen', 'said'],\n",
       " ['patches', 'maester'],\n",
       " ['guileless', 'blue', 'eyes', 'blinked'],\n",
       " ['pretty', 'face', 'alas'],\n",
       " ['child',\n",
       "  'lord',\n",
       "  'father',\n",
       "  'square',\n",
       "  'jut',\n",
       "  'jaw',\n",
       "  'mother',\n",
       "  'unfortunate',\n",
       "  'ears',\n",
       "  'along',\n",
       "  'disfigurement',\n",
       "  'legacy',\n",
       "  'bout',\n",
       "  'greyscale',\n",
       "  'almost',\n",
       "  'claimed',\n",
       "  'crib'],\n",
       " ['across',\n",
       "  'half',\n",
       "  'one',\n",
       "  'cheek',\n",
       "  'well',\n",
       "  'neck',\n",
       "  'flesh',\n",
       "  'stiff',\n",
       "  'dead',\n",
       "  'skin',\n",
       "  'cracked',\n",
       "  'flaking',\n",
       "  'mottled',\n",
       "  'black',\n",
       "  'grey',\n",
       "  'stony',\n",
       "  'touch'],\n",
       " ['pylos', 'said', 'might', 'see', 'white', 'raven'],\n",
       " ['indeed', 'may', 'cressen', 'answered'],\n",
       " ['would', 'ever', 'deny'],\n",
       " ['denied', 'often', 'time'],\n",
       " ['name', 'shireen'],\n",
       " ['would',\n",
       "  'ten',\n",
       "  'next',\n",
       "  'name',\n",
       "  'day',\n",
       "  'saddest',\n",
       "  'child',\n",
       "  'maester',\n",
       "  'cressen',\n",
       "  'ever',\n",
       "  'known'],\n",
       " ['sadness', 'shame', 'old', 'man', 'thought', 'another', 'mark', 'failure'],\n",
       " ['maester',\n",
       "  'pylos',\n",
       "  'kindness',\n",
       "  'bring',\n",
       "  'bird',\n",
       "  'rookery',\n",
       "  'lady',\n",
       "  'shireen'],\n",
       " ['would', 'pleasure'],\n",
       " ['pylos',\n",
       "  'polite',\n",
       "  'youth',\n",
       "  'five',\n",
       "  'twenty',\n",
       "  'yet',\n",
       "  'solemn',\n",
       "  'man',\n",
       "  'sixty'],\n",
       " ['humor', 'life', 'needed'],\n",
       " ['grim',\n",
       "  'places',\n",
       "  'needed',\n",
       "  'lightening',\n",
       "  'solemnity',\n",
       "  'dragonstone',\n",
       "  'grim',\n",
       "  'beyond',\n",
       "  'doubt',\n",
       "  'lonely',\n",
       "  'citadel',\n",
       "  'wet',\n",
       "  'waste',\n",
       "  'surrounded',\n",
       "  'storm',\n",
       "  'salt',\n",
       "  'smoking',\n",
       "  'shadow',\n",
       "  'mountain',\n",
       "  'back'],\n",
       " ['maester',\n",
       "  'must',\n",
       "  'go',\n",
       "  'sent',\n",
       "  'cressen',\n",
       "  'come',\n",
       "  'lord',\n",
       "  'twelve',\n",
       "  'years',\n",
       "  'past',\n",
       "  'served',\n",
       "  'served',\n",
       "  'well'],\n",
       " ['yet', 'never', 'loved', 'dragonstone', 'ever', 'felt', 'truly', 'home'],\n",
       " ['late',\n",
       "  'woke',\n",
       "  'restless',\n",
       "  'dreams',\n",
       "  'red',\n",
       "  'woman',\n",
       "  'figured',\n",
       "  'disturbingly',\n",
       "  'often',\n",
       "  'know'],\n",
       " ['page',\n",
       "  'fool',\n",
       "  'turned',\n",
       "  'patched',\n",
       "  'piebald',\n",
       "  'head',\n",
       "  'watch',\n",
       "  'pylos',\n",
       "  'climb',\n",
       "  'steep',\n",
       "  'iron',\n",
       "  'steps',\n",
       "  'rookery'],\n",
       " ['bells', 'rang', 'motion'],\n",
       " ['sea', 'birds', 'scales', 'feathers', 'said', 'clang', 'langing'],\n",
       " ['know', 'know', 'oh', 'oh', 'oh'],\n",
       " ['even', 'fool', 'patchface', 'sorry', 'thing'],\n",
       " ['perhaps',\n",
       "  'could',\n",
       "  'evoke',\n",
       "  'gales',\n",
       "  'laughter',\n",
       "  'quip',\n",
       "  'sea',\n",
       "  'taken',\n",
       "  'power',\n",
       "  'along',\n",
       "  'half',\n",
       "  'wits',\n",
       "  'memory'],\n",
       " ['soft', 'obese', 'subject', 'twitches', 'trembles', 'incoherent', 'often'],\n",
       " ['girl', 'one', 'laughed', 'one', 'cared', 'lived', 'died'],\n",
       " ['ugly', 'little', 'girl', 'sad', 'fool', 'maester', 'makes', 'three'],\n",
       " [],\n",
       " [],\n",
       " ['tale', 'make', 'men', 'weep'],\n",
       " ['sit', 'child'],\n",
       " ['cressen', 'beckoned', 'closer'],\n",
       " ['early', 'come', 'calling', 'scarce', 'past', 'dawn'],\n",
       " ['snug', 'bed'],\n",
       " ['bad', 'dreams', 'shireen', 'told'],\n",
       " ['dragons'],\n",
       " ['coming', 'eat'],\n",
       " ['child',\n",
       "  'plagued',\n",
       "  'nightmares',\n",
       "  'far',\n",
       "  'back',\n",
       "  'maester',\n",
       "  'cressen',\n",
       "  'could',\n",
       "  'recall'],\n",
       " ['talked', 'said', 'gently'],\n",
       " ['dragons', 'cannot', 'come', 'life'],\n",
       " ['carved', 'stone', 'child'],\n",
       " ['olden',\n",
       "  'days',\n",
       "  'island',\n",
       "  'westernmost',\n",
       "  'outpost',\n",
       "  'great',\n",
       "  'freehold',\n",
       "  'valyria'],\n",
       " ['valyrians',\n",
       "  'raised',\n",
       "  'citadel',\n",
       "  'ways',\n",
       "  'shaping',\n",
       "  'stone',\n",
       "  'since',\n",
       "  'lost',\n",
       "  'us'],\n",
       " ['castle',\n",
       "  'must',\n",
       "  'towers',\n",
       "  'wherever',\n",
       "  'two',\n",
       "  'walls',\n",
       "  'meet',\n",
       "  'angle',\n",
       "  'defense'],\n",
       " ['valyrians',\n",
       "  'fashioned',\n",
       "  'towers',\n",
       "  'shape',\n",
       "  'dragons',\n",
       "  'make',\n",
       "  'fortress',\n",
       "  'seem',\n",
       "  'fearsome',\n",
       "  'crowned',\n",
       "  'walls',\n",
       "  'thousand',\n",
       "  'gargoyles',\n",
       "  'instead',\n",
       "  'simple',\n",
       "  'crenellations'],\n",
       " ['took',\n",
       "  'small',\n",
       "  'pink',\n",
       "  'hand',\n",
       "  'frail',\n",
       "  'spotted',\n",
       "  'one',\n",
       "  'gave',\n",
       "  'gentle',\n",
       "  'squeeze'],\n",
       " ['see', 'nothing', 'fear'],\n",
       " ['shireen', 'unconvinced'],\n",
       " ['thing', 'sky'],\n",
       " ['dalla',\n",
       "  'matrice',\n",
       "  'talking',\n",
       "  'well',\n",
       "  'dalla',\n",
       "  'said',\n",
       "  'heard',\n",
       "  'red',\n",
       "  'woman',\n",
       "  'tell',\n",
       "  'mother',\n",
       "  'dragonshreath'],\n",
       " ['dragons', 'breathing', 'mean', 'coming', 'life'],\n",
       " ['red',\n",
       "  'woman',\n",
       "  'maester',\n",
       "  'cressen',\n",
       "  'thought',\n",
       "  'sourly',\n",
       "  'illenough',\n",
       "  'filled',\n",
       "  'head',\n",
       "  'mother',\n",
       "  'madness',\n",
       "  'must',\n",
       "  'poison',\n",
       "  'daughter',\n",
       "  'dreams',\n",
       "  'well'],\n",
       " ['would', 'stern', 'word', 'dalla', 'warn', 'spread', 'tales'],\n",
       " ['thing', 'sky', 'comet', 'sweet', 'child'],\n",
       " ['star', 'tail', 'lost', 'heavens'],\n",
       " ['gone', 'soon', 'enough', 'never', 'seen', 'lifetimes'],\n",
       " ['watch', 'see'],\n",
       " ['shireen', 'gave', 'brave', 'little', 'nod'],\n",
       " ['mother', 'said', 'white', 'raven', 'means', 'summer', 'anymore'],\n",
       " ['lady'],\n",
       " ['white', 'ravens', 'fly', 'citadel'],\n",
       " ['cressen',\n",
       "  'fingers',\n",
       "  'went',\n",
       "  'chain',\n",
       "  'neck',\n",
       "  'link',\n",
       "  'forged',\n",
       "  'different',\n",
       "  'metal',\n",
       "  'symbolizing',\n",
       "  'mastery',\n",
       "  'another',\n",
       "  'branch',\n",
       "  'learning',\n",
       "  'maester',\n",
       "  'collar',\n",
       "  'mark',\n",
       "  'order'],\n",
       " ['pride',\n",
       "  'youth',\n",
       "  'worn',\n",
       "  'easily',\n",
       "  'seemed',\n",
       "  'heavy',\n",
       "  'metal',\n",
       "  'cold',\n",
       "  'skin'],\n",
       " ['larger', 'ravens', 'clever', 'bred', 'carry', 'important', 'messages'],\n",
       " ['one',\n",
       "  'came',\n",
       "  'tell',\n",
       "  'us',\n",
       "  'conclave',\n",
       "  'met',\n",
       "  'considered',\n",
       "  'reports',\n",
       "  'measurements',\n",
       "  'made',\n",
       "  'maesters',\n",
       "  'realm',\n",
       "  'declared',\n",
       "  'great',\n",
       "  'summer',\n",
       "  'done',\n",
       "  'last'],\n",
       " ['ten',\n",
       "  'years',\n",
       "  'two',\n",
       "  'turns',\n",
       "  'sixteen',\n",
       "  'days',\n",
       "  'lasted',\n",
       "  'longest',\n",
       "  'summer',\n",
       "  'living',\n",
       "  'memory'],\n",
       " ['get', 'cold'],\n",
       " ['shireen', 'summer', 'child', 'never', 'known', 'true', 'cold'],\n",
       " ['time', 'cressen', 'replied'],\n",
       " ['gods',\n",
       "  'good',\n",
       "  'grant',\n",
       "  'us',\n",
       "  'warm',\n",
       "  'autumn',\n",
       "  'bountiful',\n",
       "  'harvests',\n",
       "  'might',\n",
       "  'prepare',\n",
       "  'winter',\n",
       "  'come'],\n",
       " ['smallfolk',\n",
       "  'said',\n",
       "  'long',\n",
       "  'summer',\n",
       "  'meant',\n",
       "  'even',\n",
       "  'longer',\n",
       "  'winter',\n",
       "  'maester',\n",
       "  'saw',\n",
       "  'reason',\n",
       "  'frighten',\n",
       "  'child',\n",
       "  'tales'],\n",
       " ['page', 'patchface', 'rang', 'bells'],\n",
       " ['always', 'summer', 'sea', 'intoned'],\n",
       " ['merwives',\n",
       "  'wear',\n",
       "  'nennymoans',\n",
       "  'hair',\n",
       "  'weave',\n",
       "  'gowns',\n",
       "  'silver',\n",
       "  'seaweed'],\n",
       " ['know', 'know', 'oh', 'oh', 'oh'],\n",
       " ['shireen', 'giggled'],\n",
       " ['like', 'gown', 'silver', 'seaweed'],\n",
       " ['sea', 'snows', 'said', 'fool', 'rain', 'dry', 'bone'],\n",
       " ['know', 'know', 'oh', 'oh', 'oh'],\n",
       " ['truly', 'snow'],\n",
       " ['child', 'asked'],\n",
       " ['cressen', 'said'],\n",
       " ['years', 'yet', 'pray', 'long'],\n",
       " ['ah', 'pylos', 'bird'],\n",
       " ['shireen', 'gave', 'cry', 'delight'],\n",
       " ['even',\n",
       "  'cressen',\n",
       "  'admit',\n",
       "  'bird',\n",
       "  'made',\n",
       "  'impressive',\n",
       "  'sight',\n",
       "  'white',\n",
       "  'snow',\n",
       "  'larger',\n",
       "  'hawk',\n",
       "  'bright',\n",
       "  'black',\n",
       "  'eyes',\n",
       "  'meant',\n",
       "  'mere',\n",
       "  'albino',\n",
       "  'truebred',\n",
       "  'white',\n",
       "  'raven',\n",
       "  'citadel'],\n",
       " ['called'],\n",
       " ['raven',\n",
       "  'spread',\n",
       "  'wings',\n",
       "  'leapt',\n",
       "  'air',\n",
       "  'flapped',\n",
       "  'noisily',\n",
       "  'across',\n",
       "  'room',\n",
       "  'land',\n",
       "  'table',\n",
       "  'beside'],\n",
       " ['see', 'breakfast', 'pylos', 'announced'],\n",
       " ['cressen', 'nodded'],\n",
       " ['lady', 'shireen', 'told', 'raven'],\n",
       " ['bird', 'bobbed', 'pale', 'head', 'bowing'],\n",
       " ['lady', 'croaked'],\n",
       " ['lady'],\n",
       " ['child', 'mouth', 'gaped', 'open'],\n",
       " ['talks'],\n",
       " ['words'],\n",
       " ['said', 'clever', 'birds'],\n",
       " ['clever',\n",
       "  'bird',\n",
       "  'clever',\n",
       "  'man',\n",
       "  'clever',\n",
       "  'clever',\n",
       "  'fool',\n",
       "  'said',\n",
       "  'patchface',\n",
       "  'jangling'],\n",
       " ['oh', 'clever', 'clever', 'clever', 'fool'],\n",
       " ['began', 'sing'],\n",
       " ['shadows',\n",
       "  'come',\n",
       "  'dance',\n",
       "  'lord',\n",
       "  'dance',\n",
       "  'lord',\n",
       "  'dance',\n",
       "  'lord',\n",
       "  'sang',\n",
       "  'hopping',\n",
       "  'one',\n",
       "  'foot',\n",
       "  'back'],\n",
       " ['shadows', 'come', 'stay', 'lord', 'stay', 'lord', 'stay', 'lord'],\n",
       " ['jerked', 'head', 'word', 'bells', 'antlers', 'sending', 'clangor'],\n",
       " ['white',\n",
       "  'raven',\n",
       "  'screamed',\n",
       "  'went',\n",
       "  'flapping',\n",
       "  'away',\n",
       "  'perch',\n",
       "  'iron',\n",
       "  'railing',\n",
       "  'rookery',\n",
       "  'stairs'],\n",
       " ['shireen', 'seemed', 'grow', 'smaller'],\n",
       " ['sings', 'time'],\n",
       " ['told', 'stop'],\n",
       " ['makes', 'scared'],\n",
       " ['make', 'stop'],\n",
       " [],\n",
       " ['old', 'man', 'wondered'],\n",
       " ['might', 'silenced', 'forever'],\n",
       " [],\n",
       " [],\n",
       " ['patchface', 'come', 'boy'],\n",
       " ['lord',\n",
       "  'steffon',\n",
       "  'cherished',\n",
       "  'memory',\n",
       "  'found',\n",
       "  'volantis',\n",
       "  'across',\n",
       "  'narrow',\n",
       "  'sea'],\n",
       " ['king',\n",
       "  'old',\n",
       "  'king',\n",
       "  'aerys',\n",
       "  'ii',\n",
       "  'targaryen',\n",
       "  'quite',\n",
       "  'mad',\n",
       "  'dayshad',\n",
       "  'sent',\n",
       "  'lordship',\n",
       "  'seek',\n",
       "  'bride',\n",
       "  'prince',\n",
       "  'rhaegar',\n",
       "  'sisters',\n",
       "  'wed',\n",
       "  'found',\n",
       "  'splendid',\n",
       "  'fool',\n",
       "  'wrote',\n",
       "  'cressen',\n",
       "  'fortnight',\n",
       "  'return',\n",
       "  'home',\n",
       "  'fruitless',\n",
       "  'mission'],\n",
       " ['boy', 'yet', 'nimble', 'monkey', 'witty', 'dozen', 'courtiers'],\n",
       " ['juggles', 'riddles', 'magic', 'sing', 'prettily', 'four', 'tongues'],\n",
       " ['bought', 'freedom', 'hope', 'bring', 'home', 'us'],\n",
       " ['robert',\n",
       "  'delighted',\n",
       "  'perhaps',\n",
       "  'time',\n",
       "  'even',\n",
       "  'teach',\n",
       "  'stannis',\n",
       "  'laugh'],\n",
       " ['saddened', 'cressen', 'remember', 'letter'],\n",
       " ['one', 'ever', 'taught', 'stannis', 'laugh', 'least', 'boy', 'patchface'],\n",
       " ['storm',\n",
       "  'came',\n",
       "  'suddenly',\n",
       "  'howling',\n",
       "  'shipbreaker',\n",
       "  'bay',\n",
       "  'proved',\n",
       "  'truth',\n",
       "  'name'],\n",
       " ['lord',\n",
       "  'two',\n",
       "  'masted',\n",
       "  'galley',\n",
       "  'windproud',\n",
       "  'broke',\n",
       "  'within',\n",
       "  'sight',\n",
       "  'castle'],\n",
       " ['parapets',\n",
       "  'two',\n",
       "  'eldest',\n",
       "  'sons',\n",
       "  'watched',\n",
       "  'father',\n",
       "  'ship',\n",
       "  'smashed',\n",
       "  'rocks',\n",
       "  'swallowed',\n",
       "  'waters'],\n",
       " ['hundred',\n",
       "  'oarsmen',\n",
       "  'sailors',\n",
       "  'went',\n",
       "  'lord',\n",
       "  'steffon',\n",
       "  'baratheon',\n",
       "  'lady',\n",
       "  'wife',\n",
       "  'days',\n",
       "  'thereafter',\n",
       "  'every',\n",
       "  'tide',\n",
       "  'left',\n",
       "  'fresh',\n",
       "  'crop',\n",
       "  'swollen',\n",
       "  'corpses',\n",
       "  'strand',\n",
       "  'storm',\n",
       "  'end'],\n",
       " ['page', 'boy', 'washed', 'third', 'day'],\n",
       " ['maester', 'cressen', 'come', 'rest', 'help', 'put', 'names', 'dead'],\n",
       " ['found',\n",
       "  'fool',\n",
       "  'naked',\n",
       "  'skin',\n",
       "  'white',\n",
       "  'wrinkled',\n",
       "  'powdered',\n",
       "  'wet',\n",
       "  'sand'],\n",
       " ['cressen',\n",
       "  'thought',\n",
       "  'another',\n",
       "  'corpse',\n",
       "  'jornmy',\n",
       "  'grabbed',\n",
       "  'ankles',\n",
       "  'drag',\n",
       "  'burial',\n",
       "  'wagon',\n",
       "  'boy',\n",
       "  'coughed',\n",
       "  'water',\n",
       "  'sat'],\n",
       " ['dying', 'day', 'jornmy', 'sworn', 'patchface', 'flesh', 'clammy', 'cold'],\n",
       " ['one', 'ever', 'explained', 'two', 'days', 'fool', 'lost', 'sea'],\n",
       " ['fisherfolk',\n",
       "  'liked',\n",
       "  'say',\n",
       "  'mermaid',\n",
       "  'taught',\n",
       "  'breathe',\n",
       "  'water',\n",
       "  'return',\n",
       "  'seed'],\n",
       " ['patchface', 'said', 'nothing'],\n",
       " ['witty',\n",
       "  'clever',\n",
       "  'lad',\n",
       "  'lord',\n",
       "  'steffon',\n",
       "  'written',\n",
       "  'never',\n",
       "  'reached',\n",
       "  'storm',\n",
       "  'end',\n",
       "  'boy',\n",
       "  'found',\n",
       "  'someone',\n",
       "  'else',\n",
       "  'broken',\n",
       "  'body',\n",
       "  'mind',\n",
       "  'hardly',\n",
       "  'capable',\n",
       "  'speech',\n",
       "  'much',\n",
       "  'less',\n",
       "  'wit'],\n",
       " ['yet', 'fool', 'face', 'left', 'doubt'],\n",
       " ['fashion',\n",
       "  'free',\n",
       "  'city',\n",
       "  'volantis',\n",
       "  'tattoo',\n",
       "  'faces',\n",
       "  'slaves',\n",
       "  'servants',\n",
       "  'neck',\n",
       "  'scalp',\n",
       "  'boy',\n",
       "  'skin',\n",
       "  'patterned',\n",
       "  'squares',\n",
       "  'red',\n",
       "  'green',\n",
       "  'motley'],\n",
       " ['wretch',\n",
       "  'mad',\n",
       "  'pain',\n",
       "  'use',\n",
       "  'anyone',\n",
       "  'least',\n",
       "  'declared',\n",
       "  'old',\n",
       "  'ser',\n",
       "  'harbert',\n",
       "  'castellan',\n",
       "  'storm',\n",
       "  'end',\n",
       "  'years'],\n",
       " ['kindest', 'thing', 'could', 'one', 'fill', 'cup', 'milk', 'poppy'],\n",
       " ['painless', 'sleep', 'end'],\n",
       " ['bless', 'wit'],\n",
       " ['cressen', 'refused', 'end'],\n",
       " ['whether',\n",
       "  'patchface',\n",
       "  'gotten',\n",
       "  'joy',\n",
       "  'victory',\n",
       "  'could',\n",
       "  'say',\n",
       "  'even',\n",
       "  'today',\n",
       "  'many',\n",
       "  'years',\n",
       "  'later'],\n",
       " ['shadows',\n",
       "  'come',\n",
       "  'dance',\n",
       "  'lord',\n",
       "  'dance',\n",
       "  'lord',\n",
       "  'dance',\n",
       "  'lord',\n",
       "  'fool',\n",
       "  'sang',\n",
       "  'swinging',\n",
       "  'head',\n",
       "  'making',\n",
       "  'bells',\n",
       "  'clang',\n",
       "  'clatter'],\n",
       " ['bong', 'dong', 'ring', 'ling', 'bong', 'dong'],\n",
       " ['lord', 'white', 'raven', 'shrieked'],\n",
       " ['lord', 'lord', 'lord'],\n",
       " ['fool', 'sings', 'maester', 'told', 'anxious', 'princess'],\n",
       " ['must', 'take', 'words', 'heart'],\n",
       " ['morrow', 'may', 'remember', 'another', 'song', 'one', 'never', 'heard'],\n",
       " ['sing', 'prettily', 'four', 'tongues', 'lord', 'steffon', 'written'],\n",
       " [],\n",
       " [],\n",
       " ['pylos', 'strode', 'door'],\n",
       " ['maester', 'pardons'],\n",
       " ['forgotten', 'porridge', 'cressen', 'said', 'amused'],\n",
       " ['unlike', 'pylos'],\n",
       " ['maester', 'ser', 'davos', 'returned', 'last', 'night'],\n",
       " ['talking', 'kitchen'],\n",
       " ['thought', 'would', 'want', 'know'],\n",
       " ['davos'],\n",
       " [],\n",
       " [],\n",
       " ['last', 'night', 'say'],\n",
       " [],\n",
       " ['king'],\n",
       " ['together', 'night'],\n",
       " ['time',\n",
       "  'lord',\n",
       "  'stannis',\n",
       "  'would',\n",
       "  'woken',\n",
       "  'matter',\n",
       "  'hour',\n",
       "  'give',\n",
       "  'counsel'],\n",
       " ['told', 'cressen', 'complained'],\n",
       " ['woken'],\n",
       " ['disentangled', 'fingers', 'shireen'],\n",
       " ['pardons', 'lady', 'must', 'speak', 'lord', 'father'],\n",
       " ['pylos', 'give', 'arm'],\n",
       " ['many', 'steps', 'castle', 'seems', 'add', 'every', 'night', 'vex'],\n",
       " ['shireen',\n",
       "  'patchface',\n",
       "  'followed',\n",
       "  'child',\n",
       "  'soon',\n",
       "  'grew',\n",
       "  'restless',\n",
       "  'old',\n",
       "  'man',\n",
       "  'creeping',\n",
       "  'pace',\n",
       "  'dashed',\n",
       "  'ahead',\n",
       "  'fool',\n",
       "  'lurching',\n",
       "  'cowbells',\n",
       "  'clanging',\n",
       "  'madly'],\n",
       " ['castles',\n",
       "  'friendly',\n",
       "  'places',\n",
       "  'frail',\n",
       "  'cressen',\n",
       "  'reminded',\n",
       "  'descended',\n",
       "  'turnpike',\n",
       "  'stairs',\n",
       "  'page',\n",
       "  'sea',\n",
       "  'dragon',\n",
       "  'tower'],\n",
       " ['lord',\n",
       "  'stannis',\n",
       "  'would',\n",
       "  'found',\n",
       "  'chamber',\n",
       "  'painted',\n",
       "  'table',\n",
       "  'atop',\n",
       "  'stone',\n",
       "  'drum',\n",
       "  'dragonstone',\n",
       "  'central',\n",
       "  'keep',\n",
       "  'named',\n",
       "  'way',\n",
       "  'ancient',\n",
       "  'walls',\n",
       "  'boomed',\n",
       "  'rumbled',\n",
       "  'storms'],\n",
       " ['reach',\n",
       "  'must',\n",
       "  'cross',\n",
       "  'gallery',\n",
       "  'pass',\n",
       "  'middle',\n",
       "  'inner',\n",
       "  'walls',\n",
       "  'guardian',\n",
       "  'gargoyles',\n",
       "  'black',\n",
       "  'iron',\n",
       "  'gates',\n",
       "  'ascend',\n",
       "  'steps',\n",
       "  'cressen',\n",
       "  'cared',\n",
       "  'contemplate'],\n",
       " ['young',\n",
       "  'men',\n",
       "  'climbed',\n",
       "  'steps',\n",
       "  'two',\n",
       "  'time',\n",
       "  'old',\n",
       "  'men',\n",
       "  'bad',\n",
       "  'hips',\n",
       "  'every',\n",
       "  'one',\n",
       "  'torment'],\n",
       " ['lord',\n",
       "  'stannis',\n",
       "  'would',\n",
       "  'think',\n",
       "  'come',\n",
       "  'maester',\n",
       "  'resigned',\n",
       "  'ordeal'],\n",
       " ['pylos', 'help', 'least', 'grateful'],\n",
       " ['shuffling',\n",
       "  'along',\n",
       "  'gallery',\n",
       "  'passed',\n",
       "  'row',\n",
       "  'tall',\n",
       "  'arched',\n",
       "  'windows',\n",
       "  'commanding',\n",
       "  'views',\n",
       "  'outer',\n",
       "  'bailey',\n",
       "  'curtain',\n",
       "  'wall',\n",
       "  'fishing',\n",
       "  'village',\n",
       "  'beyond'],\n",
       " ['yard',\n",
       "  'archers',\n",
       "  'firing',\n",
       "  'practice',\n",
       "  'butts',\n",
       "  'call',\n",
       "  'notch',\n",
       "  'draw',\n",
       "  'loose'],\n",
       " ['arrows', 'made', 'sound', 'like', 'flock', 'birds', 'taking', 'wing'],\n",
       " ['guardsmen',\n",
       "  'strode',\n",
       "  'wallwalks',\n",
       "  'peering',\n",
       "  'gargoyles',\n",
       "  'host',\n",
       "  'camped',\n",
       "  'without'],\n",
       " ['morning',\n",
       "  'air',\n",
       "  'hazy',\n",
       "  'smoke',\n",
       "  'cookfires',\n",
       "  'three',\n",
       "  'thousand',\n",
       "  'men',\n",
       "  'sat',\n",
       "  'break',\n",
       "  'fasts',\n",
       "  'beneath',\n",
       "  'banners',\n",
       "  'lords'],\n",
       " ['past', 'sprawl', 'camp', 'anchorage', 'crowded', 'ships'],\n",
       " ['craft',\n",
       "  'come',\n",
       "  'within',\n",
       "  'sight',\n",
       "  'dragonstone',\n",
       "  'past',\n",
       "  'half',\n",
       "  'year',\n",
       "  'allowed',\n",
       "  'leave'],\n",
       " ['lord',\n",
       "  'stannis',\n",
       "  'fury',\n",
       "  'triple',\n",
       "  'decked',\n",
       "  'war',\n",
       "  'galley',\n",
       "  'three',\n",
       "  'hundred',\n",
       "  'oars',\n",
       "  'looked',\n",
       "  'almost',\n",
       "  'small',\n",
       "  'beside',\n",
       "  'big',\n",
       "  'bellied',\n",
       "  'carracks',\n",
       "  'cogs',\n",
       "  'surrounded'],\n",
       " ['guardsmen',\n",
       "  'outside',\n",
       "  'stone',\n",
       "  'drum',\n",
       "  'knew',\n",
       "  'maesters',\n",
       "  'sight',\n",
       "  'passed'],\n",
       " ['wait', 'cressen', 'told', 'pylos', 'within'],\n",
       " ['best', 'see', 'alone'],\n",
       " ['long', 'climb', 'maester'],\n",
       " ['cressen', 'smiled'],\n",
       " ['think', 'forgotten'],\n",
       " ['climbed', 'steps', 'often', 'know', 'one', 'name'],\n",
       " ['halfway', 'regretted', 'decision'],\n",
       " ['stopped',\n",
       "  'catch',\n",
       "  'breath',\n",
       "  'ease',\n",
       "  'pain',\n",
       "  'hip',\n",
       "  'heard',\n",
       "  'scuff',\n",
       "  'boots',\n",
       "  'stone',\n",
       "  'came',\n",
       "  'face',\n",
       "  'face',\n",
       "  'ser',\n",
       "  'davos',\n",
       "  'seaworth',\n",
       "  'descending'],\n",
       " ['davos',\n",
       "  'slight',\n",
       "  'man',\n",
       "  'low',\n",
       "  'birth',\n",
       "  'written',\n",
       "  'plain',\n",
       "  'upon',\n",
       "  'common',\n",
       "  'face'],\n",
       " ['well',\n",
       "  'worn',\n",
       "  'green',\n",
       "  'cloak',\n",
       "  'stained',\n",
       "  'salt',\n",
       "  'spray',\n",
       "  'faded',\n",
       "  'sun',\n",
       "  'draped',\n",
       "  'thin',\n",
       "  'shoulders',\n",
       "  'brown',\n",
       "  'doublet',\n",
       "  'breeches',\n",
       "  'matched',\n",
       "  'brown',\n",
       "  'eyes',\n",
       "  'hair'],\n",
       " ['neck', 'pouch', 'worn', 'leather', 'hung', 'thong'],\n",
       " ['small',\n",
       "  'beard',\n",
       "  'well',\n",
       "  'peppered',\n",
       "  'grey',\n",
       "  'wore',\n",
       "  'leather',\n",
       "  'glove',\n",
       "  'maimed',\n",
       "  'left',\n",
       "  'hand'],\n",
       " ['saw', 'cressen', 'checked', 'descent'],\n",
       " ['ser', 'davos', 'maester', 'said'],\n",
       " ['return'],\n",
       " ['black', 'morning'],\n",
       " ['favorite', 'time'],\n",
       " ['said',\n",
       "  'one',\n",
       "  'ever',\n",
       "  'handled',\n",
       "  'ship',\n",
       "  'night',\n",
       "  'half',\n",
       "  'well',\n",
       "  'davos',\n",
       "  'shorthand'],\n",
       " ['lord',\n",
       "  'stannis',\n",
       "  'knighted',\n",
       "  'notorious',\n",
       "  'elusive',\n",
       "  'smuggler',\n",
       "  'seven',\n",
       "  'kingdoms'],\n",
       " [],\n",
       " ['man', 'shook', 'head'],\n",
       " ['warned'],\n",
       " ['rise', 'maester'],\n",
       " [],\n",
       " ['love'],\n",
       " ['cressen', 'thought'],\n",
       " ['ever'],\n",
       " ['strong', 'able'],\n",
       " [],\n",
       " [],\n",
       " ['aye', 'past', 'point', 'wisdom'],\n",
       " [],\n",
       " [],\n",
       " ['yet', 'enough'],\n",
       " ['never', 'enough'],\n",
       " ['spoke'],\n",
       " ['page'],\n",
       " [],\n",
       " ['would', 'see'],\n",
       " ['love', 'either', 'highborns'],\n",
       " ['always', 'onion', 'knight'],\n",
       " ['left',\n",
       "  'hand',\n",
       "  'closed',\n",
       "  'stubby',\n",
       "  'fingers',\n",
       "  'locking',\n",
       "  'fist',\n",
       "  'stannis',\n",
       "  'hacked',\n",
       "  'ends',\n",
       "  'last',\n",
       "  'joint',\n",
       "  'thumb'],\n",
       " ['broke',\n",
       "  'bread',\n",
       "  'gulian',\n",
       "  'swann',\n",
       "  'old',\n",
       "  'penrose',\n",
       "  'tarths',\n",
       "  'consented',\n",
       "  'midnight',\n",
       "  'meeting',\n",
       "  'grove'],\n",
       " ['others',\n",
       "  'well',\n",
       "  'beric',\n",
       "  'dondarrion',\n",
       "  'gone',\n",
       "  'missing',\n",
       "  'say',\n",
       "  'dead',\n",
       "  'lord',\n",
       "  'caron',\n",
       "  'renly'],\n",
       " ['bryce', 'orange', 'rainbow', 'guard'],\n",
       " ['rainbow', 'guard'],\n",
       " ['renly',\n",
       "  'made',\n",
       "  'kingsguard',\n",
       "  'onetime',\n",
       "  'smuggler',\n",
       "  'explained',\n",
       "  'seven',\n",
       "  'wear',\n",
       "  'white'],\n",
       " ['one', 'color'],\n",
       " ['loras', 'tyrell', 'lord', 'commander'],\n",
       " ['sort',\n",
       "  'notion',\n",
       "  'would',\n",
       "  'appeal',\n",
       "  'renly',\n",
       "  'baratheon',\n",
       "  'splendid',\n",
       "  'new',\n",
       "  'order',\n",
       "  'knighthood',\n",
       "  'gorgeous',\n",
       "  'new',\n",
       "  'raiment',\n",
       "  'proclaim'],\n",
       " ['even',\n",
       "  'boy',\n",
       "  'renly',\n",
       "  'loved',\n",
       "  'bright',\n",
       "  'colors',\n",
       "  'rich',\n",
       "  'fabrics',\n",
       "  'loved',\n",
       "  'games',\n",
       "  'well'],\n",
       " ['look'],\n",
       " ['would', 'shout', 'ran', 'laughing', 'halls', 'storm', 'end'],\n",
       " ['look', 'dragon', 'look', 'wizard', 'look', 'look', 'rain', 'god'],\n",
       " ['bold',\n",
       "  'little',\n",
       "  'boy',\n",
       "  'wild',\n",
       "  'black',\n",
       "  'hair',\n",
       "  'laughing',\n",
       "  'eyes',\n",
       "  'man',\n",
       "  'grown',\n",
       "  'one',\n",
       "  'twenty',\n",
       "  'still',\n",
       "  'played',\n",
       "  'games'],\n",
       " ['look', 'king', 'cressen', 'thought', 'sadly'],\n",
       " ['oh', 'renly', 'renly', 'dear', 'sweet', 'child', 'know', 'would', 'care'],\n",
       " ['anyone', 'cares', 'reasons', 'lords', 'give', 'refusals'],\n",
       " ['asked', 'ser', 'davos'],\n",
       " ['well',\n",
       "  'gave',\n",
       "  'soft',\n",
       "  'words',\n",
       "  'blunt',\n",
       "  'made',\n",
       "  'excuses',\n",
       "  'promises',\n",
       "  'lied'],\n",
       " ['shrugged'],\n",
       " ['end', 'words', 'wind'],\n",
       " ['could', 'bring', 'hope'],\n",
       " ['false', 'sort', 'davos', 'said'],\n",
       " ['truth'],\n",
       " ['maester',\n",
       "  'cressen',\n",
       "  'remembered',\n",
       "  'day',\n",
       "  'davos',\n",
       "  'knighted',\n",
       "  'siege',\n",
       "  'storm',\n",
       "  'end'],\n",
       " ['lord',\n",
       "  'stannis',\n",
       "  'small',\n",
       "  'garrison',\n",
       "  'held',\n",
       "  'castle',\n",
       "  'close',\n",
       "  'year',\n",
       "  'great',\n",
       "  'host',\n",
       "  'lords',\n",
       "  'tyrell',\n",
       "  'redwyne'],\n",
       " ['even',\n",
       "  'sea',\n",
       "  'closed',\n",
       "  'watched',\n",
       "  'day',\n",
       "  'night',\n",
       "  'redwyne',\n",
       "  'galleys',\n",
       "  'flying',\n",
       "  'burgundy',\n",
       "  'banners',\n",
       "  'arbor'],\n",
       " ['within',\n",
       "  'storm',\n",
       "  'end',\n",
       "  'horses',\n",
       "  'long',\n",
       "  'since',\n",
       "  'eaten',\n",
       "  'dogs',\n",
       "  'cats',\n",
       "  'gone',\n",
       "  'garrison',\n",
       "  'roots',\n",
       "  'rats'],\n",
       " ['came', 'night', 'moon', 'new', 'black', 'clouds', 'hid', 'stars'],\n",
       " ['cloaked',\n",
       "  'darkness',\n",
       "  'davos',\n",
       "  'smuggler',\n",
       "  'dared',\n",
       "  'redwyne',\n",
       "  'cordon',\n",
       "  'rocks',\n",
       "  'shipbreaker',\n",
       "  'bay',\n",
       "  'alike'],\n",
       " ['little',\n",
       "  'ship',\n",
       "  'black',\n",
       "  'hull',\n",
       "  'black',\n",
       "  'sails',\n",
       "  'black',\n",
       "  'oars',\n",
       "  'hold',\n",
       "  'crammed',\n",
       "  'onions',\n",
       "  'salt',\n",
       "  'fish'],\n",
       " ['little',\n",
       "  'enough',\n",
       "  'yet',\n",
       "  'kept',\n",
       "  'garrison',\n",
       "  'alive',\n",
       "  'long',\n",
       "  'enough',\n",
       "  'eddard',\n",
       "  'stark',\n",
       "  'reach',\n",
       "  'storm',\n",
       "  'end',\n",
       "  'break',\n",
       "  'siege'],\n",
       " ['lord',\n",
       "  'stannis',\n",
       "  'rewarded',\n",
       "  'davos',\n",
       "  'choice',\n",
       "  'lands',\n",
       "  'cape',\n",
       "  'wrath',\n",
       "  'small',\n",
       "  'keep',\n",
       "  'knight',\n",
       "  'honors'],\n",
       " [],\n",
       " [],\n",
       " ['also',\n",
       "  'decreed',\n",
       "  'lose',\n",
       "  'joint',\n",
       "  'finger',\n",
       "  'left',\n",
       "  'hand',\n",
       "  'pay',\n",
       "  'years',\n",
       "  'smuggling'],\n",
       " ['davos',\n",
       "  'submitted',\n",
       "  'condition',\n",
       "  'stannis',\n",
       "  'wield',\n",
       "  'knife',\n",
       "  'would',\n",
       "  'accept',\n",
       "  'punishment',\n",
       "  'lesser',\n",
       "  'hands'],\n",
       " ['lord', 'used', 'butcher', 'cleaver', 'better', 'cut', 'clean', 'true'],\n",
       " ['afterward',\n",
       "  'davos',\n",
       "  'chosen',\n",
       "  'name',\n",
       "  'seaworth',\n",
       "  'new',\n",
       "  'made',\n",
       "  'house',\n",
       "  'took',\n",
       "  'banner',\n",
       "  'black',\n",
       "  'ship',\n",
       "  'pale',\n",
       "  'grey',\n",
       "  'field',\n",
       "  'onion',\n",
       "  'sails'],\n",
       " ['onetime',\n",
       "  'smuggler',\n",
       "  'fond',\n",
       "  'saying',\n",
       "  'lord',\n",
       "  'stannis',\n",
       "  'done',\n",
       "  'boon',\n",
       "  'giving',\n",
       "  'four',\n",
       "  'less',\n",
       "  'fingernails',\n",
       "  'clean',\n",
       "  'trim'],\n",
       " ['cressen',\n",
       "  'thought',\n",
       "  'man',\n",
       "  'like',\n",
       "  'would',\n",
       "  'give',\n",
       "  'false',\n",
       "  'hope',\n",
       "  'soften',\n",
       "  'hard',\n",
       "  'truth'],\n",
       " ['ser',\n",
       "  'davos',\n",
       "  'truth',\n",
       "  'bitter',\n",
       "  'draught',\n",
       "  'even',\n",
       "  'man',\n",
       "  'like',\n",
       "  'lord',\n",
       "  'stannis'],\n",
       " ['thinks',\n",
       "  'returning',\n",
       "  'king',\n",
       "  'landing',\n",
       "  'fullness',\n",
       "  'power',\n",
       "  'tear',\n",
       "  'enemies',\n",
       "  'claim',\n",
       "  'rightfully'],\n",
       " ['yet'],\n",
       " [],\n",
       " [],\n",
       " ['page', 'takes', 'meager', 'host', 'king', 'landing', 'die'],\n",
       " ['numbers'],\n",
       " ['told', 'much', 'know', 'pride'],\n",
       " ['davos', 'held', 'gloved', 'hand'],\n",
       " ['fingers', 'grow', 'back', 'man', 'bends', 'sense'],\n",
       " ['old', 'man', 'sighed'],\n",
       " ['done', 'could'],\n",
       " ['must', 'add', 'voice'],\n",
       " ['wearily', 'resumed', 'climb'],\n",
       " ['lord',\n",
       "  'stannis',\n",
       "  'baratheon',\n",
       "  'refuge',\n",
       "  'great',\n",
       "  'round',\n",
       "  'room',\n",
       "  'walls',\n",
       "  'bare',\n",
       "  'black',\n",
       "  'stone',\n",
       "  'four',\n",
       "  'tall',\n",
       "  'narrow',\n",
       "  'windows',\n",
       "  'looked',\n",
       "  'four',\n",
       "  'points',\n",
       "  'compass'],\n",
       " ['center',\n",
       "  'chamber',\n",
       "  'great',\n",
       "  'table',\n",
       "  'took',\n",
       "  'name',\n",
       "  'massive',\n",
       "  'slab',\n",
       "  'carved',\n",
       "  'wood',\n",
       "  'fashioned',\n",
       "  'command',\n",
       "  'aegon',\n",
       "  'targaryen',\n",
       "  'days',\n",
       "  'conquest'],\n",
       " ['painted',\n",
       "  'table',\n",
       "  'fifty',\n",
       "  'feet',\n",
       "  'long',\n",
       "  'perhaps',\n",
       "  'half',\n",
       "  'wide',\n",
       "  'widest',\n",
       "  'point',\n",
       "  'less',\n",
       "  'four',\n",
       "  'feet',\n",
       "  'across',\n",
       "  'narrowest'],\n",
       " ['aegon',\n",
       "  'carpenters',\n",
       "  'shaped',\n",
       "  'land',\n",
       "  'westeros',\n",
       "  'sawing',\n",
       "  'bay',\n",
       "  'peninsula',\n",
       "  'table',\n",
       "  'nowhere',\n",
       "  'ran',\n",
       "  'straight'],\n",
       " ['surface',\n",
       "  'darkened',\n",
       "  'near',\n",
       "  'three',\n",
       "  'hundred',\n",
       "  'years',\n",
       "  'varnish',\n",
       "  'painted',\n",
       "  'seven',\n",
       "  'kingdoms',\n",
       "  'aegon',\n",
       "  'day',\n",
       "  'rivers',\n",
       "  'mountains',\n",
       "  'castles',\n",
       "  'cities',\n",
       "  'lakes',\n",
       "  'forests'],\n",
       " ['single',\n",
       "  'chair',\n",
       "  'room',\n",
       "  'carefully',\n",
       "  'positioned',\n",
       "  'precise',\n",
       "  'place',\n",
       "  'dragonstone',\n",
       "  'occupied',\n",
       "  'coast',\n",
       "  'westeros',\n",
       "  'raised',\n",
       "  'give',\n",
       "  'good',\n",
       "  'view',\n",
       "  'tabletop'],\n",
       " ['seated',\n",
       "  'chair',\n",
       "  'man',\n",
       "  'tight',\n",
       "  'laced',\n",
       "  'leather',\n",
       "  'jerkin',\n",
       "  'breeches',\n",
       "  'roughspun',\n",
       "  'brown',\n",
       "  'wool'],\n",
       " ['maester', 'cressen', 'entered', 'glanced'],\n",
       " ['knew', 'would', 'come', 'old', 'man', 'whether', 'summoned'],\n",
       " ['hint', 'warmth', 'voice', 'seldom'],\n",
       " ['stannis',\n",
       "  'baratheon',\n",
       "  'lord',\n",
       "  'dragonstone',\n",
       "  'grace',\n",
       "  'gods',\n",
       "  'rightful',\n",
       "  'heir',\n",
       "  'iron',\n",
       "  'throne',\n",
       "  'seven',\n",
       "  'kingdoms',\n",
       "  'westeros',\n",
       "  'broad',\n",
       "  'shoulder',\n",
       "  'sinewy',\n",
       "  'limb',\n",
       "  'tightness',\n",
       "  'face',\n",
       "  'flesh',\n",
       "  'spoke',\n",
       "  'leather',\n",
       "  'cured',\n",
       "  'sun',\n",
       "  'tough',\n",
       "  'steel'],\n",
       " ['hard', 'word', 'men', 'used', 'spoke', 'stannis', 'hard'],\n",
       " ['though',\n",
       "  'yet',\n",
       "  'five',\n",
       "  'thirty',\n",
       "  'fringe',\n",
       "  'thin',\n",
       "  'black',\n",
       "  'hair',\n",
       "  'remained',\n",
       "  'head',\n",
       "  'circling',\n",
       "  'behind',\n",
       "  'ears',\n",
       "  'like',\n",
       "  'shadow',\n",
       "  'crown'],\n",
       " ['brother', 'late', 'king', 'robert', 'grown', 'beard', 'final', 'years'],\n",
       " ['maester',\n",
       "  'cressen',\n",
       "  'never',\n",
       "  'seen',\n",
       "  'said',\n",
       "  'wild',\n",
       "  'thing',\n",
       "  'thick',\n",
       "  'flerce'],\n",
       " ['answer', 'stannis', 'kept', 'whiskers', 'cropped', 'tight', 'short'],\n",
       " ['lay',\n",
       "  'like',\n",
       "  'blue',\n",
       "  'black',\n",
       "  'shadow',\n",
       "  'across',\n",
       "  'square',\n",
       "  'jaw',\n",
       "  'bony',\n",
       "  'hollows',\n",
       "  'cheeks'],\n",
       " ['eyes',\n",
       "  'open',\n",
       "  'wounds',\n",
       "  'beneath',\n",
       "  'heavy',\n",
       "  'brows',\n",
       "  'blue',\n",
       "  'dark',\n",
       "  'sea',\n",
       "  'night'],\n",
       " ['mouth',\n",
       "  'would',\n",
       "  'given',\n",
       "  'despair',\n",
       "  'even',\n",
       "  'drollest',\n",
       "  'fools',\n",
       "  'mouth',\n",
       "  'made',\n",
       "  'frowns',\n",
       "  'scowls',\n",
       "  'sharply',\n",
       "  'worded',\n",
       "  'commands',\n",
       "  'thin',\n",
       "  'pale',\n",
       "  'lips',\n",
       "  'clenched',\n",
       "  'muscles',\n",
       "  'mouth',\n",
       "  'forgotten',\n",
       "  'smile',\n",
       "  'never',\n",
       "  'known',\n",
       "  'laugh'],\n",
       " ['sometimes',\n",
       "  'world',\n",
       "  'grew',\n",
       "  'still',\n",
       "  'silent',\n",
       "  'night',\n",
       "  'maester',\n",
       "  'cressen',\n",
       "  'fancied',\n",
       "  'could',\n",
       "  'hear',\n",
       "  'lord',\n",
       "  'stannis',\n",
       "  'grinding',\n",
       "  'teeth',\n",
       "  'half',\n",
       "  'castle',\n",
       "  'away'],\n",
       " ['would', 'woken', 'old', 'man', 'said'],\n",
       " ['young'],\n",
       " ['old', 'sick', 'need', 'sleep'],\n",
       " ['stannis',\n",
       "  'never',\n",
       "  'learned',\n",
       "  'soften',\n",
       "  'speech',\n",
       "  'dissemble',\n",
       "  'flatter',\n",
       "  'said',\n",
       "  'thought',\n",
       "  'like',\n",
       "  'could',\n",
       "  'damned'],\n",
       " ['knew', 'learn', 'davos', 'say', 'soon', 'enough'],\n",
       " ['always'],\n",
       " ['would', 'help', 'cressen', 'said'],\n",
       " ['met', 'davos', 'stair'],\n",
       " ['told', 'suppose'],\n",
       " ['man', 'tongue', 'shortened', 'along', 'fingers'],\n",
       " ['would', 'made', 'poor', 'envoy'],\n",
       " ['made', 'poor', 'envoy', 'case'],\n",
       " ['storm', 'lords', 'rise'],\n",
       " ['seems', 'like', 'page', 'justice', 'cause', 'means', 'nothing'],\n",
       " ['cravenly',\n",
       "  'ones',\n",
       "  'sit',\n",
       "  'behind',\n",
       "  'walls',\n",
       "  'waiting',\n",
       "  'see',\n",
       "  'wind',\n",
       "  'rises',\n",
       "  'likely',\n",
       "  'triumph'],\n",
       " ['bold', 'ones', 'already', 'declared', 'renly'],\n",
       " ['enly'],\n",
       " ['spat', 'name', 'like', 'poison', 'tongue'],\n",
       " ['brother', 'lord', 'storm', 'end', 'past', 'thirteen', 'years'],\n",
       " ['lords', 'sworn', 'bannermen', 'stannis', 'broke', 'rights', 'mine'],\n",
       " ['never', 'asked', 'dragonstone'],\n",
       " ['never', 'wanted'],\n",
       " ['took', 'robert', 'enemies', 'commanded', 'root'],\n",
       " ['built', 'fleet', 'work', 'dutiful', 'younger', 'brother', 'elder', 'renly'],\n",
       " ['robert', 'thanks'],\n",
       " ['names', 'lord', 'dragonstone', 'gives', 'storm', 'end', 'incomes', 'renly'],\n",
       " ['storm',\n",
       "  'end',\n",
       "  'belonged',\n",
       "  'house',\n",
       "  'baratheon',\n",
       "  'three',\n",
       "  'hundred',\n",
       "  'years',\n",
       "  'rights',\n",
       "  'passed',\n",
       "  'robert',\n",
       "  'took',\n",
       "  'iron',\n",
       "  'throne'],\n",
       " ['old', 'grievance', 'deeply', 'felt', 'never'],\n",
       " ['heart',\n",
       "  'lord',\n",
       "  'weakness',\n",
       "  'dragonstone',\n",
       "  'old',\n",
       "  'strong',\n",
       "  'though',\n",
       "  'commanded',\n",
       "  'allegiance',\n",
       "  'handful',\n",
       "  'lesser',\n",
       "  'lords',\n",
       "  'whose',\n",
       "  'stony',\n",
       "  'island',\n",
       "  'holdings',\n",
       "  'thinly',\n",
       "  'peopled',\n",
       "  'yield',\n",
       "  'men',\n",
       "  'stannis',\n",
       "  'needed'],\n",
       " ['even',\n",
       "  'sellswords',\n",
       "  'brought',\n",
       "  'across',\n",
       "  'narrow',\n",
       "  'sea',\n",
       "  'free',\n",
       "  'cities',\n",
       "  'myr',\n",
       "  'lys',\n",
       "  'host',\n",
       "  'camped',\n",
       "  'outside',\n",
       "  'walls',\n",
       "  'far',\n",
       "  'small',\n",
       "  'bring',\n",
       "  'power',\n",
       "  'house',\n",
       "  'lannister'],\n",
       " ['robert',\n",
       "  'injustice',\n",
       "  'maester',\n",
       "  'cressen',\n",
       "  'replied',\n",
       "  'carefully',\n",
       "  'yet',\n",
       "  'sound',\n",
       "  'reasons'],\n",
       " ['dragonstone', 'long', 'seat', 'house', 'targaryen'],\n",
       " ['needed', 'man', 'strength', 'rule', 'renly', 'child'],\n",
       " ['child',\n",
       "  'still',\n",
       "  'stannis',\n",
       "  'declared',\n",
       "  'anger',\n",
       "  'ringing',\n",
       "  'loud',\n",
       "  'empty',\n",
       "  'hall',\n",
       "  'thieving',\n",
       "  'child',\n",
       "  'thinks',\n",
       "  'snatch',\n",
       "  'crown',\n",
       "  'brow'],\n",
       " ['renly', 'ever', 'done', 'earn', 'throne'],\n",
       " ['sits',\n",
       "  'council',\n",
       "  'jests',\n",
       "  'littlefinger',\n",
       "  'tourneys',\n",
       "  'dons',\n",
       "  'splendid',\n",
       "  'suit',\n",
       "  'armor',\n",
       "  'allows',\n",
       "  'knocked',\n",
       "  'horse',\n",
       "  'better',\n",
       "  'man'],\n",
       " ['sum', 'brother', 'renly', 'thinks', 'ought', 'king'],\n",
       " ['ask', 'gods', 'inflict', 'brothers'],\n",
       " ['cannot', 'answer', 'gods'],\n",
       " ['seldom', 'answer', 'days', 'seems'],\n",
       " ['maesters', 'renly'],\n",
       " ['perchance', 'send', 'might', 'like', 'counsel', 'better'],\n",
       " ['think', 'maester', 'said', 'brother', 'decided', 'steal', 'crown'],\n",
       " ['counsel', 'colleague', 'offer', 'traitor', 'blood', 'mine'],\n",
       " ['would', 'surprise', 'lord', 'renly', 'sought', 'counsel', 'grace'],\n",
       " ['youngest',\n",
       "  'lord',\n",
       "  'steffon',\n",
       "  'three',\n",
       "  'sons',\n",
       "  'grown',\n",
       "  'man',\n",
       "  'bold',\n",
       "  'heedless',\n",
       "  'acted',\n",
       "  'impulse',\n",
       "  'rather',\n",
       "  'calculation'],\n",
       " ['much',\n",
       "  'else',\n",
       "  'renly',\n",
       "  'like',\n",
       "  'brother',\n",
       "  'robert',\n",
       "  'utterly',\n",
       "  'unlike',\n",
       "  'stannis'],\n",
       " ['grace', 'stannis', 'repeated', 'bitterly'],\n",
       " ['mock', 'king', 'style', 'yet', 'king'],\n",
       " ['dragonstone', 'rocks', 'narrow', 'sea', 'kingdom'],\n",
       " ['descended',\n",
       "  'steps',\n",
       "  'chair',\n",
       "  'stand',\n",
       "  'table',\n",
       "  'shadow',\n",
       "  'falling',\n",
       "  'across',\n",
       "  'mouth',\n",
       "  'blackwater',\n",
       "  'rush',\n",
       "  'painted',\n",
       "  'forest',\n",
       "  'king',\n",
       "  'landing',\n",
       "  'stood'],\n",
       " ['stood',\n",
       "  'brooding',\n",
       "  'realm',\n",
       "  'sought',\n",
       "  'claim',\n",
       "  'near',\n",
       "  'hand',\n",
       "  'yet',\n",
       "  'far',\n",
       "  'away'],\n",
       " ['tonight', 'sup', 'lords', 'bannermen'],\n",
       " ['celtigar', 'velaryon', 'bar', 'emmon', 'whole', 'paltry', 'lot'],\n",
       " ['poor', 'crop', 'truth', 'told', 'brothers', 'left'],\n",
       " ['lysene',\n",
       "  'pirate',\n",
       "  'salladhor',\n",
       "  'saan',\n",
       "  'latest',\n",
       "  'tally',\n",
       "  'owe',\n",
       "  'morosh',\n",
       "  'myrman',\n",
       "  'caution',\n",
       "  'talk',\n",
       "  'tides',\n",
       "  'autumn',\n",
       "  'gales',\n",
       "  'lord',\n",
       "  'sunglass',\n",
       "  'mutters',\n",
       "  'piously',\n",
       "  'seven'],\n",
       " ['celtigar', 'want', 'know', 'storm', 'lords', 'joining', 'page', 'us'],\n",
       " ['velaryon', 'threaten', 'take', 'levies', 'home', 'unless', 'strike'],\n",
       " ['tell'],\n",
       " ['must'],\n",
       " ['true', 'enemies', 'lannisters', 'lord', 'maester', 'cressen', 'answered'],\n",
       " ['brother',\n",
       "  'make',\n",
       "  'common',\n",
       "  'cause',\n",
       "  'treat',\n",
       "  'renly',\n",
       "  'stannis',\n",
       "  'answered',\n",
       "  'tone',\n",
       "  'brooked',\n",
       "  'argument'],\n",
       " ['calls', 'king'],\n",
       " ['renly', 'maester', 'yielded'],\n",
       " ['lord', 'stubborn', 'proud', 'set', 'mind', 'changing'],\n",
       " ['others', 'might', 'serve', 'needs', 'well'],\n",
       " ['eddard',\n",
       "  'stark',\n",
       "  'son',\n",
       "  'proclaimed',\n",
       "  'king',\n",
       "  'north',\n",
       "  'power',\n",
       "  'winterfell',\n",
       "  'riverrun',\n",
       "  'behind'],\n",
       " ['green', 'boy', 'said', 'stannis', 'another', 'false', 'king'],\n",
       " ['accept', 'broken', 'realm'],\n",
       " ['surely',\n",
       "  'half',\n",
       "  'kingdom',\n",
       "  'better',\n",
       "  'none',\n",
       "  'cressen',\n",
       "  'said',\n",
       "  'help',\n",
       "  'boy',\n",
       "  'avenge',\n",
       "  'father',\n",
       "  'murder',\n",
       "  'avenge',\n",
       "  'eddard',\n",
       "  'stark'],\n",
       " ['man', 'nothing'],\n",
       " ['oh', 'robert', 'loved', 'sure'],\n",
       " ['loved', 'brother', 'often', 'hear'],\n",
       " ['brother', 'ned', 'stark', 'would', 'never', 'known', 'way', 'treated'],\n",
       " ['held',\n",
       "  'storm',\n",
       "  'end',\n",
       "  'watching',\n",
       "  'good',\n",
       "  'men',\n",
       "  'starve',\n",
       "  'mace',\n",
       "  'tyrell',\n",
       "  'paxter',\n",
       "  'redwyne',\n",
       "  'feasted',\n",
       "  'within',\n",
       "  'sight',\n",
       "  'walls'],\n",
       " ['robert', 'thank'],\n",
       " [],\n",
       " ['thanked', 'stark', 'lifting', 'siege', 'rats', 'radishes'],\n",
       " ['built', 'fleet', 'robert', 'command', 'took', 'dragonstone', 'name'],\n",
       " ['take', 'hand', 'say', 'well', 'done', 'brother', 'whatever', 'without'],\n",
       " ['blamed',\n",
       "  'letting',\n",
       "  'willem',\n",
       "  'darry',\n",
       "  'steal',\n",
       "  'away',\n",
       "  'viserys',\n",
       "  'babe',\n",
       "  'could',\n",
       "  'stopped'],\n",
       " ['sat',\n",
       "  'council',\n",
       "  'fifteen',\n",
       "  'years',\n",
       "  'helping',\n",
       "  'jon',\n",
       "  'arryn',\n",
       "  'rule',\n",
       "  'realm',\n",
       "  'robert',\n",
       "  'drank',\n",
       "  'whored',\n",
       "  'jon',\n",
       "  'died',\n",
       "  'brother',\n",
       "  'name',\n",
       "  'hand'],\n",
       " ['went', 'galloping', 'dear', 'friend', 'ned', 'stark', 'offered', 'honor'],\n",
       " ['small', 'good', 'either'],\n",
       " ['may', 'lord', 'maester', 'cressen', 'said', 'gently'],\n",
       " ['great', 'wrongs', 'done', 'past', 'dust'],\n",
       " ['future', 'may', 'yet', 'join', 'starks'],\n",
       " ['others', 'might', 'sound', 'well'],\n",
       " ['lady', 'arryn'],\n",
       " ['queen', 'murdered', 'husband', 'surely', 'want', 'justice'],\n",
       " ['young', 'son', 'jon', 'arryn', 'heir'],\n",
       " ['betroth',\n",
       "  'shireen',\n",
       "  'boy',\n",
       "  'weak',\n",
       "  'sickly',\n",
       "  'lord',\n",
       "  'stannis',\n",
       "  'objected'],\n",
       " ['even', 'father', 'saw', 'asked', 'foster', 'dragonstone'],\n",
       " ['service',\n",
       "  'page',\n",
       "  'might',\n",
       "  'done',\n",
       "  'good',\n",
       "  'damnable',\n",
       "  'lannister',\n",
       "  'woman',\n",
       "  'lord',\n",
       "  'arryn',\n",
       "  'poisoned',\n",
       "  'could',\n",
       "  'done',\n",
       "  'lysa',\n",
       "  'hides',\n",
       "  'eyrie'],\n",
       " ['never', 'part', 'boy', 'promise'],\n",
       " ['must', 'send', 'shireen', 'eyrie', 'maester', 'urged'],\n",
       " ['dragonstone', 'grim', 'home', 'child'],\n",
       " ['let', 'fool', 'go', 'familiar', 'face'],\n",
       " ['familiar', 'hideous'],\n",
       " ['stannis', 'furrowed', 'brow', 'thought'],\n",
       " ['still'],\n",
       " [],\n",
       " [],\n",
       " ['perhaps', 'worth', 'trying'],\n",
       " [],\n",
       " [],\n",
       " ['must',\n",
       "  'rightful',\n",
       "  'lord',\n",
       "  'seven',\n",
       "  'kingdoms',\n",
       "  'beg',\n",
       "  'help',\n",
       "  'widow',\n",
       "  'women',\n",
       "  'usurpers'],\n",
       " ['woman', 'voice', 'asked', 'sharply'],\n",
       " ['maester', 'cressen', 'turned', 'bowed', 'head'],\n",
       " ['lady', 'said', 'chagrined', 'heard', 'enter'],\n",
       " ['page', 'lord', 'stannis', 'scowled'],\n",
       " ['beg'],\n",
       " ['anyone'],\n",
       " ['mind', 'remember', 'woman'],\n",
       " ['pleased', 'hear', 'lord'],\n",
       " ['lady',\n",
       "  'selyse',\n",
       "  'tall',\n",
       "  'husband',\n",
       "  'thin',\n",
       "  'body',\n",
       "  'thin',\n",
       "  'face',\n",
       "  'prominent',\n",
       "  'ears',\n",
       "  'sharp',\n",
       "  'nose',\n",
       "  'faintest',\n",
       "  'hint',\n",
       "  'mustache',\n",
       "  'upper',\n",
       "  'lip'],\n",
       " ['plucked',\n",
       "  'daily',\n",
       "  'cursed',\n",
       "  'regularly',\n",
       "  'yet',\n",
       "  'never',\n",
       "  'failed',\n",
       "  'return'],\n",
       " ['eyes', 'pale', 'mouth', 'stern', 'voice', 'whip'],\n",
       " ['cracked'],\n",
       " ['lady', 'arryn', 'owes', 'allegiance', 'starks', 'brother', 'renly', 'rest'],\n",
       " ['one', 'true', 'king'],\n",
       " ['would', 'fitting', 'plead', 'bargain', 'rightfully', 'grace', 'god'],\n",
       " ['god', 'said', 'gods'],\n",
       " ['red',\n",
       "  'woman',\n",
       "  'heart',\n",
       "  'soul',\n",
       "  'turning',\n",
       "  'gods',\n",
       "  'seven',\n",
       "  'kingdoms',\n",
       "  'old',\n",
       "  'new',\n",
       "  'worship',\n",
       "  'one',\n",
       "  'called',\n",
       "  'lord',\n",
       "  'light'],\n",
       " ['god',\n",
       "  'keep',\n",
       "  'grace',\n",
       "  'said',\n",
       "  'lord',\n",
       "  'stannis',\n",
       "  'share',\n",
       "  'wife',\n",
       "  'fervent',\n",
       "  'new',\n",
       "  'faith'],\n",
       " ['swords', 'need', 'blessings'],\n",
       " ['army', 'hidden', 'somewhere', 'told'],\n",
       " ['affection', 'tone'],\n",
       " ['stannis', 'always', 'uncomfortable', 'around', 'women', 'even', 'wife'],\n",
       " ['gone',\n",
       "  'king',\n",
       "  'landing',\n",
       "  'sit',\n",
       "  'robert',\n",
       "  'council',\n",
       "  'left',\n",
       "  'selyse',\n",
       "  'dragonstone',\n",
       "  'daughter'],\n",
       " ['letters',\n",
       "  'visits',\n",
       "  'fewer',\n",
       "  'duty',\n",
       "  'marriage',\n",
       "  'bed',\n",
       "  'twice',\n",
       "  'year',\n",
       "  'took',\n",
       "  'joy',\n",
       "  'sons',\n",
       "  'hoped',\n",
       "  'never',\n",
       "  'come'],\n",
       " ['brothers', 'uncles', 'cousins', 'armies', 'told'],\n",
       " ['house', 'florent', 'rally', 'banner'],\n",
       " ['house', 'florent', 'field', 'two', 'thousand', 'swords', 'best'],\n",
       " ['said',\n",
       "  'stannis',\n",
       "  'knew',\n",
       "  'strength',\n",
       "  'every',\n",
       "  'house',\n",
       "  'seven',\n",
       "  'kingdoms'],\n",
       " ['deal', 'faith', 'brothers', 'uncles', 'lady'],\n",
       " ['florent',\n",
       "  'lands',\n",
       "  'lie',\n",
       "  'close',\n",
       "  'highgarden',\n",
       "  'lord',\n",
       "  'uncle',\n",
       "  'risk',\n",
       "  'mace',\n",
       "  'tyrell',\n",
       "  'wrath'],\n",
       " ['another', 'way'],\n",
       " ['lady', 'selyse', 'moved', 'closer'],\n",
       " ['look', 'windows', 'lord'],\n",
       " ['sign', 'waited', 'blazoned', 'sky'],\n",
       " ['red', 'red', 'flame', 'red', 'fiery', 'heart', 'true', 'god'],\n",
       " ['banner'],\n",
       " ['see',\n",
       "  'unfurls',\n",
       "  'across',\n",
       "  'heavens',\n",
       "  'like',\n",
       "  'dragon',\n",
       "  'hot',\n",
       "  'breath',\n",
       "  'lord',\n",
       "  'dragonstone'],\n",
       " ['means', 'time', 'come', 'grace'],\n",
       " ['nothing', 'certain'],\n",
       " ['meant',\n",
       "  'sail',\n",
       "  'desolate',\n",
       "  'rock',\n",
       "  'aegon',\n",
       "  'conqueror',\n",
       "  'sailed',\n",
       "  'sweep'],\n",
       " ['say', 'word', 'embrace', 'power', 'lord', 'light'],\n",
       " ['many', 'swords', 'lord', 'light', 'put', 'hand'],\n",
       " ['stannis', 'demanded'],\n",
       " ['need',\n",
       "  'wife',\n",
       "  'promised',\n",
       "  'swords',\n",
       "  'storm',\n",
       "  'end',\n",
       "  'highgarden',\n",
       "  'start',\n",
       "  'lords',\n",
       "  'bannermen'],\n",
       " ['davos', 'would', 'tell', 'different', 'stannis', 'said'],\n",
       " ['swords', 'sworn', 'renly'],\n",
       " ['love', 'charming', 'young', 'brother', 'loved', 'robert'],\n",
       " [],\n",
       " [],\n",
       " ['never', 'loved'],\n",
       " ['yes', 'answered', 'renly', 'die'],\n",
       " [],\n",
       " [],\n",
       " ['stannis',\n",
       "  'looked',\n",
       "  'lady',\n",
       "  'narrowed',\n",
       "  'eyes',\n",
       "  'cressen',\n",
       "  'could',\n",
       "  'hold',\n",
       "  'tongue'],\n",
       " ['thought'],\n",
       " ['grace', 'whatever', 'follies', 'renly', 'committed', 'follies'],\n",
       " ['call', 'treasons'],\n",
       " ['stannis', 'turned', 'back', 'wife'],\n",
       " ['brother',\n",
       "  'young',\n",
       "  'strong',\n",
       "  'vast',\n",
       "  'host',\n",
       "  'around',\n",
       "  'rainbow',\n",
       "  'knights'],\n",
       " ['page', 'melisandre', 'gazed', 'flames', 'seen', 'dead'],\n",
       " ['cressen', 'horrorstruck'],\n",
       " ['fratricide'],\n",
       " [],\n",
       " [],\n",
       " ['lord', 'evil', 'unthinkable'],\n",
       " [],\n",
       " [],\n",
       " ['please', 'listen'],\n",
       " ['lady', 'selyse', 'gave', 'measured', 'look'],\n",
       " ['tell', 'maester'],\n",
       " ['might',\n",
       "  'win',\n",
       "  'half',\n",
       "  'kingdom',\n",
       "  'goes',\n",
       "  'starks',\n",
       "  'knees',\n",
       "  'sells',\n",
       "  'daughter',\n",
       "  'lysa',\n",
       "  'arryn'],\n",
       " ['heard', 'counsel', 'cressen', 'lord', 'stannis', 'said'],\n",
       " ['hear'],\n",
       " ['dismissed'],\n",
       " ['maester', 'cressen', 'bent', 'stiff', 'knee'],\n",
       " ['could',\n",
       "  'feel',\n",
       "  'lady',\n",
       "  'selyse',\n",
       "  'eyes',\n",
       "  'back',\n",
       "  'shuffled',\n",
       "  'slowly',\n",
       "  'across',\n",
       "  'room'],\n",
       " ['time', 'reached', 'bottom', 'steps', 'could', 'stand', 'erect'],\n",
       " ['help', 'said', 'pylos'],\n",
       " ['safe',\n",
       "  'back',\n",
       "  'rooms',\n",
       "  'cressen',\n",
       "  'sent',\n",
       "  'younger',\n",
       "  'man',\n",
       "  'away',\n",
       "  'limped',\n",
       "  'balcony',\n",
       "  'stand',\n",
       "  'gargoyles',\n",
       "  'stare',\n",
       "  'sea'],\n",
       " ['one',\n",
       "  'salladhor',\n",
       "  'saan',\n",
       "  'warships',\n",
       "  'sweeping',\n",
       "  'past',\n",
       "  'castle',\n",
       "  'gaily',\n",
       "  'striped',\n",
       "  'hull',\n",
       "  'slicing',\n",
       "  'greygreen',\n",
       "  'waters',\n",
       "  'oars',\n",
       "  'rose',\n",
       "  'fell'],\n",
       " ['watched', 'vanished', 'behind', 'headland'],\n",
       " ['would', 'fears', 'could', 'vanish', 'easily'],\n",
       " ['lived', 'long'],\n",
       " ['maester',\n",
       "  'donned',\n",
       "  'collar',\n",
       "  'put',\n",
       "  'aside',\n",
       "  'hope',\n",
       "  'children',\n",
       "  'yet',\n",
       "  'cressen',\n",
       "  'oft',\n",
       "  'felt',\n",
       "  'father',\n",
       "  'nonetheless'],\n",
       " ['robert', 'stannis', 'renly'],\n",
       " [],\n",
       " [],\n",
       " ['three', 'sons', 'raised', 'angry', 'sea', 'claimed', 'lord', 'steffon'],\n",
       " ['done', 'ill', 'must', 'watch', 'one', 'kill'],\n",
       " ['could', 'allow', 'would', 'allow'],\n",
       " ['woman', 'heart'],\n",
       " ['lady', 'selyse', 'one'],\n",
       " ['red', 'woman', 'servants', 'named', 'afraid', 'speak', 'name'],\n",
       " ['speak', 'name', 'cressen', 'told', 'stone', 'hellhound'],\n",
       " ['melisandre'],\n",
       " [],\n",
       " ['melisandre',\n",
       "  'asshai',\n",
       "  'sorceress',\n",
       "  'shadowbinder',\n",
       "  'priestess',\n",
       "  'hllor',\n",
       "  'lord',\n",
       "  'light',\n",
       "  'heart',\n",
       "  'fire',\n",
       "  'god',\n",
       "  'flame',\n",
       "  'shadow'],\n",
       " ['melisandre',\n",
       "  'whose',\n",
       "  'madness',\n",
       "  'must',\n",
       "  'allowed',\n",
       "  'spread',\n",
       "  'beyond',\n",
       "  'dragonstone'],\n",
       " ['chambers', 'seemed', 'dim', 'gloomy', 'brightness', 'morning'],\n",
       " ['fumbling',\n",
       "  'hands',\n",
       "  'old',\n",
       "  'man',\n",
       "  'lit',\n",
       "  'candle',\n",
       "  'carried',\n",
       "  'workroom',\n",
       "  'beneath',\n",
       "  'rookery',\n",
       "  'stair',\n",
       "  'ointments',\n",
       "  'potions',\n",
       "  'medicines',\n",
       "  'stood',\n",
       "  'neatly',\n",
       "  'shelves'],\n",
       " ['bottom',\n",
       "  'shelf',\n",
       "  'behind',\n",
       "  'row',\n",
       "  'salves',\n",
       "  'squat',\n",
       "  'clay',\n",
       "  'jars',\n",
       "  'found',\n",
       "  'vial',\n",
       "  'indigo',\n",
       "  'glass',\n",
       "  'larger',\n",
       "  'little',\n",
       "  'finger'],\n",
       " ['rattled', 'shook'],\n",
       " ['cressen', 'blew', 'away', 'layer', 'dust', 'carried', 'back', 'table'],\n",
       " ['collapsing', 'chair', 'pulled', 'stopper', 'spilled', 'vial', 'contents'],\n",
       " ['dozen',\n",
       "  'crystals',\n",
       "  'larger',\n",
       "  'seeds',\n",
       "  'rattled',\n",
       "  'across',\n",
       "  'parchment',\n",
       "  'reading'],\n",
       " ['shone',\n",
       "  'like',\n",
       "  'jewels',\n",
       "  'candlelight',\n",
       "  'purple',\n",
       "  'maester',\n",
       "  'found',\n",
       "  'thinking',\n",
       "  'never',\n",
       "  'truly',\n",
       "  'seen',\n",
       "  'color'],\n",
       " ['chain', 'around', 'throat', 'felt', 'heavy'],\n",
       " ['touched', 'one', 'crystals', 'lightly', 'tip', 'little', 'finger'],\n",
       " ['small', 'thing', 'hold', 'power', 'life', 'death'],\n",
       " ['made',\n",
       "  'certain',\n",
       "  'plant',\n",
       "  'grew',\n",
       "  'islands',\n",
       "  'jade',\n",
       "  'sea',\n",
       "  'half',\n",
       "  'world',\n",
       "  'away'],\n",
       " ['leaves',\n",
       "  'aged',\n",
       "  'soaked',\n",
       "  'wash',\n",
       "  'limes',\n",
       "  'sugar',\n",
       "  'water',\n",
       "  'certain',\n",
       "  'rare',\n",
       "  'spices',\n",
       "  'summer',\n",
       "  'isles'],\n",
       " ['afterward',\n",
       "  'could',\n",
       "  'discarded',\n",
       "  'potion',\n",
       "  'must',\n",
       "  'thickened',\n",
       "  'ash',\n",
       "  'allowed',\n",
       "  'crystallize'],\n",
       " ['process', 'slow', 'difficult', 'necessaries', 'costly', 'hard', 'acquire'],\n",
       " ['alchemists', 'lys', 'knew', 'way', 'though', 'faceless', 'men', 'braavos'],\n",
       " [],\n",
       " [],\n",
       " ['maesters',\n",
       "  'order',\n",
       "  'well',\n",
       "  'though',\n",
       "  'something',\n",
       "  'talked',\n",
       "  'beyond',\n",
       "  'walls',\n",
       "  'citadel'],\n",
       " ['world',\n",
       "  'knew',\n",
       "  'maester',\n",
       "  'forged',\n",
       "  'silver',\n",
       "  'link',\n",
       "  'learned',\n",
       "  'art',\n",
       "  'healing',\n",
       "  'world',\n",
       "  'preferred',\n",
       "  'forget',\n",
       "  'men',\n",
       "  'knew',\n",
       "  'heal',\n",
       "  'also',\n",
       "  'knew',\n",
       "  'kill'],\n",
       " ['page',\n",
       "  'cressen',\n",
       "  'longer',\n",
       "  'recalled',\n",
       "  'name',\n",
       "  'asshai',\n",
       "  'gave',\n",
       "  'leaf',\n",
       "  'lysene',\n",
       "  'poisoners',\n",
       "  'crystal'],\n",
       " ['citadel', 'simply', 'called', 'strangler'],\n",
       " ['dissolved',\n",
       "  'wine',\n",
       "  'would',\n",
       "  'make',\n",
       "  'muscles',\n",
       "  'man',\n",
       "  'throat',\n",
       "  'clench',\n",
       "  'tighter',\n",
       "  'fist',\n",
       "  'shutting',\n",
       "  'windpipe'],\n",
       " ['said',\n",
       "  'victim',\n",
       "  'face',\n",
       "  'turned',\n",
       "  'purple',\n",
       "  'little',\n",
       "  'crystal',\n",
       "  'seed',\n",
       "  'death',\n",
       "  'grown',\n",
       "  'man',\n",
       "  'choking',\n",
       "  'morsel',\n",
       "  'food'],\n",
       " ['night', 'lord', 'stannis', 'would', 'feast', 'bannermen', 'lady', 'wife'],\n",
       " [],\n",
       " [],\n",
       " ['red', 'woman', 'melisandre', 'asshai'],\n",
       " ['must', 'rest', 'maester', 'cressen', 'told'],\n",
       " ['must', 'strength', 'come', 'dark'],\n",
       " ['hands', 'must', 'shake', 'courage', 'flag'],\n",
       " ['dreadful', 'thing', 'yet', 'must', 'done'],\n",
       " ['gods', 'surely', 'forgive'],\n",
       " ['slept', 'poorly', 'late'],\n",
       " ['nap', 'would', 'refresh', 'ordeal', 'ahead'],\n",
       " ['wearily', 'tottered', 'bed'],\n",
       " ['yet',\n",
       "  'closed',\n",
       "  'eyes',\n",
       "  'could',\n",
       "  'still',\n",
       "  'see',\n",
       "  'light',\n",
       "  'comet',\n",
       "  'red',\n",
       "  'flery',\n",
       "  'vividly',\n",
       "  'alive',\n",
       "  'amidst',\n",
       "  'darkness',\n",
       "  'dreams'],\n",
       " ['perhaps', 'comet', 'thought', 'drowsily', 'last', 'sleep', 'took'],\n",
       " ['omen', 'blood', 'foretelling', 'murder'],\n",
       " [],\n",
       " [],\n",
       " ['yes'],\n",
       " [],\n",
       " [],\n",
       " ['woke',\n",
       "  'full',\n",
       "  'dark',\n",
       "  'bedchamber',\n",
       "  'black',\n",
       "  'every',\n",
       "  'joint',\n",
       "  'body',\n",
       "  'ached'],\n",
       " ['cressen', 'pushed', 'head', 'throbbing'],\n",
       " ['clutching', 'cane', 'rose', 'unsteady', 'feet'],\n",
       " ['late', 'thought'],\n",
       " ['summon'],\n",
       " ['always',\n",
       "  'summoned',\n",
       "  'feasts',\n",
       "  'seated',\n",
       "  'near',\n",
       "  'salt',\n",
       "  'close',\n",
       "  'lord',\n",
       "  'stannis'],\n",
       " ['lord',\n",
       "  'face',\n",
       "  'swam',\n",
       "  'man',\n",
       "  'boy',\n",
       "  'standing',\n",
       "  'cold',\n",
       "  'shadows',\n",
       "  'sun',\n",
       "  'shone',\n",
       "  'elder',\n",
       "  'brother'],\n",
       " ['whatever', 'robert', 'done', 'first', 'better'],\n",
       " ['poor', 'boy'],\n",
       " [],\n",
       " [],\n",
       " ['must', 'hurry', 'sake'],\n",
       " ['maester', 'found', 'crystals', 'left', 'scooped', 'parchment'],\n",
       " ['cressen',\n",
       "  'owned',\n",
       "  'hollow',\n",
       "  'rings',\n",
       "  'poisoners',\n",
       "  'lys',\n",
       "  'said',\n",
       "  'favor',\n",
       "  'myriad',\n",
       "  'pockets',\n",
       "  'great',\n",
       "  'small',\n",
       "  'sewn',\n",
       "  'inside',\n",
       "  'loose',\n",
       "  'sleeves',\n",
       "  'robe'],\n",
       " ['secreted',\n",
       "  'strangler',\n",
       "  'seeds',\n",
       "  'one',\n",
       "  'threw',\n",
       "  'open',\n",
       "  'door',\n",
       "  'called',\n",
       "  'pylos'],\n",
       " [],\n",
       " ['heard', 'reply', 'called', 'louder'],\n",
       " ['pylos', 'need', 'help'],\n",
       " ['still', 'came', 'answer'],\n",
       " ['queer',\n",
       "  'young',\n",
       "  'maester',\n",
       "  'cell',\n",
       "  'half',\n",
       "  'turn',\n",
       "  'stair',\n",
       "  'within',\n",
       "  'easy',\n",
       "  'earshot'],\n",
       " ['end', 'cressen', 'shout', 'servants'],\n",
       " ['make', 'haste', 'told'],\n",
       " ['slept', 'long'],\n",
       " ['feasting'],\n",
       " [],\n",
       " [],\n",
       " ['drinking'],\n",
       " [],\n",
       " [],\n",
       " ['woken'],\n",
       " ['happened', 'maester', 'pylos'],\n",
       " ['truly', 'understand'],\n",
       " ['cross', 'long', 'gallery'],\n",
       " ['night', 'wind', 'whispered', 'great', 'windows', 'sharp', 'smell', 'sea'],\n",
       " ['torches',\n",
       "  'flickered',\n",
       "  'along',\n",
       "  'walls',\n",
       "  'dragonstone',\n",
       "  'camp',\n",
       "  'beyond',\n",
       "  'could',\n",
       "  'see',\n",
       "  'hundreds',\n",
       "  'cookfires',\n",
       "  'burning',\n",
       "  'field',\n",
       "  'stars',\n",
       "  'fallen',\n",
       "  'earth'],\n",
       " ['comet', 'blazed', 'red', 'malevolent'],\n",
       " ['old', 'wise', 'fear', 'things', 'maester', 'told'],\n",
       " ['doors', 'great', 'hall', 'set', 'mouth', 'stone', 'dragon'],\n",
       " ['told', 'servants', 'leave', 'outside'],\n",
       " ['would', 'better', 'enter', 'alone', 'must', 'appear', 'feeble'],\n",
       " ['leaning',\n",
       "  'heavily',\n",
       "  'cane',\n",
       "  'cressen',\n",
       "  'climbed',\n",
       "  'last',\n",
       "  'steps',\n",
       "  'hobbled',\n",
       "  'beneath',\n",
       "  'gateway',\n",
       "  'teeth'],\n",
       " ['pair',\n",
       "  'guardsmen',\n",
       "  'opened',\n",
       "  'heavy',\n",
       "  'red',\n",
       "  'doors',\n",
       "  'unleashing',\n",
       "  'sudden',\n",
       "  'blast',\n",
       "  'noise',\n",
       "  'light'],\n",
       " ['cressen', 'stepped', 'dragon', 'maw'],\n",
       " ['clatter',\n",
       "  'knife',\n",
       "  'plate',\n",
       "  'low',\n",
       "  'mutter',\n",
       "  'table',\n",
       "  'talk',\n",
       "  'heard',\n",
       "  'patchface',\n",
       "  'singing'],\n",
       " [],\n",
       " [],\n",
       " ['dance', 'lord', 'dance', 'lord', 'accompaniment', 'jangling', 'cowbells'],\n",
       " ['dreadful', 'song', 'sung', 'morning'],\n",
       " ['shadows', 'come', 'stay', 'lord', 'stay', 'lord', 'stay', 'lord'],\n",
       " ['lower',\n",
       "  'tables',\n",
       "  'crowded',\n",
       "  'knights',\n",
       "  'archers',\n",
       "  'sellsword',\n",
       "  'captains',\n",
       "  'tearing',\n",
       "  'apart',\n",
       "  'loaves',\n",
       "  'black',\n",
       "  'bread',\n",
       "  'soak',\n",
       "  'page',\n",
       "  'fish',\n",
       "  'stew'],\n",
       " ['loud',\n",
       "  'laughter',\n",
       "  'raucous',\n",
       "  'shouting',\n",
       "  'marred',\n",
       "  'dignity',\n",
       "  'men',\n",
       "  'feasts',\n",
       "  'lord',\n",
       "  'stannis',\n",
       "  'permit'],\n",
       " ['cressen',\n",
       "  'made',\n",
       "  'way',\n",
       "  'toward',\n",
       "  'raised',\n",
       "  'platform',\n",
       "  'lords',\n",
       "  'sat',\n",
       "  'king'],\n",
       " ['step', 'wide', 'around', 'patchface'],\n",
       " ['dancing',\n",
       "  'bells',\n",
       "  'ringing',\n",
       "  'fool',\n",
       "  'neither',\n",
       "  'saw',\n",
       "  'heard',\n",
       "  'approach'],\n",
       " ['hopped',\n",
       "  'one',\n",
       "  'leg',\n",
       "  'patchface',\n",
       "  'lurched',\n",
       "  'cressen',\n",
       "  'knocking',\n",
       "  'cane'],\n",
       " ['went',\n",
       "  'crashing',\n",
       "  'together',\n",
       "  'amidst',\n",
       "  'rushes',\n",
       "  'tangle',\n",
       "  'arms',\n",
       "  'legs',\n",
       "  'sudden',\n",
       "  'gale',\n",
       "  'laughter',\n",
       "  'went',\n",
       "  'around'],\n",
       " ['doubt', 'comical', 'sight'],\n",
       " ['patchface',\n",
       "  'sprawled',\n",
       "  'half',\n",
       "  'top',\n",
       "  'motley',\n",
       "  'fool',\n",
       "  'face',\n",
       "  'pressed',\n",
       "  'close'],\n",
       " ['lost', 'tin', 'helm', 'antlers', 'bells'],\n",
       " ['sea', 'fall', 'declared'],\n",
       " ['know', 'know', 'oh', 'oh', 'oh'],\n",
       " ['giggling', 'fool', 'rolled', 'bounded', 'feet', 'little', 'dance'],\n",
       " ['trying',\n",
       "  'make',\n",
       "  'best',\n",
       "  'maester',\n",
       "  'smiled',\n",
       "  'feebly',\n",
       "  'struggled',\n",
       "  'rise',\n",
       "  'hip',\n",
       "  'pain',\n",
       "  'moment',\n",
       "  'half',\n",
       "  'afraid',\n",
       "  'broken'],\n",
       " ['felt', 'strong', 'hands', 'grasp', 'arms', 'lift', 'back', 'feet'],\n",
       " ['thank', 'ser', 'murmured', 'turning', 'see', 'knight', 'come', 'aid'],\n",
       " [],\n",
       " [],\n",
       " ['maester',\n",
       "  'said',\n",
       "  'lady',\n",
       "  'melisandre',\n",
       "  'deep',\n",
       "  'voice',\n",
       "  'flavored',\n",
       "  'music',\n",
       "  'jade',\n",
       "  'sea'],\n",
       " ['ought', 'take', 'care'],\n",
       " ['ever',\n",
       "  'wore',\n",
       "  'red',\n",
       "  'head',\n",
       "  'heel',\n",
       "  'long',\n",
       "  'loose',\n",
       "  'gown',\n",
       "  'flowing',\n",
       "  'silk',\n",
       "  'bright',\n",
       "  'fire',\n",
       "  'dagged',\n",
       "  'sleeves',\n",
       "  'deep',\n",
       "  'slashes',\n",
       "  'bodice',\n",
       "  'showed',\n",
       "  'glimpses',\n",
       "  'darker',\n",
       "  'bloodred',\n",
       "  'fabric',\n",
       "  'beneath'],\n",
       " ['around',\n",
       "  'throat',\n",
       "  'red',\n",
       "  'gold',\n",
       "  'choker',\n",
       "  'tighter',\n",
       "  'maester',\n",
       "  'chain',\n",
       "  'ornamented',\n",
       "  'single',\n",
       "  'great',\n",
       "  'ruby'],\n",
       " ['hair',\n",
       "  'orange',\n",
       "  'strawberry',\n",
       "  'color',\n",
       "  'common',\n",
       "  'red',\n",
       "  'haired',\n",
       "  'men',\n",
       "  'deep',\n",
       "  'burnished',\n",
       "  'copper',\n",
       "  'shone',\n",
       "  'light',\n",
       "  'torches'],\n",
       " ['even', 'eyes', 'red'],\n",
       " [],\n",
       " [],\n",
       " ['skin', 'smooth', 'white', 'unblemished', 'pale', 'cream'],\n",
       " ['slender',\n",
       "  'graceful',\n",
       "  'taller',\n",
       "  'knights',\n",
       "  'full',\n",
       "  'breasts',\n",
       "  'narrow',\n",
       "  'waist',\n",
       "  'heart',\n",
       "  'shaped',\n",
       "  'face'],\n",
       " ['men',\n",
       "  'eyes',\n",
       "  'found',\n",
       "  'quickly',\n",
       "  'look',\n",
       "  'away',\n",
       "  'even',\n",
       "  'maester',\n",
       "  'eyes'],\n",
       " ['many', 'called', 'beautiful'],\n",
       " ['beautiful'],\n",
       " ['red', 'terrible', 'red'],\n",
       " [],\n",
       " [],\n",
       " [],\n",
       " ['thank', 'lady'],\n",
       " ['man', 'age', 'must', 'look', 'steps', 'melisandre', 'said', 'courteously'],\n",
       " ['night', 'dark', 'full', 'terrors'],\n",
       " ['knew', 'phrase', 'prayer', 'faith'],\n",
       " ['makes', 'matter', 'faith'],\n",
       " ['children', 'fear', 'dark', 'told'],\n",
       " ['yet', 'even', 'said', 'words', 'heard', 'patchface', 'take', 'song'],\n",
       " ['shadows', 'come', 'dance', 'lord', 'dance', 'lord', 'dance', 'lord'],\n",
       " ['riddle', 'melisandre', 'said'],\n",
       " ['clever', 'fool', 'foolish', 'wise', 'man'],\n",
       " ['bending',\n",
       "  'picked',\n",
       "  'patchface',\n",
       "  'helm',\n",
       "  'fallen',\n",
       "  'set',\n",
       "  'cressen',\n",
       "  'head'],\n",
       " ['cowbells', 'rang', 'softly', 'tin', 'bucket', 'slid', 'ears'],\n",
       " ['crown', 'match', 'chain', 'lord', 'maester', 'announced'],\n",
       " ['around', 'men', 'laughing'],\n",
       " ['cressen', 'pressed', 'lips', 'together', 'fought', 'still', 'rage'],\n",
       " ['thought',\n",
       "  'feeble',\n",
       "  'helpless',\n",
       "  'would',\n",
       "  'learn',\n",
       "  'otherwise',\n",
       "  'night',\n",
       "  'done'],\n",
       " ['old', 'might', 'yet', 'still', 'maester', 'citadel'],\n",
       " ['need', 'crown', 'truth', 'told', 'removing', 'fool', 'helm', 'head'],\n",
       " ['truths', 'world', 'taught', 'oldtown'],\n",
       " ['melisandre',\n",
       "  'turned',\n",
       "  'swirl',\n",
       "  'red',\n",
       "  'silk',\n",
       "  'made',\n",
       "  'way',\n",
       "  'back',\n",
       "  'high',\n",
       "  'table',\n",
       "  'king',\n",
       "  'stannis',\n",
       "  'queen',\n",
       "  'seated'],\n",
       " ['page',\n",
       "  'cressen',\n",
       "  'handed',\n",
       "  'antlered',\n",
       "  'tin',\n",
       "  'bucket',\n",
       "  'back',\n",
       "  'patchface',\n",
       "  'made',\n",
       "  'follow'],\n",
       " ['maester', 'pylos', 'sat', 'place'],\n",
       " ['old', 'man', 'could', 'stop', 'stare'],\n",
       " ['maester', 'pylos', 'said', 'last'],\n",
       " [],\n",
       " [],\n",
       " [],\n",
       " ['wake'],\n",
       " ['grace', 'commanded', 'let', 'rest'],\n",
       " ['pylos', 'least', 'grace', 'blush'],\n",
       " ['told', 'needed'],\n",
       " ['cressen', 'looked', 'knights', 'captains', 'lords', 'sitting', 'silent'],\n",
       " ['lord',\n",
       "  'celtigar',\n",
       "  'aged',\n",
       "  'sour',\n",
       "  'wore',\n",
       "  'mantle',\n",
       "  'patterned',\n",
       "  'red',\n",
       "  'crabs',\n",
       "  'picked',\n",
       "  'garnets'],\n",
       " ['handsome',\n",
       "  'lord',\n",
       "  'velaryon',\n",
       "  'chose',\n",
       "  'sea',\n",
       "  'green',\n",
       "  'silk',\n",
       "  'white',\n",
       "  'gold',\n",
       "  'seahorse',\n",
       "  'throat',\n",
       "  'matching',\n",
       "  'long',\n",
       "  'fair',\n",
       "  'hair'],\n",
       " ['lord',\n",
       "  'bar',\n",
       "  'emmon',\n",
       "  'plump',\n",
       "  'boy',\n",
       "  'fourteen',\n",
       "  'swathed',\n",
       "  'purple',\n",
       "  'velvet',\n",
       "  'trimmed',\n",
       "  'white',\n",
       "  'seal',\n",
       "  'ser',\n",
       "  'axell',\n",
       "  'florent',\n",
       "  'remained',\n",
       "  'homely',\n",
       "  'even',\n",
       "  'russet',\n",
       "  'fox',\n",
       "  'fur',\n",
       "  'pious',\n",
       "  'lord',\n",
       "  'sunglass',\n",
       "  'wore',\n",
       "  'moonstones',\n",
       "  'throat',\n",
       "  'wrist',\n",
       "  'finger',\n",
       "  'lysene',\n",
       "  'captain',\n",
       "  'salladhor',\n",
       "  'saan',\n",
       "  'sunburst',\n",
       "  'scarlet',\n",
       "  'satin',\n",
       "  'gold',\n",
       "  'jewels'],\n",
       " ['ser',\n",
       "  'davos',\n",
       "  'dressed',\n",
       "  'simply',\n",
       "  'brown',\n",
       "  'doublet',\n",
       "  'green',\n",
       "  'wool',\n",
       "  'mantle',\n",
       "  'ser',\n",
       "  'davos',\n",
       "  'met',\n",
       "  'gaze',\n",
       "  'pity',\n",
       "  'eyes'],\n",
       " ['ill', 'confused', 'use', 'old', 'man'],\n",
       " ['sounded', 'like', 'lord', 'stannis', 'voice', 'could', 'could'],\n",
       " ['pylos', 'counsel', 'henceforth'],\n",
       " ['already', 'works', 'ravens', 'since', 'longer', 'climb', 'rookery'],\n",
       " ['kill', 'service'],\n",
       " ['maester', 'cressen', 'blinked'],\n",
       " ['stannis',\n",
       "  'lord',\n",
       "  'sad',\n",
       "  'sullen',\n",
       "  'boy',\n",
       "  'son',\n",
       "  'never',\n",
       "  'must',\n",
       "  'know',\n",
       "  'cared',\n",
       "  'lived',\n",
       "  'loved',\n",
       "  'despite'],\n",
       " ['yes',\n",
       "  'loved',\n",
       "  'better',\n",
       "  'robert',\n",
       "  'even',\n",
       "  'renly',\n",
       "  'one',\n",
       "  'unloved',\n",
       "  'one',\n",
       "  'needed'],\n",
       " ['yet', 'said', 'command', 'lord'],\n",
       " [],\n",
       " [],\n",
       " ['hungry'],\n",
       " ['might', 'place', 'table'],\n",
       " ['side', 'belong', 'side'],\n",
       " [],\n",
       " [],\n",
       " ['ser', 'davos', 'rose', 'bench'],\n",
       " ['honored', 'maester', 'would', 'sit', 'beside', 'grace'],\n",
       " [],\n",
       " ['lord',\n",
       "  'stannis',\n",
       "  'turned',\n",
       "  'away',\n",
       "  'say',\n",
       "  'something',\n",
       "  'melisandre',\n",
       "  'seated',\n",
       "  'right',\n",
       "  'hand',\n",
       "  'place',\n",
       "  'high',\n",
       "  'honor'],\n",
       " ['lady',\n",
       "  'selyse',\n",
       "  'left',\n",
       "  'flashing',\n",
       "  'smile',\n",
       "  'bright',\n",
       "  'brittle',\n",
       "  'jewels'],\n",
       " ['far', 'cressen', 'thought', 'dully', 'looking', 'ser', 'davos', 'seated'],\n",
       " ['half', 'lords', 'bannermen', 'smuggler', 'high', 'table'],\n",
       " ['must', 'closer', 'get', 'strangler', 'cup', 'yet'],\n",
       " ['patchface',\n",
       "  'capering',\n",
       "  'maester',\n",
       "  'made',\n",
       "  'slow',\n",
       "  'way',\n",
       "  'around',\n",
       "  'table',\n",
       "  'davos',\n",
       "  'seaworth'],\n",
       " ['eat',\n",
       "  'fish',\n",
       "  'fool',\n",
       "  'declared',\n",
       "  'happily',\n",
       "  'waving',\n",
       "  'cod',\n",
       "  'like',\n",
       "  'scepter'],\n",
       " ['sea', 'fish', 'eat', 'us'],\n",
       " ['know', 'know', 'oh', 'oh', 'oh'],\n",
       " ['ser', 'davos', 'moved', 'aside', 'make', 'room', 'bench'],\n",
       " ['motley',\n",
       "  'tonight',\n",
       "  'said',\n",
       "  'gloomily',\n",
       "  'cressen',\n",
       "  'seated',\n",
       "  'fool',\n",
       "  'business'],\n",
       " ['red',\n",
       "  'woman',\n",
       "  'seen',\n",
       "  'victory',\n",
       "  'flames',\n",
       "  'stannis',\n",
       "  'means',\n",
       "  'press',\n",
       "  'claim',\n",
       "  'matter',\n",
       "  'numbers'],\n",
       " ['done', 'like', 'see', 'patchface', 'saw', 'fearthe', 'bottom', 'sea'],\n",
       " ['cressen', 'slid', 'hands', 'sleeves', 'warmth'],\n",
       " ['fingers', 'found', 'hard', 'lumps', 'crystals', 'made', 'wool'],\n",
       " ['lord', 'stannis'],\n",
       " ['page', 'stannis', 'turned', 'red', 'woman', 'lady', 'selyse', 'replied'],\n",
       " ['king', 'stannis'],\n",
       " ['forget', 'maester'],\n",
       " ['old', 'mind', 'wanders', 'king', 'told', 'gruffly'],\n",
       " ['cressen'],\n",
       " ['speak', 'mind'],\n",
       " ['intend',\n",
       "  'sail',\n",
       "  'vital',\n",
       "  'make',\n",
       "  'common',\n",
       "  'cause',\n",
       "  'lord',\n",
       "  'stark',\n",
       "  'lady',\n",
       "  'arryn'],\n",
       " [],\n",
       " [],\n",
       " ['make', 'common', 'cause', 'one', 'stannis', 'baratheon', 'said'],\n",
       " ['light', 'makes', 'common', 'cause', 'darkness'],\n",
       " ['lady', 'selyse', 'took', 'hand'],\n",
       " ['stannis', 'nodded'],\n",
       " ['starks',\n",
       "  'seek',\n",
       "  'steal',\n",
       "  'half',\n",
       "  'kingdom',\n",
       "  'even',\n",
       "  'lannisters',\n",
       "  'stolen',\n",
       "  'throne',\n",
       "  'sweet',\n",
       "  'brother',\n",
       "  'swords',\n",
       "  'service',\n",
       "  'strongholds',\n",
       "  'mine',\n",
       "  'rights'],\n",
       " ['usurpers', 'enemies'],\n",
       " ['lost', 'cressen', 'thought', 'despairing'],\n",
       " ['could', 'somehow', 'approach', 'melisandre', 'unseen'],\n",
       " [],\n",
       " [],\n",
       " ['needed', 'instant', 'access', 'cup'],\n",
       " ['rightful',\n",
       "  'heir',\n",
       "  'brother',\n",
       "  'robert',\n",
       "  'true',\n",
       "  'lord',\n",
       "  'seven',\n",
       "  'kingdoms',\n",
       "  'king',\n",
       "  'andals',\n",
       "  'rhoynar',\n",
       "  'first',\n",
       "  'men',\n",
       "  'said',\n",
       "  'desperately',\n",
       "  'even',\n",
       "  'cannot',\n",
       "  'hope',\n",
       "  'triumph',\n",
       "  'without',\n",
       "  'allies'],\n",
       " ['ally', 'lady', 'selyse', 'said'],\n",
       " ['whilor', 'lord', 'light', 'heart', 'fire', 'god', 'flame', 'shadow'],\n",
       " ['gods',\n",
       "  'make',\n",
       "  'uncertain',\n",
       "  'allies',\n",
       "  'best',\n",
       "  'old',\n",
       "  'man',\n",
       "  'insisted',\n",
       "  'one',\n",
       "  'power'],\n",
       " ['think'],\n",
       " ['ruby',\n",
       "  'melisandre',\n",
       "  'throat',\n",
       "  'caught',\n",
       "  'light',\n",
       "  'turned',\n",
       "  'head',\n",
       "  'instant',\n",
       "  'seemed',\n",
       "  'glow',\n",
       "  'bright',\n",
       "  'comet'],\n",
       " ['speak', 'folly', 'maester', 'ought', 'wear', 'crown'],\n",
       " ['yes', 'lady', 'selyse', 'agreed'],\n",
       " ['patches', 'helm'],\n",
       " ['suits', 'well', 'old', 'man'],\n",
       " ['put', 'command'],\n",
       " ['sea', 'one', 'wears', 'hats', 'patchface', 'said'],\n",
       " ['know', 'know', 'oh', 'oh', 'oh'],\n",
       " ['lord',\n",
       "  'stannis',\n",
       "  'eyes',\n",
       "  'shadowed',\n",
       "  'beneath',\n",
       "  'heavy',\n",
       "  'brow',\n",
       "  'mouth',\n",
       "  'tight',\n",
       "  'jaw',\n",
       "  'worked',\n",
       "  'silently'],\n",
       " ['always', 'ground', 'teeth', 'angry'],\n",
       " ['fool', 'growled', 'last', 'lady', 'wife', 'commands'],\n",
       " ['give', 'cressen', 'helm'],\n",
       " ['old',\n",
       "  'maester',\n",
       "  'thought',\n",
       "  'way',\n",
       "  'always',\n",
       "  'always',\n",
       "  'hard',\n",
       "  'yet',\n",
       "  'never',\n",
       "  'cruel',\n",
       "  'never',\n",
       "  'understand',\n",
       "  'mockery',\n",
       "  'understood',\n",
       "  'laughter'],\n",
       " ['patchface',\n",
       "  'danced',\n",
       "  'closer',\n",
       "  'cowbells',\n",
       "  'ringing',\n",
       "  'clang',\n",
       "  'lang',\n",
       "  'ding',\n",
       "  'ding',\n",
       "  'clink',\n",
       "  'clank',\n",
       "  'clink',\n",
       "  'clank'],\n",
       " ['maester', 'sat', 'silent', 'fool', 'set', 'antlered', 'bucket', 'brow'],\n",
       " ['cressen', 'bowed', 'head', 'beneath', 'weight'],\n",
       " ['bells', 'clanged'],\n",
       " ['perhaps',\n",
       "  'ought',\n",
       "  'sing',\n",
       "  'counsel',\n",
       "  'henceforth',\n",
       "  'lady',\n",
       "  'selyse',\n",
       "  'said'],\n",
       " ['go', 'far', 'woman', 'lord', 'stannis', 'said'],\n",
       " ['old', 'man', 'served', 'well'],\n",
       " ['serve',\n",
       "  'last',\n",
       "  'sweet',\n",
       "  'lord',\n",
       "  'poor',\n",
       "  'lonely',\n",
       "  'son',\n",
       "  'cressen',\n",
       "  'thought',\n",
       "  'suddenly',\n",
       "  'saw',\n",
       "  'way'],\n",
       " ['ser', 'davos', 'cup', 'still', 'half', 'full', 'sour', 'red'],\n",
       " ['found',\n",
       "  'hard',\n",
       "  'flake',\n",
       "  'crystal',\n",
       "  'sleeve',\n",
       "  'held',\n",
       "  'tight',\n",
       "  'thumb',\n",
       "  'forefinger',\n",
       "  'reached',\n",
       "  'cup'],\n",
       " ['smooth',\n",
       "  'motions',\n",
       "  'deft',\n",
       "  'must',\n",
       "  'fumble',\n",
       "  'prayed',\n",
       "  'page',\n",
       "  'gods',\n",
       "  'kind'],\n",
       " ['blink', 'eye', 'fingers', 'empty'],\n",
       " ['hands', 'steady', 'years', 'half', 'fluid'],\n",
       " ['davos', 'saw', 'one', 'else', 'certain'],\n",
       " ['cup', 'hand', 'rose', 'feet'],\n",
       " ['mayhaps', 'fool'],\n",
       " ['lady', 'melisandre', 'share', 'cup', 'wine'],\n",
       " ['cup', 'honor', 'god', 'lord', 'light'],\n",
       " ['cup', 'toast', 'power'],\n",
       " ['red', 'woman', 'studied'],\n",
       " ['wish'],\n",
       " ['could', 'feel', 'watching'],\n",
       " ['davos',\n",
       "  'clutched',\n",
       "  'left',\n",
       "  'bench',\n",
       "  'catching',\n",
       "  'sleeve',\n",
       "  'fingers',\n",
       "  'lord',\n",
       "  'stannis',\n",
       "  'shortened'],\n",
       " [],\n",
       " ['whispered'],\n",
       " ['thing',\n",
       "  'must',\n",
       "  'done',\n",
       "  'maester',\n",
       "  'cressen',\n",
       "  'answered',\n",
       "  'sake',\n",
       "  'realm',\n",
       "  'soul',\n",
       "  'lord'],\n",
       " ['shook', 'davos', 'hand', 'spilling', 'drop', 'wine', 'rushes'],\n",
       " ['met', 'beneath', 'high', 'table', 'every', 'man', 'eyes', 'upon'],\n",
       " ['cressen', 'saw'],\n",
       " ['red',\n",
       "  'silk',\n",
       "  'red',\n",
       "  'eyes',\n",
       "  'ruby',\n",
       "  'red',\n",
       "  'throat',\n",
       "  'red',\n",
       "  'lips',\n",
       "  'curled',\n",
       "  'faint',\n",
       "  'smile',\n",
       "  'put',\n",
       "  'hand',\n",
       "  'atop',\n",
       "  'around',\n",
       "  'cup'],\n",
       " ['skin', 'felt', 'hot', 'feverish'],\n",
       " ['late', 'spill', 'wine', 'maester'],\n",
       " ['whispered', 'hoarsely'],\n",
       " [],\n",
       " [],\n",
       " ['melisandre', 'asshai', 'took', 'cup', 'hands', 'drank', 'long', 'deep'],\n",
       " ['half', 'swallow', 'wine', 'remaining', 'offered', 'back'],\n",
       " [],\n",
       " ['hands', 'shaking', 'made', 'strong'],\n",
       " ['maester', 'citadel', 'must', 'afraid'],\n",
       " ['wine', 'sour', 'tongue'],\n",
       " ['let', 'empty', 'cup', 'drop', 'fingers', 'shatter', 'floor'],\n",
       " ['power', 'lord', 'woman', 'said'],\n",
       " ['fire', 'cleanses'],\n",
       " ['throat', 'ruby', 'shimmered', 'redly'],\n",
       " ['cressen', 'tried', 'reply', 'words', 'caught', 'throat'],\n",
       " ['cough', 'became', 'terrible', 'thin', 'whistle', 'strained', 'suck', 'air'],\n",
       " ['iron', 'fingers', 'tightened', 'round', 'neck'],\n",
       " ['sank',\n",
       "  'knees',\n",
       "  'still',\n",
       "  'shook',\n",
       "  'head',\n",
       "  'denying',\n",
       "  'denying',\n",
       "  'power',\n",
       "  'denying',\n",
       "  'magic',\n",
       "  'denying',\n",
       "  'god'],\n",
       " ['cowbells',\n",
       "  'peeled',\n",
       "  'antlers',\n",
       "  'singing',\n",
       "  'fool',\n",
       "  'fool',\n",
       "  'fool',\n",
       "  'red',\n",
       "  'woman',\n",
       "  'looked',\n",
       "  'pity',\n",
       "  'candle',\n",
       "  'flames',\n",
       "  'dancing',\n",
       "  'red',\n",
       "  'red',\n",
       "  'eyes'],\n",
       " ['chapter',\n",
       "  'arya',\n",
       "  'winterfell',\n",
       "  'called',\n",
       "  'arya',\n",
       "  'horseface',\n",
       "  'thought',\n",
       "  'nothing',\n",
       "  'could',\n",
       "  'worse',\n",
       "  'orphan',\n",
       "  'boy',\n",
       "  'lommy',\n",
       "  'greenhands',\n",
       "  'named',\n",
       "  'lumpyhead'],\n",
       " ['head', 'felt', 'lumpy', 'touched'],\n",
       " ['yoren',\n",
       "  'dragged',\n",
       "  'alley',\n",
       "  'thought',\n",
       "  'meant',\n",
       "  'kill',\n",
       "  'sour',\n",
       "  'old',\n",
       "  'man',\n",
       "  'held',\n",
       "  'tight',\n",
       "  'sawing',\n",
       "  'mats',\n",
       "  'tangles',\n",
       "  'dagger'],\n",
       " ['remembered',\n",
       "  'breeze',\n",
       "  'sent',\n",
       "  'fistfuls',\n",
       "  'dirty',\n",
       "  'brown',\n",
       "  'hair',\n",
       "  'skittering',\n",
       "  'across',\n",
       "  'paving',\n",
       "  'stones',\n",
       "  'toward',\n",
       "  'sept',\n",
       "  'father',\n",
       "  'died'],\n",
       " ['taking',\n",
       "  'men',\n",
       "  'boys',\n",
       "  'city',\n",
       "  'yoren',\n",
       "  'growled',\n",
       "  'sharp',\n",
       "  'steel',\n",
       "  'scraped',\n",
       "  'head'],\n",
       " ['hold', 'still', 'boy'],\n",
       " ['time', 'finished', 'scalp', 'nothing', 'tufts', 'stubble'],\n",
       " ['page', 'afterward', 'told', 'winterfell', 'arry', 'orphan', 'boy'],\n",
       " ['gate', 'hard', 'road', 'another', 'matter'],\n",
       " ['got', 'long', 'way', 'go', 'bad', 'company'],\n",
       " ['got',\n",
       "  'thirty',\n",
       "  'time',\n",
       "  'men',\n",
       "  'boys',\n",
       "  'bound',\n",
       "  'wall',\n",
       "  'thinking',\n",
       "  'like',\n",
       "  'bastard',\n",
       "  'brother'],\n",
       " ['shook'],\n",
       " ['lord', 'eddard', 'gave', 'pick', 'dungeons', 'find', 'little', 'lordlings'],\n",
       " ['lot',\n",
       "  'half',\n",
       "  'would',\n",
       "  'turn',\n",
       "  'queen',\n",
       "  'quick',\n",
       "  'spit',\n",
       "  'pardon',\n",
       "  'maybe',\n",
       "  'silvers'],\n",
       " ['half', 'rape', 'first'],\n",
       " ['keep', 'make', 'water', 'woods', 'alone'],\n",
       " ['hardest', 'part', 'pissing', 'drink', 'need'],\n",
       " ['leaving', 'king', 'landing', 'easy', 'like', 'said'],\n",
       " ['lannister',\n",
       "  'guardsmen',\n",
       "  'gate',\n",
       "  'stopping',\n",
       "  'everyone',\n",
       "  'yoren',\n",
       "  'called',\n",
       "  'one',\n",
       "  'name',\n",
       "  'wagons',\n",
       "  'waved'],\n",
       " ['one', 'spared', 'arya', 'glance'],\n",
       " ['looking',\n",
       "  'highborn',\n",
       "  'girl',\n",
       "  'daughter',\n",
       "  'king',\n",
       "  'hand',\n",
       "  'skinny',\n",
       "  'boy',\n",
       "  'hair',\n",
       "  'chopped'],\n",
       " ['arya', 'never', 'looked', 'back'],\n",
       " ['wished',\n",
       "  'rush',\n",
       "  'would',\n",
       "  'rise',\n",
       "  'wash',\n",
       "  'whole',\n",
       "  'city',\n",
       "  'away',\n",
       "  'flea',\n",
       "  'bottom',\n",
       "  'red',\n",
       "  'keep',\n",
       "  'great',\n",
       "  'sept',\n",
       "  'everything',\n",
       "  'everyone',\n",
       "  'especially',\n",
       "  'prince',\n",
       "  'joffrey',\n",
       "  'mother'],\n",
       " ['knew', 'anyhow', 'sansa', 'still', 'city', 'would', 'wash', 'away'],\n",
       " ['remembered', 'arya', 'decided', 'wish', 'winterfell', 'instead'],\n",
       " ['yoren', 'wrong', 'pissing', 'though'],\n",
       " ['hardest', 'part', 'lommy', 'greenhands', 'hot', 'pie', 'hardest', 'part'],\n",
       " ['orphan', 'boys'],\n",
       " ['yoren',\n",
       "  'plucked',\n",
       "  'streets',\n",
       "  'promises',\n",
       "  'food',\n",
       "  'bellies',\n",
       "  'shoes',\n",
       "  'feet'],\n",
       " ['rest', 'found', 'chains'],\n",
       " ['watch', 'needs', 'good', 'men', 'told', 'set', 'lot'],\n",
       " ['yoren',\n",
       "  'taken',\n",
       "  'grown',\n",
       "  'men',\n",
       "  'dungeons',\n",
       "  'well',\n",
       "  'thieves',\n",
       "  'poachers',\n",
       "  'rapers',\n",
       "  'like'],\n",
       " ['worst',\n",
       "  'three',\n",
       "  'found',\n",
       "  'black',\n",
       "  'cells',\n",
       "  'must',\n",
       "  'scared',\n",
       "  'even',\n",
       "  'kept',\n",
       "  'fettered',\n",
       "  'hand',\n",
       "  'foot',\n",
       "  'back',\n",
       "  'wagon',\n",
       "  'vowed',\n",
       "  'stay',\n",
       "  'irons',\n",
       "  'way',\n",
       "  'wall'],\n",
       " ['one',\n",
       "  'nose',\n",
       "  'hole',\n",
       "  'face',\n",
       "  'cut',\n",
       "  'gross',\n",
       "  'fat',\n",
       "  'bald',\n",
       "  'one',\n",
       "  'pointed',\n",
       "  'teeth',\n",
       "  'weeping',\n",
       "  'sores',\n",
       "  'cheeks',\n",
       "  'eyes',\n",
       "  'like',\n",
       "  'nothing',\n",
       "  'human'],\n",
       " ['took',\n",
       "  'five',\n",
       "  'wagons',\n",
       "  'king',\n",
       "  'landing',\n",
       "  'laden',\n",
       "  'supplies',\n",
       "  'wall',\n",
       "  'hides',\n",
       "  'bolts',\n",
       "  'cloth',\n",
       "  'bars',\n",
       "  'pig',\n",
       "  'iron',\n",
       "  'cage',\n",
       "  'ravens',\n",
       "  'books',\n",
       "  'paper',\n",
       "  'ink',\n",
       "  'bale',\n",
       "  'sourleaf',\n",
       "  'jars',\n",
       "  'oil',\n",
       "  'chests',\n",
       "  'medicine',\n",
       "  'spices'],\n",
       " ['teams',\n",
       "  'plow',\n",
       "  'horses',\n",
       "  'pulled',\n",
       "  'wagons',\n",
       "  'yoren',\n",
       "  'bought',\n",
       "  'two',\n",
       "  'coursers',\n",
       "  'half',\n",
       "  'dozen',\n",
       "  'donkeys',\n",
       "  'boys'],\n",
       " ['arya',\n",
       "  'would',\n",
       "  'preferred',\n",
       "  'real',\n",
       "  'horse',\n",
       "  'donkey',\n",
       "  'better',\n",
       "  'riding',\n",
       "  'wagon'],\n",
       " ['men', 'paid', 'mind', 'lucky', 'boys'],\n",
       " ['two',\n",
       "  'years',\n",
       "  'younger',\n",
       "  'youngest',\n",
       "  'orphan',\n",
       "  'mention',\n",
       "  'smaller',\n",
       "  'skinnier',\n",
       "  'lommy',\n",
       "  'hot',\n",
       "  'pie',\n",
       "  'took',\n",
       "  'silence',\n",
       "  'mean',\n",
       "  'scared',\n",
       "  'stupid',\n",
       "  'deaf'],\n",
       " ['look',\n",
       "  'sword',\n",
       "  'lumpyhead',\n",
       "  'got',\n",
       "  'lommy',\n",
       "  'said',\n",
       "  'one',\n",
       "  'morning',\n",
       "  'made',\n",
       "  'plodding',\n",
       "  'way',\n",
       "  'past',\n",
       "  'orchards',\n",
       "  'wheat',\n",
       "  'fields'],\n",
       " ['dyer',\n",
       "  'apprentice',\n",
       "  'caught',\n",
       "  'stealing',\n",
       "  'arms',\n",
       "  'mottled',\n",
       "  'green',\n",
       "  'elbow'],\n",
       " ['laughed', 'brayed', 'like', 'donkeys', 'riding'],\n",
       " ['gutter', 'rat', 'like', 'lumpyhead', 'get', 'sword'],\n",
       " ['arya', 'chewed', 'lip', 'sullenly'],\n",
       " ['could',\n",
       "  'see',\n",
       "  'back',\n",
       "  'yoren',\n",
       "  'faded',\n",
       "  'black',\n",
       "  'cloak',\n",
       "  'ahead',\n",
       "  'wagons',\n",
       "  'determined',\n",
       "  'go',\n",
       "  'crying',\n",
       "  'help'],\n",
       " ['maybe', 'little', 'squire', 'hot', 'pie', 'put'],\n",
       " ['mother',\n",
       "  'baker',\n",
       "  'died',\n",
       "  'pushed',\n",
       "  'cart',\n",
       "  'streets',\n",
       "  'day',\n",
       "  'shouting',\n",
       "  'hot',\n",
       "  'pies'],\n",
       " ['hot', 'pies'],\n",
       " ['lordy', 'lord', 'little', 'squire', 'boy'],\n",
       " ['page', 'squire', 'look'],\n",
       " ['bet', 'even', 'real', 'sword'],\n",
       " ['bet', 'play', 'sword', 'made', 'tin'],\n",
       " ['arya', 'hated', 'making', 'fun', 'needle'],\n",
       " ['castle',\n",
       "  'forged',\n",
       "  'steel',\n",
       "  'stupid',\n",
       "  'snapped',\n",
       "  'turning',\n",
       "  'saddle',\n",
       "  'glare',\n",
       "  'better',\n",
       "  'shut',\n",
       "  'mouth'],\n",
       " ['orphan', 'boys', 'hooted'],\n",
       " ['get', 'blade', 'like', 'lumpyface'],\n",
       " ['hot', 'pie', 'wanted', 'know'],\n",
       " ['lumpyhead', 'corrected', 'lommy'],\n",
       " ['prob', 'ly', 'stole'],\n",
       " [],\n",
       " ['shouted'],\n",
       " ['jon', 'snow', 'given', 'needle'],\n",
       " ['maybe', 'let', 'call', 'lumpyhead', 'going', 'let', 'call', 'jon', 'thief'],\n",
       " ['stole', 'could', 'take', 'said', 'hot', 'pie'],\n",
       " ['anyhow'],\n",
       " ['could', 'use', 'sword', 'like'],\n",
       " ['lommy', 'egged'],\n",
       " ['go', 'take', 'dare'],\n",
       " ['hot', 'pie', 'kicked', 'donkey', 'riding', 'closer'],\n",
       " ['hey', 'lumpyface', 'gimme', 'sword'],\n",
       " ['hair', 'color', 'straw', 'fat', 'face', 'sunburnt', 'peeling'],\n",
       " ['know', 'use'],\n",
       " ['yes', 'arya', 'could', 'said'],\n",
       " ['killed',\n",
       "  'boy',\n",
       "  'fat',\n",
       "  'boy',\n",
       "  'like',\n",
       "  'stabbed',\n",
       "  'belly',\n",
       "  'died',\n",
       "  'kill',\n",
       "  'let',\n",
       "  'alone'],\n",
       " ['dare'],\n",
       " ['yoren', 'know', 'stableboy', 'afraid', 'might', 'found'],\n",
       " ['arya',\n",
       "  'pretty',\n",
       "  'sure',\n",
       "  'men',\n",
       "  'killers',\n",
       "  'three',\n",
       "  'manacles',\n",
       "  'sure',\n",
       "  'queen',\n",
       "  'looking'],\n",
       " ['look', 'brayed', 'lommy', 'greenhands'],\n",
       " ['bet', 'going', 'cry'],\n",
       " ['want', 'cry', 'lumpyhead'],\n",
       " ['cried', 'sleep', 'night', 'dreaming', 'father'],\n",
       " ['come',\n",
       "  'morning',\n",
       "  'woken',\n",
       "  'red',\n",
       "  'eyed',\n",
       "  'dry',\n",
       "  'could',\n",
       "  'shed',\n",
       "  'another',\n",
       "  'tear',\n",
       "  'life',\n",
       "  'hung'],\n",
       " ['going', 'wet', 'pants', 'hot', 'pie', 'suggested'],\n",
       " ['leave', 'said', 'boy', 'shaggy', 'black', 'hair', 'rode', 'behind'],\n",
       " ['lommy',\n",
       "  'named',\n",
       "  'bull',\n",
       "  'account',\n",
       "  'horned',\n",
       "  'helm',\n",
       "  'polished',\n",
       "  'time',\n",
       "  'never',\n",
       "  'wore'],\n",
       " ['lommy', 'dare', 'mock', 'bull'],\n",
       " ['older', 'big', 'age', 'broad', 'chest', 'strong', 'looking', 'arms'],\n",
       " ['better', 'give', 'hot', 'pie', 'sword', 'arry', 'lommy', 'said'],\n",
       " ['hot', 'pie', 'wants', 'bad'],\n",
       " ['kicked', 'boy', 'death'],\n",
       " ['bet'],\n",
       " ['knocked',\n",
       "  'kicked',\n",
       "  'balls',\n",
       "  'kept',\n",
       "  'kicking',\n",
       "  'dead',\n",
       "  'hot',\n",
       "  'pie',\n",
       "  'boasted'],\n",
       " ['kicked', 'pieces'],\n",
       " ['balls', 'broke', 'open', 'bloody', 'cock', 'turned', 'black'],\n",
       " ['better', 'gimme', 'sword'],\n",
       " ['arya', 'slid', 'practice', 'sword', 'belt'],\n",
       " ['one', 'told', 'hot', 'pie', 'wanting', 'fight'],\n",
       " ['stick'],\n",
       " ['rode', 'nearer', 'tried', 'reach', 'needle', 'hilt'],\n",
       " ['page',\n",
       "  'arya',\n",
       "  'made',\n",
       "  'stick',\n",
       "  'whistle',\n",
       "  'laid',\n",
       "  'wood',\n",
       "  'across',\n",
       "  'donkey',\n",
       "  'hindquarters'],\n",
       " ['animal', 'hawed', 'bucked', 'dumping', 'hot', 'pie', 'ground'],\n",
       " ['vaulted', 'donkey', 'poked', 'gut', 'tried', 'get', 'sat', 'back', 'grunt'],\n",
       " ['whacked',\n",
       "  'across',\n",
       "  'face',\n",
       "  'nose',\n",
       "  'made',\n",
       "  'crack',\n",
       "  'like',\n",
       "  'branch',\n",
       "  'breaking'],\n",
       " ['blood', 'dribbled', 'nostrils'],\n",
       " ['hot',\n",
       "  'pie',\n",
       "  'began',\n",
       "  'wail',\n",
       "  'arya',\n",
       "  'whirled',\n",
       "  'toward',\n",
       "  'lommy',\n",
       "  'greenhands',\n",
       "  'sitting',\n",
       "  'donkey',\n",
       "  'openmouthed'],\n",
       " ['want', 'sword'],\n",
       " ['yelled'],\n",
       " ['raised',\n",
       "  'dyed',\n",
       "  'green',\n",
       "  'hands',\n",
       "  'front',\n",
       "  'face',\n",
       "  'squealed',\n",
       "  'get',\n",
       "  'away'],\n",
       " ['bull', 'shouted', 'behind', 'arya', 'spun'],\n",
       " ['hot', 'pie', 'knees', 'fist', 'closing', 'around', 'big', 'jagged', 'rock'],\n",
       " ['let', 'throw', 'ducking', 'head', 'sailed', 'past'],\n",
       " ['flew'],\n",
       " ['raised', 'hand', 'hit', 'cheek', 'knee'],\n",
       " ['grabbed', 'danced', 'aside', 'bounced', 'wood', 'back', 'head'],\n",
       " ['fell', 'got', 'stumbled', 'red', 'face', 'smeared', 'dirt', 'blood'],\n",
       " ['arya', 'slid', 'water', 'dancer', 'stance', 'waited'],\n",
       " ['came',\n",
       "  'close',\n",
       "  'enough',\n",
       "  'lunged',\n",
       "  'right',\n",
       "  'legs',\n",
       "  'hard',\n",
       "  'wooden',\n",
       "  'sword',\n",
       "  'point',\n",
       "  'would',\n",
       "  'come',\n",
       "  'butt',\n",
       "  'cheeks'],\n",
       " ['time',\n",
       "  'yoren',\n",
       "  'pulled',\n",
       "  'hot',\n",
       "  'pie',\n",
       "  'sprawled',\n",
       "  'ground',\n",
       "  'breeches',\n",
       "  'brown',\n",
       "  'smelly',\n",
       "  'crying',\n",
       "  'arya',\n",
       "  'whapped'],\n",
       " ['enough',\n",
       "  'black',\n",
       "  'brother',\n",
       "  'roared',\n",
       "  'prying',\n",
       "  'stick',\n",
       "  'sword',\n",
       "  'fingers',\n",
       "  'want',\n",
       "  'kill',\n",
       "  'fool'],\n",
       " ['lommy', 'others', 'started', 'squeal', 'old', 'man', 'turned'],\n",
       " ['shut', 'mouths', 'shutting'],\n",
       " ['tie', 'lot', 'behind', 'wagons', 'drag', 'wall'],\n",
       " ['spat'],\n",
       " ['goes', 'twice', 'arry'],\n",
       " ['come', 'boy'],\n",
       " ['looking', 'even', 'three', 'chained', 'manacled', 'back', 'wagon'],\n",
       " ['fat',\n",
       "  'one',\n",
       "  'snapped',\n",
       "  'pointy',\n",
       "  'teeth',\n",
       "  'together',\n",
       "  'hissed',\n",
       "  'arya',\n",
       "  'ignored'],\n",
       " ['old',\n",
       "  'man',\n",
       "  'dragged',\n",
       "  'well',\n",
       "  'road',\n",
       "  'tangle',\n",
       "  'trees',\n",
       "  'cursing',\n",
       "  'muttering'],\n",
       " ...]"
      ]
     },
     "execution_count": 7,
     "metadata": {},
     "output_type": "execute_result"
    }
   ],
   "source": [
    "story"
   ]
  },
  {
   "cell_type": "code",
   "execution_count": 8,
   "metadata": {},
   "outputs": [],
   "source": [
    "model = gensim.models.Word2Vec(\n",
    "    window=10,\n",
    "    min_count=2\n",
    ")"
   ]
  },
  {
   "cell_type": "code",
   "execution_count": 9,
   "metadata": {},
   "outputs": [],
   "source": [
    "model.build_vocab(story)"
   ]
  },
  {
   "cell_type": "code",
   "execution_count": 10,
   "metadata": {},
   "outputs": [
    {
     "data": {
      "text/plain": [
       "(4396592, 4579390)"
      ]
     },
     "execution_count": 10,
     "metadata": {},
     "output_type": "execute_result"
    }
   ],
   "source": [
    "model.train(story , total_examples=model.corpus_count,epochs=model.epochs)"
   ]
  },
  {
   "cell_type": "code",
   "execution_count": 11,
   "metadata": {},
   "outputs": [
    {
     "data": {
      "text/plain": [
       "[('girl', 0.8418357372283936),\n",
       " ('runty', 0.7441442012786865),\n",
       " ('jeyne', 0.7392969727516174),\n",
       " ('young', 0.721027672290802),\n",
       " ('maid', 0.7192221283912659),\n",
       " ('brandon', 0.71656733751297),\n",
       " ('brother', 0.7162213325500488),\n",
       " ('younger', 0.7063702344894409),\n",
       " ('alynne', 0.7055824398994446),\n",
       " ('walda', 0.7041425704956055)]"
      ]
     },
     "execution_count": 11,
     "metadata": {},
     "output_type": "execute_result"
    }
   ],
   "source": [
    "model.wv.most_similar('boy')"
   ]
  },
  {
   "cell_type": "code",
   "execution_count": 12,
   "metadata": {},
   "outputs": [
    {
     "data": {
      "text/plain": [
       "'jon'"
      ]
     },
     "execution_count": 12,
     "metadata": {},
     "output_type": "execute_result"
    }
   ],
   "source": [
    "model.wv.doesnt_match(['jon','rikon','robb','arya','sansa','bran'])"
   ]
  },
  {
   "cell_type": "code",
   "execution_count": 13,
   "metadata": {},
   "outputs": [
    {
     "data": {
      "text/plain": [
       "array([-1.458862  ,  0.05132532,  1.1163902 , -0.93753266,  0.65073395,\n",
       "        0.7274151 ,  0.6571792 ,  1.5601798 ,  1.331328  , -2.1114626 ,\n",
       "       -1.6167016 , -2.5151372 , -0.64970344, -0.56161714, -0.01209693,\n",
       "       -0.4679323 ,  1.1598493 , -0.93477595,  0.05435393, -1.7306371 ,\n",
       "        0.07871026,  0.7883706 ,  0.6577566 ,  0.6978958 ,  1.3433657 ,\n",
       "        1.0708153 , -2.2470763 , -0.6966928 , -0.17289491,  0.9590627 ,\n",
       "       -0.74467176,  0.23213907, -0.532675  ,  0.6045043 , -0.49449092,\n",
       "       -0.92162466, -0.7777986 , -0.9823079 ,  1.2894559 , -1.4860498 ,\n",
       "        1.1549698 , -0.11696184,  0.1756805 ,  0.30622604, -0.5909133 ,\n",
       "       -0.86224264,  0.83640975, -0.87205034, -0.33578598,  1.966609  ,\n",
       "        0.6915324 , -1.3975025 ,  0.35362133, -0.64163905,  0.81528026,\n",
       "        0.09220807,  0.4660824 ,  1.2279905 ,  1.3924315 ,  2.85322   ,\n",
       "       -1.9101305 , -0.60677236,  0.4096454 , -1.5159501 , -0.19539528,\n",
       "        0.506099  ,  0.776675  ,  0.31445688, -0.7617165 ,  0.2021656 ,\n",
       "       -0.04124965,  0.07644133,  1.604509  ,  0.08614365,  0.9662987 ,\n",
       "        0.82355833,  0.39993382, -1.1051143 , -0.6866883 ,  0.32497627,\n",
       "       -1.7084665 ,  0.9262112 , -0.43761796,  0.5387714 ,  0.19048119,\n",
       "        1.2143649 ,  1.2252876 , -1.925576  , -0.1998578 ,  0.28085956,\n",
       "        0.25019222,  0.93730265,  0.34125343,  0.2307187 ,  0.35275698,\n",
       "        0.18755296,  0.9946224 , -0.5857408 ,  1.4604517 ,  0.52854043],\n",
       "      dtype=float32)"
      ]
     },
     "execution_count": 13,
     "metadata": {},
     "output_type": "execute_result"
    }
   ],
   "source": [
    "model.wv['jon']"
   ]
  },
  {
   "cell_type": "code",
   "execution_count": 14,
   "metadata": {},
   "outputs": [
    {
     "data": {
      "text/plain": [
       "(100,)"
      ]
     },
     "execution_count": 14,
     "metadata": {},
     "output_type": "execute_result"
    }
   ],
   "source": [
    "model.wv['king'].shape"
   ]
  },
  {
   "cell_type": "code",
   "execution_count": 15,
   "metadata": {},
   "outputs": [
    {
     "data": {
      "text/plain": [
       "0.7987888"
      ]
     },
     "execution_count": 15,
     "metadata": {},
     "output_type": "execute_result"
    }
   ],
   "source": [
    "model.wv.similarity('arya','sansa')"
   ]
  },
  {
   "cell_type": "code",
   "execution_count": 16,
   "metadata": {},
   "outputs": [
    {
     "data": {
      "text/plain": [
       "array([[ 2.21694540e-02,  1.45259485e-01,  2.17674486e-02, ...,\n",
       "        -8.64262581e-02, -1.32940128e-01,  1.75910786e-01],\n",
       "       [-1.54212683e-01,  1.23112880e-01,  1.57795593e-01, ...,\n",
       "        -6.72995970e-02, -1.50213033e-01,  1.52948216e-01],\n",
       "       [ 8.38114787e-03,  9.32888761e-02, -4.03483920e-02, ...,\n",
       "        -6.18175492e-02,  1.16882987e-01, -1.34677395e-01],\n",
       "       ...,\n",
       "       [ 1.14486799e-01,  1.62494287e-01,  1.78418632e-05, ...,\n",
       "        -3.46021131e-02, -6.57538474e-02,  7.48720253e-03],\n",
       "       [ 1.13473184e-01,  6.66472092e-02,  9.01663676e-02, ...,\n",
       "        -1.50650263e-01,  6.22530803e-02, -1.12741046e-01],\n",
       "       [-1.57937154e-01,  1.95853025e-01,  5.52758537e-02, ...,\n",
       "         4.89163864e-03, -3.54554839e-02,  8.46000686e-02]], dtype=float32)"
      ]
     },
     "execution_count": 16,
     "metadata": {},
     "output_type": "execute_result"
    }
   ],
   "source": [
    "model.wv.get_normed_vectors()"
   ]
  },
  {
   "cell_type": "code",
   "execution_count": 17,
   "metadata": {},
   "outputs": [
    {
     "data": {
      "text/plain": [
       "(17310, 100)"
      ]
     },
     "execution_count": 17,
     "metadata": {},
     "output_type": "execute_result"
    }
   ],
   "source": [
    "model.wv.get_normed_vectors().shape"
   ]
  },
  {
   "cell_type": "code",
   "execution_count": 18,
   "metadata": {},
   "outputs": [],
   "source": [
    "from sklearn.decomposition import PCA\n",
    "pca = PCA(n_components=3)\n",
    "X = pca.fit_transform(model.wv.get_normed_vectors())"
   ]
  },
  {
   "cell_type": "code",
   "execution_count": 20,
   "metadata": {},
   "outputs": [],
   "source": [
    "y = model.wv.index_to_key"
   ]
  },
  {
   "cell_type": "code",
   "execution_count": 21,
   "metadata": {},
   "outputs": [
    {
     "data": {
      "application/vnd.plotly.v1+json": {
       "config": {
        "plotlyServerURL": "https://plot.ly"
       },
       "data": [
        {
         "hovertemplate": "color=said<br>0=%{x}<br>1=%{y}<br>2=%{z}<extra></extra>",
         "legendgroup": "said",
         "marker": {
          "color": "#636efa",
          "symbol": "circle"
         },
         "mode": "markers",
         "name": "said",
         "scene": "scene",
         "showlegend": true,
         "type": "scatter3d",
         "x": [
          -0.4763614237308502
         ],
         "y": [
          0.05921083316206932
         ],
         "z": [
          -0.22874131798744202
         ]
        },
        {
         "hovertemplate": "color=lord<br>0=%{x}<br>1=%{y}<br>2=%{z}<extra></extra>",
         "legendgroup": "lord",
         "marker": {
          "color": "#EF553B",
          "symbol": "circle"
         },
         "mode": "markers",
         "name": "lord",
         "scene": "scene",
         "showlegend": true,
         "type": "scatter3d",
         "x": [
          -0.3986400067806244
         ],
         "y": [
          0.6003615856170654
         ],
         "z": [
          -0.35478538274765015
         ]
        },
        {
         "hovertemplate": "color=would<br>0=%{x}<br>1=%{y}<br>2=%{z}<extra></extra>",
         "legendgroup": "would",
         "marker": {
          "color": "#00cc96",
          "symbol": "circle"
         },
         "mode": "markers",
         "name": "would",
         "scene": "scene",
         "showlegend": true,
         "type": "scatter3d",
         "x": [
          -0.5659612417221069
         ],
         "y": [
          -0.06718958914279938
         ],
         "z": [
          0.2933991551399231
         ]
        },
        {
         "hovertemplate": "color=one<br>0=%{x}<br>1=%{y}<br>2=%{z}<extra></extra>",
         "legendgroup": "one",
         "marker": {
          "color": "#ab63fa",
          "symbol": "circle"
         },
         "mode": "markers",
         "name": "one",
         "scene": "scene",
         "showlegend": true,
         "type": "scatter3d",
         "x": [
          0.004058144986629486
         ],
         "y": [
          0.16050149500370026
         ],
         "z": [
          -0.007832513190805912
         ]
        },
        {
         "hovertemplate": "color=ser<br>0=%{x}<br>1=%{y}<br>2=%{z}<extra></extra>",
         "legendgroup": "ser",
         "marker": {
          "color": "#FFA15A",
          "symbol": "circle"
         },
         "mode": "markers",
         "name": "ser",
         "scene": "scene",
         "showlegend": true,
         "type": "scatter3d",
         "x": [
          -0.2609468400478363
         ],
         "y": [
          0.5734578967094421
         ],
         "z": [
          -0.5095714330673218
         ]
        },
        {
         "hovertemplate": "color=could<br>0=%{x}<br>1=%{y}<br>2=%{z}<extra></extra>",
         "legendgroup": "could",
         "marker": {
          "color": "#19d3f3",
          "symbol": "circle"
         },
         "mode": "markers",
         "name": "could",
         "scene": "scene",
         "showlegend": true,
         "type": "scatter3d",
         "x": [
          -0.032415248453617096
         ],
         "y": [
          -0.12281561642885208
         ],
         "z": [
          0.22756166756153107
         ]
        },
        {
         "hovertemplate": "color=man<br>0=%{x}<br>1=%{y}<br>2=%{z}<extra></extra>",
         "legendgroup": "man",
         "marker": {
          "color": "#FF6692",
          "symbol": "circle"
         },
         "mode": "markers",
         "name": "man",
         "scene": "scene",
         "showlegend": true,
         "type": "scatter3d",
         "x": [
          -0.04682625085115433
         ],
         "y": [
          0.12480955570936203
         ],
         "z": [
          -0.18314026296138763
         ]
        },
        {
         "hovertemplate": "color=king<br>0=%{x}<br>1=%{y}<br>2=%{z}<extra></extra>",
         "legendgroup": "king",
         "marker": {
          "color": "#B6E880",
          "symbol": "circle"
         },
         "mode": "markers",
         "name": "king",
         "scene": "scene",
         "showlegend": true,
         "type": "scatter3d",
         "x": [
          -0.35720643401145935
         ],
         "y": [
          0.5358030200004578
         ],
         "z": [
          -0.0887783020734787
         ]
        },
        {
         "hovertemplate": "color=men<br>0=%{x}<br>1=%{y}<br>2=%{z}<extra></extra>",
         "legendgroup": "men",
         "marker": {
          "color": "#FF97FF",
          "symbol": "circle"
         },
         "mode": "markers",
         "name": "men",
         "scene": "scene",
         "showlegend": true,
         "type": "scatter3d",
         "x": [
          -0.07258238643407822
         ],
         "y": [
          0.5140679478645325
         ],
         "z": [
          0.34176748991012573
         ]
        },
        {
         "hovertemplate": "color=back<br>0=%{x}<br>1=%{y}<br>2=%{z}<extra></extra>",
         "legendgroup": "back",
         "marker": {
          "color": "#FECB52",
          "symbol": "circle"
         },
         "mode": "markers",
         "name": "back",
         "scene": "scene",
         "showlegend": true,
         "type": "scatter3d",
         "x": [
          0.24141299724578857
         ],
         "y": [
          0.02989927865564823
         ],
         "z": [
          -0.01651286892592907
         ]
        },
        {
         "hovertemplate": "color=well<br>0=%{x}<br>1=%{y}<br>2=%{z}<extra></extra>",
         "legendgroup": "well",
         "marker": {
          "color": "#636efa",
          "symbol": "circle"
         },
         "mode": "markers",
         "name": "well",
         "scene": "scene",
         "showlegend": true,
         "type": "scatter3d",
         "x": [
          -0.4740452170372009
         ],
         "y": [
          0.18408042192459106
         ],
         "z": [
          0.1816224604845047
         ]
        },
        {
         "hovertemplate": "color=like<br>0=%{x}<br>1=%{y}<br>2=%{z}<extra></extra>",
         "legendgroup": "like",
         "marker": {
          "color": "#EF553B",
          "symbol": "circle"
         },
         "mode": "markers",
         "name": "like",
         "scene": "scene",
         "showlegend": true,
         "type": "scatter3d",
         "x": [
          0.2629814147949219
         ],
         "y": [
          -0.151023268699646
         ],
         "z": [
          0.14840635657310486
         ]
        },
        {
         "hovertemplate": "color=jon<br>0=%{x}<br>1=%{y}<br>2=%{z}<extra></extra>",
         "legendgroup": "jon",
         "marker": {
          "color": "#00cc96",
          "symbol": "circle"
         },
         "mode": "markers",
         "name": "jon",
         "scene": "scene",
         "showlegend": true,
         "type": "scatter3d",
         "x": [
          -0.025757621973752975
         ],
         "y": [
          0.02231290005147457
         ],
         "z": [
          -0.11039644479751587
         ]
        },
        {
         "hovertemplate": "color=father<br>0=%{x}<br>1=%{y}<br>2=%{z}<extra></extra>",
         "legendgroup": "father",
         "marker": {
          "color": "#ab63fa",
          "symbol": "circle"
         },
         "mode": "markers",
         "name": "father",
         "scene": "scene",
         "showlegend": true,
         "type": "scatter3d",
         "x": [
          -0.6380733251571655
         ],
         "y": [
          0.33393922448158264
         ],
         "z": [
          -0.13053931295871735
         ]
        },
        {
         "hovertemplate": "color=old<br>0=%{x}<br>1=%{y}<br>2=%{z}<extra></extra>",
         "legendgroup": "old",
         "marker": {
          "color": "#FFA15A",
          "symbol": "circle"
         },
         "mode": "markers",
         "name": "old",
         "scene": "scene",
         "showlegend": true,
         "type": "scatter3d",
         "x": [
          -0.0025156023912131786
         ],
         "y": [
          0.29854297637939453
         ],
         "z": [
          -0.04414691403508186
         ]
        },
        {
         "hovertemplate": "color=hand<br>0=%{x}<br>1=%{y}<br>2=%{z}<extra></extra>",
         "legendgroup": "hand",
         "marker": {
          "color": "#19d3f3",
          "symbol": "circle"
         },
         "mode": "markers",
         "name": "hand",
         "scene": "scene",
         "showlegend": true,
         "type": "scatter3d",
         "x": [
          0.1025753915309906
         ],
         "y": [
          0.12770363688468933
         ],
         "z": [
          -0.394920289516449
         ]
        },
        {
         "hovertemplate": "color=even<br>0=%{x}<br>1=%{y}<br>2=%{z}<extra></extra>",
         "legendgroup": "even",
         "marker": {
          "color": "#FF6692",
          "symbol": "circle"
         },
         "mode": "markers",
         "name": "even",
         "scene": "scene",
         "showlegend": true,
         "type": "scatter3d",
         "x": [
          -0.1046934723854065
         ],
         "y": [
          -0.09599362313747406
         ],
         "z": [
          0.3899237811565399
         ]
        },
        {
         "hovertemplate": "color=tyrion<br>0=%{x}<br>1=%{y}<br>2=%{z}<extra></extra>",
         "legendgroup": "tyrion",
         "marker": {
          "color": "#B6E880",
          "symbol": "circle"
         },
         "mode": "markers",
         "name": "tyrion",
         "scene": "scene",
         "showlegend": true,
         "type": "scatter3d",
         "x": [
          -0.08015783131122589
         ],
         "y": [
          -0.1618630290031433
         ],
         "z": [
          -0.29455214738845825
         ]
        },
        {
         "hovertemplate": "color=never<br>0=%{x}<br>1=%{y}<br>2=%{z}<extra></extra>",
         "legendgroup": "never",
         "marker": {
          "color": "#FF97FF",
          "symbol": "circle"
         },
         "mode": "markers",
         "name": "never",
         "scene": "scene",
         "showlegend": true,
         "type": "scatter3d",
         "x": [
          -0.44234976172447205
         ],
         "y": [
          -0.19260089099407196
         ],
         "z": [
          0.11575113236904144
         ]
        },
        {
         "hovertemplate": "color=know<br>0=%{x}<br>1=%{y}<br>2=%{z}<extra></extra>",
         "legendgroup": "know",
         "marker": {
          "color": "#FECB52",
          "symbol": "circle"
         },
         "mode": "markers",
         "name": "know",
         "scene": "scene",
         "showlegend": true,
         "type": "scatter3d",
         "x": [
          -0.6867597103118896
         ],
         "y": [
          -0.05373833328485489
         ],
         "z": [
          0.17452000081539154
         ]
        },
        {
         "hovertemplate": "color=see<br>0=%{x}<br>1=%{y}<br>2=%{z}<extra></extra>",
         "legendgroup": "see",
         "marker": {
          "color": "#636efa",
          "symbol": "circle"
         },
         "mode": "markers",
         "name": "see",
         "scene": "scene",
         "showlegend": true,
         "type": "scatter3d",
         "x": [
          -0.060566436499357224
         ],
         "y": [
          -0.07047021389007568
         ],
         "z": [
          0.15406440198421478
         ]
        },
        {
         "hovertemplate": "color=made<br>0=%{x}<br>1=%{y}<br>2=%{z}<extra></extra>",
         "legendgroup": "made",
         "marker": {
          "color": "#EF553B",
          "symbol": "circle"
         },
         "mode": "markers",
         "name": "made",
         "scene": "scene",
         "showlegend": true,
         "type": "scatter3d",
         "x": [
          0.09474761039018631
         ],
         "y": [
          -0.1462777554988861
         ],
         "z": [
          0.12064927816390991
         ]
        },
        {
         "hovertemplate": "color=eyes<br>0=%{x}<br>1=%{y}<br>2=%{z}<extra></extra>",
         "legendgroup": "eyes",
         "marker": {
          "color": "#00cc96",
          "symbol": "circle"
         },
         "mode": "markers",
         "name": "eyes",
         "scene": "scene",
         "showlegend": true,
         "type": "scatter3d",
         "x": [
          0.2689833343029022
         ],
         "y": [
          -0.1650666445493698
         ],
         "z": [
          -0.24401068687438965
         ]
        },
        {
         "hovertemplate": "color=black<br>0=%{x}<br>1=%{y}<br>2=%{z}<extra></extra>",
         "legendgroup": "black",
         "marker": {
          "color": "#ab63fa",
          "symbol": "circle"
         },
         "mode": "markers",
         "name": "black",
         "scene": "scene",
         "showlegend": true,
         "type": "scatter3d",
         "x": [
          0.45353925228118896
         ],
         "y": [
          0.44260552525520325
         ],
         "z": [
          -0.05349215492606163
         ]
        },
        {
         "hovertemplate": "color=told<br>0=%{x}<br>1=%{y}<br>2=%{z}<extra></extra>",
         "legendgroup": "told",
         "marker": {
          "color": "#FFA15A",
          "symbol": "circle"
         },
         "mode": "markers",
         "name": "told",
         "scene": "scene",
         "showlegend": true,
         "type": "scatter3d",
         "x": [
          -0.487027108669281
         ],
         "y": [
          -0.02900049090385437
         ],
         "z": [
          0.05830124393105507
         ]
        },
        {
         "hovertemplate": "color=lady<br>0=%{x}<br>1=%{y}<br>2=%{z}<extra></extra>",
         "legendgroup": "lady",
         "marker": {
          "color": "#19d3f3",
          "symbol": "circle"
         },
         "mode": "markers",
         "name": "lady",
         "scene": "scene",
         "showlegend": true,
         "type": "scatter3d",
         "x": [
          -0.43655768036842346
         ],
         "y": [
          0.43872320652008057
         ],
         "z": [
          -0.49639081954956055
         ]
        },
        {
         "hovertemplate": "color=thought<br>0=%{x}<br>1=%{y}<br>2=%{z}<extra></extra>",
         "legendgroup": "thought",
         "marker": {
          "color": "#FF6692",
          "symbol": "circle"
         },
         "mode": "markers",
         "name": "thought",
         "scene": "scene",
         "showlegend": true,
         "type": "scatter3d",
         "x": [
          -0.2788023054599762
         ],
         "y": [
          -0.22478634119033813
         ],
         "z": [
          0.11140988767147064
         ]
        },
        {
         "hovertemplate": "color=time<br>0=%{x}<br>1=%{y}<br>2=%{z}<extra></extra>",
         "legendgroup": "time",
         "marker": {
          "color": "#B6E880",
          "symbol": "circle"
         },
         "mode": "markers",
         "name": "time",
         "scene": "scene",
         "showlegend": true,
         "type": "scatter3d",
         "x": [
          -0.01686670072376728
         ],
         "y": [
          -0.057161539793014526
         ],
         "z": [
          0.2303180992603302
         ]
        },
        {
         "hovertemplate": "color=long<br>0=%{x}<br>1=%{y}<br>2=%{z}<extra></extra>",
         "legendgroup": "long",
         "marker": {
          "color": "#FF97FF",
          "symbol": "circle"
         },
         "mode": "markers",
         "name": "long",
         "scene": "scene",
         "showlegend": true,
         "type": "scatter3d",
         "x": [
          0.2948053181171417
         ],
         "y": [
          0.22668899595737457
         ],
         "z": [
          0.2705163359642029
         ]
        },
        {
         "hovertemplate": "color=might<br>0=%{x}<br>1=%{y}<br>2=%{z}<extra></extra>",
         "legendgroup": "might",
         "marker": {
          "color": "#FECB52",
          "symbol": "circle"
         },
         "mode": "markers",
         "name": "might",
         "scene": "scene",
         "showlegend": true,
         "type": "scatter3d",
         "x": [
          -0.5699087977409363
         ],
         "y": [
          -0.08630296587944031
         ],
         "z": [
          0.2520160675048828
         ]
        },
        {
         "hovertemplate": "color=us<br>0=%{x}<br>1=%{y}<br>2=%{z}<extra></extra>",
         "legendgroup": "us",
         "marker": {
          "color": "#636efa",
          "symbol": "circle"
         },
         "mode": "markers",
         "name": "us",
         "scene": "scene",
         "showlegend": true,
         "type": "scatter3d",
         "x": [
          -0.5506079196929932
         ],
         "y": [
          0.17734846472740173
         ],
         "z": [
          0.3142118752002716
         ]
        },
        {
         "hovertemplate": "color=come<br>0=%{x}<br>1=%{y}<br>2=%{z}<extra></extra>",
         "legendgroup": "come",
         "marker": {
          "color": "#EF553B",
          "symbol": "circle"
         },
         "mode": "markers",
         "name": "come",
         "scene": "scene",
         "showlegend": true,
         "type": "scatter3d",
         "x": [
          -0.36281970143318176
         ],
         "y": [
          0.08188065141439438
         ],
         "z": [
          0.4581787586212158
         ]
        },
        {
         "hovertemplate": "color=face<br>0=%{x}<br>1=%{y}<br>2=%{z}<extra></extra>",
         "legendgroup": "face",
         "marker": {
          "color": "#00cc96",
          "symbol": "circle"
         },
         "mode": "markers",
         "name": "face",
         "scene": "scene",
         "showlegend": true,
         "type": "scatter3d",
         "x": [
          0.348099946975708
         ],
         "y": [
          -0.24220700562000275
         ],
         "z": [
          -0.40202489495277405
         ]
        },
        {
         "hovertemplate": "color=still<br>0=%{x}<br>1=%{y}<br>2=%{z}<extra></extra>",
         "legendgroup": "still",
         "marker": {
          "color": "#ab63fa",
          "symbol": "circle"
         },
         "mode": "markers",
         "name": "still",
         "scene": "scene",
         "showlegend": true,
         "type": "scatter3d",
         "x": [
          0.14222194254398346
         ],
         "y": [
          0.025551091879606247
         ],
         "z": [
          0.366531640291214
         ]
        },
        {
         "hovertemplate": "color=head<br>0=%{x}<br>1=%{y}<br>2=%{z}<extra></extra>",
         "legendgroup": "head",
         "marker": {
          "color": "#FFA15A",
          "symbol": "circle"
         },
         "mode": "markers",
         "name": "head",
         "scene": "scene",
         "showlegend": true,
         "type": "scatter3d",
         "x": [
          0.3464881181716919
         ],
         "y": [
          -0.014322852715849876
         ],
         "z": [
          -0.5271950364112854
         ]
        },
        {
         "hovertemplate": "color=red<br>0=%{x}<br>1=%{y}<br>2=%{z}<extra></extra>",
         "legendgroup": "red",
         "marker": {
          "color": "#19d3f3",
          "symbol": "circle"
         },
         "mode": "markers",
         "name": "red",
         "scene": "scene",
         "showlegend": true,
         "type": "scatter3d",
         "x": [
          0.3426837921142578
         ],
         "y": [
          0.37137389183044434
         ],
         "z": [
          -0.22310172021389008
         ]
        },
        {
         "hovertemplate": "color=way<br>0=%{x}<br>1=%{y}<br>2=%{z}<extra></extra>",
         "legendgroup": "way",
         "marker": {
          "color": "#FF6692",
          "symbol": "circle"
         },
         "mode": "markers",
         "name": "way",
         "scene": "scene",
         "showlegend": true,
         "type": "scatter3d",
         "x": [
          0.08361195027828217
         ],
         "y": [
          -0.05716026574373245
         ],
         "z": [
          0.356071412563324
         ]
        },
        {
         "hovertemplate": "color=boy<br>0=%{x}<br>1=%{y}<br>2=%{z}<extra></extra>",
         "legendgroup": "boy",
         "marker": {
          "color": "#B6E880",
          "symbol": "circle"
         },
         "mode": "markers",
         "name": "boy",
         "scene": "scene",
         "showlegend": true,
         "type": "scatter3d",
         "x": [
          -0.2846929728984833
         ],
         "y": [
          0.21670745313167572
         ],
         "z": [
          -0.39861243963241577
         ]
        },
        {
         "hovertemplate": "color=page<br>0=%{x}<br>1=%{y}<br>2=%{z}<extra></extra>",
         "legendgroup": "page",
         "marker": {
          "color": "#FF97FF",
          "symbol": "circle"
         },
         "mode": "markers",
         "name": "page",
         "scene": "scene",
         "showlegend": true,
         "type": "scatter3d",
         "x": [
          -0.0986979678273201
         ],
         "y": [
          0.1271764636039734
         ],
         "z": [
          -0.2665635943412781
         ]
        },
        {
         "hovertemplate": "color=must<br>0=%{x}<br>1=%{y}<br>2=%{z}<extra></extra>",
         "legendgroup": "must",
         "marker": {
          "color": "#FECB52",
          "symbol": "circle"
         },
         "mode": "markers",
         "name": "must",
         "scene": "scene",
         "showlegend": true,
         "type": "scatter3d",
         "x": [
          -0.6249083876609802
         ],
         "y": [
          0.032686080783605576
         ],
         "z": [
          0.26211783289909363
         ]
        },
        {
         "hovertemplate": "color=queen<br>0=%{x}<br>1=%{y}<br>2=%{z}<extra></extra>",
         "legendgroup": "queen",
         "marker": {
          "color": "#636efa",
          "symbol": "circle"
         },
         "mode": "markers",
         "name": "queen",
         "scene": "scene",
         "showlegend": true,
         "type": "scatter3d",
         "x": [
          -0.4884151518344879
         ],
         "y": [
          0.3668362498283386
         ],
         "z": [
          -0.2765544652938843
         ]
        },
        {
         "hovertemplate": "color=good<br>0=%{x}<br>1=%{y}<br>2=%{z}<extra></extra>",
         "legendgroup": "good",
         "marker": {
          "color": "#EF553B",
          "symbol": "circle"
         },
         "mode": "markers",
         "name": "good",
         "scene": "scene",
         "showlegend": true,
         "type": "scatter3d",
         "x": [
          -0.4992358684539795
         ],
         "y": [
          -0.06366138160228729
         ],
         "z": [
          0.14438511431217194
         ]
        },
        {
         "hovertemplate": "color=two<br>0=%{x}<br>1=%{y}<br>2=%{z}<extra></extra>",
         "legendgroup": "two",
         "marker": {
          "color": "#00cc96",
          "symbol": "circle"
         },
         "mode": "markers",
         "name": "two",
         "scene": "scene",
         "showlegend": true,
         "type": "scatter3d",
         "x": [
          0.17788530886173248
         ],
         "y": [
          0.60682213306427
         ],
         "z": [
          0.17280717194080353
         ]
        },
        {
         "hovertemplate": "color=brother<br>0=%{x}<br>1=%{y}<br>2=%{z}<extra></extra>",
         "legendgroup": "brother",
         "marker": {
          "color": "#ab63fa",
          "symbol": "circle"
         },
         "mode": "markers",
         "name": "brother",
         "scene": "scene",
         "showlegend": true,
         "type": "scatter3d",
         "x": [
          -0.5347561240196228
         ],
         "y": [
          0.48708534240722656
         ],
         "z": [
          -0.32741284370422363
         ]
        },
        {
         "hovertemplate": "color=night<br>0=%{x}<br>1=%{y}<br>2=%{z}<extra></extra>",
         "legendgroup": "night",
         "marker": {
          "color": "#FFA15A",
          "symbol": "circle"
         },
         "mode": "markers",
         "name": "night",
         "scene": "scene",
         "showlegend": true,
         "type": "scatter3d",
         "x": [
          0.01979980431497097
         ],
         "y": [
          0.14904718101024628
         ],
         "z": [
          0.3195912539958954
         ]
        },
        {
         "hovertemplate": "color=little<br>0=%{x}<br>1=%{y}<br>2=%{z}<extra></extra>",
         "legendgroup": "little",
         "marker": {
          "color": "#19d3f3",
          "symbol": "circle"
         },
         "mode": "markers",
         "name": "little",
         "scene": "scene",
         "showlegend": true,
         "type": "scatter3d",
         "x": [
          -0.10353471338748932
         ],
         "y": [
          -0.13136717677116394
         ],
         "z": [
          -0.12467686086893082
         ]
        },
        {
         "hovertemplate": "color=took<br>0=%{x}<br>1=%{y}<br>2=%{z}<extra></extra>",
         "legendgroup": "took",
         "marker": {
          "color": "#FF6692",
          "symbol": "circle"
         },
         "mode": "markers",
         "name": "took",
         "scene": "scene",
         "showlegend": true,
         "type": "scatter3d",
         "x": [
          0.03330322355031967
         ],
         "y": [
          0.21452054381370544
         ],
         "z": [
          -0.15826942026615143
         ]
        },
        {
         "hovertemplate": "color=came<br>0=%{x}<br>1=%{y}<br>2=%{z}<extra></extra>",
         "legendgroup": "came",
         "marker": {
          "color": "#B6E880",
          "symbol": "circle"
         },
         "mode": "markers",
         "name": "came",
         "scene": "scene",
         "showlegend": true,
         "type": "scatter3d",
         "x": [
          0.27534589171409607
         ],
         "y": [
          0.17059658467769623
         ],
         "z": [
          0.37796589732170105
         ]
        },
        {
         "hovertemplate": "color=though<br>0=%{x}<br>1=%{y}<br>2=%{z}<extra></extra>",
         "legendgroup": "though",
         "marker": {
          "color": "#FF97FF",
          "symbol": "circle"
         },
         "mode": "markers",
         "name": "though",
         "scene": "scene",
         "showlegend": true,
         "type": "scatter3d",
         "x": [
          -0.1684712916612625
         ],
         "y": [
          -0.1876940131187439
         ],
         "z": [
          0.17473499476909637
         ]
        },
        {
         "hovertemplate": "color=say<br>0=%{x}<br>1=%{y}<br>2=%{z}<extra></extra>",
         "legendgroup": "say",
         "marker": {
          "color": "#FECB52",
          "symbol": "circle"
         },
         "mode": "markers",
         "name": "say",
         "scene": "scene",
         "showlegend": true,
         "type": "scatter3d",
         "x": [
          -0.6127300262451172
         ],
         "y": [
          -0.19666409492492676
         ],
         "z": [
          0.07400473952293396
         ]
        },
        {
         "hovertemplate": "color=three<br>0=%{x}<br>1=%{y}<br>2=%{z}<extra></extra>",
         "legendgroup": "three",
         "marker": {
          "color": "#636efa",
          "symbol": "circle"
         },
         "mode": "markers",
         "name": "three",
         "scene": "scene",
         "showlegend": true,
         "type": "scatter3d",
         "x": [
          0.09179015457630157
         ],
         "y": [
          0.7007283568382263
         ],
         "z": [
          0.20858222246170044
         ]
        },
        {
         "hovertemplate": "color=away<br>0=%{x}<br>1=%{y}<br>2=%{z}<extra></extra>",
         "legendgroup": "away",
         "marker": {
          "color": "#EF553B",
          "symbol": "circle"
         },
         "mode": "markers",
         "name": "away",
         "scene": "scene",
         "showlegend": true,
         "type": "scatter3d",
         "x": [
          0.27002057433128357
         ],
         "y": [
          -0.1740720421075821
         ],
         "z": [
          0.08187013864517212
         ]
        },
        {
         "hovertemplate": "color=dead<br>0=%{x}<br>1=%{y}<br>2=%{z}<extra></extra>",
         "legendgroup": "dead",
         "marker": {
          "color": "#00cc96",
          "symbol": "circle"
         },
         "mode": "markers",
         "name": "dead",
         "scene": "scene",
         "showlegend": true,
         "type": "scatter3d",
         "x": [
          -0.06869224458932877
         ],
         "y": [
          0.13159966468811035
         ],
         "z": [
          0.2067500352859497
         ]
        },
        {
         "hovertemplate": "color=son<br>0=%{x}<br>1=%{y}<br>2=%{z}<extra></extra>",
         "legendgroup": "son",
         "marker": {
          "color": "#ab63fa",
          "symbol": "circle"
         },
         "mode": "markers",
         "name": "son",
         "scene": "scene",
         "showlegend": true,
         "type": "scatter3d",
         "x": [
          -0.4275906980037689
         ],
         "y": [
          0.7324859499931335
         ],
         "z": [
          -0.4384472370147705
         ]
        },
        {
         "hovertemplate": "color=blood<br>0=%{x}<br>1=%{y}<br>2=%{z}<extra></extra>",
         "legendgroup": "blood",
         "marker": {
          "color": "#FFA15A",
          "symbol": "circle"
         },
         "mode": "markers",
         "name": "blood",
         "scene": "scene",
         "showlegend": true,
         "type": "scatter3d",
         "x": [
          0.24150912463665009
         ],
         "y": [
          -0.09509187936782837
         ],
         "z": [
          -0.007494234945625067
         ]
        },
        {
         "hovertemplate": "color=take<br>0=%{x}<br>1=%{y}<br>2=%{z}<extra></extra>",
         "legendgroup": "take",
         "marker": {
          "color": "#19d3f3",
          "symbol": "circle"
         },
         "mode": "markers",
         "name": "take",
         "scene": "scene",
         "showlegend": true,
         "type": "scatter3d",
         "x": [
          -0.4356999397277832
         ],
         "y": [
          0.1631193906068802
         ],
         "z": [
          0.15778709948062897
         ]
        },
        {
         "hovertemplate": "color=go<br>0=%{x}<br>1=%{y}<br>2=%{z}<extra></extra>",
         "legendgroup": "go",
         "marker": {
          "color": "#FF6692",
          "symbol": "circle"
         },
         "mode": "markers",
         "name": "go",
         "scene": "scene",
         "showlegend": true,
         "type": "scatter3d",
         "x": [
          -0.2730349898338318
         ],
         "y": [
          -0.20484313368797302
         ],
         "z": [
          0.32845011353492737
         ]
        },
        {
         "hovertemplate": "color=half<br>0=%{x}<br>1=%{y}<br>2=%{z}<extra></extra>",
         "legendgroup": "half",
         "marker": {
          "color": "#B6E880",
          "symbol": "circle"
         },
         "mode": "markers",
         "name": "half",
         "scene": "scene",
         "showlegend": true,
         "type": "scatter3d",
         "x": [
          0.2533491849899292
         ],
         "y": [
          0.21199987828731537
         ],
         "z": [
          0.2943474054336548
         ]
        },
        {
         "hovertemplate": "color=make<br>0=%{x}<br>1=%{y}<br>2=%{z}<extra></extra>",
         "legendgroup": "make",
         "marker": {
          "color": "#FF97FF",
          "symbol": "circle"
         },
         "mode": "markers",
         "name": "make",
         "scene": "scene",
         "showlegend": true,
         "type": "scatter3d",
         "x": [
          -0.4411446452140808
         ],
         "y": [
          -0.20279666781425476
         ],
         "z": [
          0.27427786588668823
         ]
        },
        {
         "hovertemplate": "color=arya<br>0=%{x}<br>1=%{y}<br>2=%{z}<extra></extra>",
         "legendgroup": "arya",
         "marker": {
          "color": "#FECB52",
          "symbol": "circle"
         },
         "mode": "markers",
         "name": "arya",
         "scene": "scene",
         "showlegend": true,
         "type": "scatter3d",
         "x": [
          0.12116888910531998
         ],
         "y": [
          -0.39047306776046753
         ],
         "z": [
          -0.01974131166934967
         ]
        },
        {
         "hovertemplate": "color=saw<br>0=%{x}<br>1=%{y}<br>2=%{z}<extra></extra>",
         "legendgroup": "saw",
         "marker": {
          "color": "#636efa",
          "symbol": "circle"
         },
         "mode": "markers",
         "name": "saw",
         "scene": "scene",
         "showlegend": true,
         "type": "scatter3d",
         "x": [
          0.33744490146636963
         ],
         "y": [
          0.07766243070363998
         ],
         "z": [
          -0.0007723544840700924
         ]
        },
        {
         "hovertemplate": "color=day<br>0=%{x}<br>1=%{y}<br>2=%{z}<extra></extra>",
         "legendgroup": "day",
         "marker": {
          "color": "#EF553B",
          "symbol": "circle"
         },
         "mode": "markers",
         "name": "day",
         "scene": "scene",
         "showlegend": true,
         "type": "scatter3d",
         "x": [
          -0.09243347495794296
         ],
         "y": [
          0.1931942254304886
         ],
         "z": [
          0.3709903359413147
         ]
        },
        {
         "hovertemplate": "color=white<br>0=%{x}<br>1=%{y}<br>2=%{z}<extra></extra>",
         "legendgroup": "white",
         "marker": {
          "color": "#00cc96",
          "symbol": "circle"
         },
         "mode": "markers",
         "name": "white",
         "scene": "scene",
         "showlegend": true,
         "type": "scatter3d",
         "x": [
          0.3971589505672455
         ],
         "y": [
          0.510738730430603
         ],
         "z": [
          -0.30305013060569763
         ]
        },
        {
         "hovertemplate": "color=jaime<br>0=%{x}<br>1=%{y}<br>2=%{z}<extra></extra>",
         "legendgroup": "jaime",
         "marker": {
          "color": "#ab63fa",
          "symbol": "circle"
         },
         "mode": "markers",
         "name": "jaime",
         "scene": "scene",
         "showlegend": true,
         "type": "scatter3d",
         "x": [
          -0.20680248737335205
         ],
         "y": [
          0.11456457525491714
         ],
         "z": [
          -0.37342390418052673
         ]
        },
        {
         "hovertemplate": "color=first<br>0=%{x}<br>1=%{y}<br>2=%{z}<extra></extra>",
         "legendgroup": "first",
         "marker": {
          "color": "#FFA15A",
          "symbol": "circle"
         },
         "mode": "markers",
         "name": "first",
         "scene": "scene",
         "showlegend": true,
         "type": "scatter3d",
         "x": [
          -0.18986310064792633
         ],
         "y": [
          0.41866499185562134
         ],
         "z": [
          0.19146713614463806
         ]
        },
        {
         "hovertemplate": "color=look<br>0=%{x}<br>1=%{y}<br>2=%{z}<extra></extra>",
         "legendgroup": "look",
         "marker": {
          "color": "#19d3f3",
          "symbol": "circle"
         },
         "mode": "markers",
         "name": "look",
         "scene": "scene",
         "showlegend": true,
         "type": "scatter3d",
         "x": [
          -0.015056410804390907
         ],
         "y": [
          -0.2572160065174103
         ],
         "z": [
          -0.21223406493663788
         ]
        },
        {
         "hovertemplate": "color=want<br>0=%{x}<br>1=%{y}<br>2=%{z}<extra></extra>",
         "legendgroup": "want",
         "marker": {
          "color": "#FF6692",
          "symbol": "circle"
         },
         "mode": "markers",
         "name": "want",
         "scene": "scene",
         "showlegend": true,
         "type": "scatter3d",
         "x": [
          -0.5502229928970337
         ],
         "y": [
          -0.1772129088640213
         ],
         "z": [
          0.1466381549835205
         ]
        },
        {
         "hovertemplate": "color=much<br>0=%{x}<br>1=%{y}<br>2=%{z}<extra></extra>",
         "legendgroup": "much",
         "marker": {
          "color": "#B6E880",
          "symbol": "circle"
         },
         "mode": "markers",
         "name": "much",
         "scene": "scene",
         "showlegend": true,
         "type": "scatter3d",
         "x": [
          -0.4815233051776886
         ],
         "y": [
          -0.2568649649620056
         ],
         "z": [
          0.16672565042972565
         ]
        },
        {
         "hovertemplate": "color=enough<br>0=%{x}<br>1=%{y}<br>2=%{z}<extra></extra>",
         "legendgroup": "enough",
         "marker": {
          "color": "#FF97FF",
          "symbol": "circle"
         },
         "mode": "markers",
         "name": "enough",
         "scene": "scene",
         "showlegend": true,
         "type": "scatter3d",
         "x": [
          -0.1961534023284912
         ],
         "y": [
          -0.10194900631904602
         ],
         "z": [
          0.34782758355140686
         ]
        },
        {
         "hovertemplate": "color=sword<br>0=%{x}<br>1=%{y}<br>2=%{z}<extra></extra>",
         "legendgroup": "sword",
         "marker": {
          "color": "#FECB52",
          "symbol": "circle"
         },
         "mode": "markers",
         "name": "sword",
         "scene": "scene",
         "showlegend": true,
         "type": "scatter3d",
         "x": [
          0.10054098814725876
         ],
         "y": [
          0.1682969629764557
         ],
         "z": [
          -0.28972604870796204
         ]
        },
        {
         "hovertemplate": "color=tell<br>0=%{x}<br>1=%{y}<br>2=%{z}<extra></extra>",
         "legendgroup": "tell",
         "marker": {
          "color": "#636efa",
          "symbol": "circle"
         },
         "mode": "markers",
         "name": "tell",
         "scene": "scene",
         "showlegend": true,
         "type": "scatter3d",
         "x": [
          -0.6695716977119446
         ],
         "y": [
          -0.19004829227924347
         ],
         "z": [
          0.1131221354007721
         ]
        },
        {
         "hovertemplate": "color=girl<br>0=%{x}<br>1=%{y}<br>2=%{z}<extra></extra>",
         "legendgroup": "girl",
         "marker": {
          "color": "#EF553B",
          "symbol": "circle"
         },
         "mode": "markers",
         "name": "girl",
         "scene": "scene",
         "showlegend": true,
         "type": "scatter3d",
         "x": [
          -0.20896589756011963
         ],
         "y": [
          0.042344674468040466
         ],
         "z": [
          -0.3417207896709442
         ]
        },
        {
         "hovertemplate": "color=bran<br>0=%{x}<br>1=%{y}<br>2=%{z}<extra></extra>",
         "legendgroup": "bran",
         "marker": {
          "color": "#00cc96",
          "symbol": "circle"
         },
         "mode": "markers",
         "name": "bran",
         "scene": "scene",
         "showlegend": true,
         "type": "scatter3d",
         "x": [
          0.06757541000843048
         ],
         "y": [
          -0.3440444767475128
         ],
         "z": [
          0.06325912475585938
         ]
        },
        {
         "hovertemplate": "color=great<br>0=%{x}<br>1=%{y}<br>2=%{z}<extra></extra>",
         "legendgroup": "great",
         "marker": {
          "color": "#ab63fa",
          "symbol": "circle"
         },
         "mode": "markers",
         "name": "great",
         "scene": "scene",
         "showlegend": true,
         "type": "scatter3d",
         "x": [
          0.16445080935955048
         ],
         "y": [
          0.790518581867218
         ],
         "z": [
          0.20570828020572662
         ]
        },
        {
         "hovertemplate": "color=looked<br>0=%{x}<br>1=%{y}<br>2=%{z}<extra></extra>",
         "legendgroup": "looked",
         "marker": {
          "color": "#FFA15A",
          "symbol": "circle"
         },
         "mode": "markers",
         "name": "looked",
         "scene": "scene",
         "showlegend": true,
         "type": "scatter3d",
         "x": [
          0.20692351460456848
         ],
         "y": [
          -0.05576590821146965
         ],
         "z": [
          -0.24342019855976105
         ]
        },
        {
         "hovertemplate": "color=left<br>0=%{x}<br>1=%{y}<br>2=%{z}<extra></extra>",
         "legendgroup": "left",
         "marker": {
          "color": "#19d3f3",
          "symbol": "circle"
         },
         "mode": "markers",
         "name": "left",
         "scene": "scene",
         "showlegend": true,
         "type": "scatter3d",
         "x": [
          0.2619379460811615
         ],
         "y": [
          0.30454686284065247
         ],
         "z": [
          0.03501080721616745
         ]
        },
        {
         "hovertemplate": "color=knew<br>0=%{x}<br>1=%{y}<br>2=%{z}<extra></extra>",
         "legendgroup": "knew",
         "marker": {
          "color": "#FF6692",
          "symbol": "circle"
         },
         "mode": "markers",
         "name": "knew",
         "scene": "scene",
         "showlegend": true,
         "type": "scatter3d",
         "x": [
          -0.3245052695274353
         ],
         "y": [
          -0.21673086285591125
         ],
         "z": [
          0.2960684597492218
         ]
        },
        {
         "hovertemplate": "color=asked<br>0=%{x}<br>1=%{y}<br>2=%{z}<extra></extra>",
         "legendgroup": "asked",
         "marker": {
          "color": "#B6E880",
          "symbol": "circle"
         },
         "mode": "markers",
         "name": "asked",
         "scene": "scene",
         "showlegend": true,
         "type": "scatter3d",
         "x": [
          -0.4951772391796112
         ],
         "y": [
          0.0112528745085001
         ],
         "z": [
          -0.3407696485519409
         ]
        },
        {
         "hovertemplate": "color=gave<br>0=%{x}<br>1=%{y}<br>2=%{z}<extra></extra>",
         "legendgroup": "gave",
         "marker": {
          "color": "#FF97FF",
          "symbol": "circle"
         },
         "mode": "markers",
         "name": "gave",
         "scene": "scene",
         "showlegend": true,
         "type": "scatter3d",
         "x": [
          -0.05350286513566971
         ],
         "y": [
          -0.14442554116249084
         ],
         "z": [
          -0.5543262958526611
         ]
        },
        {
         "hovertemplate": "color=maester<br>0=%{x}<br>1=%{y}<br>2=%{z}<extra></extra>",
         "legendgroup": "maester",
         "marker": {
          "color": "#FECB52",
          "symbol": "circle"
         },
         "mode": "markers",
         "name": "maester",
         "scene": "scene",
         "showlegend": true,
         "type": "scatter3d",
         "x": [
          -0.14668232202529907
         ],
         "y": [
          0.24022233486175537
         ],
         "z": [
          -0.31291764974594116
         ]
        },
        {
         "hovertemplate": "color=called<br>0=%{x}<br>1=%{y}<br>2=%{z}<extra></extra>",
         "legendgroup": "called",
         "marker": {
          "color": "#636efa",
          "symbol": "circle"
         },
         "mode": "markers",
         "name": "called",
         "scene": "scene",
         "showlegend": true,
         "type": "scatter3d",
         "x": [
          -0.19833941757678986
         ],
         "y": [
          0.7041337490081787
         ],
         "z": [
          -0.3803302049636841
         ]
        },
        {
         "hovertemplate": "color=wall<br>0=%{x}<br>1=%{y}<br>2=%{z}<extra></extra>",
         "legendgroup": "wall",
         "marker": {
          "color": "#EF553B",
          "symbol": "circle"
         },
         "mode": "markers",
         "name": "wall",
         "scene": "scene",
         "showlegend": true,
         "type": "scatter3d",
         "x": [
          0.23272086679935455
         ],
         "y": [
          0.3233555555343628
         ],
         "z": [
          0.5296100974082947
         ]
        },
        {
         "hovertemplate": "color=every<br>0=%{x}<br>1=%{y}<br>2=%{z}<extra></extra>",
         "legendgroup": "every",
         "marker": {
          "color": "#00cc96",
          "symbol": "circle"
         },
         "mode": "markers",
         "name": "every",
         "scene": "scene",
         "showlegend": true,
         "type": "scatter3d",
         "x": [
          0.12554512917995453
         ],
         "y": [
          0.21265417337417603
         ],
         "z": [
          0.3249841332435608
         ]
        },
        {
         "hovertemplate": "color=heard<br>0=%{x}<br>1=%{y}<br>2=%{z}<extra></extra>",
         "legendgroup": "heard",
         "marker": {
          "color": "#ab63fa",
          "symbol": "circle"
         },
         "mode": "markers",
         "name": "heard",
         "scene": "scene",
         "showlegend": true,
         "type": "scatter3d",
         "x": [
          -0.010402463376522064
         ],
         "y": [
          -0.16839835047721863
         ],
         "z": [
          0.23972244560718536
         ]
        },
        {
         "hovertemplate": "color=sansa<br>0=%{x}<br>1=%{y}<br>2=%{z}<extra></extra>",
         "legendgroup": "sansa",
         "marker": {
          "color": "#FFA15A",
          "symbol": "circle"
         },
         "mode": "markers",
         "name": "sansa",
         "scene": "scene",
         "showlegend": true,
         "type": "scatter3d",
         "x": [
          -0.18978509306907654
         ],
         "y": [
          -0.2747020721435547
         ],
         "z": [
          -0.38169190287590027
         ]
        },
        {
         "hovertemplate": "color=let<br>0=%{x}<br>1=%{y}<br>2=%{z}<extra></extra>",
         "legendgroup": "let",
         "marker": {
          "color": "#19d3f3",
          "symbol": "circle"
         },
         "mode": "markers",
         "name": "let",
         "scene": "scene",
         "showlegend": true,
         "type": "scatter3d",
         "x": [
          -0.24372971057891846
         ],
         "y": [
          -0.23509763181209564
         ],
         "z": [
          0.14649708569049835
         ]
        },
        {
         "hovertemplate": "color=yet<br>0=%{x}<br>1=%{y}<br>2=%{z}<extra></extra>",
         "legendgroup": "yet",
         "marker": {
          "color": "#FF6692",
          "symbol": "circle"
         },
         "mode": "markers",
         "name": "yet",
         "scene": "scene",
         "showlegend": true,
         "type": "scatter3d",
         "x": [
          -0.2787623703479767
         ],
         "y": [
          -0.06150197237730026
         ],
         "z": [
          0.381691575050354
         ]
        },
        {
         "hovertemplate": "color=went<br>0=%{x}<br>1=%{y}<br>2=%{z}<extra></extra>",
         "legendgroup": "went",
         "marker": {
          "color": "#B6E880",
          "symbol": "circle"
         },
         "mode": "markers",
         "name": "went",
         "scene": "scene",
         "showlegend": true,
         "type": "scatter3d",
         "x": [
          0.38141945004463196
         ],
         "y": [
          0.07520770281553268
         ],
         "z": [
          0.12177374958992004
         ]
        },
        {
         "hovertemplate": "color=turned<br>0=%{x}<br>1=%{y}<br>2=%{z}<extra></extra>",
         "legendgroup": "turned",
         "marker": {
          "color": "#FF97FF",
          "symbol": "circle"
         },
         "mode": "markers",
         "name": "turned",
         "scene": "scene",
         "showlegend": true,
         "type": "scatter3d",
         "x": [
          0.2924065589904785
         ],
         "y": [
          0.09170777350664139
         ],
         "z": [
          -0.19508829712867737
         ]
        },
        {
         "hovertemplate": "color=dany<br>0=%{x}<br>1=%{y}<br>2=%{z}<extra></extra>",
         "legendgroup": "dany",
         "marker": {
          "color": "#FECB52",
          "symbol": "circle"
         },
         "mode": "markers",
         "name": "dany",
         "scene": "scene",
         "showlegend": true,
         "type": "scatter3d",
         "x": [
          0.09280332177877426
         ],
         "y": [
          -0.17720359563827515
         ],
         "z": [
          -0.01701272837817669
         ]
        },
        {
         "hovertemplate": "color=need<br>0=%{x}<br>1=%{y}<br>2=%{z}<extra></extra>",
         "legendgroup": "need",
         "marker": {
          "color": "#636efa",
          "symbol": "circle"
         },
         "mode": "markers",
         "name": "need",
         "scene": "scene",
         "showlegend": true,
         "type": "scatter3d",
         "x": [
          -0.4749198257923126
         ],
         "y": [
          -0.005432198755443096
         ],
         "z": [
          0.3103133738040924
         ]
        },
        {
         "hovertemplate": "color=behind<br>0=%{x}<br>1=%{y}<br>2=%{z}<extra></extra>",
         "legendgroup": "behind",
         "marker": {
          "color": "#EF553B",
          "symbol": "circle"
         },
         "mode": "markers",
         "name": "behind",
         "scene": "scene",
         "showlegend": true,
         "type": "scatter3d",
         "x": [
          0.5671991109848022
         ],
         "y": [
          0.38764679431915283
         ],
         "z": [
          0.14944398403167725
         ]
        },
        {
         "hovertemplate": "color=around<br>0=%{x}<br>1=%{y}<br>2=%{z}<extra></extra>",
         "legendgroup": "around",
         "marker": {
          "color": "#00cc96",
          "symbol": "circle"
         },
         "mode": "markers",
         "name": "around",
         "scene": "scene",
         "showlegend": true,
         "type": "scatter3d",
         "x": [
          0.7458592057228088
         ],
         "y": [
          0.09708014875650406
         ],
         "z": [
          0.09546955674886703
         ]
        },
        {
         "hovertemplate": "color=woman<br>0=%{x}<br>1=%{y}<br>2=%{z}<extra></extra>",
         "legendgroup": "woman",
         "marker": {
          "color": "#ab63fa",
          "symbol": "circle"
         },
         "mode": "markers",
         "name": "woman",
         "scene": "scene",
         "showlegend": true,
         "type": "scatter3d",
         "x": [
          -0.06063292548060417
         ],
         "y": [
          -0.06421371549367905
         ],
         "z": [
          -0.29227903485298157
         ]
        },
        {
         "hovertemplate": "color=another<br>0=%{x}<br>1=%{y}<br>2=%{z}<extra></extra>",
         "legendgroup": "another",
         "marker": {
          "color": "#FFA15A",
          "symbol": "circle"
         },
         "mode": "markers",
         "name": "another",
         "scene": "scene",
         "showlegend": true,
         "type": "scatter3d",
         "x": [
          0.01895127259194851
         ],
         "y": [
          0.030519338324666023
         ],
         "z": [
          0.12822864949703217
         ]
        },
        {
         "hovertemplate": "color=snow<br>0=%{x}<br>1=%{y}<br>2=%{z}<extra></extra>",
         "legendgroup": "snow",
         "marker": {
          "color": "#19d3f3",
          "symbol": "circle"
         },
         "mode": "markers",
         "name": "snow",
         "scene": "scene",
         "showlegend": true,
         "type": "scatter3d",
         "x": [
          0.2740432620048523
         ],
         "y": [
          0.04100149869918823
         ],
         "z": [
          0.07235316932201385
         ]
        },
        {
         "hovertemplate": "color=beneath<br>0=%{x}<br>1=%{y}<br>2=%{z}<extra></extra>",
         "legendgroup": "beneath",
         "marker": {
          "color": "#FF6692",
          "symbol": "circle"
         },
         "mode": "markers",
         "name": "beneath",
         "scene": "scene",
         "showlegend": true,
         "type": "scatter3d",
         "x": [
          0.7623252868652344
         ],
         "y": [
          0.2961888909339905
         ],
         "z": [
          0.1569400280714035
         ]
        },
        {
         "hovertemplate": "color=across<br>0=%{x}<br>1=%{y}<br>2=%{z}<extra></extra>",
         "legendgroup": "across",
         "marker": {
          "color": "#B6E880",
          "symbol": "circle"
         },
         "mode": "markers",
         "name": "across",
         "scene": "scene",
         "showlegend": true,
         "type": "scatter3d",
         "x": [
          0.677183210849762
         ],
         "y": [
          0.29394206404685974
         ],
         "z": [
          0.1301497519016266
         ]
        },
        {
         "hovertemplate": "color=knight<br>0=%{x}<br>1=%{y}<br>2=%{z}<extra></extra>",
         "legendgroup": "knight",
         "marker": {
          "color": "#FF97FF",
          "symbol": "circle"
         },
         "mode": "markers",
         "name": "knight",
         "scene": "scene",
         "showlegend": true,
         "type": "scatter3d",
         "x": [
          -0.24253158271312714
         ],
         "y": [
          0.5137500762939453
         ],
         "z": [
          -0.5559648275375366
         ]
        },
        {
         "hovertemplate": "color=keep<br>0=%{x}<br>1=%{y}<br>2=%{z}<extra></extra>",
         "legendgroup": "keep",
         "marker": {
          "color": "#FECB52",
          "symbol": "circle"
         },
         "mode": "markers",
         "name": "keep",
         "scene": "scene",
         "showlegend": true,
         "type": "scatter3d",
         "x": [
          -0.09519127011299133
         ],
         "y": [
          0.167484849691391
         ],
         "z": [
          0.36862391233444214
         ]
        },
        {
         "hovertemplate": "color=grace<br>0=%{x}<br>1=%{y}<br>2=%{z}<extra></extra>",
         "legendgroup": "grace",
         "marker": {
          "color": "#636efa",
          "symbol": "circle"
         },
         "mode": "markers",
         "name": "grace",
         "scene": "scene",
         "showlegend": true,
         "type": "scatter3d",
         "x": [
          -0.7194312214851379
         ],
         "y": [
          0.26038798689842224
         ],
         "z": [
          -0.21572403609752655
         ]
        },
        {
         "hovertemplate": "color=found<br>0=%{x}<br>1=%{y}<br>2=%{z}<extra></extra>",
         "legendgroup": "found",
         "marker": {
          "color": "#EF553B",
          "symbol": "circle"
         },
         "mode": "markers",
         "name": "found",
         "scene": "scene",
         "showlegend": true,
         "type": "scatter3d",
         "x": [
          0.31428954005241394
         ],
         "y": [
          0.08586618304252625
         ],
         "z": [
          0.16281986236572266
         ]
        },
        {
         "hovertemplate": "color=gold<br>0=%{x}<br>1=%{y}<br>2=%{z}<extra></extra>",
         "legendgroup": "gold",
         "marker": {
          "color": "#00cc96",
          "symbol": "circle"
         },
         "mode": "markers",
         "name": "gold",
         "scene": "scene",
         "showlegend": true,
         "type": "scatter3d",
         "x": [
          0.125548854470253
         ],
         "y": [
          0.503018319606781
         ],
         "z": [
          -0.19045870006084442
         ]
        },
        {
         "hovertemplate": "color=last<br>0=%{x}<br>1=%{y}<br>2=%{z}<extra></extra>",
         "legendgroup": "last",
         "marker": {
          "color": "#ab63fa",
          "symbol": "circle"
         },
         "mode": "markers",
         "name": "last",
         "scene": "scene",
         "showlegend": true,
         "type": "scatter3d",
         "x": [
          -0.06502266228199005
         ],
         "y": [
          0.17974108457565308
         ],
         "z": [
          0.11966283619403839
         ]
        },
        {
         "hovertemplate": "color=cersei<br>0=%{x}<br>1=%{y}<br>2=%{z}<extra></extra>",
         "legendgroup": "cersei",
         "marker": {
          "color": "#FFA15A",
          "symbol": "circle"
         },
         "mode": "markers",
         "name": "cersei",
         "scene": "scene",
         "showlegend": true,
         "type": "scatter3d",
         "x": [
          -0.34757062792778015
         ],
         "y": [
          -0.03003086894750595
         ],
         "z": [
          -0.3831183612346649
         ]
        },
        {
         "hovertemplate": "color=castle<br>0=%{x}<br>1=%{y}<br>2=%{z}<extra></extra>",
         "legendgroup": "castle",
         "marker": {
          "color": "#19d3f3",
          "symbol": "circle"
         },
         "mode": "markers",
         "name": "castle",
         "scene": "scene",
         "showlegend": true,
         "type": "scatter3d",
         "x": [
          -0.05919073522090912
         ],
         "y": [
          0.6472203731536865
         ],
         "z": [
          0.35417163372039795
         ]
        },
        {
         "hovertemplate": "color=stark<br>0=%{x}<br>1=%{y}<br>2=%{z}<extra></extra>",
         "legendgroup": "stark",
         "marker": {
          "color": "#FF6692",
          "symbol": "circle"
         },
         "mode": "markers",
         "name": "stark",
         "scene": "scene",
         "showlegend": true,
         "type": "scatter3d",
         "x": [
          -0.3513137996196747
         ],
         "y": [
          0.4102177321910858
         ],
         "z": [
          -0.22904977202415466
         ]
        },
        {
         "hovertemplate": "color=gods<br>0=%{x}<br>1=%{y}<br>2=%{z}<extra></extra>",
         "legendgroup": "gods",
         "marker": {
          "color": "#B6E880",
          "symbol": "circle"
         },
         "mode": "markers",
         "name": "gods",
         "scene": "scene",
         "showlegend": true,
         "type": "scatter3d",
         "x": [
          -0.42928019165992737
         ],
         "y": [
          0.10935918241739273
         ],
         "z": [
          0.2653365433216095
         ]
        },
        {
         "hovertemplate": "color=think<br>0=%{x}<br>1=%{y}<br>2=%{z}<extra></extra>",
         "legendgroup": "think",
         "marker": {
          "color": "#FF97FF",
          "symbol": "circle"
         },
         "mode": "markers",
         "name": "think",
         "scene": "scene",
         "showlegend": true,
         "type": "scatter3d",
         "x": [
          -0.5886011719703674
         ],
         "y": [
          -0.34055230021476746
         ],
         "z": [
          0.17060469090938568
         ]
        },
        {
         "hovertemplate": "color=hair<br>0=%{x}<br>1=%{y}<br>2=%{z}<extra></extra>",
         "legendgroup": "hair",
         "marker": {
          "color": "#FECB52",
          "symbol": "circle"
         },
         "mode": "markers",
         "name": "hair",
         "scene": "scene",
         "showlegend": true,
         "type": "scatter3d",
         "x": [
          0.47384709119796753
         ],
         "y": [
          -0.06361059099435806
         ],
         "z": [
          -0.38134732842445374
         ]
        },
        {
         "hovertemplate": "color=many<br>0=%{x}<br>1=%{y}<br>2=%{z}<extra></extra>",
         "legendgroup": "many",
         "marker": {
          "color": "#636efa",
          "symbol": "circle"
         },
         "mode": "markers",
         "name": "many",
         "scene": "scene",
         "showlegend": true,
         "type": "scatter3d",
         "x": [
          -0.2157934606075287
         ],
         "y": [
          0.47140634059906006
         ],
         "z": [
          0.527525007724762
         ]
        },
        {
         "hovertemplate": "color=feet<br>0=%{x}<br>1=%{y}<br>2=%{z}<extra></extra>",
         "legendgroup": "feet",
         "marker": {
          "color": "#EF553B",
          "symbol": "circle"
         },
         "mode": "markers",
         "name": "feet",
         "scene": "scene",
         "showlegend": true,
         "type": "scatter3d",
         "x": [
          0.5893641114234924
         ],
         "y": [
          0.22117722034454346
         ],
         "z": [
          0.03418632224202156
         ]
        },
        {
         "hovertemplate": "color=hands<br>0=%{x}<br>1=%{y}<br>2=%{z}<extra></extra>",
         "legendgroup": "hands",
         "marker": {
          "color": "#00cc96",
          "symbol": "circle"
         },
         "mode": "markers",
         "name": "hands",
         "scene": "scene",
         "showlegend": true,
         "type": "scatter3d",
         "x": [
          0.5306318998336792
         ],
         "y": [
          -0.10964882373809814
         ],
         "z": [
          -0.29720938205718994
         ]
        },
        {
         "hovertemplate": "color=stannis<br>0=%{x}<br>1=%{y}<br>2=%{z}<extra></extra>",
         "legendgroup": "stannis",
         "marker": {
          "color": "#ab63fa",
          "symbol": "circle"
         },
         "mode": "markers",
         "name": "stannis",
         "scene": "scene",
         "showlegend": true,
         "type": "scatter3d",
         "x": [
          -0.4139254093170166
         ],
         "y": [
          0.5314332842826843
         ],
         "z": [
          -0.009562221355736256
         ]
        },
        {
         "hovertemplate": "color=mother<br>0=%{x}<br>1=%{y}<br>2=%{z}<extra></extra>",
         "legendgroup": "mother",
         "marker": {
          "color": "#FFA15A",
          "symbol": "circle"
         },
         "mode": "markers",
         "name": "mother",
         "scene": "scene",
         "showlegend": true,
         "type": "scatter3d",
         "x": [
          -0.5070279240608215
         ],
         "y": [
          0.22631894052028656
         ],
         "z": [
          -0.10386687517166138
         ]
        },
        {
         "hovertemplate": "color=catelyn<br>0=%{x}<br>1=%{y}<br>2=%{z}<extra></extra>",
         "legendgroup": "catelyn",
         "marker": {
          "color": "#19d3f3",
          "symbol": "circle"
         },
         "mode": "markers",
         "name": "catelyn",
         "scene": "scene",
         "showlegend": true,
         "type": "scatter3d",
         "x": [
          -0.20382115244865417
         ],
         "y": [
          -0.03833902254700661
         ],
         "z": [
          -0.3012358546257019
         ]
        },
        {
         "hovertemplate": "color=robert<br>0=%{x}<br>1=%{y}<br>2=%{z}<extra></extra>",
         "legendgroup": "robert",
         "marker": {
          "color": "#FF6692",
          "symbol": "circle"
         },
         "mode": "markers",
         "name": "robert",
         "scene": "scene",
         "showlegend": true,
         "type": "scatter3d",
         "x": [
          -0.4818708002567291
         ],
         "y": [
          0.42403891682624817
         ],
         "z": [
          -0.1984674334526062
         ]
        },
        {
         "hovertemplate": "color=seemed<br>0=%{x}<br>1=%{y}<br>2=%{z}<extra></extra>",
         "legendgroup": "seemed",
         "marker": {
          "color": "#B6E880",
          "symbol": "circle"
         },
         "mode": "markers",
         "name": "seemed",
         "scene": "scene",
         "showlegend": true,
         "type": "scatter3d",
         "x": [
          0.14405013620853424
         ],
         "y": [
          -0.2394457310438156
         ],
         "z": [
          0.30866941809654236
         ]
        },
        {
         "hovertemplate": "color=prince<br>0=%{x}<br>1=%{y}<br>2=%{z}<extra></extra>",
         "legendgroup": "prince",
         "marker": {
          "color": "#FF97FF",
          "symbol": "circle"
         },
         "mode": "markers",
         "name": "prince",
         "scene": "scene",
         "showlegend": true,
         "type": "scatter3d",
         "x": [
          -0.49354955554008484
         ],
         "y": [
          0.541748583316803
         ],
         "z": [
          -0.39359474182128906
         ]
        },
        {
         "hovertemplate": "color=may<br>0=%{x}<br>1=%{y}<br>2=%{z}<extra></extra>",
         "legendgroup": "may",
         "marker": {
          "color": "#FECB52",
          "symbol": "circle"
         },
         "mode": "markers",
         "name": "may",
         "scene": "scene",
         "showlegend": true,
         "type": "scatter3d",
         "x": [
          -0.7318247556686401
         ],
         "y": [
          0.06336645036935806
         ],
         "z": [
          0.2163536697626114
         ]
        },
        {
         "hovertemplate": "color=ever<br>0=%{x}<br>1=%{y}<br>2=%{z}<extra></extra>",
         "legendgroup": "ever",
         "marker": {
          "color": "#636efa",
          "symbol": "circle"
         },
         "mode": "markers",
         "name": "ever",
         "scene": "scene",
         "showlegend": true,
         "type": "scatter3d",
         "x": [
          -0.38313427567481995
         ],
         "y": [
          -0.10264156013727188
         ],
         "z": [
          0.171107217669487
         ]
        },
        {
         "hovertemplate": "color=robb<br>0=%{x}<br>1=%{y}<br>2=%{z}<extra></extra>",
         "legendgroup": "robb",
         "marker": {
          "color": "#EF553B",
          "symbol": "circle"
         },
         "mode": "markers",
         "name": "robb",
         "scene": "scene",
         "showlegend": true,
         "type": "scatter3d",
         "x": [
          -0.3667641580104828
         ],
         "y": [
          0.2441359907388687
         ],
         "z": [
          -0.18053564429283142
         ]
        },
        {
         "hovertemplate": "color=done<br>0=%{x}<br>1=%{y}<br>2=%{z}<extra></extra>",
         "legendgroup": "done",
         "marker": {
          "color": "#00cc96",
          "symbol": "circle"
         },
         "mode": "markers",
         "name": "done",
         "scene": "scene",
         "showlegend": true,
         "type": "scatter3d",
         "x": [
          -0.6540358066558838
         ],
         "y": [
          -0.08979012072086334
         ],
         "z": [
          0.18208256363868713
         ]
        },
        {
         "hovertemplate": "color=find<br>0=%{x}<br>1=%{y}<br>2=%{z}<extra></extra>",
         "legendgroup": "find",
         "marker": {
          "color": "#ab63fa",
          "symbol": "circle"
         },
         "mode": "markers",
         "name": "find",
         "scene": "scene",
         "showlegend": true,
         "type": "scatter3d",
         "x": [
          -0.40962085127830505
         ],
         "y": [
          -0.09795252233743668
         ],
         "z": [
          0.34314918518066406
         ]
        },
        {
         "hovertemplate": "color=lannister<br>0=%{x}<br>1=%{y}<br>2=%{z}<extra></extra>",
         "legendgroup": "lannister",
         "marker": {
          "color": "#FFA15A",
          "symbol": "circle"
         },
         "mode": "markers",
         "name": "lannister",
         "scene": "scene",
         "showlegend": true,
         "type": "scatter3d",
         "x": [
          -0.31107792258262634
         ],
         "y": [
          0.5689927339553833
         ],
         "z": [
          -0.37025758624076843
         ]
        },
        {
         "hovertemplate": "color=hear<br>0=%{x}<br>1=%{y}<br>2=%{z}<extra></extra>",
         "legendgroup": "hear",
         "marker": {
          "color": "#19d3f3",
          "symbol": "circle"
         },
         "mode": "markers",
         "name": "hear",
         "scene": "scene",
         "showlegend": true,
         "type": "scatter3d",
         "x": [
          -0.10008975863456726
         ],
         "y": [
          -0.2633260488510132
         ],
         "z": [
          0.20805147290229797
         ]
        },
        {
         "hovertemplate": "color=grey<br>0=%{x}<br>1=%{y}<br>2=%{z}<extra></extra>",
         "legendgroup": "grey",
         "marker": {
          "color": "#FF6692",
          "symbol": "circle"
         },
         "mode": "markers",
         "name": "grey",
         "scene": "scene",
         "showlegend": true,
         "type": "scatter3d",
         "x": [
          0.5341793298721313
         ],
         "y": [
          0.32491952180862427
         ],
         "z": [
          -0.09629540890455246
         ]
        },
        {
         "hovertemplate": "color=name<br>0=%{x}<br>1=%{y}<br>2=%{z}<extra></extra>",
         "legendgroup": "name",
         "marker": {
          "color": "#B6E880",
          "symbol": "circle"
         },
         "mode": "markers",
         "name": "name",
         "scene": "scene",
         "showlegend": true,
         "type": "scatter3d",
         "x": [
          -0.6298606395721436
         ],
         "y": [
          0.2354974001646042
         ],
         "z": [
          -0.18258003890514374
         ]
        },
        {
         "hovertemplate": "color=horse<br>0=%{x}<br>1=%{y}<br>2=%{z}<extra></extra>",
         "legendgroup": "horse",
         "marker": {
          "color": "#FF97FF",
          "symbol": "circle"
         },
         "mode": "markers",
         "name": "horse",
         "scene": "scene",
         "showlegend": true,
         "type": "scatter3d",
         "x": [
          0.44174814224243164
         ],
         "y": [
          0.08638505637645721
         ],
         "z": [
          0.06825137883424759
         ]
        },
        {
         "hovertemplate": "color=high<br>0=%{x}<br>1=%{y}<br>2=%{z}<extra></extra>",
         "legendgroup": "high",
         "marker": {
          "color": "#FECB52",
          "symbol": "circle"
         },
         "mode": "markers",
         "name": "high",
         "scene": "scene",
         "showlegend": true,
         "type": "scatter3d",
         "x": [
          0.19450251758098602
         ],
         "y": [
          0.679735541343689
         ],
         "z": [
          0.11154805123806
         ]
        },
        {
         "hovertemplate": "color=put<br>0=%{x}<br>1=%{y}<br>2=%{z}<extra></extra>",
         "legendgroup": "put",
         "marker": {
          "color": "#636efa",
          "symbol": "circle"
         },
         "mode": "markers",
         "name": "put",
         "scene": "scene",
         "showlegend": true,
         "type": "scatter3d",
         "x": [
          -0.12334610521793365
         ],
         "y": [
          0.09351308643817902
         ],
         "z": [
          -0.10375170409679413
         ]
        },
        {
         "hovertemplate": "color=wine<br>0=%{x}<br>1=%{y}<br>2=%{z}<extra></extra>",
         "legendgroup": "wine",
         "marker": {
          "color": "#EF553B",
          "symbol": "circle"
         },
         "mode": "markers",
         "name": "wine",
         "scene": "scene",
         "showlegend": true,
         "type": "scatter3d",
         "x": [
          0.11837717145681381
         ],
         "y": [
          -0.2075093537569046
         ],
         "z": [
          -0.2488352358341217
         ]
        },
        {
         "hovertemplate": "color=stone<br>0=%{x}<br>1=%{y}<br>2=%{z}<extra></extra>",
         "legendgroup": "stone",
         "marker": {
          "color": "#00cc96",
          "symbol": "circle"
         },
         "mode": "markers",
         "name": "stone",
         "scene": "scene",
         "showlegend": true,
         "type": "scatter3d",
         "x": [
          0.666838526725769
         ],
         "y": [
          0.38594815135002136
         ],
         "z": [
          0.2684113085269928
         ]
        },
        {
         "hovertemplate": "color=hard<br>0=%{x}<br>1=%{y}<br>2=%{z}<extra></extra>",
         "legendgroup": "hard",
         "marker": {
          "color": "#ab63fa",
          "symbol": "circle"
         },
         "mode": "markers",
         "name": "hard",
         "scene": "scene",
         "showlegend": true,
         "type": "scatter3d",
         "x": [
          0.47135937213897705
         ],
         "y": [
          -0.3908997178077698
         ],
         "z": [
          0.14959347248077393
         ]
        },
        {
         "hovertemplate": "color=water<br>0=%{x}<br>1=%{y}<br>2=%{z}<extra></extra>",
         "legendgroup": "water",
         "marker": {
          "color": "#FFA15A",
          "symbol": "circle"
         },
         "mode": "markers",
         "name": "water",
         "scene": "scene",
         "showlegend": true,
         "type": "scatter3d",
         "x": [
          0.5969637036323547
         ],
         "y": [
          -0.22046394646167755
         ],
         "z": [
          0.31092172861099243
         ]
        },
        {
         "hovertemplate": "color=fire<br>0=%{x}<br>1=%{y}<br>2=%{z}<extra></extra>",
         "legendgroup": "fire",
         "marker": {
          "color": "#19d3f3",
          "symbol": "circle"
         },
         "mode": "markers",
         "name": "fire",
         "scene": "scene",
         "showlegend": true,
         "type": "scatter3d",
         "x": [
          0.546285092830658
         ],
         "y": [
          -0.0976957157254219
         ],
         "z": [
          0.3722025454044342
         ]
        },
        {
         "hovertemplate": "color=upon<br>0=%{x}<br>1=%{y}<br>2=%{z}<extra></extra>",
         "legendgroup": "upon",
         "marker": {
          "color": "#FF6692",
          "symbol": "circle"
         },
         "mode": "markers",
         "name": "upon",
         "scene": "scene",
         "showlegend": true,
         "type": "scatter3d",
         "x": [
          0.32047468423843384
         ],
         "y": [
          0.4656952917575836
         ],
         "z": [
          0.11207062751054764
         ]
        },
        {
         "hovertemplate": "color=iron<br>0=%{x}<br>1=%{y}<br>2=%{z}<extra></extra>",
         "legendgroup": "iron",
         "marker": {
          "color": "#B6E880",
          "symbol": "circle"
         },
         "mode": "markers",
         "name": "iron",
         "scene": "scene",
         "showlegend": true,
         "type": "scatter3d",
         "x": [
          0.24475252628326416
         ],
         "y": [
          0.7032551765441895
         ],
         "z": [
          0.03611511364579201
         ]
        },
        {
         "hovertemplate": "color=voice<br>0=%{x}<br>1=%{y}<br>2=%{z}<extra></extra>",
         "legendgroup": "voice",
         "marker": {
          "color": "#FF97FF",
          "symbol": "circle"
         },
         "mode": "markers",
         "name": "voice",
         "scene": "scene",
         "showlegend": true,
         "type": "scatter3d",
         "x": [
          0.0077141039073467255
         ],
         "y": [
          -0.3436828553676605
         ],
         "z": [
          -0.3050256669521332
         ]
        },
        {
         "hovertemplate": "color=gone<br>0=%{x}<br>1=%{y}<br>2=%{z}<extra></extra>",
         "legendgroup": "gone",
         "marker": {
          "color": "#FECB52",
          "symbol": "circle"
         },
         "mode": "markers",
         "name": "gone",
         "scene": "scene",
         "showlegend": true,
         "type": "scatter3d",
         "x": [
          -0.04995100572705269
         ],
         "y": [
          -0.12266836315393448
         ],
         "z": [
          0.29765838384628296
         ]
        },
        {
         "hovertemplate": "color=give<br>0=%{x}<br>1=%{y}<br>2=%{z}<extra></extra>",
         "legendgroup": "give",
         "marker": {
          "color": "#636efa",
          "symbol": "circle"
         },
         "mode": "markers",
         "name": "give",
         "scene": "scene",
         "showlegend": true,
         "type": "scatter3d",
         "x": [
          -0.6232622265815735
         ],
         "y": [
          0.021416783332824707
         ],
         "z": [
          0.09589480608701706
         ]
        },
        {
         "hovertemplate": "color=sam<br>0=%{x}<br>1=%{y}<br>2=%{z}<extra></extra>",
         "legendgroup": "sam",
         "marker": {
          "color": "#EF553B",
          "symbol": "circle"
         },
         "mode": "markers",
         "name": "sam",
         "scene": "scene",
         "showlegend": true,
         "type": "scatter3d",
         "x": [
          0.05463192239403725
         ],
         "y": [
          -0.42697474360466003
         ],
         "z": [
          -0.05956792086362839
         ]
        },
        {
         "hovertemplate": "color=better<br>0=%{x}<br>1=%{y}<br>2=%{z}<extra></extra>",
         "legendgroup": "better",
         "marker": {
          "color": "#00cc96",
          "symbol": "circle"
         },
         "mode": "markers",
         "name": "better",
         "scene": "scene",
         "showlegend": true,
         "type": "scatter3d",
         "x": [
          -0.5995559692382812
         ],
         "y": [
          -0.16421985626220703
         ],
         "z": [
          0.28280892968177795
         ]
        },
        {
         "hovertemplate": "color=seen<br>0=%{x}<br>1=%{y}<br>2=%{z}<extra></extra>",
         "legendgroup": "seen",
         "marker": {
          "color": "#ab63fa",
          "symbol": "circle"
         },
         "mode": "markers",
         "name": "seen",
         "scene": "scene",
         "showlegend": true,
         "type": "scatter3d",
         "x": [
          -0.02449560910463333
         ],
         "y": [
          0.16294515132904053
         ],
         "z": [
          0.2956707179546356
         ]
        },
        {
         "hovertemplate": "color=shall<br>0=%{x}<br>1=%{y}<br>2=%{z}<extra></extra>",
         "legendgroup": "shall",
         "marker": {
          "color": "#FFA15A",
          "symbol": "circle"
         },
         "mode": "markers",
         "name": "shall",
         "scene": "scene",
         "showlegend": true,
         "type": "scatter3d",
         "x": [
          -0.6134627461433411
         ],
         "y": [
          0.2951672077178955
         ],
         "z": [
          0.1875225454568863
         ]
        },
        {
         "hovertemplate": "color=ned<br>0=%{x}<br>1=%{y}<br>2=%{z}<extra></extra>",
         "legendgroup": "ned",
         "marker": {
          "color": "#19d3f3",
          "symbol": "circle"
         },
         "mode": "markers",
         "name": "ned",
         "scene": "scene",
         "showlegend": true,
         "type": "scatter3d",
         "x": [
          -0.281627893447876
         ],
         "y": [
          -0.03585489094257355
         ],
         "z": [
          -0.28989341855049133
         ]
        },
        {
         "hovertemplate": "color=always<br>0=%{x}<br>1=%{y}<br>2=%{z}<extra></extra>",
         "legendgroup": "always",
         "marker": {
          "color": "#FF6692",
          "symbol": "circle"
         },
         "mode": "markers",
         "name": "always",
         "scene": "scene",
         "showlegend": true,
         "type": "scatter3d",
         "x": [
          -0.5420116782188416
         ],
         "y": [
          -0.20676931738853455
         ],
         "z": [
          0.13956646621227264
         ]
        },
        {
         "hovertemplate": "color=years<br>0=%{x}<br>1=%{y}<br>2=%{z}<extra></extra>",
         "legendgroup": "years",
         "marker": {
          "color": "#B6E880",
          "symbol": "circle"
         },
         "mode": "markers",
         "name": "years",
         "scene": "scene",
         "showlegend": true,
         "type": "scatter3d",
         "x": [
          -0.264617383480072
         ],
         "y": [
          0.6003356575965881
         ],
         "z": [
          0.1822967380285263
         ]
        },
        {
         "hovertemplate": "color=dark<br>0=%{x}<br>1=%{y}<br>2=%{z}<extra></extra>",
         "legendgroup": "dark",
         "marker": {
          "color": "#FF97FF",
          "symbol": "circle"
         },
         "mode": "markers",
         "name": "dark",
         "scene": "scene",
         "showlegend": true,
         "type": "scatter3d",
         "x": [
          0.5745048522949219
         ],
         "y": [
          -0.04939015582203865
         ],
         "z": [
          0.1573268324136734
         ]
        },
        {
         "hovertemplate": "color=place<br>0=%{x}<br>1=%{y}<br>2=%{z}<extra></extra>",
         "legendgroup": "place",
         "marker": {
          "color": "#FECB52",
          "symbol": "circle"
         },
         "mode": "markers",
         "name": "place",
         "scene": "scene",
         "showlegend": true,
         "type": "scatter3d",
         "x": [
          -0.3508707284927368
         ],
         "y": [
          0.30189406871795654
         ],
         "z": [
          0.37438932061195374
         ]
        },
        {
         "hovertemplate": "color=small<br>0=%{x}<br>1=%{y}<br>2=%{z}<extra></extra>",
         "legendgroup": "small",
         "marker": {
          "color": "#636efa",
          "symbol": "circle"
         },
         "mode": "markers",
         "name": "small",
         "scene": "scene",
         "showlegend": true,
         "type": "scatter3d",
         "x": [
          0.2852291464805603
         ],
         "y": [
          0.31753963232040405
         ],
         "z": [
          0.1225249394774437
         ]
        },
        {
         "hovertemplate": "color=cold<br>0=%{x}<br>1=%{y}<br>2=%{z}<extra></extra>",
         "legendgroup": "cold",
         "marker": {
          "color": "#EF553B",
          "symbol": "circle"
         },
         "mode": "markers",
         "name": "cold",
         "scene": "scene",
         "showlegend": true,
         "type": "scatter3d",
         "x": [
          0.4213177561759949
         ],
         "y": [
          -0.33404117822647095
         ],
         "z": [
          0.34084877371788025
         ]
        },
        {
         "hovertemplate": "color=winterfell<br>0=%{x}<br>1=%{y}<br>2=%{z}<extra></extra>",
         "legendgroup": "winterfell",
         "marker": {
          "color": "#00cc96",
          "symbol": "circle"
         },
         "mode": "markers",
         "name": "winterfell",
         "scene": "scene",
         "showlegend": true,
         "type": "scatter3d",
         "x": [
          -0.3026943504810333
         ],
         "y": [
          0.44473177194595337
         ],
         "z": [
          0.21562477946281433
         ]
        },
        {
         "hovertemplate": "color=hundred<br>0=%{x}<br>1=%{y}<br>2=%{z}<extra></extra>",
         "legendgroup": "hundred",
         "marker": {
          "color": "#ab63fa",
          "symbol": "circle"
         },
         "mode": "markers",
         "name": "hundred",
         "scene": "scene",
         "showlegend": true,
         "type": "scatter3d",
         "x": [
          0.08561094850301743
         ],
         "y": [
          0.642951488494873
         ],
         "z": [
          0.4281775653362274
         ]
        },
        {
         "hovertemplate": "color=stood<br>0=%{x}<br>1=%{y}<br>2=%{z}<extra></extra>",
         "legendgroup": "stood",
         "marker": {
          "color": "#FFA15A",
          "symbol": "circle"
         },
         "mode": "markers",
         "name": "stood",
         "scene": "scene",
         "showlegend": true,
         "type": "scatter3d",
         "x": [
          0.47392624616622925
         ],
         "y": [
          0.6508307456970215
         ],
         "z": [
          -0.09488518536090851
         ]
        },
        {
         "hovertemplate": "color=end<br>0=%{x}<br>1=%{y}<br>2=%{z}<extra></extra>",
         "legendgroup": "end",
         "marker": {
          "color": "#19d3f3",
          "symbol": "circle"
         },
         "mode": "markers",
         "name": "end",
         "scene": "scene",
         "showlegend": true,
         "type": "scatter3d",
         "x": [
          -0.09335104376077652
         ],
         "y": [
          0.539015531539917
         ],
         "z": [
          0.2821044623851776
         ]
        },
        {
         "hovertemplate": "color=sister<br>0=%{x}<br>1=%{y}<br>2=%{z}<extra></extra>",
         "legendgroup": "sister",
         "marker": {
          "color": "#FF6692",
          "symbol": "circle"
         },
         "mode": "markers",
         "name": "sister",
         "scene": "scene",
         "showlegend": true,
         "type": "scatter3d",
         "x": [
          -0.6249618530273438
         ],
         "y": [
          0.1431528776884079
         ],
         "z": [
          -0.35578542947769165
         ]
        },
        {
         "hovertemplate": "color=words<br>0=%{x}<br>1=%{y}<br>2=%{z}<extra></extra>",
         "legendgroup": "words",
         "marker": {
          "color": "#B6E880",
          "symbol": "circle"
         },
         "mode": "markers",
         "name": "words",
         "scene": "scene",
         "showlegend": true,
         "type": "scatter3d",
         "x": [
          -0.3120095133781433
         ],
         "y": [
          -0.5138823986053467
         ],
         "z": [
          -0.0810476690530777
         ]
        },
        {
         "hovertemplate": "color=sea<br>0=%{x}<br>1=%{y}<br>2=%{z}<extra></extra>",
         "legendgroup": "sea",
         "marker": {
          "color": "#FF97FF",
          "symbol": "circle"
         },
         "mode": "markers",
         "name": "sea",
         "scene": "scene",
         "showlegend": true,
         "type": "scatter3d",
         "x": [
          0.1426076740026474
         ],
         "y": [
          0.5356025695800781
         ],
         "z": [
          0.5609599351882935
         ]
        },
        {
         "hovertemplate": "color=right<br>0=%{x}<br>1=%{y}<br>2=%{z}<extra></extra>",
         "legendgroup": "right",
         "marker": {
          "color": "#FECB52",
          "symbol": "circle"
         },
         "mode": "markers",
         "name": "right",
         "scene": "scene",
         "showlegend": true,
         "type": "scatter3d",
         "x": [
          0.16251233220100403
         ],
         "y": [
          -0.007707555778324604
         ],
         "z": [
          -0.20726904273033142
         ]
        },
        {
         "hovertemplate": "color=nothing<br>0=%{x}<br>1=%{y}<br>2=%{z}<extra></extra>",
         "legendgroup": "nothing",
         "marker": {
          "color": "#636efa",
          "symbol": "circle"
         },
         "mode": "markers",
         "name": "nothing",
         "scene": "scene",
         "showlegend": true,
         "type": "scatter3d",
         "x": [
          -0.22596661746501923
         ],
         "y": [
          -0.4723314642906189
         ],
         "z": [
          0.2933202087879181
         ]
        },
        {
         "hovertemplate": "color=walls<br>0=%{x}<br>1=%{y}<br>2=%{z}<extra></extra>",
         "legendgroup": "walls",
         "marker": {
          "color": "#EF553B",
          "symbol": "circle"
         },
         "mode": "markers",
         "name": "walls",
         "scene": "scene",
         "showlegend": true,
         "type": "scatter3d",
         "x": [
          0.45481163263320923
         ],
         "y": [
          0.49331220984458923
         ],
         "z": [
          0.5091071724891663
         ]
        },
        {
         "hovertemplate": "color=fingers<br>0=%{x}<br>1=%{y}<br>2=%{z}<extra></extra>",
         "legendgroup": "fingers",
         "marker": {
          "color": "#00cc96",
          "symbol": "circle"
         },
         "mode": "markers",
         "name": "fingers",
         "scene": "scene",
         "showlegend": true,
         "type": "scatter3d",
         "x": [
          0.6336156725883484
         ],
         "y": [
          -0.16288410127162933
         ],
         "z": [
          -0.23614265024662018
         ]
        },
        {
         "hovertemplate": "color=house<br>0=%{x}<br>1=%{y}<br>2=%{z}<extra></extra>",
         "legendgroup": "house",
         "marker": {
          "color": "#ab63fa",
          "symbol": "circle"
         },
         "mode": "markers",
         "name": "house",
         "scene": "scene",
         "showlegend": true,
         "type": "scatter3d",
         "x": [
          -0.2195795327425003
         ],
         "y": [
          0.8105842471122742
         ],
         "z": [
          -0.3266727924346924
         ]
        },
        {
         "hovertemplate": "color=cloak<br>0=%{x}<br>1=%{y}<br>2=%{z}<extra></extra>",
         "legendgroup": "cloak",
         "marker": {
          "color": "#FFA15A",
          "symbol": "circle"
         },
         "mode": "markers",
         "name": "cloak",
         "scene": "scene",
         "showlegend": true,
         "type": "scatter3d",
         "x": [
          0.5553157925605774
         ],
         "y": [
          0.3013133108615875
         ],
         "z": [
          -0.4907360374927521
         ]
        },
        {
         "hovertemplate": "color=young<br>0=%{x}<br>1=%{y}<br>2=%{z}<extra></extra>",
         "legendgroup": "young",
         "marker": {
          "color": "#19d3f3",
          "symbol": "circle"
         },
         "mode": "markers",
         "name": "young",
         "scene": "scene",
         "showlegend": true,
         "type": "scatter3d",
         "x": [
          -0.38613420724868774
         ],
         "y": [
          0.5141695141792297
         ],
         "z": [
          -0.38997259736061096
         ]
        },
        {
         "hovertemplate": "color=beside<br>0=%{x}<br>1=%{y}<br>2=%{z}<extra></extra>",
         "legendgroup": "beside",
         "marker": {
          "color": "#FF6692",
          "symbol": "circle"
         },
         "mode": "markers",
         "name": "beside",
         "scene": "scene",
         "showlegend": true,
         "type": "scatter3d",
         "x": [
          0.4926595985889435
         ],
         "y": [
          0.47955167293548584
         ],
         "z": [
          -0.24723811447620392
         ]
        },
        {
         "hovertemplate": "color=get<br>0=%{x}<br>1=%{y}<br>2=%{z}<extra></extra>",
         "legendgroup": "get",
         "marker": {
          "color": "#B6E880",
          "symbol": "circle"
         },
         "mode": "markers",
         "name": "get",
         "scene": "scene",
         "showlegend": true,
         "type": "scatter3d",
         "x": [
          -0.136024609208107
         ],
         "y": [
          -0.3702463209629059
         ],
         "z": [
          0.3094429671764374
         ]
        },
        {
         "hovertemplate": "color=seven<br>0=%{x}<br>1=%{y}<br>2=%{z}<extra></extra>",
         "legendgroup": "seven",
         "marker": {
          "color": "#FF97FF",
          "symbol": "circle"
         },
         "mode": "markers",
         "name": "seven",
         "scene": "scene",
         "showlegend": true,
         "type": "scatter3d",
         "x": [
          -0.23797743022441864
         ],
         "y": [
          0.651669442653656
         ],
         "z": [
          0.2862149178981781
         ]
        },
        {
         "hovertemplate": "color=mouth<br>0=%{x}<br>1=%{y}<br>2=%{z}<extra></extra>",
         "legendgroup": "mouth",
         "marker": {
          "color": "#FECB52",
          "symbol": "circle"
         },
         "mode": "markers",
         "name": "mouth",
         "scene": "scene",
         "showlegend": true,
         "type": "scatter3d",
         "x": [
          0.4641096591949463
         ],
         "y": [
          -0.4593554735183716
         ],
         "z": [
          -0.3084338307380676
         ]
        },
        {
         "hovertemplate": "color=watch<br>0=%{x}<br>1=%{y}<br>2=%{z}<extra></extra>",
         "legendgroup": "watch",
         "marker": {
          "color": "#636efa",
          "symbol": "circle"
         },
         "mode": "markers",
         "name": "watch",
         "scene": "scene",
         "showlegend": true,
         "type": "scatter3d",
         "x": [
          -0.24827681481838226
         ],
         "y": [
          0.43946459889411926
         ],
         "z": [
          0.1745624989271164
         ]
        },
        {
         "hovertemplate": "color=door<br>0=%{x}<br>1=%{y}<br>2=%{z}<extra></extra>",
         "legendgroup": "door",
         "marker": {
          "color": "#EF553B",
          "symbol": "circle"
         },
         "mode": "markers",
         "name": "door",
         "scene": "scene",
         "showlegend": true,
         "type": "scatter3d",
         "x": [
          0.4997420907020569
         ],
         "y": [
          0.1396128386259079
         ],
         "z": [
          -0.13402916491031647
         ]
        },
        {
         "hovertemplate": "color=joffrey<br>0=%{x}<br>1=%{y}<br>2=%{z}<extra></extra>",
         "legendgroup": "joffrey",
         "marker": {
          "color": "#00cc96",
          "symbol": "circle"
         },
         "mode": "markers",
         "name": "joffrey",
         "scene": "scene",
         "showlegend": true,
         "type": "scatter3d",
         "x": [
          -0.468871146440506
         ],
         "y": [
          0.21166427433490753
         ],
         "z": [
          -0.3377159535884857
         ]
        },
        {
         "hovertemplate": "color=green<br>0=%{x}<br>1=%{y}<br>2=%{z}<extra></extra>",
         "legendgroup": "green",
         "marker": {
          "color": "#ab63fa",
          "symbol": "circle"
         },
         "mode": "markers",
         "name": "green",
         "scene": "scene",
         "showlegend": true,
         "type": "scatter3d",
         "x": [
          0.5144006013870239
         ],
         "y": [
          0.4105014204978943
         ],
         "z": [
          -0.13335761427879333
         ]
        },
        {
         "hovertemplate": "color=big<br>0=%{x}<br>1=%{y}<br>2=%{z}<extra></extra>",
         "legendgroup": "big",
         "marker": {
          "color": "#FFA15A",
          "symbol": "circle"
         },
         "mode": "markers",
         "name": "big",
         "scene": "scene",
         "showlegend": true,
         "type": "scatter3d",
         "x": [
          0.34354591369628906
         ],
         "y": [
          0.06790769100189209
         ],
         "z": [
          -0.2789306342601776
         ]
        },
        {
         "hovertemplate": "color=sent<br>0=%{x}<br>1=%{y}<br>2=%{z}<extra></extra>",
         "legendgroup": "sent",
         "marker": {
          "color": "#19d3f3",
          "symbol": "circle"
         },
         "mode": "markers",
         "name": "sent",
         "scene": "scene",
         "showlegend": true,
         "type": "scatter3d",
         "x": [
          -0.259671688079834
         ],
         "y": [
          0.44539162516593933
         ],
         "z": [
          0.10486146062612534
         ]
        },
        {
         "hovertemplate": "color=perhaps<br>0=%{x}<br>1=%{y}<br>2=%{z}<extra></extra>",
         "legendgroup": "perhaps",
         "marker": {
          "color": "#FF6692",
          "symbol": "circle"
         },
         "mode": "markers",
         "name": "perhaps",
         "scene": "scene",
         "showlegend": true,
         "type": "scatter3d",
         "x": [
          -0.7222095131874084
         ],
         "y": [
          -0.06271190196275711
         ],
         "z": [
          0.24942509829998016
         ]
        },
        {
         "hovertemplate": "color=almost<br>0=%{x}<br>1=%{y}<br>2=%{z}<extra></extra>",
         "legendgroup": "almost",
         "marker": {
          "color": "#B6E880",
          "symbol": "circle"
         },
         "mode": "markers",
         "name": "almost",
         "scene": "scene",
         "showlegend": true,
         "type": "scatter3d",
         "x": [
          0.3075769245624542
         ],
         "y": [
          -0.3696141242980957
         ],
         "z": [
          0.047287724912166595
         ]
        },
        {
         "hovertemplate": "color=wanted<br>0=%{x}<br>1=%{y}<br>2=%{z}<extra></extra>",
         "legendgroup": "wanted",
         "marker": {
          "color": "#FF97FF",
          "symbol": "circle"
         },
         "mode": "markers",
         "name": "wanted",
         "scene": "scene",
         "showlegend": true,
         "type": "scatter3d",
         "x": [
          -0.48718076944351196
         ],
         "y": [
          -0.4081571698188782
         ],
         "z": [
          0.186626598238945
         ]
        },
        {
         "hovertemplate": "color=true<br>0=%{x}<br>1=%{y}<br>2=%{z}<extra></extra>",
         "legendgroup": "true",
         "marker": {
          "color": "#FECB52",
          "symbol": "circle"
         },
         "mode": "markers",
         "name": "true",
         "scene": "scene",
         "showlegend": true,
         "type": "scatter3d",
         "x": [
          -0.7456948161125183
         ],
         "y": [
          0.118097685277462
         ],
         "z": [
          0.030032526701688766
         ]
        },
        {
         "hovertemplate": "color=daughter<br>0=%{x}<br>1=%{y}<br>2=%{z}<extra></extra>",
         "legendgroup": "daughter",
         "marker": {
          "color": "#636efa",
          "symbol": "circle"
         },
         "mode": "markers",
         "name": "daughter",
         "scene": "scene",
         "showlegend": true,
         "type": "scatter3d",
         "x": [
          -0.44179046154022217
         ],
         "y": [
          0.63959139585495
         ],
         "z": [
          -0.48452430963516235
         ]
        },
        {
         "hovertemplate": "color=leave<br>0=%{x}<br>1=%{y}<br>2=%{z}<extra></extra>",
         "legendgroup": "leave",
         "marker": {
          "color": "#EF553B",
          "symbol": "circle"
         },
         "mode": "markers",
         "name": "leave",
         "scene": "scene",
         "showlegend": true,
         "type": "scatter3d",
         "x": [
          -0.542535126209259
         ],
         "y": [
          0.09085050970315933
         ],
         "z": [
          0.15113702416419983
         ]
        },
        {
         "hovertemplate": "color=wind<br>0=%{x}<br>1=%{y}<br>2=%{z}<extra></extra>",
         "legendgroup": "wind",
         "marker": {
          "color": "#00cc96",
          "symbol": "circle"
         },
         "mode": "markers",
         "name": "wind",
         "scene": "scene",
         "showlegend": true,
         "type": "scatter3d",
         "x": [
          0.6311470866203308
         ],
         "y": [
          -0.008212228305637836
         ],
         "z": [
          0.3157706558704376
         ]
        },
        {
         "hovertemplate": "color=city<br>0=%{x}<br>1=%{y}<br>2=%{z}<extra></extra>",
         "legendgroup": "city",
         "marker": {
          "color": "#ab63fa",
          "symbol": "circle"
         },
         "mode": "markers",
         "name": "city",
         "scene": "scene",
         "showlegend": true,
         "type": "scatter3d",
         "x": [
          -0.14331699907779694
         ],
         "y": [
          0.5844477415084839
         ],
         "z": [
          0.4703606963157654
         ]
        },
        {
         "hovertemplate": "color=light<br>0=%{x}<br>1=%{y}<br>2=%{z}<extra></extra>",
         "legendgroup": "light",
         "marker": {
          "color": "#FFA15A",
          "symbol": "circle"
         },
         "mode": "markers",
         "name": "light",
         "scene": "scene",
         "showlegend": true,
         "type": "scatter3d",
         "x": [
          0.476946085691452
         ],
         "y": [
          0.09887199848890305
         ],
         "z": [
          0.2711051106452942
         ]
        },
        {
         "hovertemplate": "color=arms<br>0=%{x}<br>1=%{y}<br>2=%{z}<extra></extra>",
         "legendgroup": "arms",
         "marker": {
          "color": "#19d3f3",
          "symbol": "circle"
         },
         "mode": "markers",
         "name": "arms",
         "scene": "scene",
         "showlegend": true,
         "type": "scatter3d",
         "x": [
          0.3536195158958435
         ],
         "y": [
          0.44385451078414917
         ],
         "z": [
          -0.3759619891643524
         ]
        },
        {
         "hovertemplate": "color=children<br>0=%{x}<br>1=%{y}<br>2=%{z}<extra></extra>",
         "legendgroup": "children",
         "marker": {
          "color": "#FF6692",
          "symbol": "circle"
         },
         "mode": "markers",
         "name": "children",
         "scene": "scene",
         "showlegend": true,
         "type": "scatter3d",
         "x": [
          -0.4176965653896332
         ],
         "y": [
          0.40981775522232056
         ],
         "z": [
          0.3782900869846344
         ]
        },
        {
         "hovertemplate": "color=sweet<br>0=%{x}<br>1=%{y}<br>2=%{z}<extra></extra>",
         "legendgroup": "sweet",
         "marker": {
          "color": "#B6E880",
          "symbol": "circle"
         },
         "mode": "markers",
         "name": "sweet",
         "scene": "scene",
         "showlegend": true,
         "type": "scatter3d",
         "x": [
          -0.28097325563430786
         ],
         "y": [
          -0.3166702091693878
         ],
         "z": [
          -0.2228599339723587
         ]
        },
        {
         "hovertemplate": "color=others<br>0=%{x}<br>1=%{y}<br>2=%{z}<extra></extra>",
         "legendgroup": "others",
         "marker": {
          "color": "#FF97FF",
          "symbol": "circle"
         },
         "mode": "markers",
         "name": "others",
         "scene": "scene",
         "showlegend": true,
         "type": "scatter3d",
         "x": [
          -0.05854785069823265
         ],
         "y": [
          0.27726051211357117
         ],
         "z": [
          0.2590113580226898
         ]
        },
        {
         "hovertemplate": "color=lost<br>0=%{x}<br>1=%{y}<br>2=%{z}<extra></extra>",
         "legendgroup": "lost",
         "marker": {
          "color": "#FECB52",
          "symbol": "circle"
         },
         "mode": "markers",
         "name": "lost",
         "scene": "scene",
         "showlegend": true,
         "type": "scatter3d",
         "x": [
          -0.21167702972888947
         ],
         "y": [
          0.331301748752594
         ],
         "z": [
          0.2329925149679184
         ]
        },
        {
         "hovertemplate": "color=theon<br>0=%{x}<br>1=%{y}<br>2=%{z}<extra></extra>",
         "legendgroup": "theon",
         "marker": {
          "color": "#636efa",
          "symbol": "circle"
         },
         "mode": "markers",
         "name": "theon",
         "scene": "scene",
         "showlegend": true,
         "type": "scatter3d",
         "x": [
          -0.17631685733795166
         ],
         "y": [
          0.021038111299276352
         ],
         "z": [
          -0.26568254828453064
         ]
        },
        {
         "hovertemplate": "color=felt<br>0=%{x}<br>1=%{y}<br>2=%{z}<extra></extra>",
         "legendgroup": "felt",
         "marker": {
          "color": "#EF553B",
          "symbol": "circle"
         },
         "mode": "markers",
         "name": "felt",
         "scene": "scene",
         "showlegend": true,
         "type": "scatter3d",
         "x": [
          0.27331483364105225
         ],
         "y": [
          -0.5311899185180664
         ],
         "z": [
          0.04753228276968002
         ]
        },
        {
         "hovertemplate": "color=side<br>0=%{x}<br>1=%{y}<br>2=%{z}<extra></extra>",
         "legendgroup": "side",
         "marker": {
          "color": "#00cc96",
          "symbol": "circle"
         },
         "mode": "markers",
         "name": "side",
         "scene": "scene",
         "showlegend": true,
         "type": "scatter3d",
         "x": [
          0.4190784692764282
         ],
         "y": [
          0.3918415606021881
         ],
         "z": [
          0.09479890018701553
         ]
        },
        {
         "hovertemplate": "color=yes<br>0=%{x}<br>1=%{y}<br>2=%{z}<extra></extra>",
         "legendgroup": "yes",
         "marker": {
          "color": "#ab63fa",
          "symbol": "circle"
         },
         "mode": "markers",
         "name": "yes",
         "scene": "scene",
         "showlegend": true,
         "type": "scatter3d",
         "x": [
          -0.7149275541305542
         ],
         "y": [
          -0.198489710688591
         ],
         "z": [
          -0.2021198719739914
         ]
        },
        {
         "hovertemplate": "color=brothers<br>0=%{x}<br>1=%{y}<br>2=%{z}<extra></extra>",
         "legendgroup": "brothers",
         "marker": {
          "color": "#FFA15A",
          "symbol": "circle"
         },
         "mode": "markers",
         "name": "brothers",
         "scene": "scene",
         "showlegend": true,
         "type": "scatter3d",
         "x": [
          -0.27394282817840576
         ],
         "y": [
          0.6533671617507935
         ],
         "z": [
          0.14743630588054657
         ]
        },
        {
         "hovertemplate": "color=best<br>0=%{x}<br>1=%{y}<br>2=%{z}<extra></extra>",
         "legendgroup": "best",
         "marker": {
          "color": "#19d3f3",
          "symbol": "circle"
         },
         "mode": "markers",
         "name": "best",
         "scene": "scene",
         "showlegend": true,
         "type": "scatter3d",
         "x": [
          -0.593505322933197
         ],
         "y": [
          -0.1059131920337677
         ],
         "z": [
          0.3886870741844177
         ]
        },
        {
         "hovertemplate": "color=die<br>0=%{x}<br>1=%{y}<br>2=%{z}<extra></extra>",
         "legendgroup": "die",
         "marker": {
          "color": "#FF6692",
          "symbol": "circle"
         },
         "mode": "markers",
         "name": "die",
         "scene": "scene",
         "showlegend": true,
         "type": "scatter3d",
         "x": [
          -0.595392644405365
         ],
         "y": [
          -0.06779562681913376
         ],
         "z": [
          0.34030628204345703
         ]
        },
        {
         "hovertemplate": "color=brought<br>0=%{x}<br>1=%{y}<br>2=%{z}<extra></extra>",
         "legendgroup": "brought",
         "marker": {
          "color": "#B6E880",
          "symbol": "circle"
         },
         "mode": "markers",
         "name": "brought",
         "scene": "scene",
         "showlegend": true,
         "type": "scatter3d",
         "x": [
          -0.049706488847732544
         ],
         "y": [
          0.36876967549324036
         ],
         "z": [
          -0.05744335800409317
         ]
        },
        {
         "hovertemplate": "color=soon<br>0=%{x}<br>1=%{y}<br>2=%{z}<extra></extra>",
         "legendgroup": "soon",
         "marker": {
          "color": "#FF97FF",
          "symbol": "circle"
         },
         "mode": "markers",
         "name": "soon",
         "scene": "scene",
         "showlegend": true,
         "type": "scatter3d",
         "x": [
          -0.35171666741371155
         ],
         "y": [
          -0.008091696538031101
         ],
         "z": [
          0.5419818162918091
         ]
        },
        {
         "hovertemplate": "color=died<br>0=%{x}<br>1=%{y}<br>2=%{z}<extra></extra>",
         "legendgroup": "died",
         "marker": {
          "color": "#FECB52",
          "symbol": "circle"
         },
         "mode": "markers",
         "name": "died",
         "scene": "scene",
         "showlegend": true,
         "type": "scatter3d",
         "x": [
          -0.35247603058815
         ],
         "y": [
          0.5831450819969177
         ],
         "z": [
          -0.021539505571126938
         ]
        },
        {
         "hovertemplate": "color=far<br>0=%{x}<br>1=%{y}<br>2=%{z}<extra></extra>",
         "legendgroup": "far",
         "marker": {
          "color": "#636efa",
          "symbol": "circle"
         },
         "mode": "markers",
         "name": "far",
         "scene": "scene",
         "showlegend": true,
         "type": "scatter3d",
         "x": [
          0.010406525805592537
         ],
         "y": [
          0.05948903411626816
         ],
         "z": [
          0.5773282051086426
         ]
        },
        {
         "hovertemplate": "color=north<br>0=%{x}<br>1=%{y}<br>2=%{z}<extra></extra>",
         "legendgroup": "north",
         "marker": {
          "color": "#EF553B",
          "symbol": "circle"
         },
         "mode": "markers",
         "name": "north",
         "scene": "scene",
         "showlegend": true,
         "type": "scatter3d",
         "x": [
          -0.1179521381855011
         ],
         "y": [
          0.6358960866928101
         ],
         "z": [
          0.394855797290802
         ]
        },
        {
         "hovertemplate": "color=child<br>0=%{x}<br>1=%{y}<br>2=%{z}<extra></extra>",
         "legendgroup": "child",
         "marker": {
          "color": "#00cc96",
          "symbol": "circle"
         },
         "mode": "markers",
         "name": "child",
         "scene": "scene",
         "showlegend": true,
         "type": "scatter3d",
         "x": [
          -0.5389055609703064
         ],
         "y": [
          -0.12833844125270844
         ],
         "z": [
          -0.1330396831035614
         ]
        },
        {
         "hovertemplate": "color=fear<br>0=%{x}<br>1=%{y}<br>2=%{z}<extra></extra>",
         "legendgroup": "fear",
         "marker": {
          "color": "#ab63fa",
          "symbol": "circle"
         },
         "mode": "markers",
         "name": "fear",
         "scene": "scene",
         "showlegend": true,
         "type": "scatter3d",
         "x": [
          -0.3840842843055725
         ],
         "y": [
          -0.45149561762809753
         ],
         "z": [
          0.2482427954673767
         ]
        },
        {
         "hovertemplate": "color=along<br>0=%{x}<br>1=%{y}<br>2=%{z}<extra></extra>",
         "legendgroup": "along",
         "marker": {
          "color": "#FFA15A",
          "symbol": "circle"
         },
         "mode": "markers",
         "name": "along",
         "scene": "scene",
         "showlegend": true,
         "type": "scatter3d",
         "x": [
          0.4964912235736847
         ],
         "y": [
          0.5068060159683228
         ],
         "z": [
          0.4367469549179077
         ]
        },
        {
         "hovertemplate": "color=brienne<br>0=%{x}<br>1=%{y}<br>2=%{z}<extra></extra>",
         "legendgroup": "brienne",
         "marker": {
          "color": "#19d3f3",
          "symbol": "circle"
         },
         "mode": "markers",
         "name": "brienne",
         "scene": "scene",
         "showlegend": true,
         "type": "scatter3d",
         "x": [
          0.06704922765493393
         ],
         "y": [
          -0.297689288854599
         ],
         "z": [
          -0.26406577229499817
         ]
        },
        {
         "hovertemplate": "color=word<br>0=%{x}<br>1=%{y}<br>2=%{z}<extra></extra>",
         "legendgroup": "word",
         "marker": {
          "color": "#FF6692",
          "symbol": "circle"
         },
         "mode": "markers",
         "name": "word",
         "scene": "scene",
         "showlegend": true,
         "type": "scatter3d",
         "x": [
          -0.6040107011795044
         ],
         "y": [
          -0.05092255771160126
         ],
         "z": [
          -0.00970638357102871
         ]
        },
        {
         "hovertemplate": "color=taken<br>0=%{x}<br>1=%{y}<br>2=%{z}<extra></extra>",
         "legendgroup": "taken",
         "marker": {
          "color": "#B6E880",
          "symbol": "circle"
         },
         "mode": "markers",
         "name": "taken",
         "scene": "scene",
         "showlegend": true,
         "type": "scatter3d",
         "x": [
          -0.4041491746902466
         ],
         "y": [
          0.640425980091095
         ],
         "z": [
          0.12310127168893814
         ]
        },
        {
         "hovertemplate": "color=battle<br>0=%{x}<br>1=%{y}<br>2=%{z}<extra></extra>",
         "legendgroup": "battle",
         "marker": {
          "color": "#FF97FF",
          "symbol": "circle"
         },
         "mode": "markers",
         "name": "battle",
         "scene": "scene",
         "showlegend": true,
         "type": "scatter3d",
         "x": [
          -0.4200019836425781
         ],
         "y": [
          0.6433160901069641
         ],
         "z": [
          0.1775265634059906
         ]
        },
        {
         "hovertemplate": "color=help<br>0=%{x}<br>1=%{y}<br>2=%{z}<extra></extra>",
         "legendgroup": "help",
         "marker": {
          "color": "#FECB52",
          "symbol": "circle"
         },
         "mode": "markers",
         "name": "help",
         "scene": "scene",
         "showlegend": true,
         "type": "scatter3d",
         "x": [
          -0.5319788455963135
         ],
         "y": [
          -0.22835536301136017
         ],
         "z": [
          0.1373472511768341
         ]
        },
        {
         "hovertemplate": "color=new<br>0=%{x}<br>1=%{y}<br>2=%{z}<extra></extra>",
         "legendgroup": "new",
         "marker": {
          "color": "#636efa",
          "symbol": "circle"
         },
         "mode": "markers",
         "name": "new",
         "scene": "scene",
         "showlegend": true,
         "type": "scatter3d",
         "x": [
          -0.3121735453605652
         ],
         "y": [
          0.6428127288818359
         ],
         "z": [
          0.15399135649204254
         ]
        },
        {
         "hovertemplate": "color=tywin<br>0=%{x}<br>1=%{y}<br>2=%{z}<extra></extra>",
         "legendgroup": "tywin",
         "marker": {
          "color": "#EF553B",
          "symbol": "circle"
         },
         "mode": "markers",
         "name": "tywin",
         "scene": "scene",
         "showlegend": true,
         "type": "scatter3d",
         "x": [
          -0.40662986040115356
         ],
         "y": [
          0.3521977663040161
         ],
         "z": [
          -0.18368655443191528
         ]
        },
        {
         "hovertemplate": "color=davos<br>0=%{x}<br>1=%{y}<br>2=%{z}<extra></extra>",
         "legendgroup": "davos",
         "marker": {
          "color": "#00cc96",
          "symbol": "circle"
         },
         "mode": "markers",
         "name": "davos",
         "scene": "scene",
         "showlegend": true,
         "type": "scatter3d",
         "x": [
          -0.17135515809059143
         ],
         "y": [
          -0.045248135924339294
         ],
         "z": [
          -0.17611423134803772
         ]
        },
        {
         "hovertemplate": "color=lords<br>0=%{x}<br>1=%{y}<br>2=%{z}<extra></extra>",
         "legendgroup": "lords",
         "marker": {
          "color": "#ab63fa",
          "symbol": "circle"
         },
         "mode": "markers",
         "name": "lords",
         "scene": "scene",
         "showlegend": true,
         "type": "scatter3d",
         "x": [
          -0.4506436288356781
         ],
         "y": [
          0.8159233331680298
         ],
         "z": [
          0.08786635100841522
         ]
        },
        {
         "hovertemplate": "color=something<br>0=%{x}<br>1=%{y}<br>2=%{z}<extra></extra>",
         "legendgroup": "something",
         "marker": {
          "color": "#FFA15A",
          "symbol": "circle"
         },
         "mode": "markers",
         "name": "something",
         "scene": "scene",
         "showlegend": true,
         "type": "scatter3d",
         "x": [
          -0.08569955825805664
         ],
         "y": [
          -0.6783283948898315
         ],
         "z": [
          0.01345850434154272
         ]
        },
        {
         "hovertemplate": "color=mean<br>0=%{x}<br>1=%{y}<br>2=%{z}<extra></extra>",
         "legendgroup": "mean",
         "marker": {
          "color": "#19d3f3",
          "symbol": "circle"
         },
         "mode": "markers",
         "name": "mean",
         "scene": "scene",
         "showlegend": true,
         "type": "scatter3d",
         "x": [
          -0.7461813688278198
         ],
         "y": [
          0.053335804492235184
         ],
         "z": [
          0.2024824470281601
         ]
        },
        {
         "hovertemplate": "color=wife<br>0=%{x}<br>1=%{y}<br>2=%{z}<extra></extra>",
         "legendgroup": "wife",
         "marker": {
          "color": "#FF6692",
          "symbol": "circle"
         },
         "mode": "markers",
         "name": "wife",
         "scene": "scene",
         "showlegend": true,
         "type": "scatter3d",
         "x": [
          -0.6041650772094727
         ],
         "y": [
          0.4748242199420929
         ],
         "z": [
          -0.2816845178604126
         ]
        },
        {
         "hovertemplate": "color=hall<br>0=%{x}<br>1=%{y}<br>2=%{z}<extra></extra>",
         "legendgroup": "hall",
         "marker": {
          "color": "#B6E880",
          "symbol": "circle"
         },
         "mode": "markers",
         "name": "hall",
         "scene": "scene",
         "showlegend": true,
         "type": "scatter3d",
         "x": [
          0.3317566514015198
         ],
         "y": [
          0.5351302027702332
         ],
         "z": [
          0.15647751092910767
         ]
        },
        {
         "hovertemplate": "color=rest<br>0=%{x}<br>1=%{y}<br>2=%{z}<extra></extra>",
         "legendgroup": "rest",
         "marker": {
          "color": "#FF97FF",
          "symbol": "circle"
         },
         "mode": "markers",
         "name": "rest",
         "scene": "scene",
         "showlegend": true,
         "type": "scatter3d",
         "x": [
          -0.19833046197891235
         ],
         "y": [
          0.20098698139190674
         ],
         "z": [
          0.4508275091648102
         ]
        },
        {
         "hovertemplate": "color=kill<br>0=%{x}<br>1=%{y}<br>2=%{z}<extra></extra>",
         "legendgroup": "kill",
         "marker": {
          "color": "#FECB52",
          "symbol": "circle"
         },
         "mode": "markers",
         "name": "kill",
         "scene": "scene",
         "showlegend": true,
         "type": "scatter3d",
         "x": [
          -0.6442101001739502
         ],
         "y": [
          -0.2485366016626358
         ],
         "z": [
          0.09870202839374542
         ]
        },
        {
         "hovertemplate": "color=steel<br>0=%{x}<br>1=%{y}<br>2=%{z}<extra></extra>",
         "legendgroup": "steel",
         "marker": {
          "color": "#636efa",
          "symbol": "circle"
         },
         "mode": "markers",
         "name": "steel",
         "scene": "scene",
         "showlegend": true,
         "type": "scatter3d",
         "x": [
          0.6675399541854858
         ],
         "y": [
          0.14439137279987335
         ],
         "z": [
          -0.06122327595949173
         ]
        },
        {
         "hovertemplate": "color=strong<br>0=%{x}<br>1=%{y}<br>2=%{z}<extra></extra>",
         "legendgroup": "strong",
         "marker": {
          "color": "#EF553B",
          "symbol": "circle"
         },
         "mode": "markers",
         "name": "strong",
         "scene": "scene",
         "showlegend": true,
         "type": "scatter3d",
         "x": [
          -0.2180054634809494
         ],
         "y": [
          0.07144251465797424
         ],
         "z": [
          0.1297788769006729
         ]
        },
        {
         "hovertemplate": "color=began<br>0=%{x}<br>1=%{y}<br>2=%{z}<extra></extra>",
         "legendgroup": "began",
         "marker": {
          "color": "#00cc96",
          "symbol": "circle"
         },
         "mode": "markers",
         "name": "began",
         "scene": "scene",
         "showlegend": true,
         "type": "scatter3d",
         "x": [
          0.4907343089580536
         ],
         "y": [
          -0.18898995220661163
         ],
         "z": [
          0.2257666140794754
         ]
        },
        {
         "hovertemplate": "color=sound<br>0=%{x}<br>1=%{y}<br>2=%{z}<extra></extra>",
         "legendgroup": "sound",
         "marker": {
          "color": "#ab63fa",
          "symbol": "circle"
         },
         "mode": "markers",
         "name": "sound",
         "scene": "scene",
         "showlegend": true,
         "type": "scatter3d",
         "x": [
          0.4723425805568695
         ],
         "y": [
          -0.3262908458709717
         ],
         "z": [
          0.2353430837392807
         ]
        },
        {
         "hovertemplate": "color=dragon<br>0=%{x}<br>1=%{y}<br>2=%{z}<extra></extra>",
         "legendgroup": "dragon",
         "marker": {
          "color": "#FFA15A",
          "symbol": "circle"
         },
         "mode": "markers",
         "name": "dragon",
         "scene": "scene",
         "showlegend": true,
         "type": "scatter3d",
         "x": [
          0.09077657014131546
         ],
         "y": [
          0.3303232491016388
         ],
         "z": [
          0.2508535087108612
         ]
        },
        {
         "hovertemplate": "color=past<br>0=%{x}<br>1=%{y}<br>2=%{z}<extra></extra>",
         "legendgroup": "past",
         "marker": {
          "color": "#19d3f3",
          "symbol": "circle"
         },
         "mode": "markers",
         "name": "past",
         "scene": "scene",
         "showlegend": true,
         "type": "scatter3d",
         "x": [
          0.4570721685886383
         ],
         "y": [
          0.44420918822288513
         ],
         "z": [
          0.3372328579425812
         ]
        },
        {
         "hovertemplate": "color=life<br>0=%{x}<br>1=%{y}<br>2=%{z}<extra></extra>",
         "legendgroup": "life",
         "marker": {
          "color": "#FF6692",
          "symbol": "circle"
         },
         "mode": "markers",
         "name": "life",
         "scene": "scene",
         "showlegend": true,
         "type": "scatter3d",
         "x": [
          -0.6061632037162781
         ],
         "y": [
          0.06434376537799835
         ],
         "z": [
          0.37373650074005127
         ]
        },
        {
         "hovertemplate": "color=tower<br>0=%{x}<br>1=%{y}<br>2=%{z}<extra></extra>",
         "legendgroup": "tower",
         "marker": {
          "color": "#B6E880",
          "symbol": "circle"
         },
         "mode": "markers",
         "name": "tower",
         "scene": "scene",
         "showlegend": true,
         "type": "scatter3d",
         "x": [
          0.3713957965373993
         ],
         "y": [
          0.6027462482452393
         ],
         "z": [
          0.22204896807670593
         ]
        },
        {
         "hovertemplate": "color=killed<br>0=%{x}<br>1=%{y}<br>2=%{z}<extra></extra>",
         "legendgroup": "killed",
         "marker": {
          "color": "#FF97FF",
          "symbol": "circle"
         },
         "mode": "markers",
         "name": "killed",
         "scene": "scene",
         "showlegend": true,
         "type": "scatter3d",
         "x": [
          -0.5664032697677612
         ],
         "y": [
          0.1944776177406311
         ],
         "z": [
          -0.1568070948123932
         ]
        },
        {
         "hovertemplate": "color=arm<br>0=%{x}<br>1=%{y}<br>2=%{z}<extra></extra>",
         "legendgroup": "arm",
         "marker": {
          "color": "#FECB52",
          "symbol": "circle"
         },
         "mode": "markers",
         "name": "arm",
         "scene": "scene",
         "showlegend": true,
         "type": "scatter3d",
         "x": [
          0.4304334223270416
         ],
         "y": [
          -0.0405220091342926
         ],
         "z": [
          -0.3947356939315796
         ]
        },
        {
         "hovertemplate": "color=sons<br>0=%{x}<br>1=%{y}<br>2=%{z}<extra></extra>",
         "legendgroup": "sons",
         "marker": {
          "color": "#636efa",
          "symbol": "circle"
         },
         "mode": "markers",
         "name": "sons",
         "scene": "scene",
         "showlegend": true,
         "type": "scatter3d",
         "x": [
          -0.4680408835411072
         ],
         "y": [
          0.823264479637146
         ],
         "z": [
          -0.03890164941549301
         ]
        },
        {
         "hovertemplate": "color=free<br>0=%{x}<br>1=%{y}<br>2=%{z}<extra></extra>",
         "legendgroup": "free",
         "marker": {
          "color": "#EF553B",
          "symbol": "circle"
         },
         "mode": "markers",
         "name": "free",
         "scene": "scene",
         "showlegend": true,
         "type": "scatter3d",
         "x": [
          -0.14602987468242645
         ],
         "y": [
          0.3644806444644928
         ],
         "z": [
          0.5633295774459839
         ]
        },
        {
         "hovertemplate": "color=tried<br>0=%{x}<br>1=%{y}<br>2=%{z}<extra></extra>",
         "legendgroup": "tried",
         "marker": {
          "color": "#00cc96",
          "symbol": "circle"
         },
         "mode": "markers",
         "name": "tried",
         "scene": "scene",
         "showlegend": true,
         "type": "scatter3d",
         "x": [
          0.013412341475486755
         ],
         "y": [
          -0.39612099528312683
         ],
         "z": [
          0.04418822377920151
         ]
        },
        {
         "hovertemplate": "color=thing<br>0=%{x}<br>1=%{y}<br>2=%{z}<extra></extra>",
         "legendgroup": "thing",
         "marker": {
          "color": "#ab63fa",
          "symbol": "circle"
         },
         "mode": "markers",
         "name": "thing",
         "scene": "scene",
         "showlegend": true,
         "type": "scatter3d",
         "x": [
          -0.22752316296100616
         ],
         "y": [
          -0.3777501583099365
         ],
         "z": [
          0.2013416588306427
         ]
        },
        {
         "hovertemplate": "color=bear<br>0=%{x}<br>1=%{y}<br>2=%{z}<extra></extra>",
         "legendgroup": "bear",
         "marker": {
          "color": "#FFA15A",
          "symbol": "circle"
         },
         "mode": "markers",
         "name": "bear",
         "scene": "scene",
         "showlegend": true,
         "type": "scatter3d",
         "x": [
          -0.10385560244321823
         ],
         "y": [
          0.12956449389457703
         ],
         "z": [
          -0.11791887879371643
         ]
        },
        {
         "hovertemplate": "color=days<br>0=%{x}<br>1=%{y}<br>2=%{z}<extra></extra>",
         "legendgroup": "days",
         "marker": {
          "color": "#19d3f3",
          "symbol": "circle"
         },
         "mode": "markers",
         "name": "days",
         "scene": "scene",
         "showlegend": true,
         "type": "scatter3d",
         "x": [
          -0.09887472540140152
         ],
         "y": [
          0.3726068437099457
         ],
         "z": [
          0.6246057152748108
         ]
        },
        {
         "hovertemplate": "color=bloody<br>0=%{x}<br>1=%{y}<br>2=%{z}<extra></extra>",
         "legendgroup": "bloody",
         "marker": {
          "color": "#FF6692",
          "symbol": "circle"
         },
         "mode": "markers",
         "name": "bloody",
         "scene": "scene",
         "showlegend": true,
         "type": "scatter3d",
         "x": [
          -0.048026278614997864
         ],
         "y": [
          -0.22599634528160095
         ],
         "z": [
          0.10983037948608398
         ]
        },
        {
         "hovertemplate": "color=heart<br>0=%{x}<br>1=%{y}<br>2=%{z}<extra></extra>",
         "legendgroup": "heart",
         "marker": {
          "color": "#B6E880",
          "symbol": "circle"
         },
         "mode": "markers",
         "name": "heart",
         "scene": "scene",
         "showlegend": true,
         "type": "scatter3d",
         "x": [
          0.2556864023208618
         ],
         "y": [
          -0.18998467922210693
         ],
         "z": [
          -0.005667894147336483
         ]
        },
        {
         "hovertemplate": "color=pale<br>0=%{x}<br>1=%{y}<br>2=%{z}<extra></extra>",
         "legendgroup": "pale",
         "marker": {
          "color": "#FF97FF",
          "symbol": "circle"
         },
         "mode": "markers",
         "name": "pale",
         "scene": "scene",
         "showlegend": true,
         "type": "scatter3d",
         "x": [
          0.6865512728691101
         ],
         "y": [
          0.1106533482670784
         ],
         "z": [
          -0.19551590085029602
         ]
        },
        {
         "hovertemplate": "color=love<br>0=%{x}<br>1=%{y}<br>2=%{z}<extra></extra>",
         "legendgroup": "love",
         "marker": {
          "color": "#FECB52",
          "symbol": "circle"
         },
         "mode": "markers",
         "name": "love",
         "scene": "scene",
         "showlegend": true,
         "type": "scatter3d",
         "x": [
          -0.7680594325065613
         ],
         "y": [
          -0.06135132163763046
         ],
         "z": [
          -0.006335044279694557
         ]
        },
        {
         "hovertemplate": "color=sat<br>0=%{x}<br>1=%{y}<br>2=%{z}<extra></extra>",
         "legendgroup": "sat",
         "marker": {
          "color": "#636efa",
          "symbol": "circle"
         },
         "mode": "markers",
         "name": "sat",
         "scene": "scene",
         "showlegend": true,
         "type": "scatter3d",
         "x": [
          0.48947542905807495
         ],
         "y": [
          0.3902960419654846
         ],
         "z": [
          -0.19525887072086334
         ]
        },
        {
         "hovertemplate": "color=moment<br>0=%{x}<br>1=%{y}<br>2=%{z}<extra></extra>",
         "legendgroup": "moment",
         "marker": {
          "color": "#EF553B",
          "symbol": "circle"
         },
         "mode": "markers",
         "name": "moment",
         "scene": "scene",
         "showlegend": true,
         "type": "scatter3d",
         "x": [
          -0.03155605122447014
         ],
         "y": [
          -0.4857891798019409
         ],
         "z": [
          -0.16342778503894806
         ]
        },
        {
         "hovertemplate": "color=bring<br>0=%{x}<br>1=%{y}<br>2=%{z}<extra></extra>",
         "legendgroup": "bring",
         "marker": {
          "color": "#00cc96",
          "symbol": "circle"
         },
         "mode": "markers",
         "name": "bring",
         "scene": "scene",
         "showlegend": true,
         "type": "scatter3d",
         "x": [
          -0.5528579354286194
         ],
         "y": [
          0.14794519543647766
         ],
         "z": [
          0.09954023361206055
         ]
        },
        {
         "hovertemplate": "color=bed<br>0=%{x}<br>1=%{y}<br>2=%{z}<extra></extra>",
         "legendgroup": "bed",
         "marker": {
          "color": "#ab63fa",
          "symbol": "circle"
         },
         "mode": "markers",
         "name": "bed",
         "scene": "scene",
         "showlegend": true,
         "type": "scatter3d",
         "x": [
          0.11373062431812286
         ],
         "y": [
          -0.2523716688156128
         ],
         "z": [
          0.05409621074795723
         ]
        },
        {
         "hovertemplate": "color=close<br>0=%{x}<br>1=%{y}<br>2=%{z}<extra></extra>",
         "legendgroup": "close",
         "marker": {
          "color": "#FFA15A",
          "symbol": "circle"
         },
         "mode": "markers",
         "name": "close",
         "scene": "scene",
         "showlegend": true,
         "type": "scatter3d",
         "x": [
          0.3312026262283325
         ],
         "y": [
          -0.15666832029819489
         ],
         "z": [
          0.07221141457557678
         ]
        },
        {
         "hovertemplate": "color=knights<br>0=%{x}<br>1=%{y}<br>2=%{z}<extra></extra>",
         "legendgroup": "knights",
         "marker": {
          "color": "#19d3f3",
          "symbol": "circle"
         },
         "mode": "markers",
         "name": "knights",
         "scene": "scene",
         "showlegend": true,
         "type": "scatter3d",
         "x": [
          -0.2275509536266327
         ],
         "y": [
          0.8839448094367981
         ],
         "z": [
          0.05979303643107414
         ]
        },
        {
         "hovertemplate": "color=cut<br>0=%{x}<br>1=%{y}<br>2=%{z}<extra></extra>",
         "legendgroup": "cut",
         "marker": {
          "color": "#FF6692",
          "symbol": "circle"
         },
         "mode": "markers",
         "name": "cut",
         "scene": "scene",
         "showlegend": true,
         "type": "scatter3d",
         "x": [
          0.32014644145965576
         ],
         "y": [
          -0.20797811448574066
         ],
         "z": [
          -0.02569880709052086
         ]
        },
        {
         "hovertemplate": "color=wolf<br>0=%{x}<br>1=%{y}<br>2=%{z}<extra></extra>",
         "legendgroup": "wolf",
         "marker": {
          "color": "#B6E880",
          "symbol": "circle"
         },
         "mode": "markers",
         "name": "wolf",
         "scene": "scene",
         "showlegend": true,
         "type": "scatter3d",
         "x": [
          0.02482539229094982
         ],
         "y": [
          -0.17196357250213623
         ],
         "z": [
          -0.04357912018895149
         ]
        },
        {
         "hovertemplate": "color=death<br>0=%{x}<br>1=%{y}<br>2=%{z}<extra></extra>",
         "legendgroup": "death",
         "marker": {
          "color": "#FF97FF",
          "symbol": "circle"
         },
         "mode": "markers",
         "name": "death",
         "scene": "scene",
         "showlegend": true,
         "type": "scatter3d",
         "x": [
          -0.5526860356330872
         ],
         "y": [
          0.07008372247219086
         ],
         "z": [
          0.21959935128688812
         ]
        },
        {
         "hovertemplate": "color=horses<br>0=%{x}<br>1=%{y}<br>2=%{z}<extra></extra>",
         "legendgroup": "horses",
         "marker": {
          "color": "#FECB52",
          "symbol": "circle"
         },
         "mode": "markers",
         "name": "horses",
         "scene": "scene",
         "showlegend": true,
         "type": "scatter3d",
         "x": [
          0.3580126464366913
         ],
         "y": [
          0.1385282576084137
         ],
         "z": [
          0.5661628246307373
         ]
        },
        {
         "hovertemplate": "color=smile<br>0=%{x}<br>1=%{y}<br>2=%{z}<extra></extra>",
         "legendgroup": "smile",
         "marker": {
          "color": "#636efa",
          "symbol": "circle"
         },
         "mode": "markers",
         "name": "smile",
         "scene": "scene",
         "showlegend": true,
         "type": "scatter3d",
         "x": [
          -0.033817946910858154
         ],
         "y": [
          -0.4196871221065521
         ],
         "z": [
          -0.5910844206809998
         ]
        },
        {
         "hovertemplate": "color=inside<br>0=%{x}<br>1=%{y}<br>2=%{z}<extra></extra>",
         "legendgroup": "inside",
         "marker": {
          "color": "#EF553B",
          "symbol": "circle"
         },
         "mode": "markers",
         "name": "inside",
         "scene": "scene",
         "showlegend": true,
         "type": "scatter3d",
         "x": [
          0.6494121551513672
         ],
         "y": [
          -0.09919057786464691
         ],
         "z": [
          0.26403510570526123
         ]
        },
        {
         "hovertemplate": "color=four<br>0=%{x}<br>1=%{y}<br>2=%{z}<extra></extra>",
         "legendgroup": "four",
         "marker": {
          "color": "#00cc96",
          "symbol": "circle"
         },
         "mode": "markers",
         "name": "four",
         "scene": "scene",
         "showlegend": true,
         "type": "scatter3d",
         "x": [
          0.06654294580221176
         ],
         "y": [
          0.6849954724311829
         ],
         "z": [
          0.2446979582309723
         ]
        },
        {
         "hovertemplate": "color=brown<br>0=%{x}<br>1=%{y}<br>2=%{z}<extra></extra>",
         "legendgroup": "brown",
         "marker": {
          "color": "#ab63fa",
          "symbol": "circle"
         },
         "mode": "markers",
         "name": "brown",
         "scene": "scene",
         "showlegend": true,
         "type": "scatter3d",
         "x": [
          0.6106542944908142
         ],
         "y": [
          0.1425090730190277
         ],
         "z": [
          -0.2804761528968811
         ]
        },
        {
         "hovertemplate": "color=dragons<br>0=%{x}<br>1=%{y}<br>2=%{z}<extra></extra>",
         "legendgroup": "dragons",
         "marker": {
          "color": "#FFA15A",
          "symbol": "circle"
         },
         "mode": "markers",
         "name": "dragons",
         "scene": "scene",
         "showlegend": true,
         "type": "scatter3d",
         "x": [
          -0.21956245601177216
         ],
         "y": [
          0.2733461856842041
         ],
         "z": [
          0.48997223377227783
         ]
        },
        {
         "hovertemplate": "color=hot<br>0=%{x}<br>1=%{y}<br>2=%{z}<extra></extra>",
         "legendgroup": "hot",
         "marker": {
          "color": "#19d3f3",
          "symbol": "circle"
         },
         "mode": "markers",
         "name": "hot",
         "scene": "scene",
         "showlegend": true,
         "type": "scatter3d",
         "x": [
          0.4237244427204132
         ],
         "y": [
          -0.4444712698459625
         ],
         "z": [
          0.2377898097038269
         ]
        },
        {
         "hovertemplate": "color=silver<br>0=%{x}<br>1=%{y}<br>2=%{z}<extra></extra>",
         "legendgroup": "silver",
         "marker": {
          "color": "#FF6692",
          "symbol": "circle"
         },
         "mode": "markers",
         "name": "silver",
         "scene": "scene",
         "showlegend": true,
         "type": "scatter3d",
         "x": [
          0.4940509498119354
         ],
         "y": [
          0.4294924736022949
         ],
         "z": [
          -0.22460989654064178
         ]
        },
        {
         "hovertemplate": "color=part<br>0=%{x}<br>1=%{y}<br>2=%{z}<extra></extra>",
         "legendgroup": "part",
         "marker": {
          "color": "#B6E880",
          "symbol": "circle"
         },
         "mode": "markers",
         "name": "part",
         "scene": "scene",
         "showlegend": true,
         "type": "scatter3d",
         "x": [
          -0.5850042104721069
         ],
         "y": [
          0.0729900524020195
         ],
         "z": [
          0.371854692697525
         ]
        },
        {
         "hovertemplate": "color=bastard<br>0=%{x}<br>1=%{y}<br>2=%{z}<extra></extra>",
         "legendgroup": "bastard",
         "marker": {
          "color": "#FF97FF",
          "symbol": "circle"
         },
         "mode": "markers",
         "name": "bastard",
         "scene": "scene",
         "showlegend": true,
         "type": "scatter3d",
         "x": [
          -0.5662538409233093
         ],
         "y": [
          0.5220656394958496
         ],
         "z": [
          -0.3250507414340973
         ]
        },
        {
         "hovertemplate": "color=open<br>0=%{x}<br>1=%{y}<br>2=%{z}<extra></extra>",
         "legendgroup": "open",
         "marker": {
          "color": "#FECB52",
          "symbol": "circle"
         },
         "mode": "markers",
         "name": "open",
         "scene": "scene",
         "showlegend": true,
         "type": "scatter3d",
         "x": [
          0.5117506980895996
         ],
         "y": [
          0.04927966743707657
         ],
         "z": [
          -0.041837241500616074
         ]
        },
        {
         "hovertemplate": "color=thousand<br>0=%{x}<br>1=%{y}<br>2=%{z}<extra></extra>",
         "legendgroup": "thousand",
         "marker": {
          "color": "#636efa",
          "symbol": "circle"
         },
         "mode": "markers",
         "name": "thousand",
         "scene": "scene",
         "showlegend": true,
         "type": "scatter3d",
         "x": [
          -0.0562233068048954
         ],
         "y": [
          0.5675563216209412
         ],
         "z": [
          0.5195966958999634
         ]
        },
        {
         "hovertemplate": "color=landing<br>0=%{x}<br>1=%{y}<br>2=%{z}<extra></extra>",
         "legendgroup": "landing",
         "marker": {
          "color": "#EF553B",
          "symbol": "circle"
         },
         "mode": "markers",
         "name": "landing",
         "scene": "scene",
         "showlegend": true,
         "type": "scatter3d",
         "x": [
          -0.2908605635166168
         ],
         "y": [
          0.47958627343177795
         ],
         "z": [
          0.08175241947174072
         ]
        },
        {
         "hovertemplate": "color=uncle<br>0=%{x}<br>1=%{y}<br>2=%{z}<extra></extra>",
         "legendgroup": "uncle",
         "marker": {
          "color": "#00cc96",
          "symbol": "circle"
         },
         "mode": "markers",
         "name": "uncle",
         "scene": "scene",
         "showlegend": true,
         "type": "scatter3d",
         "x": [
          -0.6914158463478088
         ],
         "y": [
          0.49843862652778625
         ],
         "z": [
          -0.2841571867465973
         ]
        },
        {
         "hovertemplate": "color=going<br>0=%{x}<br>1=%{y}<br>2=%{z}<extra></extra>",
         "legendgroup": "going",
         "marker": {
          "color": "#ab63fa",
          "symbol": "circle"
         },
         "mode": "markers",
         "name": "going",
         "scene": "scene",
         "showlegend": true,
         "type": "scatter3d",
         "x": [
          -0.3085128664970398
         ],
         "y": [
          -0.30943313241004944
         ],
         "z": [
          0.45004963874816895
         ]
        },
        {
         "hovertemplate": "color=blue<br>0=%{x}<br>1=%{y}<br>2=%{z}<extra></extra>",
         "legendgroup": "blue",
         "marker": {
          "color": "#FFA15A",
          "symbol": "circle"
         },
         "mode": "markers",
         "name": "blue",
         "scene": "scene",
         "showlegend": true,
         "type": "scatter3d",
         "x": [
          0.5545555353164673
         ],
         "y": [
          0.24930553138256073
         ],
         "z": [
          -0.16655975580215454
         ]
        },
        {
         "hovertemplate": "color=air<br>0=%{x}<br>1=%{y}<br>2=%{z}<extra></extra>",
         "legendgroup": "air",
         "marker": {
          "color": "#19d3f3",
          "symbol": "circle"
         },
         "mode": "markers",
         "name": "air",
         "scene": "scene",
         "showlegend": true,
         "type": "scatter3d",
         "x": [
          0.6944074034690857
         ],
         "y": [
          -0.2294844537973404
         ],
         "z": [
          0.22084060311317444
         ]
        },
        {
         "hovertemplate": "color=captain<br>0=%{x}<br>1=%{y}<br>2=%{z}<extra></extra>",
         "legendgroup": "captain",
         "marker": {
          "color": "#FF6692",
          "symbol": "circle"
         },
         "mode": "markers",
         "name": "captain",
         "scene": "scene",
         "showlegend": true,
         "type": "scatter3d",
         "x": [
          -0.3190540075302124
         ],
         "y": [
          0.6583013534545898
         ],
         "z": [
          -0.29965606331825256
         ]
        },
        {
         "hovertemplate": "color=please<br>0=%{x}<br>1=%{y}<br>2=%{z}<extra></extra>",
         "legendgroup": "please",
         "marker": {
          "color": "#B6E880",
          "symbol": "circle"
         },
         "mode": "markers",
         "name": "please",
         "scene": "scene",
         "showlegend": true,
         "type": "scatter3d",
         "x": [
          -0.6791523098945618
         ],
         "y": [
          -0.1550106555223465
         ],
         "z": [
          -0.14484573900699615
         ]
        },
        {
         "hovertemplate": "color=laughed<br>0=%{x}<br>1=%{y}<br>2=%{z}<extra></extra>",
         "legendgroup": "laughed",
         "marker": {
          "color": "#FF97FF",
          "symbol": "circle"
         },
         "mode": "markers",
         "name": "laughed",
         "scene": "scene",
         "showlegend": true,
         "type": "scatter3d",
         "x": [
          -0.3194490671157837
         ],
         "y": [
          -0.2464386224746704
         ],
         "z": [
          -0.4780219793319702
         ]
        },
        {
         "hovertemplate": "color=river<br>0=%{x}<br>1=%{y}<br>2=%{z}<extra></extra>",
         "legendgroup": "river",
         "marker": {
          "color": "#FECB52",
          "symbol": "circle"
         },
         "mode": "markers",
         "name": "river",
         "scene": "scene",
         "showlegend": true,
         "type": "scatter3d",
         "x": [
          0.43783310055732727
         ],
         "y": [
          0.41237157583236694
         ],
         "z": [
          0.5037213563919067
         ]
        },
        {
         "hovertemplate": "color=sun<br>0=%{x}<br>1=%{y}<br>2=%{z}<extra></extra>",
         "legendgroup": "sun",
         "marker": {
          "color": "#636efa",
          "symbol": "circle"
         },
         "mode": "markers",
         "name": "sun",
         "scene": "scene",
         "showlegend": true,
         "type": "scatter3d",
         "x": [
          0.5338954329490662
         ],
         "y": [
          0.15969540178775787
         ],
         "z": [
          0.36554113030433655
         ]
        },
        {
         "hovertemplate": "color=rose<br>0=%{x}<br>1=%{y}<br>2=%{z}<extra></extra>",
         "legendgroup": "rose",
         "marker": {
          "color": "#EF553B",
          "symbol": "circle"
         },
         "mode": "markers",
         "name": "rose",
         "scene": "scene",
         "showlegend": true,
         "type": "scatter3d",
         "x": [
          0.6601171493530273
         ],
         "y": [
          0.37682265043258667
         ],
         "z": [
          -0.1168246641755104
         ]
        },
        {
         "hovertemplate": "color=fell<br>0=%{x}<br>1=%{y}<br>2=%{z}<extra></extra>",
         "legendgroup": "fell",
         "marker": {
          "color": "#00cc96",
          "symbol": "circle"
         },
         "mode": "markers",
         "name": "fell",
         "scene": "scene",
         "showlegend": true,
         "type": "scatter3d",
         "x": [
          0.5952990055084229
         ],
         "y": [
          0.1194387897849083
         ],
         "z": [
          -0.05774127319455147
         ]
        },
        {
         "hovertemplate": "color=war<br>0=%{x}<br>1=%{y}<br>2=%{z}<extra></extra>",
         "legendgroup": "war",
         "marker": {
          "color": "#ab63fa",
          "symbol": "circle"
         },
         "mode": "markers",
         "name": "war",
         "scene": "scene",
         "showlegend": true,
         "type": "scatter3d",
         "x": [
          -0.5949288010597229
         ],
         "y": [
          0.554659366607666
         ],
         "z": [
          0.3592027425765991
         ]
        },
        {
         "hovertemplate": "color=golden<br>0=%{x}<br>1=%{y}<br>2=%{z}<extra></extra>",
         "legendgroup": "golden",
         "marker": {
          "color": "#FFA15A",
          "symbol": "circle"
         },
         "mode": "markers",
         "name": "golden",
         "scene": "scene",
         "showlegend": true,
         "type": "scatter3d",
         "x": [
          0.4225740432739258
         ],
         "y": [
          0.5855163931846619
         ],
         "z": [
          -0.2857204079627991
         ]
        },
        {
         "hovertemplate": "color=sleep<br>0=%{x}<br>1=%{y}<br>2=%{z}<extra></extra>",
         "legendgroup": "sleep",
         "marker": {
          "color": "#19d3f3",
          "symbol": "circle"
         },
         "mode": "markers",
         "name": "sleep",
         "scene": "scene",
         "showlegend": true,
         "type": "scatter3d",
         "x": [
          0.004648309666663408
         ],
         "y": [
          -0.5197739601135254
         ],
         "z": [
          0.2533314824104309
         ]
        },
        {
         "hovertemplate": "color=without<br>0=%{x}<br>1=%{y}<br>2=%{z}<extra></extra>",
         "legendgroup": "without",
         "marker": {
          "color": "#FF6692",
          "symbol": "circle"
         },
         "mode": "markers",
         "name": "without",
         "scene": "scene",
         "showlegend": true,
         "type": "scatter3d",
         "x": [
          -0.5082671642303467
         ],
         "y": [
          -0.0065558310598134995
         ],
         "z": [
          0.3700721263885498
         ]
        },
        {
         "hovertemplate": "color=swords<br>0=%{x}<br>1=%{y}<br>2=%{z}<extra></extra>",
         "legendgroup": "swords",
         "marker": {
          "color": "#B6E880",
          "symbol": "circle"
         },
         "mode": "markers",
         "name": "swords",
         "scene": "scene",
         "showlegend": true,
         "type": "scatter3d",
         "x": [
          -0.07347206026315689
         ],
         "y": [
          0.6819427609443665
         ],
         "z": [
          0.34116092324256897
         ]
        },
        {
         "hovertemplate": "color=speak<br>0=%{x}<br>1=%{y}<br>2=%{z}<extra></extra>",
         "legendgroup": "speak",
         "marker": {
          "color": "#FF97FF",
          "symbol": "circle"
         },
         "mode": "markers",
         "name": "speak",
         "scene": "scene",
         "showlegend": true,
         "type": "scatter3d",
         "x": [
          -0.6804846525192261
         ],
         "y": [
          -0.1850852072238922
         ],
         "z": [
          0.039608076214790344
         ]
        },
        {
         "hovertemplate": "color=renly<br>0=%{x}<br>1=%{y}<br>2=%{z}<extra></extra>",
         "legendgroup": "renly",
         "marker": {
          "color": "#FECB52",
          "symbol": "circle"
         },
         "mode": "markers",
         "name": "renly",
         "scene": "scene",
         "showlegend": true,
         "type": "scatter3d",
         "x": [
          -0.44438108801841736
         ],
         "y": [
          0.5088967680931091
         ],
         "z": [
          -0.24576115608215332
         ]
        },
        {
         "hovertemplate": "color=certain<br>0=%{x}<br>1=%{y}<br>2=%{z}<extra></extra>",
         "legendgroup": "certain",
         "marker": {
          "color": "#636efa",
          "symbol": "circle"
         },
         "mode": "markers",
         "name": "certain",
         "scene": "scene",
         "showlegend": true,
         "type": "scatter3d",
         "x": [
          -0.6288353204727173
         ],
         "y": [
          -0.21439620852470398
         ],
         "z": [
          0.14827904105186462
         ]
        },
        {
         "hovertemplate": "color=fool<br>0=%{x}<br>1=%{y}<br>2=%{z}<extra></extra>",
         "legendgroup": "fool",
         "marker": {
          "color": "#EF553B",
          "symbol": "circle"
         },
         "mode": "markers",
         "name": "fool",
         "scene": "scene",
         "showlegend": true,
         "type": "scatter3d",
         "x": [
          -0.5700799226760864
         ],
         "y": [
          -0.17701363563537598
         ],
         "z": [
          -0.30339717864990234
         ]
        },
        {
         "hovertemplate": "color=full<br>0=%{x}<br>1=%{y}<br>2=%{z}<extra></extra>",
         "legendgroup": "full",
         "marker": {
          "color": "#00cc96",
          "symbol": "circle"
         },
         "mode": "markers",
         "name": "full",
         "scene": "scene",
         "showlegend": true,
         "type": "scatter3d",
         "x": [
          0.4202108085155487
         ],
         "y": [
          -0.15841729938983917
         ],
         "z": [
          0.30610358715057373
         ]
        },
        {
         "hovertemplate": "color=beyond<br>0=%{x}<br>1=%{y}<br>2=%{z}<extra></extra>",
         "legendgroup": "beyond",
         "marker": {
          "color": "#ab63fa",
          "symbol": "circle"
         },
         "mode": "markers",
         "name": "beyond",
         "scene": "scene",
         "showlegend": true,
         "type": "scatter3d",
         "x": [
          0.09037831425666809
         ],
         "y": [
          0.43325504660606384
         ],
         "z": [
          0.624068558216095
         ]
        },
        {
         "hovertemplate": "color=feel<br>0=%{x}<br>1=%{y}<br>2=%{z}<extra></extra>",
         "legendgroup": "feel",
         "marker": {
          "color": "#FFA15A",
          "symbol": "circle"
         },
         "mode": "markers",
         "name": "feel",
         "scene": "scene",
         "showlegend": true,
         "type": "scatter3d",
         "x": [
          0.22196178138256073
         ],
         "y": [
          -0.48415154218673706
         ],
         "z": [
          0.16055706143379211
         ]
        },
        {
         "hovertemplate": "color=send<br>0=%{x}<br>1=%{y}<br>2=%{z}<extra></extra>",
         "legendgroup": "send",
         "marker": {
          "color": "#19d3f3",
          "symbol": "circle"
         },
         "mode": "markers",
         "name": "send",
         "scene": "scene",
         "showlegend": true,
         "type": "scatter3d",
         "x": [
          -0.5649994611740112
         ],
         "y": [
          0.18389394879341125
         ],
         "z": [
          0.15053965151309967
         ]
        },
        {
         "hovertemplate": "color=got<br>0=%{x}<br>1=%{y}<br>2=%{z}<extra></extra>",
         "legendgroup": "got",
         "marker": {
          "color": "#FF6692",
          "symbol": "circle"
         },
         "mode": "markers",
         "name": "got",
         "scene": "scene",
         "showlegend": true,
         "type": "scatter3d",
         "x": [
          0.03692374378442764
         ],
         "y": [
          -0.38137832283973694
         ],
         "z": [
          0.08105742931365967
         ]
        },
        {
         "hovertemplate": "color=tongue<br>0=%{x}<br>1=%{y}<br>2=%{z}<extra></extra>",
         "legendgroup": "tongue",
         "marker": {
          "color": "#B6E880",
          "symbol": "circle"
         },
         "mode": "markers",
         "name": "tongue",
         "scene": "scene",
         "showlegend": true,
         "type": "scatter3d",
         "x": [
          -0.15595152974128723
         ],
         "y": [
          -0.4084804952144623
         ],
         "z": [
          -0.17829930782318115
         ]
        },
        {
         "hovertemplate": "color=fight<br>0=%{x}<br>1=%{y}<br>2=%{z}<extra></extra>",
         "legendgroup": "fight",
         "marker": {
          "color": "#FF97FF",
          "symbol": "circle"
         },
         "mode": "markers",
         "name": "fight",
         "scene": "scene",
         "showlegend": true,
         "type": "scatter3d",
         "x": [
          -0.51727694272995
         ],
         "y": [
          0.016973305493593216
         ],
         "z": [
          0.4160074293613434
         ]
        },
        {
         "hovertemplate": "color=rode<br>0=%{x}<br>1=%{y}<br>2=%{z}<extra></extra>",
         "legendgroup": "rode",
         "marker": {
          "color": "#FECB52",
          "symbol": "circle"
         },
         "mode": "markers",
         "name": "rode",
         "scene": "scene",
         "showlegend": true,
         "type": "scatter3d",
         "x": [
          0.3747604191303253
         ],
         "y": [
          0.5625786781311035
         ],
         "z": [
          0.06148892641067505
         ]
        },
        {
         "hovertemplate": "color=set<br>0=%{x}<br>1=%{y}<br>2=%{z}<extra></extra>",
         "legendgroup": "set",
         "marker": {
          "color": "#636efa",
          "symbol": "circle"
         },
         "mode": "markers",
         "name": "set",
         "scene": "scene",
         "showlegend": true,
         "type": "scatter3d",
         "x": [
          0.3482173681259155
         ],
         "y": [
          0.36367759108543396
         ],
         "z": [
          0.2099122703075409
         ]
        },
        {
         "hovertemplate": "color=thick<br>0=%{x}<br>1=%{y}<br>2=%{z}<extra></extra>",
         "legendgroup": "thick",
         "marker": {
          "color": "#EF553B",
          "symbol": "circle"
         },
         "mode": "markers",
         "name": "thick",
         "scene": "scene",
         "showlegend": true,
         "type": "scatter3d",
         "x": [
          0.7525718212127686
         ],
         "y": [
          0.1031380146741867
         ],
         "z": [
          -0.07046947628259659
         ]
        },
        {
         "hovertemplate": "color=world<br>0=%{x}<br>1=%{y}<br>2=%{z}<extra></extra>",
         "legendgroup": "world",
         "marker": {
          "color": "#00cc96",
          "symbol": "circle"
         },
         "mode": "markers",
         "name": "world",
         "scene": "scene",
         "showlegend": true,
         "type": "scatter3d",
         "x": [
          -0.004670930560678244
         ],
         "y": [
          -0.03596876561641693
         ],
         "z": [
          0.683648943901062
         ]
        },
        {
         "hovertemplate": "color=throat<br>0=%{x}<br>1=%{y}<br>2=%{z}<extra></extra>",
         "legendgroup": "throat",
         "marker": {
          "color": "#ab63fa",
          "symbol": "circle"
         },
         "mode": "markers",
         "name": "throat",
         "scene": "scene",
         "showlegend": true,
         "type": "scatter3d",
         "x": [
          0.47609394788742065
         ],
         "y": [
          -0.38683438301086426
         ],
         "z": [
          -0.38228660821914673
         ]
        },
        {
         "hovertemplate": "color=deep<br>0=%{x}<br>1=%{y}<br>2=%{z}<extra></extra>",
         "legendgroup": "deep",
         "marker": {
          "color": "#FFA15A",
          "symbol": "circle"
         },
         "mode": "markers",
         "name": "deep",
         "scene": "scene",
         "showlegend": true,
         "type": "scatter3d",
         "x": [
          0.7564283609390259
         ],
         "y": [
          0.023014767095446587
         ],
         "z": [
          0.08397156000137329
         ]
        },
        {
         "hovertemplate": "color=legs<br>0=%{x}<br>1=%{y}<br>2=%{z}<extra></extra>",
         "legendgroup": "legs",
         "marker": {
          "color": "#19d3f3",
          "symbol": "circle"
         },
         "mode": "markers",
         "name": "legs",
         "scene": "scene",
         "showlegend": true,
         "type": "scatter3d",
         "x": [
          0.6961631774902344
         ],
         "y": [
          -0.1933538168668747
         ],
         "z": [
          -0.042146071791648865
         ]
        },
        {
         "hovertemplate": "color=call<br>0=%{x}<br>1=%{y}<br>2=%{z}<extra></extra>",
         "legendgroup": "call",
         "marker": {
          "color": "#FF6692",
          "symbol": "circle"
         },
         "mode": "markers",
         "name": "call",
         "scene": "scene",
         "showlegend": true,
         "type": "scatter3d",
         "x": [
          -0.6585301160812378
         ],
         "y": [
          -0.0054340241476893425
         ],
         "z": [
          0.043475814163684845
         ]
        },
        {
         "hovertemplate": "color=honor<br>0=%{x}<br>1=%{y}<br>2=%{z}<extra></extra>",
         "legendgroup": "honor",
         "marker": {
          "color": "#B6E880",
          "symbol": "circle"
         },
         "mode": "markers",
         "name": "honor",
         "scene": "scene",
         "showlegend": true,
         "type": "scatter3d",
         "x": [
          -0.7420662641525269
         ],
         "y": [
          0.4343431890010834
         ],
         "z": [
          -0.12083502858877182
         ]
        },
        {
         "hovertemplate": "color=rock<br>0=%{x}<br>1=%{y}<br>2=%{z}<extra></extra>",
         "legendgroup": "rock",
         "marker": {
          "color": "#FF97FF",
          "symbol": "circle"
         },
         "mode": "markers",
         "name": "rock",
         "scene": "scene",
         "showlegend": true,
         "type": "scatter3d",
         "x": [
          0.09314184635877609
         ],
         "y": [
          0.6113001108169556
         ],
         "z": [
          -0.04260928928852081
         ]
        },
        {
         "hovertemplate": "color=trees<br>0=%{x}<br>1=%{y}<br>2=%{z}<extra></extra>",
         "legendgroup": "trees",
         "marker": {
          "color": "#FECB52",
          "symbol": "circle"
         },
         "mode": "markers",
         "name": "trees",
         "scene": "scene",
         "showlegend": true,
         "type": "scatter3d",
         "x": [
          0.68022620677948
         ],
         "y": [
          0.13005399703979492
         ],
         "z": [
          0.39736446738243103
         ]
        },
        {
         "hovertemplate": "color=tall<br>0=%{x}<br>1=%{y}<br>2=%{z}<extra></extra>",
         "legendgroup": "tall",
         "marker": {
          "color": "#636efa",
          "symbol": "circle"
         },
         "mode": "markers",
         "name": "tall",
         "scene": "scene",
         "showlegend": true,
         "type": "scatter3d",
         "x": [
          0.5534884929656982
         ],
         "y": [
          0.5186311602592468
         ],
         "z": [
          -0.055114924907684326
         ]
        },
        {
         "hovertemplate": "color=table<br>0=%{x}<br>1=%{y}<br>2=%{z}<extra></extra>",
         "legendgroup": "table",
         "marker": {
          "color": "#EF553B",
          "symbol": "circle"
         },
         "mode": "markers",
         "name": "table",
         "scene": "scene",
         "showlegend": true,
         "type": "scatter3d",
         "x": [
          0.4247955083847046
         ],
         "y": [
          0.39917734265327454
         ],
         "z": [
          -0.3335142731666565
         ]
        },
        {
         "hovertemplate": "color=pulled<br>0=%{x}<br>1=%{y}<br>2=%{z}<extra></extra>",
         "legendgroup": "pulled",
         "marker": {
          "color": "#00cc96",
          "symbol": "circle"
         },
         "mode": "markers",
         "name": "pulled",
         "scene": "scene",
         "showlegend": true,
         "type": "scatter3d",
         "x": [
          0.6181371808052063
         ],
         "y": [
          -0.007050449959933758
         ],
         "z": [
          -0.3898390531539917
         ]
        },
        {
         "hovertemplate": "color=mormont<br>0=%{x}<br>1=%{y}<br>2=%{z}<extra></extra>",
         "legendgroup": "mormont",
         "marker": {
          "color": "#ab63fa",
          "symbol": "circle"
         },
         "mode": "markers",
         "name": "mormont",
         "scene": "scene",
         "showlegend": true,
         "type": "scatter3d",
         "x": [
          -0.05076893791556358
         ],
         "y": [
          0.2685680389404297
         ],
         "z": [
          -0.4877917170524597
         ]
        },
        {
         "hovertemplate": "color=women<br>0=%{x}<br>1=%{y}<br>2=%{z}<extra></extra>",
         "legendgroup": "women",
         "marker": {
          "color": "#FFA15A",
          "symbol": "circle"
         },
         "mode": "markers",
         "name": "women",
         "scene": "scene",
         "showlegend": true,
         "type": "scatter3d",
         "x": [
          -0.16801728308200836
         ],
         "y": [
          0.2367839515209198
         ],
         "z": [
          0.3746854364871979
         ]
        },
        {
         "hovertemplate": "color=broken<br>0=%{x}<br>1=%{y}<br>2=%{z}<extra></extra>",
         "legendgroup": "broken",
         "marker": {
          "color": "#19d3f3",
          "symbol": "circle"
         },
         "mode": "markers",
         "name": "broken",
         "scene": "scene",
         "showlegend": true,
         "type": "scatter3d",
         "x": [
          0.7350914478302002
         ],
         "y": [
          0.20712870359420776
         ],
         "z": [
          0.13361585140228271
         ]
        },
        {
         "hovertemplate": "color=steps<br>0=%{x}<br>1=%{y}<br>2=%{z}<extra></extra>",
         "legendgroup": "steps",
         "marker": {
          "color": "#FF6692",
          "symbol": "circle"
         },
         "mode": "markers",
         "name": "steps",
         "scene": "scene",
         "showlegend": true,
         "type": "scatter3d",
         "x": [
          0.6063475012779236
         ],
         "y": [
          0.28534847497940063
         ],
         "z": [
          0.2113932967185974
         ]
        },
        {
         "hovertemplate": "color=things<br>0=%{x}<br>1=%{y}<br>2=%{z}<extra></extra>",
         "legendgroup": "things",
         "marker": {
          "color": "#B6E880",
          "symbol": "circle"
         },
         "mode": "markers",
         "name": "things",
         "scene": "scene",
         "showlegend": true,
         "type": "scatter3d",
         "x": [
          -0.36715903878211975
         ],
         "y": [
          -0.32165998220443726
         ],
         "z": [
          0.4113822877407074
         ]
        },
        {
         "hovertemplate": "color=next<br>0=%{x}<br>1=%{y}<br>2=%{z}<extra></extra>",
         "legendgroup": "next",
         "marker": {
          "color": "#FF97FF",
          "symbol": "circle"
         },
         "mode": "markers",
         "name": "next",
         "scene": "scene",
         "showlegend": true,
         "type": "scatter3d",
         "x": [
          -0.06916826218366623
         ],
         "y": [
          -0.08764328807592392
         ],
         "z": [
          0.2608640491962433
         ]
        },
        {
         "hovertemplate": "color=hodor<br>0=%{x}<br>1=%{y}<br>2=%{z}<extra></extra>",
         "legendgroup": "hodor",
         "marker": {
          "color": "#FECB52",
          "symbol": "circle"
         },
         "mode": "markers",
         "name": "hodor",
         "scene": "scene",
         "showlegend": true,
         "type": "scatter3d",
         "x": [
          0.28463155031204224
         ],
         "y": [
          -0.4432758390903473
         ],
         "z": [
          -0.03668094426393509
         ]
        },
        {
         "hovertemplate": "color=heavy<br>0=%{x}<br>1=%{y}<br>2=%{z}<extra></extra>",
         "legendgroup": "heavy",
         "marker": {
          "color": "#636efa",
          "symbol": "circle"
         },
         "mode": "markers",
         "name": "heavy",
         "scene": "scene",
         "showlegend": true,
         "type": "scatter3d",
         "x": [
          0.7671996355056763
         ],
         "y": [
          0.12616342306137085
         ],
         "z": [
          -0.12585793435573578
         ]
        },
        {
         "hovertemplate": "color=burned<br>0=%{x}<br>1=%{y}<br>2=%{z}<extra></extra>",
         "legendgroup": "burned",
         "marker": {
          "color": "#EF553B",
          "symbol": "circle"
         },
         "mode": "markers",
         "name": "burned",
         "scene": "scene",
         "showlegend": true,
         "type": "scatter3d",
         "x": [
          0.44006556272506714
         ],
         "y": [
          0.25508132576942444
         ],
         "z": [
          0.44925540685653687
         ]
        },
        {
         "hovertemplate": "color=oh<br>0=%{x}<br>1=%{y}<br>2=%{z}<extra></extra>",
         "legendgroup": "oh",
         "marker": {
          "color": "#00cc96",
          "symbol": "circle"
         },
         "mode": "markers",
         "name": "oh",
         "scene": "scene",
         "showlegend": true,
         "type": "scatter3d",
         "x": [
          -0.6163706183433533
         ],
         "y": [
          -0.23940174281597137
         ],
         "z": [
          -0.26106417179107666
         ]
        },
        {
         "hovertemplate": "color=toward<br>0=%{x}<br>1=%{y}<br>2=%{z}<extra></extra>",
         "legendgroup": "toward",
         "marker": {
          "color": "#ab63fa",
          "symbol": "circle"
         },
         "mode": "markers",
         "name": "toward",
         "scene": "scene",
         "showlegend": true,
         "type": "scatter3d",
         "x": [
          0.6130334138870239
         ],
         "y": [
          0.28322601318359375
         ],
         "z": [
          -0.03584415093064308
         ]
        },
        {
         "hovertemplate": "color=together<br>0=%{x}<br>1=%{y}<br>2=%{z}<extra></extra>",
         "legendgroup": "together",
         "marker": {
          "color": "#FFA15A",
          "symbol": "circle"
         },
         "mode": "markers",
         "name": "together",
         "scene": "scene",
         "showlegend": true,
         "type": "scatter3d",
         "x": [
          0.47484588623046875
         ],
         "y": [
          0.20641964673995972
         ],
         "z": [
          0.30709362030029297
         ]
        },
        {
         "hovertemplate": "color=skin<br>0=%{x}<br>1=%{y}<br>2=%{z}<extra></extra>",
         "legendgroup": "skin",
         "marker": {
          "color": "#19d3f3",
          "symbol": "circle"
         },
         "mode": "markers",
         "name": "skin",
         "scene": "scene",
         "showlegend": true,
         "type": "scatter3d",
         "x": [
          0.6341808438301086
         ],
         "y": [
          -0.269009530544281
         ],
         "z": [
          -0.19803853332996368
         ]
        },
        {
         "hovertemplate": "color=given<br>0=%{x}<br>1=%{y}<br>2=%{z}<extra></extra>",
         "legendgroup": "given",
         "marker": {
          "color": "#FF6692",
          "symbol": "circle"
         },
         "mode": "markers",
         "name": "given",
         "scene": "scene",
         "showlegend": true,
         "type": "scatter3d",
         "x": [
          -0.5085409283638
         ],
         "y": [
          0.22538313269615173
         ],
         "z": [
          0.055171504616737366
         ]
        },
        {
         "hovertemplate": "color=since<br>0=%{x}<br>1=%{y}<br>2=%{z}<extra></extra>",
         "legendgroup": "since",
         "marker": {
          "color": "#B6E880",
          "symbol": "circle"
         },
         "mode": "markers",
         "name": "since",
         "scene": "scene",
         "showlegend": true,
         "type": "scatter3d",
         "x": [
          -0.2887098789215088
         ],
         "y": [
          0.38176125288009644
         ],
         "z": [
          0.33912724256515503
         ]
        },
        {
         "hovertemplate": "color=alone<br>0=%{x}<br>1=%{y}<br>2=%{z}<extra></extra>",
         "legendgroup": "alone",
         "marker": {
          "color": "#FF97FF",
          "symbol": "circle"
         },
         "mode": "markers",
         "name": "alone",
         "scene": "scene",
         "showlegend": true,
         "type": "scatter3d",
         "x": [
          -0.288395494222641
         ],
         "y": [
          -0.02718954347074032
         ],
         "z": [
          0.451709508895874
         ]
        },
        {
         "hovertemplate": "color=moved<br>0=%{x}<br>1=%{y}<br>2=%{z}<extra></extra>",
         "legendgroup": "moved",
         "marker": {
          "color": "#FECB52",
          "symbol": "circle"
         },
         "mode": "markers",
         "name": "moved",
         "scene": "scene",
         "showlegend": true,
         "type": "scatter3d",
         "x": [
          0.5545852184295654
         ],
         "y": [
          -0.018960166722536087
         ],
         "z": [
          -0.0057823918759822845
         ]
        },
        {
         "hovertemplate": "color=smiled<br>0=%{x}<br>1=%{y}<br>2=%{z}<extra></extra>",
         "legendgroup": "smiled",
         "marker": {
          "color": "#636efa",
          "symbol": "circle"
         },
         "mode": "markers",
         "name": "smiled",
         "scene": "scene",
         "showlegend": true,
         "type": "scatter3d",
         "x": [
          -0.1570446938276291
         ],
         "y": [
          -0.28380832076072693
         ],
         "z": [
          -0.6392282843589783
         ]
        },
        {
         "hovertemplate": "color=dwarf<br>0=%{x}<br>1=%{y}<br>2=%{z}<extra></extra>",
         "legendgroup": "dwarf",
         "marker": {
          "color": "#EF553B",
          "symbol": "circle"
         },
         "mode": "markers",
         "name": "dwarf",
         "scene": "scene",
         "showlegend": true,
         "type": "scatter3d",
         "x": [
          -0.38729235529899597
         ],
         "y": [
          -0.3684721887111664
         ],
         "z": [
          -0.36087408661842346
         ]
        },
        {
         "hovertemplate": "color=storm<br>0=%{x}<br>1=%{y}<br>2=%{z}<extra></extra>",
         "legendgroup": "storm",
         "marker": {
          "color": "#00cc96",
          "symbol": "circle"
         },
         "mode": "markers",
         "name": "storm",
         "scene": "scene",
         "showlegend": true,
         "type": "scatter3d",
         "x": [
          -0.2013774812221527
         ],
         "y": [
          0.5953356027603149
         ],
         "z": [
          0.35264459252357483
         ]
        },
        {
         "hovertemplate": "color=raised<br>0=%{x}<br>1=%{y}<br>2=%{z}<extra></extra>",
         "legendgroup": "raised",
         "marker": {
          "color": "#ab63fa",
          "symbol": "circle"
         },
         "mode": "markers",
         "name": "raised",
         "scene": "scene",
         "showlegend": true,
         "type": "scatter3d",
         "x": [
          0.30036330223083496
         ],
         "y": [
          0.41758862137794495
         ],
         "z": [
          -0.28442883491516113
         ]
        },
        {
         "hovertemplate": "color=ride<br>0=%{x}<br>1=%{y}<br>2=%{z}<extra></extra>",
         "legendgroup": "ride",
         "marker": {
          "color": "#FFA15A",
          "symbol": "circle"
         },
         "mode": "markers",
         "name": "ride",
         "scene": "scene",
         "showlegend": true,
         "type": "scatter3d",
         "x": [
          -0.30026158690452576
         ],
         "y": [
          0.12946896255016327
         ],
         "z": [
          0.5598013997077942
         ]
        },
        {
         "hovertemplate": "color=ask<br>0=%{x}<br>1=%{y}<br>2=%{z}<extra></extra>",
         "legendgroup": "ask",
         "marker": {
          "color": "#19d3f3",
          "symbol": "circle"
         },
         "mode": "markers",
         "name": "ask",
         "scene": "scene",
         "showlegend": true,
         "type": "scatter3d",
         "x": [
          -0.780536949634552
         ],
         "y": [
          -0.0884818509221077
         ],
         "z": [
          0.04244956746697426
         ]
        },
        {
         "hovertemplate": "color=eye<br>0=%{x}<br>1=%{y}<br>2=%{z}<extra></extra>",
         "legendgroup": "eye",
         "marker": {
          "color": "#FF6692",
          "symbol": "circle"
         },
         "mode": "markers",
         "name": "eye",
         "scene": "scene",
         "showlegend": true,
         "type": "scatter3d",
         "x": [
          0.34418636560440063
         ],
         "y": [
          0.09753141552209854
         ],
         "z": [
          0.03419520705938339
         ]
        },
        {
         "hovertemplate": "color=hope<br>0=%{x}<br>1=%{y}<br>2=%{z}<extra></extra>",
         "legendgroup": "hope",
         "marker": {
          "color": "#B6E880",
          "symbol": "circle"
         },
         "mode": "markers",
         "name": "hope",
         "scene": "scene",
         "showlegend": true,
         "type": "scatter3d",
         "x": [
          -0.6396138668060303
         ],
         "y": [
          -0.12031067907810211
         ],
         "z": [
          0.2303241491317749
         ]
        },
        {
         "hovertemplate": "color=reached<br>0=%{x}<br>1=%{y}<br>2=%{z}<extra></extra>",
         "legendgroup": "reached",
         "marker": {
          "color": "#FF97FF",
          "symbol": "circle"
         },
         "mode": "markers",
         "name": "reached",
         "scene": "scene",
         "showlegend": true,
         "type": "scatter3d",
         "x": [
          0.4639984965324402
         ],
         "y": [
          0.09043852239847183
         ],
         "z": [
          0.03611809387803078
         ]
        },
        {
         "hovertemplate": "color=soft<br>0=%{x}<br>1=%{y}<br>2=%{z}<extra></extra>",
         "legendgroup": "soft",
         "marker": {
          "color": "#FECB52",
          "symbol": "circle"
         },
         "mode": "markers",
         "name": "soft",
         "scene": "scene",
         "showlegend": true,
         "type": "scatter3d",
         "x": [
          0.6473122239112854
         ],
         "y": [
          -0.23521830141544342
         ],
         "z": [
          -0.264806866645813
         ]
        },
        {
         "hovertemplate": "color=frey<br>0=%{x}<br>1=%{y}<br>2=%{z}<extra></extra>",
         "legendgroup": "frey",
         "marker": {
          "color": "#636efa",
          "symbol": "circle"
         },
         "mode": "markers",
         "name": "frey",
         "scene": "scene",
         "showlegend": true,
         "type": "scatter3d",
         "x": [
          -0.3545859158039093
         ],
         "y": [
          0.6454653739929199
         ],
         "z": [
          -0.5275997519493103
         ]
        },
        {
         "hovertemplate": "color=second<br>0=%{x}<br>1=%{y}<br>2=%{z}<extra></extra>",
         "legendgroup": "second",
         "marker": {
          "color": "#EF553B",
          "symbol": "circle"
         },
         "mode": "markers",
         "name": "second",
         "scene": "scene",
         "showlegend": true,
         "type": "scatter3d",
         "x": [
          0.012881350703537464
         ],
         "y": [
          0.6730421185493469
         ],
         "z": [
          -0.1835225224494934
         ]
        },
        {
         "hovertemplate": "color=remember<br>0=%{x}<br>1=%{y}<br>2=%{z}<extra></extra>",
         "legendgroup": "remember",
         "marker": {
          "color": "#00cc96",
          "symbol": "circle"
         },
         "mode": "markers",
         "name": "remember",
         "scene": "scene",
         "showlegend": true,
         "type": "scatter3d",
         "x": [
          -0.4446132183074951
         ],
         "y": [
          -0.3882158100605011
         ],
         "z": [
          0.18617025017738342
         ]
        },
        {
         "hovertemplate": "color=remembered<br>0=%{x}<br>1=%{y}<br>2=%{z}<extra></extra>",
         "legendgroup": "remembered",
         "marker": {
          "color": "#ab63fa",
          "symbol": "circle"
         },
         "mode": "markers",
         "name": "remembered",
         "scene": "scene",
         "showlegend": true,
         "type": "scatter3d",
         "x": [
          -0.02621929720044136
         ],
         "y": [
          -0.12219084054231644
         ],
         "z": [
          0.008402787148952484
         ]
        },
        {
         "hovertemplate": "color=someone<br>0=%{x}<br>1=%{y}<br>2=%{z}<extra></extra>",
         "legendgroup": "someone",
         "marker": {
          "color": "#FFA15A",
          "symbol": "circle"
         },
         "mode": "markers",
         "name": "someone",
         "scene": "scene",
         "showlegend": true,
         "type": "scatter3d",
         "x": [
          -0.36448943614959717
         ],
         "y": [
          -0.5010783672332764
         ],
         "z": [
          0.05226574465632439
         ]
        },
        {
         "hovertemplate": "color=coming<br>0=%{x}<br>1=%{y}<br>2=%{z}<extra></extra>",
         "legendgroup": "coming",
         "marker": {
          "color": "#19d3f3",
          "symbol": "circle"
         },
         "mode": "markers",
         "name": "coming",
         "scene": "scene",
         "showlegend": true,
         "type": "scatter3d",
         "x": [
          -0.018036143854260445
         ],
         "y": [
          -0.07614808529615402
         ],
         "z": [
          0.6184283494949341
         ]
        },
        {
         "hovertemplate": "color=hold<br>0=%{x}<br>1=%{y}<br>2=%{z}<extra></extra>",
         "legendgroup": "hold",
         "marker": {
          "color": "#FF6692",
          "symbol": "circle"
         },
         "mode": "markers",
         "name": "hold",
         "scene": "scene",
         "showlegend": true,
         "type": "scatter3d",
         "x": [
          -0.36339130997657776
         ],
         "y": [
          0.1512417048215866
         ],
         "z": [
          0.23257246613502502
         ]
        },
        {
         "hovertemplate": "color=meant<br>0=%{x}<br>1=%{y}<br>2=%{z}<extra></extra>",
         "legendgroup": "meant",
         "marker": {
          "color": "#B6E880",
          "symbol": "circle"
         },
         "mode": "markers",
         "name": "meant",
         "scene": "scene",
         "showlegend": true,
         "type": "scatter3d",
         "x": [
          -0.6588454246520996
         ],
         "y": [
          -0.2541779577732086
         ],
         "z": [
          0.21140703558921814
         ]
        },
        {
         "hovertemplate": "color=cannot<br>0=%{x}<br>1=%{y}<br>2=%{z}<extra></extra>",
         "legendgroup": "cannot",
         "marker": {
          "color": "#FF97FF",
          "symbol": "circle"
         },
         "mode": "markers",
         "name": "cannot",
         "scene": "scene",
         "showlegend": true,
         "type": "scatter3d",
         "x": [
          -0.6872854828834534
         ],
         "y": [
          -0.0546158030629158
         ],
         "z": [
          0.2567730247974396
         ]
        },
        {
         "hovertemplate": "color=morning<br>0=%{x}<br>1=%{y}<br>2=%{z}<extra></extra>",
         "legendgroup": "morning",
         "marker": {
          "color": "#FECB52",
          "symbol": "circle"
         },
         "mode": "markers",
         "name": "morning",
         "scene": "scene",
         "showlegend": true,
         "type": "scatter3d",
         "x": [
          0.3121449053287506
         ],
         "y": [
          -0.011473431251943111
         ],
         "z": [
          0.33151814341545105
         ]
        },
        {
         "hovertemplate": "color=ten<br>0=%{x}<br>1=%{y}<br>2=%{z}<extra></extra>",
         "legendgroup": "ten",
         "marker": {
          "color": "#636efa",
          "symbol": "circle"
         },
         "mode": "markers",
         "name": "ten",
         "scene": "scene",
         "showlegend": true,
         "type": "scatter3d",
         "x": [
          -0.08081910759210587
         ],
         "y": [
          0.5769515037536621
         ],
         "z": [
          0.31067612767219543
         ]
        },
        {
         "hovertemplate": "color=teeth<br>0=%{x}<br>1=%{y}<br>2=%{z}<extra></extra>",
         "legendgroup": "teeth",
         "marker": {
          "color": "#EF553B",
          "symbol": "circle"
         },
         "mode": "markers",
         "name": "teeth",
         "scene": "scene",
         "showlegend": true,
         "type": "scatter3d",
         "x": [
          0.6663097143173218
         ],
         "y": [
          -0.301832914352417
         ],
         "z": [
          -0.18699994683265686
         ]
        },
        {
         "hovertemplate": "color=else<br>0=%{x}<br>1=%{y}<br>2=%{z}<extra></extra>",
         "legendgroup": "else",
         "marker": {
          "color": "#00cc96",
          "symbol": "circle"
         },
         "mode": "markers",
         "name": "else",
         "scene": "scene",
         "showlegend": true,
         "type": "scatter3d",
         "x": [
          -0.48986518383026123
         ],
         "y": [
          -0.45336806774139404
         ],
         "z": [
          0.25584661960601807
         ]
        },
        {
         "hovertemplate": "color=throne<br>0=%{x}<br>1=%{y}<br>2=%{z}<extra></extra>",
         "legendgroup": "throne",
         "marker": {
          "color": "#ab63fa",
          "symbol": "circle"
         },
         "mode": "markers",
         "name": "throne",
         "scene": "scene",
         "showlegend": true,
         "type": "scatter3d",
         "x": [
          -0.20844270288944244
         ],
         "y": [
          0.5502147078514099
         ],
         "z": [
          -0.01851470395922661
         ]
        },
        {
         "hovertemplate": "color=command<br>0=%{x}<br>1=%{y}<br>2=%{z}<extra></extra>",
         "legendgroup": "command",
         "marker": {
          "color": "#FFA15A",
          "symbol": "circle"
         },
         "mode": "markers",
         "name": "command",
         "scene": "scene",
         "showlegend": true,
         "type": "scatter3d",
         "x": [
          -0.5955381989479065
         ],
         "y": [
          0.5257793068885803
         ],
         "z": [
          -0.013430086895823479
         ]
        },
        {
         "hovertemplate": "color=fat<br>0=%{x}<br>1=%{y}<br>2=%{z}<extra></extra>",
         "legendgroup": "fat",
         "marker": {
          "color": "#19d3f3",
          "symbol": "circle"
         },
         "mode": "markers",
         "name": "fat",
         "scene": "scene",
         "showlegend": true,
         "type": "scatter3d",
         "x": [
          0.1219254806637764
         ],
         "y": [
          0.10303547233343124
         ],
         "z": [
          -0.5310468673706055
         ]
        },
        {
         "hovertemplate": "color=truth<br>0=%{x}<br>1=%{y}<br>2=%{z}<extra></extra>",
         "legendgroup": "truth",
         "marker": {
          "color": "#FF6692",
          "symbol": "circle"
         },
         "mode": "markers",
         "name": "truth",
         "scene": "scene",
         "showlegend": true,
         "type": "scatter3d",
         "x": [
          -0.6776271462440491
         ],
         "y": [
          -0.25002238154411316
         ],
         "z": [
          0.12828557193279266
         ]
        },
        {
         "hovertemplate": "color=walder<br>0=%{x}<br>1=%{y}<br>2=%{z}<extra></extra>",
         "legendgroup": "walder",
         "marker": {
          "color": "#B6E880",
          "symbol": "circle"
         },
         "mode": "markers",
         "name": "walder",
         "scene": "scene",
         "showlegend": true,
         "type": "scatter3d",
         "x": [
          -0.2864864468574524
         ],
         "y": [
          0.5581963062286377
         ],
         "z": [
          -0.4429387152194977
         ]
        },
        {
         "hovertemplate": "color=commander<br>0=%{x}<br>1=%{y}<br>2=%{z}<extra></extra>",
         "legendgroup": "commander",
         "marker": {
          "color": "#FF97FF",
          "symbol": "circle"
         },
         "mode": "markers",
         "name": "commander",
         "scene": "scene",
         "showlegend": true,
         "type": "scatter3d",
         "x": [
          -0.3051196336746216
         ],
         "y": [
          0.6011143326759338
         ],
         "z": [
          -0.1458868682384491
         ]
        },
        {
         "hovertemplate": "color=ground<br>0=%{x}<br>1=%{y}<br>2=%{z}<extra></extra>",
         "legendgroup": "ground",
         "marker": {
          "color": "#FECB52",
          "symbol": "circle"
         },
         "mode": "markers",
         "name": "ground",
         "scene": "scene",
         "showlegend": true,
         "type": "scatter3d",
         "x": [
          0.7662485241889954
         ],
         "y": [
          -0.01921066641807556
         ],
         "z": [
          0.1254275143146515
         ]
        },
        {
         "hovertemplate": "color=doubt<br>0=%{x}<br>1=%{y}<br>2=%{z}<extra></extra>",
         "legendgroup": "doubt",
         "marker": {
          "color": "#636efa",
          "symbol": "circle"
         },
         "mode": "markers",
         "name": "doubt",
         "scene": "scene",
         "showlegend": true,
         "type": "scatter3d",
         "x": [
          -0.6870753169059753
         ],
         "y": [
          0.07377932220697403
         ],
         "z": [
          0.17831189930438995
         ]
        },
        {
         "hovertemplate": "color=jorah<br>0=%{x}<br>1=%{y}<br>2=%{z}<extra></extra>",
         "legendgroup": "jorah",
         "marker": {
          "color": "#EF553B",
          "symbol": "circle"
         },
         "mode": "markers",
         "name": "jorah",
         "scene": "scene",
         "showlegend": true,
         "type": "scatter3d",
         "x": [
          -0.14263425767421722
         ],
         "y": [
          -0.004475566558539867
         ],
         "z": [
          -0.3315252661705017
         ]
        },
        {
         "hovertemplate": "color=outside<br>0=%{x}<br>1=%{y}<br>2=%{z}<extra></extra>",
         "legendgroup": "outside",
         "marker": {
          "color": "#00cc96",
          "symbol": "circle"
         },
         "mode": "markers",
         "name": "outside",
         "scene": "scene",
         "showlegend": true,
         "type": "scatter3d",
         "x": [
          0.4113834500312805
         ],
         "y": [
          0.33506032824516296
         ],
         "z": [
          0.40015000104904175
         ]
        },
        {
         "hovertemplate": "color=cup<br>0=%{x}<br>1=%{y}<br>2=%{z}<extra></extra>",
         "legendgroup": "cup",
         "marker": {
          "color": "#ab63fa",
          "symbol": "circle"
         },
         "mode": "markers",
         "name": "cup",
         "scene": "scene",
         "showlegend": true,
         "type": "scatter3d",
         "x": [
          0.1191154420375824
         ],
         "y": [
          -0.19196653366088867
         ],
         "z": [
          -0.39942124485969543
         ]
        },
        {
         "hovertemplate": "color=known<br>0=%{x}<br>1=%{y}<br>2=%{z}<extra></extra>",
         "legendgroup": "known",
         "marker": {
          "color": "#FFA15A",
          "symbol": "circle"
         },
         "mode": "markers",
         "name": "known",
         "scene": "scene",
         "showlegend": true,
         "type": "scatter3d",
         "x": [
          -0.5569653511047363
         ],
         "y": [
          0.0008967119501903653
         ],
         "z": [
          0.11396751552820206
         ]
        },
        {
         "hovertemplate": "color=wore<br>0=%{x}<br>1=%{y}<br>2=%{z}<extra></extra>",
         "legendgroup": "wore",
         "marker": {
          "color": "#19d3f3",
          "symbol": "circle"
         },
         "mode": "markers",
         "name": "wore",
         "scene": "scene",
         "showlegend": true,
         "type": "scatter3d",
         "x": [
          0.49914249777793884
         ],
         "y": [
          0.4187096655368805
         ],
         "z": [
          -0.3366880714893341
         ]
        },
        {
         "hovertemplate": "color=ran<br>0=%{x}<br>1=%{y}<br>2=%{z}<extra></extra>",
         "legendgroup": "ran",
         "marker": {
          "color": "#FF6692",
          "symbol": "circle"
         },
         "mode": "markers",
         "name": "ran",
         "scene": "scene",
         "showlegend": true,
         "type": "scatter3d",
         "x": [
          0.6750769019126892
         ],
         "y": [
          -0.09418129920959473
         ],
         "z": [
          -0.05891604349017143
         ]
        },
        {
         "hovertemplate": "color=gate<br>0=%{x}<br>1=%{y}<br>2=%{z}<extra></extra>",
         "legendgroup": "gate",
         "marker": {
          "color": "#B6E880",
          "symbol": "circle"
         },
         "mode": "markers",
         "name": "gate",
         "scene": "scene",
         "showlegend": true,
         "type": "scatter3d",
         "x": [
          0.3788226544857025
         ],
         "y": [
          0.5053970217704773
         ],
         "z": [
          0.28679731488227844
         ]
        },
        {
         "hovertemplate": "color=held<br>0=%{x}<br>1=%{y}<br>2=%{z}<extra></extra>",
         "legendgroup": "held",
         "marker": {
          "color": "#FF97FF",
          "symbol": "circle"
         },
         "mode": "markers",
         "name": "held",
         "scene": "scene",
         "showlegend": true,
         "type": "scatter3d",
         "x": [
          0.33158230781555176
         ],
         "y": [
          0.2438245713710785
         ],
         "z": [
          -0.3943899869918823
         ]
        },
        {
         "hovertemplate": "color=room<br>0=%{x}<br>1=%{y}<br>2=%{z}<extra></extra>",
         "legendgroup": "room",
         "marker": {
          "color": "#FECB52",
          "symbol": "circle"
         },
         "mode": "markers",
         "name": "room",
         "scene": "scene",
         "showlegend": true,
         "type": "scatter3d",
         "x": [
          0.5612082481384277
         ],
         "y": [
          0.18269942700862885
         ],
         "z": [
          0.23837947845458984
         ]
        },
        {
         "hovertemplate": "color=closed<br>0=%{x}<br>1=%{y}<br>2=%{z}<extra></extra>",
         "legendgroup": "closed",
         "marker": {
          "color": "#636efa",
          "symbol": "circle"
         },
         "mode": "markers",
         "name": "closed",
         "scene": "scene",
         "showlegend": true,
         "type": "scatter3d",
         "x": [
          0.4824104905128479
         ],
         "y": [
          -0.03136109933257103
         ],
         "z": [
          0.04784156382083893
         ]
        },
        {
         "hovertemplate": "color=home<br>0=%{x}<br>1=%{y}<br>2=%{z}<extra></extra>",
         "legendgroup": "home",
         "marker": {
          "color": "#EF553B",
          "symbol": "circle"
         },
         "mode": "markers",
         "name": "home",
         "scene": "scene",
         "showlegend": true,
         "type": "scatter3d",
         "x": [
          -0.49374571442604065
         ],
         "y": [
          0.08422449231147766
         ],
         "z": [
          0.3581969141960144
         ]
        },
        {
         "hovertemplate": "color=matter<br>0=%{x}<br>1=%{y}<br>2=%{z}<extra></extra>",
         "legendgroup": "matter",
         "marker": {
          "color": "#00cc96",
          "symbol": "circle"
         },
         "mode": "markers",
         "name": "matter",
         "scene": "scene",
         "showlegend": true,
         "type": "scatter3d",
         "x": [
          -0.6142112016677856
         ],
         "y": [
          -0.19505083560943604
         ],
         "z": [
          0.17936502397060394
         ]
        },
        {
         "hovertemplate": "color=sky<br>0=%{x}<br>1=%{y}<br>2=%{z}<extra></extra>",
         "legendgroup": "sky",
         "marker": {
          "color": "#ab63fa",
          "symbol": "circle"
         },
         "mode": "markers",
         "name": "sky",
         "scene": "scene",
         "showlegend": true,
         "type": "scatter3d",
         "x": [
          0.6476348638534546
         ],
         "y": [
          0.1676415652036667
         ],
         "z": [
          0.2589673399925232
         ]
        },
        {
         "hovertemplate": "color=south<br>0=%{x}<br>1=%{y}<br>2=%{z}<extra></extra>",
         "legendgroup": "south",
         "marker": {
          "color": "#FFA15A",
          "symbol": "circle"
         },
         "mode": "markers",
         "name": "south",
         "scene": "scene",
         "showlegend": true,
         "type": "scatter3d",
         "x": [
          -0.028303546831011772
         ],
         "y": [
          0.6048573851585388
         ],
         "z": [
          0.4907616674900055
         ]
        },
        {
         "hovertemplate": "color=wood<br>0=%{x}<br>1=%{y}<br>2=%{z}<extra></extra>",
         "legendgroup": "wood",
         "marker": {
          "color": "#19d3f3",
          "symbol": "circle"
         },
         "mode": "markers",
         "name": "wood",
         "scene": "scene",
         "showlegend": true,
         "type": "scatter3d",
         "x": [
          0.7185207009315491
         ],
         "y": [
          0.20360785722732544
         ],
         "z": [
          0.25822705030441284
         ]
        },
        {
         "hovertemplate": "color=dozen<br>0=%{x}<br>1=%{y}<br>2=%{z}<extra></extra>",
         "legendgroup": "dozen",
         "marker": {
          "color": "#FF6692",
          "symbol": "circle"
         },
         "mode": "markers",
         "name": "dozen",
         "scene": "scene",
         "showlegend": true,
         "type": "scatter3d",
         "x": [
          0.31303486227989197
         ],
         "y": [
          0.6228193640708923
         ],
         "z": [
          0.33827364444732666
         ]
        },
        {
         "hovertemplate": "color=people<br>0=%{x}<br>1=%{y}<br>2=%{z}<extra></extra>",
         "legendgroup": "people",
         "marker": {
          "color": "#B6E880",
          "symbol": "circle"
         },
         "mode": "markers",
         "name": "people",
         "scene": "scene",
         "showlegend": true,
         "type": "scatter3d",
         "x": [
          -0.3735167384147644
         ],
         "y": [
          0.21716025471687317
         ],
         "z": [
          0.63874351978302
         ]
        },
        {
         "hovertemplate": "color=wed<br>0=%{x}<br>1=%{y}<br>2=%{z}<extra></extra>",
         "legendgroup": "wed",
         "marker": {
          "color": "#FF97FF",
          "symbol": "circle"
         },
         "mode": "markers",
         "name": "wed",
         "scene": "scene",
         "showlegend": true,
         "type": "scatter3d",
         "x": [
          -0.7342116236686707
         ],
         "y": [
          0.4404282867908478
         ],
         "z": [
          -0.2247326523065567
         ]
        },
        {
         "hovertemplate": "color=neck<br>0=%{x}<br>1=%{y}<br>2=%{z}<extra></extra>",
         "legendgroup": "neck",
         "marker": {
          "color": "#FECB52",
          "symbol": "circle"
         },
         "mode": "markers",
         "name": "neck",
         "scene": "scene",
         "showlegend": true,
         "type": "scatter3d",
         "x": [
          0.7019107937812805
         ],
         "y": [
          -0.01668357104063034
         ],
         "z": [
          -0.1830383837223053
         ]
        },
        {
         "hovertemplate": "color=riverrun<br>0=%{x}<br>1=%{y}<br>2=%{z}<extra></extra>",
         "legendgroup": "riverrun",
         "marker": {
          "color": "#636efa",
          "symbol": "circle"
         },
         "mode": "markers",
         "name": "riverrun",
         "scene": "scene",
         "showlegend": true,
         "type": "scatter3d",
         "x": [
          -0.48536714911460876
         ],
         "y": [
          0.6498233079910278
         ],
         "z": [
          -0.04164329171180725
         ]
        },
        {
         "hovertemplate": "color=food<br>0=%{x}<br>1=%{y}<br>2=%{z}<extra></extra>",
         "legendgroup": "food",
         "marker": {
          "color": "#EF553B",
          "symbol": "circle"
         },
         "mode": "markers",
         "name": "food",
         "scene": "scene",
         "showlegend": true,
         "type": "scatter3d",
         "x": [
          -0.12940548360347748
         ],
         "y": [
          -0.21427442133426666
         ],
         "z": [
          0.411422997713089
         ]
        },
        {
         "hovertemplate": "color=instead<br>0=%{x}<br>1=%{y}<br>2=%{z}<extra></extra>",
         "legendgroup": "instead",
         "marker": {
          "color": "#00cc96",
          "symbol": "circle"
         },
         "mode": "markers",
         "name": "instead",
         "scene": "scene",
         "showlegend": true,
         "type": "scatter3d",
         "x": [
          -0.024025090038776398
         ],
         "y": [
          0.11199691891670227
         ],
         "z": [
          -0.1254824995994568
         ]
        },
        {
         "hovertemplate": "color=near<br>0=%{x}<br>1=%{y}<br>2=%{z}<extra></extra>",
         "legendgroup": "near",
         "marker": {
          "color": "#ab63fa",
          "symbol": "circle"
         },
         "mode": "markers",
         "name": "near",
         "scene": "scene",
         "showlegend": true,
         "type": "scatter3d",
         "x": [
          0.31748807430267334
         ],
         "y": [
          0.4526705741882324
         ],
         "z": [
          0.3329104781150818
         ]
        },
        {
         "hovertemplate": "color=turn<br>0=%{x}<br>1=%{y}<br>2=%{z}<extra></extra>",
         "legendgroup": "turn",
         "marker": {
          "color": "#FFA15A",
          "symbol": "circle"
         },
         "mode": "markers",
         "name": "turn",
         "scene": "scene",
         "showlegend": true,
         "type": "scatter3d",
         "x": [
          -0.20247644186019897
         ],
         "y": [
          -0.18223851919174194
         ],
         "z": [
          0.3360314667224884
         ]
        },
        {
         "hovertemplate": "color=talk<br>0=%{x}<br>1=%{y}<br>2=%{z}<extra></extra>",
         "legendgroup": "talk",
         "marker": {
          "color": "#19d3f3",
          "symbol": "circle"
         },
         "mode": "markers",
         "name": "talk",
         "scene": "scene",
         "showlegend": true,
         "type": "scatter3d",
         "x": [
          -0.6203410625457764
         ],
         "y": [
          -0.19485750794410706
         ],
         "z": [
          0.32414939999580383
         ]
        },
        {
         "hovertemplate": "color=none<br>0=%{x}<br>1=%{y}<br>2=%{z}<extra></extra>",
         "legendgroup": "none",
         "marker": {
          "color": "#FF6692",
          "symbol": "circle"
         },
         "mode": "markers",
         "name": "none",
         "scene": "scene",
         "showlegend": true,
         "type": "scatter3d",
         "x": [
          -0.6272916793823242
         ],
         "y": [
          -0.1214253306388855
         ],
         "z": [
          0.31511518359184265
         ]
        },
        {
         "hovertemplate": "color=ships<br>0=%{x}<br>1=%{y}<br>2=%{z}<extra></extra>",
         "legendgroup": "ships",
         "marker": {
          "color": "#B6E880",
          "symbol": "circle"
         },
         "mode": "markers",
         "name": "ships",
         "scene": "scene",
         "showlegend": true,
         "type": "scatter3d",
         "x": [
          -0.12151437252759933
         ],
         "y": [
          0.5589240193367004
         ],
         "z": [
          0.5963659286499023
         ]
        },
        {
         "hovertemplate": "color=tyrell<br>0=%{x}<br>1=%{y}<br>2=%{z}<extra></extra>",
         "legendgroup": "tyrell",
         "marker": {
          "color": "#FF97FF",
          "symbol": "circle"
         },
         "mode": "markers",
         "name": "tyrell",
         "scene": "scene",
         "showlegend": true,
         "type": "scatter3d",
         "x": [
          -0.4683387875556946
         ],
         "y": [
          0.6950358152389526
         ],
         "z": [
          -0.45854076743125916
         ]
        },
        {
         "hovertemplate": "color=moon<br>0=%{x}<br>1=%{y}<br>2=%{z}<extra></extra>",
         "legendgroup": "moon",
         "marker": {
          "color": "#FECB52",
          "symbol": "circle"
         },
         "mode": "markers",
         "name": "moon",
         "scene": "scene",
         "showlegend": true,
         "type": "scatter3d",
         "x": [
          0.38277706503868103
         ],
         "y": [
          0.34415751695632935
         ],
         "z": [
          0.21447907388210297
         ]
        },
        {
         "hovertemplate": "color=lips<br>0=%{x}<br>1=%{y}<br>2=%{z}<extra></extra>",
         "legendgroup": "lips",
         "marker": {
          "color": "#636efa",
          "symbol": "circle"
         },
         "mode": "markers",
         "name": "lips",
         "scene": "scene",
         "showlegend": true,
         "type": "scatter3d",
         "x": [
          0.44263342022895813
         ],
         "y": [
          -0.43278026580810547
         ],
         "z": [
          -0.46557193994522095
         ]
        },
        {
         "hovertemplate": "color=summer<br>0=%{x}<br>1=%{y}<br>2=%{z}<extra></extra>",
         "legendgroup": "summer",
         "marker": {
          "color": "#EF553B",
          "symbol": "circle"
         },
         "mode": "markers",
         "name": "summer",
         "scene": "scene",
         "showlegend": true,
         "type": "scatter3d",
         "x": [
          0.2949279248714447
         ],
         "y": [
          -0.08420786261558533
         ],
         "z": [
          0.3617314100265503
         ]
        },
        {
         "hovertemplate": "color=shadow<br>0=%{x}<br>1=%{y}<br>2=%{z}<extra></extra>",
         "legendgroup": "shadow",
         "marker": {
          "color": "#00cc96",
          "symbol": "circle"
         },
         "mode": "markers",
         "name": "shadow",
         "scene": "scene",
         "showlegend": true,
         "type": "scatter3d",
         "x": [
          0.441183477640152
         ],
         "y": [
          0.3998872935771942
         ],
         "z": [
          0.2698393762111664
         ]
        },
        {
         "hovertemplate": "color=bolton<br>0=%{x}<br>1=%{y}<br>2=%{z}<extra></extra>",
         "legendgroup": "bolton",
         "marker": {
          "color": "#ab63fa",
          "symbol": "circle"
         },
         "mode": "markers",
         "name": "bolton",
         "scene": "scene",
         "showlegend": true,
         "type": "scatter3d",
         "x": [
          -0.5177635550498962
         ],
         "y": [
          0.4598769545555115
         ],
         "z": [
          -0.32823556661605835
         ]
        },
        {
         "hovertemplate": "color=watched<br>0=%{x}<br>1=%{y}<br>2=%{z}<extra></extra>",
         "legendgroup": "watched",
         "marker": {
          "color": "#FFA15A",
          "symbol": "circle"
         },
         "mode": "markers",
         "name": "watched",
         "scene": "scene",
         "showlegend": true,
         "type": "scatter3d",
         "x": [
          0.4404716491699219
         ],
         "y": [
          -0.09301099926233292
         ],
         "z": [
          -0.013525720685720444
         ]
        },
        {
         "hovertemplate": "color=leather<br>0=%{x}<br>1=%{y}<br>2=%{z}<extra></extra>",
         "legendgroup": "leather",
         "marker": {
          "color": "#19d3f3",
          "symbol": "circle"
         },
         "mode": "markers",
         "name": "leather",
         "scene": "scene",
         "showlegend": true,
         "type": "scatter3d",
         "x": [
          0.715624213218689
         ],
         "y": [
          0.21969936788082123
         ],
         "z": [
          -0.2521749436855316
         ]
        },
        {
         "hovertemplate": "color=times<br>0=%{x}<br>1=%{y}<br>2=%{z}<extra></extra>",
         "legendgroup": "times",
         "marker": {
          "color": "#FF6692",
          "symbol": "circle"
         },
         "mode": "markers",
         "name": "times",
         "scene": "scene",
         "showlegend": true,
         "type": "scatter3d",
         "x": [
          -0.22188182175159454
         ],
         "y": [
          0.33839529752731323
         ],
         "z": [
          0.5138975977897644
         ]
        },
        {
         "hovertemplate": "color=varys<br>0=%{x}<br>1=%{y}<br>2=%{z}<extra></extra>",
         "legendgroup": "varys",
         "marker": {
          "color": "#B6E880",
          "symbol": "circle"
         },
         "mode": "markers",
         "name": "varys",
         "scene": "scene",
         "showlegend": true,
         "type": "scatter3d",
         "x": [
          -0.5317261815071106
         ],
         "y": [
          -0.10953342914581299
         ],
         "z": [
          -0.4282586872577667
         ]
        },
        {
         "hovertemplate": "color=shoulder<br>0=%{x}<br>1=%{y}<br>2=%{z}<extra></extra>",
         "legendgroup": "shoulder",
         "marker": {
          "color": "#FF97FF",
          "symbol": "circle"
         },
         "mode": "markers",
         "name": "shoulder",
         "scene": "scene",
         "showlegend": true,
         "type": "scatter3d",
         "x": [
          0.5616466999053955
         ],
         "y": [
          0.08798965066671371
         ],
         "z": [
          -0.40708112716674805
         ]
        },
        {
         "hovertemplate": "color=septon<br>0=%{x}<br>1=%{y}<br>2=%{z}<extra></extra>",
         "legendgroup": "septon",
         "marker": {
          "color": "#FECB52",
          "symbol": "circle"
         },
         "mode": "markers",
         "name": "septon",
         "scene": "scene",
         "showlegend": true,
         "type": "scatter3d",
         "x": [
          -0.19890108704566956
         ],
         "y": [
          0.4637342691421509
         ],
         "z": [
          -0.04627024382352829
         ]
        },
        {
         "hovertemplate": "color=warm<br>0=%{x}<br>1=%{y}<br>2=%{z}<extra></extra>",
         "legendgroup": "warm",
         "marker": {
          "color": "#636efa",
          "symbol": "circle"
         },
         "mode": "markers",
         "name": "warm",
         "scene": "scene",
         "showlegend": true,
         "type": "scatter3d",
         "x": [
          0.4128590226173401
         ],
         "y": [
          -0.3887898325920105
         ],
         "z": [
          0.2928902208805084
         ]
        },
        {
         "hovertemplate": "color=believe<br>0=%{x}<br>1=%{y}<br>2=%{z}<extra></extra>",
         "legendgroup": "believe",
         "marker": {
          "color": "#EF553B",
          "symbol": "circle"
         },
         "mode": "markers",
         "name": "believe",
         "scene": "scene",
         "showlegend": true,
         "type": "scatter3d",
         "x": [
          -0.7213221192359924
         ],
         "y": [
          -0.18126441538333893
         ],
         "z": [
          0.09901813417673111
         ]
        },
        {
         "hovertemplate": "color=caught<br>0=%{x}<br>1=%{y}<br>2=%{z}<extra></extra>",
         "legendgroup": "caught",
         "marker": {
          "color": "#00cc96",
          "symbol": "circle"
         },
         "mode": "markers",
         "name": "caught",
         "scene": "scene",
         "showlegend": true,
         "type": "scatter3d",
         "x": [
          0.5384105443954468
         ],
         "y": [
          -0.16355688869953156
         ],
         "z": [
          -0.08544866740703583
         ]
        },
        {
         "hovertemplate": "color=least<br>0=%{x}<br>1=%{y}<br>2=%{z}<extra></extra>",
         "legendgroup": "least",
         "marker": {
          "color": "#ab63fa",
          "symbol": "circle"
         },
         "mode": "markers",
         "name": "least",
         "scene": "scene",
         "showlegend": true,
         "type": "scatter3d",
         "x": [
          -0.5614482164382935
         ],
         "y": [
          -0.15619316697120667
         ],
         "z": [
          0.30158892273902893
         ]
        },
        {
         "hovertemplate": "color=guards<br>0=%{x}<br>1=%{y}<br>2=%{z}<extra></extra>",
         "legendgroup": "guards",
         "marker": {
          "color": "#FFA15A",
          "symbol": "circle"
         },
         "mode": "markers",
         "name": "guards",
         "scene": "scene",
         "showlegend": true,
         "type": "scatter3d",
         "x": [
          0.0262367632240057
         ],
         "y": [
          0.6790217757225037
         ],
         "z": [
          0.06946177035570145
         ]
        },
        {
         "hovertemplate": "color=answer<br>0=%{x}<br>1=%{y}<br>2=%{z}<extra></extra>",
         "legendgroup": "answer",
         "marker": {
          "color": "#19d3f3",
          "symbol": "circle"
         },
         "mode": "markers",
         "name": "answer",
         "scene": "scene",
         "showlegend": true,
         "type": "scatter3d",
         "x": [
          -0.5295165777206421
         ],
         "y": [
          -0.38075003027915955
         ],
         "z": [
          -0.08761540800333023
         ]
        },
        {
         "hovertemplate": "color=blade<br>0=%{x}<br>1=%{y}<br>2=%{z}<extra></extra>",
         "legendgroup": "blade",
         "marker": {
          "color": "#FF6692",
          "symbol": "circle"
         },
         "mode": "markers",
         "name": "blade",
         "scene": "scene",
         "showlegend": true,
         "type": "scatter3d",
         "x": [
          0.5355475544929504
         ],
         "y": [
          -0.10558547079563141
         ],
         "z": [
          -0.3583207428455353
         ]
        },
        {
         "hovertemplate": "color=god<br>0=%{x}<br>1=%{y}<br>2=%{z}<extra></extra>",
         "legendgroup": "god",
         "marker": {
          "color": "#B6E880",
          "symbol": "circle"
         },
         "mode": "markers",
         "name": "god",
         "scene": "scene",
         "showlegend": true,
         "type": "scatter3d",
         "x": [
          -0.19100379943847656
         ],
         "y": [
          0.3560495674610138
         ],
         "z": [
          0.38763758540153503
         ]
        },
        {
         "hovertemplate": "color=wondered<br>0=%{x}<br>1=%{y}<br>2=%{z}<extra></extra>",
         "legendgroup": "wondered",
         "marker": {
          "color": "#FF97FF",
          "symbol": "circle"
         },
         "mode": "markers",
         "name": "wondered",
         "scene": "scene",
         "showlegend": true,
         "type": "scatter3d",
         "x": [
          -0.4635380208492279
         ],
         "y": [
          -0.19869066774845123
         ],
         "z": [
          0.07487304508686066
         ]
        },
        {
         "hovertemplate": "color=ice<br>0=%{x}<br>1=%{y}<br>2=%{z}<extra></extra>",
         "legendgroup": "ice",
         "marker": {
          "color": "#FECB52",
          "symbol": "circle"
         },
         "mode": "markers",
         "name": "ice",
         "scene": "scene",
         "showlegend": true,
         "type": "scatter3d",
         "x": [
          0.6539658904075623
         ],
         "y": [
          0.13490039110183716
         ],
         "z": [
          0.3316679000854492
         ]
        },
        {
         "hovertemplate": "color=shield<br>0=%{x}<br>1=%{y}<br>2=%{z}<extra></extra>",
         "legendgroup": "shield",
         "marker": {
          "color": "#636efa",
          "symbol": "circle"
         },
         "mode": "markers",
         "name": "shield",
         "scene": "scene",
         "showlegend": true,
         "type": "scatter3d",
         "x": [
          0.33937421441078186
         ],
         "y": [
          0.5517752766609192
         ],
         "z": [
          -0.3030528724193573
         ]
        },
        {
         "hovertemplate": "color=barristan<br>0=%{x}<br>1=%{y}<br>2=%{z}<extra></extra>",
         "legendgroup": "barristan",
         "marker": {
          "color": "#EF553B",
          "symbol": "circle"
         },
         "mode": "markers",
         "name": "barristan",
         "scene": "scene",
         "showlegend": true,
         "type": "scatter3d",
         "x": [
          -0.3045954704284668
         ],
         "y": [
          0.17887510359287262
         ],
         "z": [
          -0.35998624563217163
         ]
        },
        {
         "hovertemplate": "color=opened<br>0=%{x}<br>1=%{y}<br>2=%{z}<extra></extra>",
         "legendgroup": "opened",
         "marker": {
          "color": "#00cc96",
          "symbol": "circle"
         },
         "mode": "markers",
         "name": "opened",
         "scene": "scene",
         "showlegend": true,
         "type": "scatter3d",
         "x": [
          0.5899054408073425
         ],
         "y": [
          -0.02526739239692688
         ],
         "z": [
          -0.11573370546102524
         ]
        },
        {
         "hovertemplate": "color=mine<br>0=%{x}<br>1=%{y}<br>2=%{z}<extra></extra>",
         "legendgroup": "mine",
         "marker": {
          "color": "#ab63fa",
          "symbol": "circle"
         },
         "mode": "markers",
         "name": "mine",
         "scene": "scene",
         "showlegend": true,
         "type": "scatter3d",
         "x": [
          -0.5793158411979675
         ],
         "y": [
          -0.06678977608680725
         ],
         "z": [
          0.022059576585888863
         ]
        },
        {
         "hovertemplate": "color=armor<br>0=%{x}<br>1=%{y}<br>2=%{z}<extra></extra>",
         "legendgroup": "armor",
         "marker": {
          "color": "#FFA15A",
          "symbol": "circle"
         },
         "mode": "markers",
         "name": "armor",
         "scene": "scene",
         "showlegend": true,
         "type": "scatter3d",
         "x": [
          0.4880422055721283
         ],
         "y": [
          0.42337968945503235
         ],
         "z": [
          -0.21680405735969543
         ]
        },
        {
         "hovertemplate": "color=safe<br>0=%{x}<br>1=%{y}<br>2=%{z}<extra></extra>",
         "legendgroup": "safe",
         "marker": {
          "color": "#19d3f3",
          "symbol": "circle"
         },
         "mode": "markers",
         "name": "safe",
         "scene": "scene",
         "showlegend": true,
         "type": "scatter3d",
         "x": [
          -0.46749457716941833
         ],
         "y": [
          0.04583631455898285
         ],
         "z": [
          0.4151341915130615
         ]
        },
        {
         "hovertemplate": "color=six<br>0=%{x}<br>1=%{y}<br>2=%{z}<extra></extra>",
         "legendgroup": "six",
         "marker": {
          "color": "#FF6692",
          "symbol": "circle"
         },
         "mode": "markers",
         "name": "six",
         "scene": "scene",
         "showlegend": true,
         "type": "scatter3d",
         "x": [
          0.026838241145014763
         ],
         "y": [
          0.642490029335022
         ],
         "z": [
          0.2596202492713928
         ]
        },
        {
         "hovertemplate": "color=kept<br>0=%{x}<br>1=%{y}<br>2=%{z}<extra></extra>",
         "legendgroup": "kept",
         "marker": {
          "color": "#B6E880",
          "symbol": "circle"
         },
         "mode": "markers",
         "name": "kept",
         "scene": "scene",
         "showlegend": true,
         "type": "scatter3d",
         "x": [
          0.09171798080205917
         ],
         "y": [
          -0.052676763385534286
         ],
         "z": [
          0.3150697350502014
         ]
        },
        {
         "hovertemplate": "color=wish<br>0=%{x}<br>1=%{y}<br>2=%{z}<extra></extra>",
         "legendgroup": "wish",
         "marker": {
          "color": "#FF97FF",
          "symbol": "circle"
         },
         "mode": "markers",
         "name": "wish",
         "scene": "scene",
         "showlegend": true,
         "type": "scatter3d",
         "x": [
          -0.7723655104637146
         ],
         "y": [
          -0.08403997868299484
         ],
         "z": [
          -0.02469419315457344
         ]
        },
        {
         "hovertemplate": "color=return<br>0=%{x}<br>1=%{y}<br>2=%{z}<extra></extra>",
         "legendgroup": "return",
         "marker": {
          "color": "#FECB52",
          "symbol": "circle"
         },
         "mode": "markers",
         "name": "return",
         "scene": "scene",
         "showlegend": true,
         "type": "scatter3d",
         "x": [
          -0.7000257968902588
         ],
         "y": [
          0.2278875857591629
         ],
         "z": [
          0.23893654346466064
         ]
        },
        {
         "hovertemplate": "color=tommen<br>0=%{x}<br>1=%{y}<br>2=%{z}<extra></extra>",
         "legendgroup": "tommen",
         "marker": {
          "color": "#636efa",
          "symbol": "circle"
         },
         "mode": "markers",
         "name": "tommen",
         "scene": "scene",
         "showlegend": true,
         "type": "scatter3d",
         "x": [
          -0.564834713935852
         ],
         "y": [
          0.3464694321155548
         ],
         "z": [
          -0.2548139691352844
         ]
        },
        {
         "hovertemplate": "color=used<br>0=%{x}<br>1=%{y}<br>2=%{z}<extra></extra>",
         "legendgroup": "used",
         "marker": {
          "color": "#EF553B",
          "symbol": "circle"
         },
         "mode": "markers",
         "name": "used",
         "scene": "scene",
         "showlegend": true,
         "type": "scatter3d",
         "x": [
          -0.26691266894340515
         ],
         "y": [
          -0.2641619145870209
         ],
         "z": [
          0.25968146324157715
         ]
        },
        {
         "hovertemplate": "color=smell<br>0=%{x}<br>1=%{y}<br>2=%{z}<extra></extra>",
         "legendgroup": "smell",
         "marker": {
          "color": "#00cc96",
          "symbol": "circle"
         },
         "mode": "markers",
         "name": "smell",
         "scene": "scene",
         "showlegend": true,
         "type": "scatter3d",
         "x": [
          0.3175801634788513
         ],
         "y": [
          -0.48585963249206543
         ],
         "z": [
          0.21978096663951874
         ]
        },
        {
         "hovertemplate": "color=less<br>0=%{x}<br>1=%{y}<br>2=%{z}<extra></extra>",
         "legendgroup": "less",
         "marker": {
          "color": "#ab63fa",
          "symbol": "circle"
         },
         "mode": "markers",
         "name": "less",
         "scene": "scene",
         "showlegend": true,
         "type": "scatter3d",
         "x": [
          -0.4836236834526062
         ],
         "y": [
          -0.13905219733715057
         ],
         "z": [
          0.2326870560646057
         ]
        },
        {
         "hovertemplate": "color=foot<br>0=%{x}<br>1=%{y}<br>2=%{z}<extra></extra>",
         "legendgroup": "foot",
         "marker": {
          "color": "#FFA15A",
          "symbol": "circle"
         },
         "mode": "markers",
         "name": "foot",
         "scene": "scene",
         "showlegend": true,
         "type": "scatter3d",
         "x": [
          0.528951108455658
         ],
         "y": [
          0.3265671133995056
         ],
         "z": [
          0.036778900772333145
         ]
        },
        {
         "hovertemplate": "color=floor<br>0=%{x}<br>1=%{y}<br>2=%{z}<extra></extra>",
         "legendgroup": "floor",
         "marker": {
          "color": "#19d3f3",
          "symbol": "circle"
         },
         "mode": "markers",
         "name": "floor",
         "scene": "scene",
         "showlegend": true,
         "type": "scatter3d",
         "x": [
          0.7716718912124634
         ],
         "y": [
          0.139351949095726
         ],
         "z": [
          -0.0484803281724453
         ]
        },
        {
         "hovertemplate": "color=squire<br>0=%{x}<br>1=%{y}<br>2=%{z}<extra></extra>",
         "legendgroup": "squire",
         "marker": {
          "color": "#FF6692",
          "symbol": "circle"
         },
         "mode": "markers",
         "name": "squire",
         "scene": "scene",
         "showlegend": true,
         "type": "scatter3d",
         "x": [
          -0.3623272180557251
         ],
         "y": [
          0.6462243795394897
         ],
         "z": [
          -0.512735903263092
         ]
        },
        {
         "hovertemplate": "color=eddard<br>0=%{x}<br>1=%{y}<br>2=%{z}<extra></extra>",
         "legendgroup": "eddard",
         "marker": {
          "color": "#B6E880",
          "symbol": "circle"
         },
         "mode": "markers",
         "name": "eddard",
         "scene": "scene",
         "showlegend": true,
         "type": "scatter3d",
         "x": [
          -0.38736605644226074
         ],
         "y": [
          0.23062358796596527
         ],
         "z": [
          -0.1404472291469574
         ]
        },
        {
         "hovertemplate": "color=empty<br>0=%{x}<br>1=%{y}<br>2=%{z}<extra></extra>",
         "legendgroup": "empty",
         "marker": {
          "color": "#FF97FF",
          "symbol": "circle"
         },
         "mode": "markers",
         "name": "empty",
         "scene": "scene",
         "showlegend": true,
         "type": "scatter3d",
         "x": [
          0.5571709275245667
         ],
         "y": [
          0.01922483555972576
         ],
         "z": [
          0.21082544326782227
         ]
        },
        {
         "hovertemplate": "color=followed<br>0=%{x}<br>1=%{y}<br>2=%{z}<extra></extra>",
         "legendgroup": "followed",
         "marker": {
          "color": "#FECB52",
          "symbol": "circle"
         },
         "mode": "markers",
         "name": "followed",
         "scene": "scene",
         "showlegend": true,
         "type": "scatter3d",
         "x": [
          0.3729651868343353
         ],
         "y": [
          0.25982439517974854
         ],
         "z": [
          0.082667775452137
         ]
        },
        {
         "hovertemplate": "color=run<br>0=%{x}<br>1=%{y}<br>2=%{z}<extra></extra>",
         "legendgroup": "run",
         "marker": {
          "color": "#636efa",
          "symbol": "circle"
         },
         "mode": "markers",
         "name": "run",
         "scene": "scene",
         "showlegend": true,
         "type": "scatter3d",
         "x": [
          -0.03682907670736313
         ],
         "y": [
          -0.43647679686546326
         ],
         "z": [
          0.3838268220424652
         ]
        },
        {
         "hovertemplate": "color=friends<br>0=%{x}<br>1=%{y}<br>2=%{z}<extra></extra>",
         "legendgroup": "friends",
         "marker": {
          "color": "#EF553B",
          "symbol": "circle"
         },
         "mode": "markers",
         "name": "friends",
         "scene": "scene",
         "showlegend": true,
         "type": "scatter3d",
         "x": [
          -0.6723156571388245
         ],
         "y": [
          0.3292721211910248
         ],
         "z": [
          0.3065951466560364
         ]
        },
        {
         "hovertemplate": "color=serve<br>0=%{x}<br>1=%{y}<br>2=%{z}<extra></extra>",
         "legendgroup": "serve",
         "marker": {
          "color": "#00cc96",
          "symbol": "circle"
         },
         "mode": "markers",
         "name": "serve",
         "scene": "scene",
         "showlegend": true,
         "type": "scatter3d",
         "x": [
          -0.7435314059257507
         ],
         "y": [
          0.17736731469631195
         ],
         "z": [
          0.14335478842258453
         ]
        },
        {
         "hovertemplate": "color=beard<br>0=%{x}<br>1=%{y}<br>2=%{z}<extra></extra>",
         "legendgroup": "beard",
         "marker": {
          "color": "#ab63fa",
          "symbol": "circle"
         },
         "mode": "markers",
         "name": "beard",
         "scene": "scene",
         "showlegend": true,
         "type": "scatter3d",
         "x": [
          0.5370619893074036
         ],
         "y": [
          0.03787876293063164
         ],
         "z": [
          -0.4226658344268799
         ]
        },
        {
         "hovertemplate": "color=boys<br>0=%{x}<br>1=%{y}<br>2=%{z}<extra></extra>",
         "legendgroup": "boys",
         "marker": {
          "color": "#FFA15A",
          "symbol": "circle"
         },
         "mode": "markers",
         "name": "boys",
         "scene": "scene",
         "showlegend": true,
         "type": "scatter3d",
         "x": [
          -0.156462624669075
         ],
         "y": [
          0.3872803747653961
         ],
         "z": [
          0.20459051430225372
         ]
        },
        {
         "hovertemplate": "color=cloaks<br>0=%{x}<br>1=%{y}<br>2=%{z}<extra></extra>",
         "legendgroup": "cloaks",
         "marker": {
          "color": "#19d3f3",
          "symbol": "circle"
         },
         "mode": "markers",
         "name": "cloaks",
         "scene": "scene",
         "showlegend": true,
         "type": "scatter3d",
         "x": [
          0.36286911368370056
         ],
         "y": [
          0.6434339880943298
         ],
         "z": [
          -0.04762420803308487
         ]
        },
        {
         "hovertemplate": "color=wedding<br>0=%{x}<br>1=%{y}<br>2=%{z}<extra></extra>",
         "legendgroup": "wedding",
         "marker": {
          "color": "#FF6692",
          "symbol": "circle"
         },
         "mode": "markers",
         "name": "wedding",
         "scene": "scene",
         "showlegend": true,
         "type": "scatter3d",
         "x": [
          -0.5068121552467346
         ],
         "y": [
          0.360759973526001
         ],
         "z": [
          -0.17359083890914917
         ]
        },
        {
         "hovertemplate": "color=baratheon<br>0=%{x}<br>1=%{y}<br>2=%{z}<extra></extra>",
         "legendgroup": "baratheon",
         "marker": {
          "color": "#B6E880",
          "symbol": "circle"
         },
         "mode": "markers",
         "name": "baratheon",
         "scene": "scene",
         "showlegend": true,
         "type": "scatter3d",
         "x": [
          -0.3481121361255646
         ],
         "y": [
          0.6297531723976135
         ],
         "z": [
          -0.13988171517848969
         ]
        },
        {
         "hovertemplate": "color=eat<br>0=%{x}<br>1=%{y}<br>2=%{z}<extra></extra>",
         "legendgroup": "eat",
         "marker": {
          "color": "#FF97FF",
          "symbol": "circle"
         },
         "mode": "markers",
         "name": "eat",
         "scene": "scene",
         "showlegend": true,
         "type": "scatter3d",
         "x": [
          -0.21451325714588165
         ],
         "y": [
          -0.4722179174423218
         ],
         "z": [
          0.3399982750415802
         ]
        },
        {
         "hovertemplate": "color=wrong<br>0=%{x}<br>1=%{y}<br>2=%{z}<extra></extra>",
         "legendgroup": "wrong",
         "marker": {
          "color": "#FECB52",
          "symbol": "circle"
         },
         "mode": "markers",
         "name": "wrong",
         "scene": "scene",
         "showlegend": true,
         "type": "scatter3d",
         "x": [
          -0.4469722807407379
         ],
         "y": [
          -0.4638462960720062
         ],
         "z": [
          0.1286071538925171
         ]
        },
        {
         "hovertemplate": "color=daenerys<br>0=%{x}<br>1=%{y}<br>2=%{z}<extra></extra>",
         "legendgroup": "daenerys",
         "marker": {
          "color": "#636efa",
          "symbol": "circle"
         },
         "mode": "markers",
         "name": "daenerys",
         "scene": "scene",
         "showlegend": true,
         "type": "scatter3d",
         "x": [
          -0.5309569239616394
         ],
         "y": [
          0.1709234118461609
         ],
         "z": [
          0.034079477190971375
         ]
        },
        {
         "hovertemplate": "color=ghost<br>0=%{x}<br>1=%{y}<br>2=%{z}<extra></extra>",
         "legendgroup": "ghost",
         "marker": {
          "color": "#EF553B",
          "symbol": "circle"
         },
         "mode": "markers",
         "name": "ghost",
         "scene": "scene",
         "showlegend": true,
         "type": "scatter3d",
         "x": [
          0.3337211310863495
         ],
         "y": [
          -0.10955309867858887
         ],
         "z": [
          -0.1156463474035263
         ]
        },
        {
         "hovertemplate": "color=sight<br>0=%{x}<br>1=%{y}<br>2=%{z}<extra></extra>",
         "legendgroup": "sight",
         "marker": {
          "color": "#00cc96",
          "symbol": "circle"
         },
         "mode": "markers",
         "name": "sight",
         "scene": "scene",
         "showlegend": true,
         "type": "scatter3d",
         "x": [
          0.14366018772125244
         ],
         "y": [
          -0.32433533668518066
         ],
         "z": [
          0.2877005934715271
         ]
        },
        {
         "hovertemplate": "color=hound<br>0=%{x}<br>1=%{y}<br>2=%{z}<extra></extra>",
         "legendgroup": "hound",
         "marker": {
          "color": "#ab63fa",
          "symbol": "circle"
         },
         "mode": "markers",
         "name": "hound",
         "scene": "scene",
         "showlegend": true,
         "type": "scatter3d",
         "x": [
          -0.008098331280052662
         ],
         "y": [
          -0.23642727732658386
         ],
         "z": [
          -0.39644521474838257
         ]
        },
        {
         "hovertemplate": "color=flesh<br>0=%{x}<br>1=%{y}<br>2=%{z}<extra></extra>",
         "legendgroup": "flesh",
         "marker": {
          "color": "#FFA15A",
          "symbol": "circle"
         },
         "mode": "markers",
         "name": "flesh",
         "scene": "scene",
         "showlegend": true,
         "type": "scatter3d",
         "x": [
          0.6415261030197144
         ],
         "y": [
          -0.20505060255527496
         ],
         "z": [
          0.053283605724573135
         ]
        },
        {
         "hovertemplate": "color=five<br>0=%{x}<br>1=%{y}<br>2=%{z}<extra></extra>",
         "legendgroup": "five",
         "marker": {
          "color": "#19d3f3",
          "symbol": "circle"
         },
         "mode": "markers",
         "name": "five",
         "scene": "scene",
         "showlegend": true,
         "type": "scatter3d",
         "x": [
          -0.03165813907980919
         ],
         "y": [
          0.6402773857116699
         ],
         "z": [
          0.2949468195438385
         ]
        },
        {
         "hovertemplate": "color=ship<br>0=%{x}<br>1=%{y}<br>2=%{z}<extra></extra>",
         "legendgroup": "ship",
         "marker": {
          "color": "#FF6692",
          "symbol": "circle"
         },
         "mode": "markers",
         "name": "ship",
         "scene": "scene",
         "showlegend": true,
         "type": "scatter3d",
         "x": [
          -0.0775061547756195
         ],
         "y": [
          0.17232879996299744
         ],
         "z": [
          0.5395970344543457
         ]
        },
        {
         "hovertemplate": "color=strength<br>0=%{x}<br>1=%{y}<br>2=%{z}<extra></extra>",
         "legendgroup": "strength",
         "marker": {
          "color": "#B6E880",
          "symbol": "circle"
         },
         "mode": "markers",
         "name": "strength",
         "scene": "scene",
         "showlegend": true,
         "type": "scatter3d",
         "x": [
          -0.43111565709114075
         ],
         "y": [
          0.2825606167316437
         ],
         "z": [
          0.39086174964904785
         ]
        },
        {
         "hovertemplate": "color=bones<br>0=%{x}<br>1=%{y}<br>2=%{z}<extra></extra>",
         "legendgroup": "bones",
         "marker": {
          "color": "#FF97FF",
          "symbol": "circle"
         },
         "mode": "markers",
         "name": "bones",
         "scene": "scene",
         "showlegend": true,
         "type": "scatter3d",
         "x": [
          0.46731412410736084
         ],
         "y": [
          0.058603666722774506
         ],
         "z": [
          0.2484714388847351
         ]
        },
        {
         "hovertemplate": "color=returned<br>0=%{x}<br>1=%{y}<br>2=%{z}<extra></extra>",
         "legendgroup": "returned",
         "marker": {
          "color": "#FECB52",
          "symbol": "circle"
         },
         "mode": "markers",
         "name": "returned",
         "scene": "scene",
         "showlegend": true,
         "type": "scatter3d",
         "x": [
          -0.27822136878967285
         ],
         "y": [
          0.3526836931705475
         ],
         "z": [
          0.019158998504281044
         ]
        },
        {
         "hovertemplate": "color=nose<br>0=%{x}<br>1=%{y}<br>2=%{z}<extra></extra>",
         "legendgroup": "nose",
         "marker": {
          "color": "#636efa",
          "symbol": "circle"
         },
         "mode": "markers",
         "name": "nose",
         "scene": "scene",
         "showlegend": true,
         "type": "scatter3d",
         "x": [
          0.529168426990509
         ],
         "y": [
          -0.2759617567062378
         ],
         "z": [
          -0.3304777145385742
         ]
        },
        {
         "hovertemplate": "color=crown<br>0=%{x}<br>1=%{y}<br>2=%{z}<extra></extra>",
         "legendgroup": "crown",
         "marker": {
          "color": "#EF553B",
          "symbol": "circle"
         },
         "mode": "markers",
         "name": "crown",
         "scene": "scene",
         "showlegend": true,
         "type": "scatter3d",
         "x": [
          -0.03574033081531525
         ],
         "y": [
          0.49041277170181274
         ],
         "z": [
          -0.24599045515060425
         ]
        },
        {
         "hovertemplate": "color=yellow<br>0=%{x}<br>1=%{y}<br>2=%{z}<extra></extra>",
         "legendgroup": "yellow",
         "marker": {
          "color": "#00cc96",
          "symbol": "circle"
         },
         "mode": "markers",
         "name": "yellow",
         "scene": "scene",
         "showlegend": true,
         "type": "scatter3d",
         "x": [
          0.6452168822288513
         ],
         "y": [
          0.1645018309354782
         ],
         "z": [
          -0.15927577018737793
         ]
        },
        {
         "hovertemplate": "color=chest<br>0=%{x}<br>1=%{y}<br>2=%{z}<extra></extra>",
         "legendgroup": "chest",
         "marker": {
          "color": "#ab63fa",
          "symbol": "circle"
         },
         "mode": "markers",
         "name": "chest",
         "scene": "scene",
         "showlegend": true,
         "type": "scatter3d",
         "x": [
          0.7231094837188721
         ],
         "y": [
          0.007576915435492992
         ],
         "z": [
          -0.2906103730201721
         ]
        },
        {
         "hovertemplate": "color=covered<br>0=%{x}<br>1=%{y}<br>2=%{z}<extra></extra>",
         "legendgroup": "covered",
         "marker": {
          "color": "#FFA15A",
          "symbol": "circle"
         },
         "mode": "markers",
         "name": "covered",
         "scene": "scene",
         "showlegend": true,
         "type": "scatter3d",
         "x": [
          0.7601265907287598
         ],
         "y": [
          0.019599709659814835
         ],
         "z": [
          -0.11208819597959518
         ]
        },
        {
         "hovertemplate": "color=says<br>0=%{x}<br>1=%{y}<br>2=%{z}<extra></extra>",
         "legendgroup": "says",
         "marker": {
          "color": "#19d3f3",
          "symbol": "circle"
         },
         "mode": "markers",
         "name": "says",
         "scene": "scene",
         "showlegend": true,
         "type": "scatter3d",
         "x": [
          -0.7128259539604187
         ],
         "y": [
          0.06945018470287323
         ],
         "z": [
          0.023294290527701378
         ]
        },
        {
         "hovertemplate": "color=commanded<br>0=%{x}<br>1=%{y}<br>2=%{z}<extra></extra>",
         "legendgroup": "commanded",
         "marker": {
          "color": "#FF6692",
          "symbol": "circle"
         },
         "mode": "markers",
         "name": "commanded",
         "scene": "scene",
         "showlegend": true,
         "type": "scatter3d",
         "x": [
          -0.4251118004322052
         ],
         "y": [
          0.33750665187835693
         ],
         "z": [
          -0.05302373692393303
         ]
        },
        {
         "hovertemplate": "color=petyr<br>0=%{x}<br>1=%{y}<br>2=%{z}<extra></extra>",
         "legendgroup": "petyr",
         "marker": {
          "color": "#B6E880",
          "symbol": "circle"
         },
         "mode": "markers",
         "name": "petyr",
         "scene": "scene",
         "showlegend": true,
         "type": "scatter3d",
         "x": [
          -0.5208461284637451
         ],
         "y": [
          0.23715631663799286
         ],
         "z": [
          -0.5187278985977173
         ]
        },
        {
         "hovertemplate": "color=sometimes<br>0=%{x}<br>1=%{y}<br>2=%{z}<extra></extra>",
         "legendgroup": "sometimes",
         "marker": {
          "color": "#FF97FF",
          "symbol": "circle"
         },
         "mode": "markers",
         "name": "sometimes",
         "scene": "scene",
         "showlegend": true,
         "type": "scatter3d",
         "x": [
          -0.03803212568163872
         ],
         "y": [
          -0.507075846195221
         ],
         "z": [
          0.37477853894233704
         ]
        },
        {
         "hovertemplate": "color=aemon<br>0=%{x}<br>1=%{y}<br>2=%{z}<extra></extra>",
         "legendgroup": "aemon",
         "marker": {
          "color": "#FECB52",
          "symbol": "circle"
         },
         "mode": "markers",
         "name": "aemon",
         "scene": "scene",
         "showlegend": true,
         "type": "scatter3d",
         "x": [
          -0.31127670407295227
         ],
         "y": [
          0.0732884332537651
         ],
         "z": [
          -0.1888734996318817
         ]
        },
        {
         "hovertemplate": "color=filled<br>0=%{x}<br>1=%{y}<br>2=%{z}<extra></extra>",
         "legendgroup": "filled",
         "marker": {
          "color": "#636efa",
          "symbol": "circle"
         },
         "mode": "markers",
         "name": "filled",
         "scene": "scene",
         "showlegend": true,
         "type": "scatter3d",
         "x": [
          0.6120365262031555
         ],
         "y": [
          -0.13818061351776123
         ],
         "z": [
          0.008180382661521435
         ]
        },
        {
         "hovertemplate": "color=led<br>0=%{x}<br>1=%{y}<br>2=%{z}<extra></extra>",
         "legendgroup": "led",
         "marker": {
          "color": "#EF553B",
          "symbol": "circle"
         },
         "mode": "markers",
         "name": "led",
         "scene": "scene",
         "showlegend": true,
         "type": "scatter3d",
         "x": [
          0.2687878906726837
         ],
         "y": [
          0.5797111988067627
         ],
         "z": [
          0.08548807352781296
         ]
        },
        {
         "hovertemplate": "color=friend<br>0=%{x}<br>1=%{y}<br>2=%{z}<extra></extra>",
         "legendgroup": "friend",
         "marker": {
          "color": "#00cc96",
          "symbol": "circle"
         },
         "mode": "markers",
         "name": "friend",
         "scene": "scene",
         "showlegend": true,
         "type": "scatter3d",
         "x": [
          -0.7067412734031677
         ],
         "y": [
          -0.04005482420325279
         ],
         "z": [
          -0.2532143294811249
         ]
        },
        {
         "hovertemplate": "color=common<br>0=%{x}<br>1=%{y}<br>2=%{z}<extra></extra>",
         "legendgroup": "common",
         "marker": {
          "color": "#ab63fa",
          "symbol": "circle"
         },
         "mode": "markers",
         "name": "common",
         "scene": "scene",
         "showlegend": true,
         "type": "scatter3d",
         "x": [
          -0.2227879911661148
         ],
         "y": [
          0.17397932708263397
         ],
         "z": [
          0.296810507774353
         ]
        },
        {
         "hovertemplate": "color=aye<br>0=%{x}<br>1=%{y}<br>2=%{z}<extra></extra>",
         "legendgroup": "aye",
         "marker": {
          "color": "#FFA15A",
          "symbol": "circle"
         },
         "mode": "markers",
         "name": "aye",
         "scene": "scene",
         "showlegend": true,
         "type": "scatter3d",
         "x": [
          -0.539614200592041
         ],
         "y": [
          0.0615970753133297
         ],
         "z": [
          -0.09669245779514313
         ]
        },
        {
         "hovertemplate": "color=fighting<br>0=%{x}<br>1=%{y}<br>2=%{z}<extra></extra>",
         "legendgroup": "fighting",
         "marker": {
          "color": "#19d3f3",
          "symbol": "circle"
         },
         "mode": "markers",
         "name": "fighting",
         "scene": "scene",
         "showlegend": true,
         "type": "scatter3d",
         "x": [
          -0.27901872992515564
         ],
         "y": [
          0.35797199606895447
         ],
         "z": [
          0.5718868374824524
         ]
        },
        {
         "hovertemplate": "color=flames<br>0=%{x}<br>1=%{y}<br>2=%{z}<extra></extra>",
         "legendgroup": "flames",
         "marker": {
          "color": "#FF6692",
          "symbol": "circle"
         },
         "mode": "markers",
         "name": "flames",
         "scene": "scene",
         "showlegend": true,
         "type": "scatter3d",
         "x": [
          0.648043692111969
         ],
         "y": [
          -0.1296829879283905
         ],
         "z": [
          0.11614765226840973
         ]
        },
        {
         "hovertemplate": "color=show<br>0=%{x}<br>1=%{y}<br>2=%{z}<extra></extra>",
         "legendgroup": "show",
         "marker": {
          "color": "#B6E880",
          "symbol": "circle"
         },
         "mode": "markers",
         "name": "show",
         "scene": "scene",
         "showlegend": true,
         "type": "scatter3d",
         "x": [
          -0.3969583511352539
         ],
         "y": [
          -0.20572204887866974
         ],
         "z": [
          0.04857013747096062
         ]
        },
        {
         "hovertemplate": "color=spoke<br>0=%{x}<br>1=%{y}<br>2=%{z}<extra></extra>",
         "legendgroup": "spoke",
         "marker": {
          "color": "#FF97FF",
          "symbol": "circle"
         },
         "mode": "markers",
         "name": "spoke",
         "scene": "scene",
         "showlegend": true,
         "type": "scatter3d",
         "x": [
          -0.31338420510292053
         ],
         "y": [
          -0.12905757129192352
         ],
         "z": [
          -0.31022000312805176
         ]
        },
        {
         "hovertemplate": "color=aside<br>0=%{x}<br>1=%{y}<br>2=%{z}<extra></extra>",
         "legendgroup": "aside",
         "marker": {
          "color": "#FECB52",
          "symbol": "circle"
         },
         "mode": "markers",
         "name": "aside",
         "scene": "scene",
         "showlegend": true,
         "type": "scatter3d",
         "x": [
          0.23699113726615906
         ],
         "y": [
          0.0823555737733841
         ],
         "z": [
          -0.36883771419525146
         ]
        },
        {
         "hovertemplate": "color=lysa<br>0=%{x}<br>1=%{y}<br>2=%{z}<extra></extra>",
         "legendgroup": "lysa",
         "marker": {
          "color": "#636efa",
          "symbol": "circle"
         },
         "mode": "markers",
         "name": "lysa",
         "scene": "scene",
         "showlegend": true,
         "type": "scatter3d",
         "x": [
          -0.515955924987793
         ],
         "y": [
          0.12594465911388397
         ],
         "z": [
          -0.3095289468765259
         ]
        },
        {
         "hovertemplate": "color=asha<br>0=%{x}<br>1=%{y}<br>2=%{z}<extra></extra>",
         "legendgroup": "asha",
         "marker": {
          "color": "#EF553B",
          "symbol": "circle"
         },
         "mode": "markers",
         "name": "asha",
         "scene": "scene",
         "showlegend": true,
         "type": "scatter3d",
         "x": [
          -0.21898220479488373
         ],
         "y": [
          0.12543684244155884
         ],
         "z": [
          -0.05902707576751709
         ]
        },
        {
         "hovertemplate": "color=huge<br>0=%{x}<br>1=%{y}<br>2=%{z}<extra></extra>",
         "legendgroup": "huge",
         "marker": {
          "color": "#00cc96",
          "symbol": "circle"
         },
         "mode": "markers",
         "name": "huge",
         "scene": "scene",
         "showlegend": true,
         "type": "scatter3d",
         "x": [
          0.7453163862228394
         ],
         "y": [
          0.2633117437362671
         ],
         "z": [
          0.025004826486110687
         ]
        },
        {
         "hovertemplate": "color=crow<br>0=%{x}<br>1=%{y}<br>2=%{z}<extra></extra>",
         "legendgroup": "crow",
         "marker": {
          "color": "#ab63fa",
          "symbol": "circle"
         },
         "mode": "markers",
         "name": "crow",
         "scene": "scene",
         "showlegend": true,
         "type": "scatter3d",
         "x": [
          -0.2146780788898468
         ],
         "y": [
          0.12170062959194183
         ],
         "z": [
          0.23350901901721954
         ]
        },
        {
         "hovertemplate": "color=belly<br>0=%{x}<br>1=%{y}<br>2=%{z}<extra></extra>",
         "legendgroup": "belly",
         "marker": {
          "color": "#FFA15A",
          "symbol": "circle"
         },
         "mode": "markers",
         "name": "belly",
         "scene": "scene",
         "showlegend": true,
         "type": "scatter3d",
         "x": [
          0.6234471201896667
         ],
         "y": [
          -0.3060242235660553
         ],
         "z": [
          -0.2057068645954132
         ]
        },
        {
         "hovertemplate": "color=master<br>0=%{x}<br>1=%{y}<br>2=%{z}<extra></extra>",
         "legendgroup": "master",
         "marker": {
          "color": "#19d3f3",
          "symbol": "circle"
         },
         "mode": "markers",
         "name": "master",
         "scene": "scene",
         "showlegend": true,
         "type": "scatter3d",
         "x": [
          -0.39969342947006226
         ],
         "y": [
          0.6118051409721375
         ],
         "z": [
          -0.2978225648403168
         ]
        },
        {
         "hovertemplate": "color=seem<br>0=%{x}<br>1=%{y}<br>2=%{z}<extra></extra>",
         "legendgroup": "seem",
         "marker": {
          "color": "#FF6692",
          "symbol": "circle"
         },
         "mode": "markers",
         "name": "seem",
         "scene": "scene",
         "showlegend": true,
         "type": "scatter3d",
         "x": [
          -0.4740769863128662
         ],
         "y": [
          -0.35983169078826904
         ],
         "z": [
          0.20782674849033356
         ]
        },
        {
         "hovertemplate": "color=breath<br>0=%{x}<br>1=%{y}<br>2=%{z}<extra></extra>",
         "legendgroup": "breath",
         "marker": {
          "color": "#B6E880",
          "symbol": "circle"
         },
         "mode": "markers",
         "name": "breath",
         "scene": "scene",
         "showlegend": true,
         "type": "scatter3d",
         "x": [
          0.5411359071731567
         ],
         "y": [
          -0.42289647459983826
         ],
         "z": [
          0.08777941763401031
         ]
        },
        {
         "hovertemplate": "color=yard<br>0=%{x}<br>1=%{y}<br>2=%{z}<extra></extra>",
         "legendgroup": "yard",
         "marker": {
          "color": "#FF97FF",
          "symbol": "circle"
         },
         "mode": "markers",
         "name": "yard",
         "scene": "scene",
         "showlegend": true,
         "type": "scatter3d",
         "x": [
          0.5648780465126038
         ],
         "y": [
          0.2104164958000183
         ],
         "z": [
          0.22979426383972168
         ]
        },
        {
         "hovertemplate": "color=gates<br>0=%{x}<br>1=%{y}<br>2=%{z}<extra></extra>",
         "legendgroup": "gates",
         "marker": {
          "color": "#FECB52",
          "symbol": "circle"
         },
         "mode": "markers",
         "name": "gates",
         "scene": "scene",
         "showlegend": true,
         "type": "scatter3d",
         "x": [
          0.23821163177490234
         ],
         "y": [
          0.5901876091957092
         ],
         "z": [
          0.34646475315093994
         ]
        },
        {
         "hovertemplate": "color=waiting<br>0=%{x}<br>1=%{y}<br>2=%{z}<extra></extra>",
         "legendgroup": "waiting",
         "marker": {
          "color": "#636efa",
          "symbol": "circle"
         },
         "mode": "markers",
         "name": "waiting",
         "scene": "scene",
         "showlegend": true,
         "type": "scatter3d",
         "x": [
          -0.012197677046060562
         ],
         "y": [
          0.4917508363723755
         ],
         "z": [
          0.29561036825180054
         ]
        },
        {
         "hovertemplate": "color=within<br>0=%{x}<br>1=%{y}<br>2=%{z}<extra></extra>",
         "legendgroup": "within",
         "marker": {
          "color": "#EF553B",
          "symbol": "circle"
         },
         "mode": "markers",
         "name": "within",
         "scene": "scene",
         "showlegend": true,
         "type": "scatter3d",
         "x": [
          0.3214230537414551
         ],
         "y": [
          0.4183456599712372
         ],
         "z": [
          0.5809744000434875
         ]
        },
        {
         "hovertemplate": "color=looking<br>0=%{x}<br>1=%{y}<br>2=%{z}<extra></extra>",
         "legendgroup": "looking",
         "marker": {
          "color": "#00cc96",
          "symbol": "circle"
         },
         "mode": "markers",
         "name": "looking",
         "scene": "scene",
         "showlegend": true,
         "type": "scatter3d",
         "x": [
          0.2363748848438263
         ],
         "y": [
          -0.29760104417800903
         ],
         "z": [
          0.0201890729367733
         ]
        },
        {
         "hovertemplate": "color=wet<br>0=%{x}<br>1=%{y}<br>2=%{z}<extra></extra>",
         "legendgroup": "wet",
         "marker": {
          "color": "#ab63fa",
          "symbol": "circle"
         },
         "mode": "markers",
         "name": "wet",
         "scene": "scene",
         "showlegend": true,
         "type": "scatter3d",
         "x": [
          0.6700173616409302
         ],
         "y": [
          -0.2867772877216339
         ],
         "z": [
          0.06022598221898079
         ]
        },
        {
         "hovertemplate": "color=wooden<br>0=%{x}<br>1=%{y}<br>2=%{z}<extra></extra>",
         "legendgroup": "wooden",
         "marker": {
          "color": "#FFA15A",
          "symbol": "circle"
         },
         "mode": "markers",
         "name": "wooden",
         "scene": "scene",
         "showlegend": true,
         "type": "scatter3d",
         "x": [
          0.7096993923187256
         ],
         "y": [
          0.3583206534385681
         ],
         "z": [
          0.15473085641860962
         ]
        },
        {
         "hovertemplate": "color=realm<br>0=%{x}<br>1=%{y}<br>2=%{z}<extra></extra>",
         "legendgroup": "realm",
         "marker": {
          "color": "#19d3f3",
          "symbol": "circle"
         },
         "mode": "markers",
         "name": "realm",
         "scene": "scene",
         "showlegend": true,
         "type": "scatter3d",
         "x": [
          -0.685538113117218
         ],
         "y": [
          0.4569672644138336
         ],
         "z": [
          0.19323402643203735
         ]
        },
        {
         "hovertemplate": "color=thin<br>0=%{x}<br>1=%{y}<br>2=%{z}<extra></extra>",
         "legendgroup": "thin",
         "marker": {
          "color": "#FF6692",
          "symbol": "circle"
         },
         "mode": "markers",
         "name": "thin",
         "scene": "scene",
         "showlegend": true,
         "type": "scatter3d",
         "x": [
          0.7100974321365356
         ],
         "y": [
          -0.09703295677900314
         ],
         "z": [
          -0.16944319009780884
         ]
        },
        {
         "hovertemplate": "color=work<br>0=%{x}<br>1=%{y}<br>2=%{z}<extra></extra>",
         "legendgroup": "work",
         "marker": {
          "color": "#B6E880",
          "symbol": "circle"
         },
         "mode": "markers",
         "name": "work",
         "scene": "scene",
         "showlegend": true,
         "type": "scatter3d",
         "x": [
          -0.44844263792037964
         ],
         "y": [
          -0.24529436230659485
         ],
         "z": [
          0.16888391971588135
         ]
        },
        {
         "hovertemplate": "color=use<br>0=%{x}<br>1=%{y}<br>2=%{z}<extra></extra>",
         "legendgroup": "use",
         "marker": {
          "color": "#FF97FF",
          "symbol": "circle"
         },
         "mode": "markers",
         "name": "use",
         "scene": "scene",
         "showlegend": true,
         "type": "scatter3d",
         "x": [
          -0.49494868516921997
         ],
         "y": [
          -0.19591988623142242
         ],
         "z": [
          0.13880027830600739
         ]
        },
        {
         "hovertemplate": "color=bad<br>0=%{x}<br>1=%{y}<br>2=%{z}<extra></extra>",
         "legendgroup": "bad",
         "marker": {
          "color": "#FECB52",
          "symbol": "circle"
         },
         "mode": "markers",
         "name": "bad",
         "scene": "scene",
         "showlegend": true,
         "type": "scatter3d",
         "x": [
          -0.36494332551956177
         ],
         "y": [
          -0.4502149820327759
         ],
         "z": [
          0.20083101093769073
         ]
        },
        {
         "hovertemplate": "color=promised<br>0=%{x}<br>1=%{y}<br>2=%{z}<extra></extra>",
         "legendgroup": "promised",
         "marker": {
          "color": "#636efa",
          "symbol": "circle"
         },
         "mode": "markers",
         "name": "promised",
         "scene": "scene",
         "showlegend": true,
         "type": "scatter3d",
         "x": [
          -0.6349921226501465
         ],
         "y": [
          0.14416539669036865
         ],
         "z": [
          0.14531584084033966
         ]
        },
        {
         "hovertemplate": "color=later<br>0=%{x}<br>1=%{y}<br>2=%{z}<extra></extra>",
         "legendgroup": "later",
         "marker": {
          "color": "#EF553B",
          "symbol": "circle"
         },
         "mode": "markers",
         "name": "later",
         "scene": "scene",
         "showlegend": true,
         "type": "scatter3d",
         "x": [
          -0.00011749475379474461
         ],
         "y": [
          0.25280505418777466
         ],
         "z": [
          0.285704642534256
         ]
        },
        {
         "hovertemplate": "color=husband<br>0=%{x}<br>1=%{y}<br>2=%{z}<extra></extra>",
         "legendgroup": "husband",
         "marker": {
          "color": "#00cc96",
          "symbol": "circle"
         },
         "mode": "markers",
         "name": "husband",
         "scene": "scene",
         "showlegend": true,
         "type": "scatter3d",
         "x": [
          -0.7401853203773499
         ],
         "y": [
          0.3085448443889618
         ],
         "z": [
          -0.20143671333789825
         ]
        },
        {
         "hovertemplate": "color=tree<br>0=%{x}<br>1=%{y}<br>2=%{z}<extra></extra>",
         "legendgroup": "tree",
         "marker": {
          "color": "#ab63fa",
          "symbol": "circle"
         },
         "mode": "markers",
         "name": "tree",
         "scene": "scene",
         "showlegend": true,
         "type": "scatter3d",
         "x": [
          0.6795884370803833
         ],
         "y": [
          0.04056336730718613
         ],
         "z": [
          0.07315770536661148
         ]
        },
        {
         "hovertemplate": "color=grew<br>0=%{x}<br>1=%{y}<br>2=%{z}<extra></extra>",
         "legendgroup": "grew",
         "marker": {
          "color": "#FFA15A",
          "symbol": "circle"
         },
         "mode": "markers",
         "name": "grew",
         "scene": "scene",
         "showlegend": true,
         "type": "scatter3d",
         "x": [
          0.584339439868927
         ],
         "y": [
          -0.07765858620405197
         ],
         "z": [
          0.28354230523109436
         ]
        },
        {
         "hovertemplate": "color=onto<br>0=%{x}<br>1=%{y}<br>2=%{z}<extra></extra>",
         "legendgroup": "onto",
         "marker": {
          "color": "#19d3f3",
          "symbol": "circle"
         },
         "mode": "markers",
         "name": "onto",
         "scene": "scene",
         "showlegend": true,
         "type": "scatter3d",
         "x": [
          0.6777881979942322
         ],
         "y": [
          0.14788685739040375
         ],
         "z": [
          -0.1994301825761795
         ]
        },
        {
         "hovertemplate": "color=loved<br>0=%{x}<br>1=%{y}<br>2=%{z}<extra></extra>",
         "legendgroup": "loved",
         "marker": {
          "color": "#FF6692",
          "symbol": "circle"
         },
         "mode": "markers",
         "name": "loved",
         "scene": "scene",
         "showlegend": true,
         "type": "scatter3d",
         "x": [
          -0.5833852887153625
         ],
         "y": [
          -0.12825271487236023
         ],
         "z": [
          -0.12496445327997208
         ]
        },
        {
         "hovertemplate": "color=wildlings<br>0=%{x}<br>1=%{y}<br>2=%{z}<extra></extra>",
         "legendgroup": "wildlings",
         "marker": {
          "color": "#B6E880",
          "symbol": "circle"
         },
         "mode": "markers",
         "name": "wildlings",
         "scene": "scene",
         "showlegend": true,
         "type": "scatter3d",
         "x": [
          -0.18901416659355164
         ],
         "y": [
          0.29486480355262756
         ],
         "z": [
          0.6127017140388489
         ]
        },
        {
         "hovertemplate": "color=greyjoy<br>0=%{x}<br>1=%{y}<br>2=%{z}<extra></extra>",
         "legendgroup": "greyjoy",
         "marker": {
          "color": "#FF97FF",
          "symbol": "circle"
         },
         "mode": "markers",
         "name": "greyjoy",
         "scene": "scene",
         "showlegend": true,
         "type": "scatter3d",
         "x": [
          -0.3212335705757141
         ],
         "y": [
          0.6271070241928101
         ],
         "z": [
          -0.2814469039440155
         ]
        },
        {
         "hovertemplate": "color=afraid<br>0=%{x}<br>1=%{y}<br>2=%{z}<extra></extra>",
         "legendgroup": "afraid",
         "marker": {
          "color": "#FECB52",
          "symbol": "circle"
         },
         "mode": "markers",
         "name": "afraid",
         "scene": "scene",
         "showlegend": true,
         "type": "scatter3d",
         "x": [
          -0.29326000809669495
         ],
         "y": [
          -0.5814040899276733
         ],
         "z": [
          0.1092962920665741
         ]
        },
        {
         "hovertemplate": "color=girls<br>0=%{x}<br>1=%{y}<br>2=%{z}<extra></extra>",
         "legendgroup": "girls",
         "marker": {
          "color": "#636efa",
          "symbol": "circle"
         },
         "mode": "markers",
         "name": "girls",
         "scene": "scene",
         "showlegend": true,
         "type": "scatter3d",
         "x": [
          -0.3711147904396057
         ],
         "y": [
          0.17502062022686005
         ],
         "z": [
          0.1363656371831894
         ]
        },
        {
         "hovertemplate": "color=shoulders<br>0=%{x}<br>1=%{y}<br>2=%{z}<extra></extra>",
         "legendgroup": "shoulders",
         "marker": {
          "color": "#EF553B",
          "symbol": "circle"
         },
         "mode": "markers",
         "name": "shoulders",
         "scene": "scene",
         "showlegend": true,
         "type": "scatter3d",
         "x": [
          0.7080254554748535
         ],
         "y": [
          0.14915628731250763
         ],
         "z": [
          -0.30642250180244446
         ]
        },
        {
         "hovertemplate": "color=rain<br>0=%{x}<br>1=%{y}<br>2=%{z}<extra></extra>",
         "legendgroup": "rain",
         "marker": {
          "color": "#00cc96",
          "symbol": "circle"
         },
         "mode": "markers",
         "name": "rain",
         "scene": "scene",
         "showlegend": true,
         "type": "scatter3d",
         "x": [
          0.6511197686195374
         ],
         "y": [
          -0.12577499449253082
         ],
         "z": [
          0.34695279598236084
         ]
        },
        {
         "hovertemplate": "color=walked<br>0=%{x}<br>1=%{y}<br>2=%{z}<extra></extra>",
         "legendgroup": "walked",
         "marker": {
          "color": "#ab63fa",
          "symbol": "circle"
         },
         "mode": "markers",
         "name": "walked",
         "scene": "scene",
         "showlegend": true,
         "type": "scatter3d",
         "x": [
          0.5378624200820923
         ],
         "y": [
          0.13794437050819397
         ],
         "z": [
          0.09324080497026443
         ]
        },
        {
         "hovertemplate": "color=shouted<br>0=%{x}<br>1=%{y}<br>2=%{z}<extra></extra>",
         "legendgroup": "shouted",
         "marker": {
          "color": "#FFA15A",
          "symbol": "circle"
         },
         "mode": "markers",
         "name": "shouted",
         "scene": "scene",
         "showlegend": true,
         "type": "scatter3d",
         "x": [
          0.07089798897504807
         ],
         "y": [
          -0.07936057448387146
         ],
         "z": [
          -0.21033884584903717
         ]
        },
        {
         "hovertemplate": "color=maid<br>0=%{x}<br>1=%{y}<br>2=%{z}<extra></extra>",
         "legendgroup": "maid",
         "marker": {
          "color": "#19d3f3",
          "symbol": "circle"
         },
         "mode": "markers",
         "name": "maid",
         "scene": "scene",
         "showlegend": true,
         "type": "scatter3d",
         "x": [
          -0.29975539445877075
         ],
         "y": [
          0.359347403049469
         ],
         "z": [
          -0.3967812955379486
         ]
        },
        {
         "hovertemplate": "color=late<br>0=%{x}<br>1=%{y}<br>2=%{z}<extra></extra>",
         "legendgroup": "late",
         "marker": {
          "color": "#FF6692",
          "symbol": "circle"
         },
         "mode": "markers",
         "name": "late",
         "scene": "scene",
         "showlegend": true,
         "type": "scatter3d",
         "x": [
          -0.5027232766151428
         ],
         "y": [
          0.040991365909576416
         ],
         "z": [
          0.065743587911129
         ]
        },
        {
         "hovertemplate": "color=guard<br>0=%{x}<br>1=%{y}<br>2=%{z}<extra></extra>",
         "legendgroup": "guard",
         "marker": {
          "color": "#B6E880",
          "symbol": "circle"
         },
         "mode": "markers",
         "name": "guard",
         "scene": "scene",
         "showlegend": true,
         "type": "scatter3d",
         "x": [
          -0.15472133457660675
         ],
         "y": [
          0.6439396142959595
         ],
         "z": [
          -0.13131731748580933
         ]
        },
        {
         "hovertemplate": "color=remained<br>0=%{x}<br>1=%{y}<br>2=%{z}<extra></extra>",
         "legendgroup": "remained",
         "marker": {
          "color": "#FF97FF",
          "symbol": "circle"
         },
         "mode": "markers",
         "name": "remained",
         "scene": "scene",
         "showlegend": true,
         "type": "scatter3d",
         "x": [
          0.32539719343185425
         ],
         "y": [
          0.5019649267196655
         ],
         "z": [
          0.29620978236198425
         ]
        },
        {
         "hovertemplate": "color=mance<br>0=%{x}<br>1=%{y}<br>2=%{z}<extra></extra>",
         "legendgroup": "mance",
         "marker": {
          "color": "#FECB52",
          "symbol": "circle"
         },
         "mode": "markers",
         "name": "mance",
         "scene": "scene",
         "showlegend": true,
         "type": "scatter3d",
         "x": [
          -0.4635617136955261
         ],
         "y": [
          0.049512848258018494
         ],
         "z": [
          0.2721165716648102
         ]
        }
       ],
       "layout": {
        "legend": {
         "title": {
          "text": "color"
         },
         "tracegroupgap": 0
        },
        "margin": {
         "t": 60
        },
        "scene": {
         "domain": {
          "x": [
           0,
           1
          ],
          "y": [
           0,
           1
          ]
         },
         "xaxis": {
          "title": {
           "text": "0"
          }
         },
         "yaxis": {
          "title": {
           "text": "1"
          }
         },
         "zaxis": {
          "title": {
           "text": "2"
          }
         }
        },
        "template": {
         "data": {
          "bar": [
           {
            "error_x": {
             "color": "#2a3f5f"
            },
            "error_y": {
             "color": "#2a3f5f"
            },
            "marker": {
             "line": {
              "color": "#E5ECF6",
              "width": 0.5
             },
             "pattern": {
              "fillmode": "overlay",
              "size": 10,
              "solidity": 0.2
             }
            },
            "type": "bar"
           }
          ],
          "barpolar": [
           {
            "marker": {
             "line": {
              "color": "#E5ECF6",
              "width": 0.5
             },
             "pattern": {
              "fillmode": "overlay",
              "size": 10,
              "solidity": 0.2
             }
            },
            "type": "barpolar"
           }
          ],
          "carpet": [
           {
            "aaxis": {
             "endlinecolor": "#2a3f5f",
             "gridcolor": "white",
             "linecolor": "white",
             "minorgridcolor": "white",
             "startlinecolor": "#2a3f5f"
            },
            "baxis": {
             "endlinecolor": "#2a3f5f",
             "gridcolor": "white",
             "linecolor": "white",
             "minorgridcolor": "white",
             "startlinecolor": "#2a3f5f"
            },
            "type": "carpet"
           }
          ],
          "choropleth": [
           {
            "colorbar": {
             "outlinewidth": 0,
             "ticks": ""
            },
            "type": "choropleth"
           }
          ],
          "contour": [
           {
            "colorbar": {
             "outlinewidth": 0,
             "ticks": ""
            },
            "colorscale": [
             [
              0,
              "#0d0887"
             ],
             [
              0.1111111111111111,
              "#46039f"
             ],
             [
              0.2222222222222222,
              "#7201a8"
             ],
             [
              0.3333333333333333,
              "#9c179e"
             ],
             [
              0.4444444444444444,
              "#bd3786"
             ],
             [
              0.5555555555555556,
              "#d8576b"
             ],
             [
              0.6666666666666666,
              "#ed7953"
             ],
             [
              0.7777777777777778,
              "#fb9f3a"
             ],
             [
              0.8888888888888888,
              "#fdca26"
             ],
             [
              1,
              "#f0f921"
             ]
            ],
            "type": "contour"
           }
          ],
          "contourcarpet": [
           {
            "colorbar": {
             "outlinewidth": 0,
             "ticks": ""
            },
            "type": "contourcarpet"
           }
          ],
          "heatmap": [
           {
            "colorbar": {
             "outlinewidth": 0,
             "ticks": ""
            },
            "colorscale": [
             [
              0,
              "#0d0887"
             ],
             [
              0.1111111111111111,
              "#46039f"
             ],
             [
              0.2222222222222222,
              "#7201a8"
             ],
             [
              0.3333333333333333,
              "#9c179e"
             ],
             [
              0.4444444444444444,
              "#bd3786"
             ],
             [
              0.5555555555555556,
              "#d8576b"
             ],
             [
              0.6666666666666666,
              "#ed7953"
             ],
             [
              0.7777777777777778,
              "#fb9f3a"
             ],
             [
              0.8888888888888888,
              "#fdca26"
             ],
             [
              1,
              "#f0f921"
             ]
            ],
            "type": "heatmap"
           }
          ],
          "heatmapgl": [
           {
            "colorbar": {
             "outlinewidth": 0,
             "ticks": ""
            },
            "colorscale": [
             [
              0,
              "#0d0887"
             ],
             [
              0.1111111111111111,
              "#46039f"
             ],
             [
              0.2222222222222222,
              "#7201a8"
             ],
             [
              0.3333333333333333,
              "#9c179e"
             ],
             [
              0.4444444444444444,
              "#bd3786"
             ],
             [
              0.5555555555555556,
              "#d8576b"
             ],
             [
              0.6666666666666666,
              "#ed7953"
             ],
             [
              0.7777777777777778,
              "#fb9f3a"
             ],
             [
              0.8888888888888888,
              "#fdca26"
             ],
             [
              1,
              "#f0f921"
             ]
            ],
            "type": "heatmapgl"
           }
          ],
          "histogram": [
           {
            "marker": {
             "pattern": {
              "fillmode": "overlay",
              "size": 10,
              "solidity": 0.2
             }
            },
            "type": "histogram"
           }
          ],
          "histogram2d": [
           {
            "colorbar": {
             "outlinewidth": 0,
             "ticks": ""
            },
            "colorscale": [
             [
              0,
              "#0d0887"
             ],
             [
              0.1111111111111111,
              "#46039f"
             ],
             [
              0.2222222222222222,
              "#7201a8"
             ],
             [
              0.3333333333333333,
              "#9c179e"
             ],
             [
              0.4444444444444444,
              "#bd3786"
             ],
             [
              0.5555555555555556,
              "#d8576b"
             ],
             [
              0.6666666666666666,
              "#ed7953"
             ],
             [
              0.7777777777777778,
              "#fb9f3a"
             ],
             [
              0.8888888888888888,
              "#fdca26"
             ],
             [
              1,
              "#f0f921"
             ]
            ],
            "type": "histogram2d"
           }
          ],
          "histogram2dcontour": [
           {
            "colorbar": {
             "outlinewidth": 0,
             "ticks": ""
            },
            "colorscale": [
             [
              0,
              "#0d0887"
             ],
             [
              0.1111111111111111,
              "#46039f"
             ],
             [
              0.2222222222222222,
              "#7201a8"
             ],
             [
              0.3333333333333333,
              "#9c179e"
             ],
             [
              0.4444444444444444,
              "#bd3786"
             ],
             [
              0.5555555555555556,
              "#d8576b"
             ],
             [
              0.6666666666666666,
              "#ed7953"
             ],
             [
              0.7777777777777778,
              "#fb9f3a"
             ],
             [
              0.8888888888888888,
              "#fdca26"
             ],
             [
              1,
              "#f0f921"
             ]
            ],
            "type": "histogram2dcontour"
           }
          ],
          "mesh3d": [
           {
            "colorbar": {
             "outlinewidth": 0,
             "ticks": ""
            },
            "type": "mesh3d"
           }
          ],
          "parcoords": [
           {
            "line": {
             "colorbar": {
              "outlinewidth": 0,
              "ticks": ""
             }
            },
            "type": "parcoords"
           }
          ],
          "pie": [
           {
            "automargin": true,
            "type": "pie"
           }
          ],
          "scatter": [
           {
            "fillpattern": {
             "fillmode": "overlay",
             "size": 10,
             "solidity": 0.2
            },
            "type": "scatter"
           }
          ],
          "scatter3d": [
           {
            "line": {
             "colorbar": {
              "outlinewidth": 0,
              "ticks": ""
             }
            },
            "marker": {
             "colorbar": {
              "outlinewidth": 0,
              "ticks": ""
             }
            },
            "type": "scatter3d"
           }
          ],
          "scattercarpet": [
           {
            "marker": {
             "colorbar": {
              "outlinewidth": 0,
              "ticks": ""
             }
            },
            "type": "scattercarpet"
           }
          ],
          "scattergeo": [
           {
            "marker": {
             "colorbar": {
              "outlinewidth": 0,
              "ticks": ""
             }
            },
            "type": "scattergeo"
           }
          ],
          "scattergl": [
           {
            "marker": {
             "colorbar": {
              "outlinewidth": 0,
              "ticks": ""
             }
            },
            "type": "scattergl"
           }
          ],
          "scattermapbox": [
           {
            "marker": {
             "colorbar": {
              "outlinewidth": 0,
              "ticks": ""
             }
            },
            "type": "scattermapbox"
           }
          ],
          "scatterpolar": [
           {
            "marker": {
             "colorbar": {
              "outlinewidth": 0,
              "ticks": ""
             }
            },
            "type": "scatterpolar"
           }
          ],
          "scatterpolargl": [
           {
            "marker": {
             "colorbar": {
              "outlinewidth": 0,
              "ticks": ""
             }
            },
            "type": "scatterpolargl"
           }
          ],
          "scatterternary": [
           {
            "marker": {
             "colorbar": {
              "outlinewidth": 0,
              "ticks": ""
             }
            },
            "type": "scatterternary"
           }
          ],
          "surface": [
           {
            "colorbar": {
             "outlinewidth": 0,
             "ticks": ""
            },
            "colorscale": [
             [
              0,
              "#0d0887"
             ],
             [
              0.1111111111111111,
              "#46039f"
             ],
             [
              0.2222222222222222,
              "#7201a8"
             ],
             [
              0.3333333333333333,
              "#9c179e"
             ],
             [
              0.4444444444444444,
              "#bd3786"
             ],
             [
              0.5555555555555556,
              "#d8576b"
             ],
             [
              0.6666666666666666,
              "#ed7953"
             ],
             [
              0.7777777777777778,
              "#fb9f3a"
             ],
             [
              0.8888888888888888,
              "#fdca26"
             ],
             [
              1,
              "#f0f921"
             ]
            ],
            "type": "surface"
           }
          ],
          "table": [
           {
            "cells": {
             "fill": {
              "color": "#EBF0F8"
             },
             "line": {
              "color": "white"
             }
            },
            "header": {
             "fill": {
              "color": "#C8D4E3"
             },
             "line": {
              "color": "white"
             }
            },
            "type": "table"
           }
          ]
         },
         "layout": {
          "annotationdefaults": {
           "arrowcolor": "#2a3f5f",
           "arrowhead": 0,
           "arrowwidth": 1
          },
          "autotypenumbers": "strict",
          "coloraxis": {
           "colorbar": {
            "outlinewidth": 0,
            "ticks": ""
           }
          },
          "colorscale": {
           "diverging": [
            [
             0,
             "#8e0152"
            ],
            [
             0.1,
             "#c51b7d"
            ],
            [
             0.2,
             "#de77ae"
            ],
            [
             0.3,
             "#f1b6da"
            ],
            [
             0.4,
             "#fde0ef"
            ],
            [
             0.5,
             "#f7f7f7"
            ],
            [
             0.6,
             "#e6f5d0"
            ],
            [
             0.7,
             "#b8e186"
            ],
            [
             0.8,
             "#7fbc41"
            ],
            [
             0.9,
             "#4d9221"
            ],
            [
             1,
             "#276419"
            ]
           ],
           "sequential": [
            [
             0,
             "#0d0887"
            ],
            [
             0.1111111111111111,
             "#46039f"
            ],
            [
             0.2222222222222222,
             "#7201a8"
            ],
            [
             0.3333333333333333,
             "#9c179e"
            ],
            [
             0.4444444444444444,
             "#bd3786"
            ],
            [
             0.5555555555555556,
             "#d8576b"
            ],
            [
             0.6666666666666666,
             "#ed7953"
            ],
            [
             0.7777777777777778,
             "#fb9f3a"
            ],
            [
             0.8888888888888888,
             "#fdca26"
            ],
            [
             1,
             "#f0f921"
            ]
           ],
           "sequentialminus": [
            [
             0,
             "#0d0887"
            ],
            [
             0.1111111111111111,
             "#46039f"
            ],
            [
             0.2222222222222222,
             "#7201a8"
            ],
            [
             0.3333333333333333,
             "#9c179e"
            ],
            [
             0.4444444444444444,
             "#bd3786"
            ],
            [
             0.5555555555555556,
             "#d8576b"
            ],
            [
             0.6666666666666666,
             "#ed7953"
            ],
            [
             0.7777777777777778,
             "#fb9f3a"
            ],
            [
             0.8888888888888888,
             "#fdca26"
            ],
            [
             1,
             "#f0f921"
            ]
           ]
          },
          "colorway": [
           "#636efa",
           "#EF553B",
           "#00cc96",
           "#ab63fa",
           "#FFA15A",
           "#19d3f3",
           "#FF6692",
           "#B6E880",
           "#FF97FF",
           "#FECB52"
          ],
          "font": {
           "color": "#2a3f5f"
          },
          "geo": {
           "bgcolor": "white",
           "lakecolor": "white",
           "landcolor": "#E5ECF6",
           "showlakes": true,
           "showland": true,
           "subunitcolor": "white"
          },
          "hoverlabel": {
           "align": "left"
          },
          "hovermode": "closest",
          "mapbox": {
           "style": "light"
          },
          "paper_bgcolor": "white",
          "plot_bgcolor": "#E5ECF6",
          "polar": {
           "angularaxis": {
            "gridcolor": "white",
            "linecolor": "white",
            "ticks": ""
           },
           "bgcolor": "#E5ECF6",
           "radialaxis": {
            "gridcolor": "white",
            "linecolor": "white",
            "ticks": ""
           }
          },
          "scene": {
           "xaxis": {
            "backgroundcolor": "#E5ECF6",
            "gridcolor": "white",
            "gridwidth": 2,
            "linecolor": "white",
            "showbackground": true,
            "ticks": "",
            "zerolinecolor": "white"
           },
           "yaxis": {
            "backgroundcolor": "#E5ECF6",
            "gridcolor": "white",
            "gridwidth": 2,
            "linecolor": "white",
            "showbackground": true,
            "ticks": "",
            "zerolinecolor": "white"
           },
           "zaxis": {
            "backgroundcolor": "#E5ECF6",
            "gridcolor": "white",
            "gridwidth": 2,
            "linecolor": "white",
            "showbackground": true,
            "ticks": "",
            "zerolinecolor": "white"
           }
          },
          "shapedefaults": {
           "line": {
            "color": "#2a3f5f"
           }
          },
          "ternary": {
           "aaxis": {
            "gridcolor": "white",
            "linecolor": "white",
            "ticks": ""
           },
           "baxis": {
            "gridcolor": "white",
            "linecolor": "white",
            "ticks": ""
           },
           "bgcolor": "#E5ECF6",
           "caxis": {
            "gridcolor": "white",
            "linecolor": "white",
            "ticks": ""
           }
          },
          "title": {
           "x": 0.05
          },
          "xaxis": {
           "automargin": true,
           "gridcolor": "white",
           "linecolor": "white",
           "ticks": "",
           "title": {
            "standoff": 15
           },
           "zerolinecolor": "white",
           "zerolinewidth": 2
          },
          "yaxis": {
           "automargin": true,
           "gridcolor": "white",
           "linecolor": "white",
           "ticks": "",
           "title": {
            "standoff": 15
           },
           "zerolinecolor": "white",
           "zerolinewidth": 2
          }
         }
        }
       }
      }
     },
     "metadata": {},
     "output_type": "display_data"
    }
   ],
   "source": [
    "import plotly.express as px\n",
    "fig = px.scatter_3d(X[:500],x=0,y=1,z=2,color = y[:500])\n",
    "fig.show()"
   ]
  }
 ],
 "metadata": {
  "kernelspec": {
   "display_name": "myenv",
   "language": "python",
   "name": "python3"
  },
  "language_info": {
   "codemirror_mode": {
    "name": "ipython",
    "version": 3
   },
   "file_extension": ".py",
   "mimetype": "text/x-python",
   "name": "python",
   "nbconvert_exporter": "python",
   "pygments_lexer": "ipython3",
   "version": "3.12.3"
  }
 },
 "nbformat": 4,
 "nbformat_minor": 2
}
