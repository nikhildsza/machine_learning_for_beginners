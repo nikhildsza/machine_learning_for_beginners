{
 "cells": [
  {
   "cell_type": "markdown",
   "metadata": {},
   "source": [
    "Text Cleaning in HTML tags"
   ]
  },
  {
   "cell_type": "code",
   "execution_count": 29,
   "metadata": {},
   "outputs": [],
   "source": [
    "sample_data = '<header><h1>Welcome to My Website</h1></header><nav><ul><li><a href=\"#home\">Home</a></li><li><a href=\"#about\">About</a></li><li><a href=\"#services\">Services</a></li><li><a href=\"#contact\">Contact</a></li></ul></nav><main><section id=\"home\"><h2>Home</h2><p>This is the home section.</p></section><section id=\"about\"><h2>About</h2><p>This is the about section.</p></section><section id=\"services\"><h2>Services</h2><p>This is the services section.</p></section><section id=\"contact\"><h2>Contact</h2><p>This is the contact section.</p></section></main><footer><p>&copy; 2024 My Website</p></footer>'"
   ]
  },
  {
   "cell_type": "code",
   "execution_count": 30,
   "metadata": {},
   "outputs": [
    {
     "data": {
      "text/plain": [
       "'<header><h1>Welcome to My Website</h1></header><nav><ul><li><a href=\"#home\">Home</a></li><li><a href=\"#about\">About</a></li><li><a href=\"#services\">Services</a></li><li><a href=\"#contact\">Contact</a></li></ul></nav><main><section id=\"home\"><h2>Home</h2><p>This is the home section.</p></section><section id=\"about\"><h2>About</h2><p>This is the about section.</p></section><section id=\"services\"><h2>Services</h2><p>This is the services section.</p></section><section id=\"contact\"><h2>Contact</h2><p>This is the contact section.</p></section></main><footer><p>&copy; 2024 My Website</p></footer>'"
      ]
     },
     "execution_count": 30,
     "metadata": {},
     "output_type": "execute_result"
    }
   ],
   "source": [
    "sample_data"
   ]
  },
  {
   "cell_type": "code",
   "execution_count": 31,
   "metadata": {},
   "outputs": [],
   "source": [
    "import re\n",
    "def split_html(data):\n",
    "    p = re.compile(r'<.*?>')\n",
    "    return p.sub(' ',data)"
   ]
  },
  {
   "cell_type": "code",
   "execution_count": 32,
   "metadata": {},
   "outputs": [
    {
     "data": {
      "text/plain": [
       "'  Welcome to My Website      Home    About    Services    Contact       Home  This is the home section.    About  This is the about section.    Services  This is the services section.    Contact  This is the contact section.     &copy; 2024 My Website  '"
      ]
     },
     "execution_count": 32,
     "metadata": {},
     "output_type": "execute_result"
    }
   ],
   "source": [
    "split_html(sample_data)"
   ]
  }
 ],
 "metadata": {
  "kernelspec": {
   "display_name": ".venv",
   "language": "python",
   "name": "python3"
  },
  "language_info": {
   "codemirror_mode": {
    "name": "ipython",
    "version": 3
   },
   "file_extension": ".py",
   "mimetype": "text/x-python",
   "name": "python",
   "nbconvert_exporter": "python",
   "pygments_lexer": "ipython3",
   "version": "3.11.6"
  }
 },
 "nbformat": 4,
 "nbformat_minor": 2
}
