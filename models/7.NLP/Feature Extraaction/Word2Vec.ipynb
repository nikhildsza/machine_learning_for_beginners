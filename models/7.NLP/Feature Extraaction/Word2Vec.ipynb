{
 "cells": [
  {
   "cell_type": "markdown",
   "metadata": {},
   "source": [
    "Word2Vec on Game of Thrones data"
   ]
  },
  {
   "cell_type": "code",
   "execution_count": 1,
   "metadata": {},
   "outputs": [
    {
     "name": "stderr",
     "output_type": "stream",
     "text": [
      "/tmp/ipykernel_4560/344542387.py:1: DeprecationWarning: \n",
      "Pyarrow will become a required dependency of pandas in the next major release of pandas (pandas 3.0),\n",
      "(to allow more performant data types, such as the Arrow string type, and better interoperability with other libraries)\n",
      "but was not found to be installed on your system.\n",
      "If this would cause problems for you,\n",
      "please provide us feedback at https://github.com/pandas-dev/pandas/issues/54466\n",
      "        \n",
      "  import pandas as pd\n"
     ]
    }
   ],
   "source": [
    "import pandas as pd\n",
    "import gensim\n",
    "import os\n",
    "from nltk.tokenize import sent_tokenize\n",
    "from gensim.utils import simple_preprocess\n",
    "from nltk.corpus import stopwords"
   ]
  },
  {
   "cell_type": "code",
   "execution_count": 2,
   "metadata": {},
   "outputs": [],
   "source": [
    "story = []\n",
    "for filename in os.listdir('/home/nikhilds/GitHub(ML)/machine_learning_for_beginners/datasets/4.NLP/Word2Vec'):\n",
    "    f = open(os.path.join('/home/nikhilds/GitHub(ML)/machine_learning_for_beginners/datasets/4.NLP/Word2Vec',filename),encoding='latin1')\n",
    "    corpus = f.read()\n",
    "    raw_sent = sent_tokenize(corpus)\n",
    "    for sent in raw_sent:\n",
    "        processed_word = simple_preprocess(sent)\n",
    "        filtered_words = [word for word in processed_word if word not in stopwords.words('english')]\n",
    "        story.append(filtered_words)\n"
   ]
  },
  {
   "cell_type": "code",
   "execution_count": 3,
   "metadata": {},
   "outputs": [
    {
     "data": {
      "text/plain": [
       "145020"
      ]
     },
     "execution_count": 3,
     "metadata": {},
     "output_type": "execute_result"
    }
   ],
   "source": [
    "len(story)"
   ]
  },
  {
   "cell_type": "code",
   "execution_count": 4,
   "metadata": {},
   "outputs": [
    {
     "data": {
      "text/plain": [
       "[['clash',\n",
       "  'kings',\n",
       "  'book',\n",
       "  'two',\n",
       "  'song',\n",
       "  'ice',\n",
       "  'fire',\n",
       "  'george',\n",
       "  'martin',\n",
       "  'prologue',\n",
       "  'comet',\n",
       "  'tail',\n",
       "  'spread',\n",
       "  'across',\n",
       "  'dawn',\n",
       "  'red',\n",
       "  'slash',\n",
       "  'bled',\n",
       "  'crags',\n",
       "  'dragonstone',\n",
       "  'like',\n",
       "  'wound',\n",
       "  'pink',\n",
       "  'purple',\n",
       "  'sky'],\n",
       " ['maester', 'stood', 'windswept', 'balcony', 'outside', 'chambers'],\n",
       " ['ravens', 'came', 'long', 'flight'],\n",
       " ['droppings',\n",
       "  'speckled',\n",
       "  'gargoyles',\n",
       "  'rose',\n",
       "  'twelve',\n",
       "  'feet',\n",
       "  'tall',\n",
       "  'either',\n",
       "  'side',\n",
       "  'hellhound',\n",
       "  'wyvern',\n",
       "  'two',\n",
       "  'thousand',\n",
       "  'brooded',\n",
       "  'walls',\n",
       "  'ancient',\n",
       "  'fortress'],\n",
       " ['first',\n",
       "  'came',\n",
       "  'dragonstone',\n",
       "  'army',\n",
       "  'stone',\n",
       "  'grotesques',\n",
       "  'made',\n",
       "  'uneasy',\n",
       "  'years',\n",
       "  'passed',\n",
       "  'grown',\n",
       "  'used'],\n",
       " ['thought', 'old', 'friends'],\n",
       " ['three', 'watched', 'sky', 'together', 'foreboding'],\n",
       " ['maester', 'believe', 'omens'],\n",
       " ['yet'],\n",
       " [],\n",
       " [],\n",
       " ['old',\n",
       "  'cressen',\n",
       "  'never',\n",
       "  'seen',\n",
       "  'comet',\n",
       "  'half',\n",
       "  'bright',\n",
       "  'yet',\n",
       "  'color',\n",
       "  'terrible',\n",
       "  'color',\n",
       "  'color',\n",
       "  'blood',\n",
       "  'flame',\n",
       "  'sunsets'],\n",
       " ['wondered', 'gargoyles', 'ever', 'seen', 'like'],\n",
       " ['much', 'longer', 'would', 'still', 'long', 'gone'],\n",
       " ['stone', 'tongues', 'could', 'speak'],\n",
       " [],\n",
       " [],\n",
       " ['folly'],\n",
       " ['leaned',\n",
       "  'battlement',\n",
       "  'sea',\n",
       "  'crashing',\n",
       "  'beneath',\n",
       "  'black',\n",
       "  'stone',\n",
       "  'rough',\n",
       "  'beneath',\n",
       "  'fingers'],\n",
       " ['talking', 'gargoyles', 'prophecies', 'sky'],\n",
       " ['old', 'done', 'man', 'grown', 'giddy', 'child'],\n",
       " ['lifetime', 'hard', 'wisdom', 'fled', 'along', 'health', 'strength'],\n",
       " ['maester', 'trained', 'chained', 'great', 'citadel', 'oldtown'],\n",
       " ['come', 'superstition', 'filled', 'head', 'ignorant', 'fieldhand'],\n",
       " ['yet'],\n",
       " [],\n",
       " [],\n",
       " ['yet'],\n",
       " [],\n",
       " [],\n",
       " ['comet',\n",
       "  'burned',\n",
       "  'even',\n",
       "  'day',\n",
       "  'pale',\n",
       "  'grey',\n",
       "  'steam',\n",
       "  'rose',\n",
       "  'hot',\n",
       "  'vents',\n",
       "  'dragonmont',\n",
       "  'behind',\n",
       "  'castle',\n",
       "  'yestermorn',\n",
       "  'white',\n",
       "  'raven',\n",
       "  'brought',\n",
       "  'word',\n",
       "  'citadel',\n",
       "  'word',\n",
       "  'long',\n",
       "  'expected',\n",
       "  'less',\n",
       "  'fearful',\n",
       "  'word',\n",
       "  'summer',\n",
       "  'end'],\n",
       " ['omens'],\n",
       " ['many', 'deny'],\n",
       " ['mean'],\n",
       " ['wanted', 'cry'],\n",
       " ['page', 'maester', 'cressen', 'visitors'],\n",
       " ['pylos',\n",
       "  'spoke',\n",
       "  'softly',\n",
       "  'loath',\n",
       "  'disturb',\n",
       "  'cressen',\n",
       "  'solemn',\n",
       "  'meditations'],\n",
       " ['known', 'drivel', 'filled', 'head', 'would', 'shouted'],\n",
       " ['princess', 'would', 'see', 'white', 'raven'],\n",
       " ['ever', 'correct', 'pylos', 'called', 'princess', 'lord', 'father', 'king'],\n",
       " ['king',\n",
       "  'smoking',\n",
       "  'rock',\n",
       "  'great',\n",
       "  'salt',\n",
       "  'sea',\n",
       "  'yet',\n",
       "  'king',\n",
       "  'nonetheless'],\n",
       " ['fool'],\n",
       " ['old',\n",
       "  'man',\n",
       "  'turned',\n",
       "  'away',\n",
       "  'dawn',\n",
       "  'keeping',\n",
       "  'hand',\n",
       "  'wyvern',\n",
       "  'steady'],\n",
       " ['help', 'chair', 'show'],\n",
       " ['taking', 'arm', 'pylos', 'led', 'inside'],\n",
       " ['youth',\n",
       "  'cressen',\n",
       "  'walked',\n",
       "  'briskly',\n",
       "  'far',\n",
       "  'eightieth',\n",
       "  'name',\n",
       "  'day',\n",
       "  'legs',\n",
       "  'frail',\n",
       "  'unsteady'],\n",
       " ['two',\n",
       "  'years',\n",
       "  'past',\n",
       "  'fallen',\n",
       "  'shattered',\n",
       "  'hip',\n",
       "  'never',\n",
       "  'mended',\n",
       "  'properly'],\n",
       " ['last',\n",
       "  'year',\n",
       "  'took',\n",
       "  'ill',\n",
       "  'citadel',\n",
       "  'sent',\n",
       "  'pylos',\n",
       "  'oldtown',\n",
       "  'mere',\n",
       "  'days',\n",
       "  'lord',\n",
       "  'stannis',\n",
       "  'closed',\n",
       "  'isle'],\n",
       " [],\n",
       " [],\n",
       " ['help', 'labors', 'said', 'cressen', 'knew', 'truth'],\n",
       " ['pylos', 'come', 'replace', 'died'],\n",
       " ['mind'],\n",
       " ['someone', 'must', 'take', 'place', 'sooner', 'would', 'like'],\n",
       " [],\n",
       " [],\n",
       " ['let', 'younger', 'man', 'settle', 'behind', 'books', 'papers'],\n",
       " ['go', 'bring'],\n",
       " ['ill', 'keep', 'lady', 'waiting'],\n",
       " ['waved',\n",
       "  'hand',\n",
       "  'feeble',\n",
       "  'gesture',\n",
       "  'haste',\n",
       "  'man',\n",
       "  'longer',\n",
       "  'capable',\n",
       "  'hastening'],\n",
       " ['flesh',\n",
       "  'wrinkled',\n",
       "  'spotted',\n",
       "  'skin',\n",
       "  'papery',\n",
       "  'thin',\n",
       "  'could',\n",
       "  'see',\n",
       "  'web',\n",
       "  'veins',\n",
       "  'shape',\n",
       "  'bones',\n",
       "  'beneath'],\n",
       " ['trembled', 'hands', 'sure', 'deft'],\n",
       " [],\n",
       " [],\n",
       " ['pylos', 'returned', 'girl', 'came', 'shy', 'ever'],\n",
       " ['behind',\n",
       "  'shuffling',\n",
       "  'hopping',\n",
       "  'queer',\n",
       "  'sideways',\n",
       "  'walk',\n",
       "  'came',\n",
       "  'fool'],\n",
       " ['head',\n",
       "  'mock',\n",
       "  'helm',\n",
       "  'fashioned',\n",
       "  'old',\n",
       "  'tin',\n",
       "  'bucket',\n",
       "  'rack',\n",
       "  'deer',\n",
       "  'antlers',\n",
       "  'strapped',\n",
       "  'crown',\n",
       "  'hung',\n",
       "  'cowbells'],\n",
       " ['every',\n",
       "  'lurching',\n",
       "  'step',\n",
       "  'bells',\n",
       "  'rang',\n",
       "  'different',\n",
       "  'voice',\n",
       "  'clang',\n",
       "  'dang',\n",
       "  'bong',\n",
       "  'dong',\n",
       "  'ring',\n",
       "  'ling',\n",
       "  'clong',\n",
       "  'clong',\n",
       "  'clong'],\n",
       " ['comes', 'see', 'us', 'early', 'pylos'],\n",
       " ['cressen', 'said'],\n",
       " ['patches', 'maester'],\n",
       " ['guileless', 'blue', 'eyes', 'blinked'],\n",
       " ['pretty', 'face', 'alas'],\n",
       " ['child',\n",
       "  'lord',\n",
       "  'father',\n",
       "  'square',\n",
       "  'jut',\n",
       "  'jaw',\n",
       "  'mother',\n",
       "  'unfortunate',\n",
       "  'ears',\n",
       "  'along',\n",
       "  'disfigurement',\n",
       "  'legacy',\n",
       "  'bout',\n",
       "  'greyscale',\n",
       "  'almost',\n",
       "  'claimed',\n",
       "  'crib'],\n",
       " ['across',\n",
       "  'half',\n",
       "  'one',\n",
       "  'cheek',\n",
       "  'well',\n",
       "  'neck',\n",
       "  'flesh',\n",
       "  'stiff',\n",
       "  'dead',\n",
       "  'skin',\n",
       "  'cracked',\n",
       "  'flaking',\n",
       "  'mottled',\n",
       "  'black',\n",
       "  'grey',\n",
       "  'stony',\n",
       "  'touch'],\n",
       " ['pylos', 'said', 'might', 'see', 'white', 'raven'],\n",
       " ['indeed', 'may', 'cressen', 'answered'],\n",
       " ['would', 'ever', 'deny'],\n",
       " ['denied', 'often', 'time'],\n",
       " ['name', 'shireen'],\n",
       " ['would',\n",
       "  'ten',\n",
       "  'next',\n",
       "  'name',\n",
       "  'day',\n",
       "  'saddest',\n",
       "  'child',\n",
       "  'maester',\n",
       "  'cressen',\n",
       "  'ever',\n",
       "  'known'],\n",
       " ['sadness', 'shame', 'old', 'man', 'thought', 'another', 'mark', 'failure'],\n",
       " ['maester',\n",
       "  'pylos',\n",
       "  'kindness',\n",
       "  'bring',\n",
       "  'bird',\n",
       "  'rookery',\n",
       "  'lady',\n",
       "  'shireen'],\n",
       " ['would', 'pleasure'],\n",
       " ['pylos',\n",
       "  'polite',\n",
       "  'youth',\n",
       "  'five',\n",
       "  'twenty',\n",
       "  'yet',\n",
       "  'solemn',\n",
       "  'man',\n",
       "  'sixty'],\n",
       " ['humor', 'life', 'needed'],\n",
       " ['grim',\n",
       "  'places',\n",
       "  'needed',\n",
       "  'lightening',\n",
       "  'solemnity',\n",
       "  'dragonstone',\n",
       "  'grim',\n",
       "  'beyond',\n",
       "  'doubt',\n",
       "  'lonely',\n",
       "  'citadel',\n",
       "  'wet',\n",
       "  'waste',\n",
       "  'surrounded',\n",
       "  'storm',\n",
       "  'salt',\n",
       "  'smoking',\n",
       "  'shadow',\n",
       "  'mountain',\n",
       "  'back'],\n",
       " ['maester',\n",
       "  'must',\n",
       "  'go',\n",
       "  'sent',\n",
       "  'cressen',\n",
       "  'come',\n",
       "  'lord',\n",
       "  'twelve',\n",
       "  'years',\n",
       "  'past',\n",
       "  'served',\n",
       "  'served',\n",
       "  'well'],\n",
       " ['yet', 'never', 'loved', 'dragonstone', 'ever', 'felt', 'truly', 'home'],\n",
       " ['late',\n",
       "  'woke',\n",
       "  'restless',\n",
       "  'dreams',\n",
       "  'red',\n",
       "  'woman',\n",
       "  'figured',\n",
       "  'disturbingly',\n",
       "  'often',\n",
       "  'know'],\n",
       " ['page',\n",
       "  'fool',\n",
       "  'turned',\n",
       "  'patched',\n",
       "  'piebald',\n",
       "  'head',\n",
       "  'watch',\n",
       "  'pylos',\n",
       "  'climb',\n",
       "  'steep',\n",
       "  'iron',\n",
       "  'steps',\n",
       "  'rookery'],\n",
       " ['bells', 'rang', 'motion'],\n",
       " ['sea', 'birds', 'scales', 'feathers', 'said', 'clang', 'langing'],\n",
       " ['know', 'know', 'oh', 'oh', 'oh'],\n",
       " ['even', 'fool', 'patchface', 'sorry', 'thing'],\n",
       " ['perhaps',\n",
       "  'could',\n",
       "  'evoke',\n",
       "  'gales',\n",
       "  'laughter',\n",
       "  'quip',\n",
       "  'sea',\n",
       "  'taken',\n",
       "  'power',\n",
       "  'along',\n",
       "  'half',\n",
       "  'wits',\n",
       "  'memory'],\n",
       " ['soft', 'obese', 'subject', 'twitches', 'trembles', 'incoherent', 'often'],\n",
       " ['girl', 'one', 'laughed', 'one', 'cared', 'lived', 'died'],\n",
       " ['ugly', 'little', 'girl', 'sad', 'fool', 'maester', 'makes', 'three'],\n",
       " [],\n",
       " [],\n",
       " ['tale', 'make', 'men', 'weep'],\n",
       " ['sit', 'child'],\n",
       " ['cressen', 'beckoned', 'closer'],\n",
       " ['early', 'come', 'calling', 'scarce', 'past', 'dawn'],\n",
       " ['snug', 'bed'],\n",
       " ['bad', 'dreams', 'shireen', 'told'],\n",
       " ['dragons'],\n",
       " ['coming', 'eat'],\n",
       " ['child',\n",
       "  'plagued',\n",
       "  'nightmares',\n",
       "  'far',\n",
       "  'back',\n",
       "  'maester',\n",
       "  'cressen',\n",
       "  'could',\n",
       "  'recall'],\n",
       " ['talked', 'said', 'gently'],\n",
       " ['dragons', 'cannot', 'come', 'life'],\n",
       " ['carved', 'stone', 'child'],\n",
       " ['olden',\n",
       "  'days',\n",
       "  'island',\n",
       "  'westernmost',\n",
       "  'outpost',\n",
       "  'great',\n",
       "  'freehold',\n",
       "  'valyria'],\n",
       " ['valyrians',\n",
       "  'raised',\n",
       "  'citadel',\n",
       "  'ways',\n",
       "  'shaping',\n",
       "  'stone',\n",
       "  'since',\n",
       "  'lost',\n",
       "  'us'],\n",
       " ['castle',\n",
       "  'must',\n",
       "  'towers',\n",
       "  'wherever',\n",
       "  'two',\n",
       "  'walls',\n",
       "  'meet',\n",
       "  'angle',\n",
       "  'defense'],\n",
       " ['valyrians',\n",
       "  'fashioned',\n",
       "  'towers',\n",
       "  'shape',\n",
       "  'dragons',\n",
       "  'make',\n",
       "  'fortress',\n",
       "  'seem',\n",
       "  'fearsome',\n",
       "  'crowned',\n",
       "  'walls',\n",
       "  'thousand',\n",
       "  'gargoyles',\n",
       "  'instead',\n",
       "  'simple',\n",
       "  'crenellations'],\n",
       " ['took',\n",
       "  'small',\n",
       "  'pink',\n",
       "  'hand',\n",
       "  'frail',\n",
       "  'spotted',\n",
       "  'one',\n",
       "  'gave',\n",
       "  'gentle',\n",
       "  'squeeze'],\n",
       " ['see', 'nothing', 'fear'],\n",
       " ['shireen', 'unconvinced'],\n",
       " ['thing', 'sky'],\n",
       " ['dalla',\n",
       "  'matrice',\n",
       "  'talking',\n",
       "  'well',\n",
       "  'dalla',\n",
       "  'said',\n",
       "  'heard',\n",
       "  'red',\n",
       "  'woman',\n",
       "  'tell',\n",
       "  'mother',\n",
       "  'dragonshreath'],\n",
       " ['dragons', 'breathing', 'mean', 'coming', 'life'],\n",
       " ['red',\n",
       "  'woman',\n",
       "  'maester',\n",
       "  'cressen',\n",
       "  'thought',\n",
       "  'sourly',\n",
       "  'illenough',\n",
       "  'filled',\n",
       "  'head',\n",
       "  'mother',\n",
       "  'madness',\n",
       "  'must',\n",
       "  'poison',\n",
       "  'daughter',\n",
       "  'dreams',\n",
       "  'well'],\n",
       " ['would', 'stern', 'word', 'dalla', 'warn', 'spread', 'tales'],\n",
       " ['thing', 'sky', 'comet', 'sweet', 'child'],\n",
       " ['star', 'tail', 'lost', 'heavens'],\n",
       " ['gone', 'soon', 'enough', 'never', 'seen', 'lifetimes'],\n",
       " ['watch', 'see'],\n",
       " ['shireen', 'gave', 'brave', 'little', 'nod'],\n",
       " ['mother', 'said', 'white', 'raven', 'means', 'summer', 'anymore'],\n",
       " ['lady'],\n",
       " ['white', 'ravens', 'fly', 'citadel'],\n",
       " ['cressen',\n",
       "  'fingers',\n",
       "  'went',\n",
       "  'chain',\n",
       "  'neck',\n",
       "  'link',\n",
       "  'forged',\n",
       "  'different',\n",
       "  'metal',\n",
       "  'symbolizing',\n",
       "  'mastery',\n",
       "  'another',\n",
       "  'branch',\n",
       "  'learning',\n",
       "  'maester',\n",
       "  'collar',\n",
       "  'mark',\n",
       "  'order'],\n",
       " ['pride',\n",
       "  'youth',\n",
       "  'worn',\n",
       "  'easily',\n",
       "  'seemed',\n",
       "  'heavy',\n",
       "  'metal',\n",
       "  'cold',\n",
       "  'skin'],\n",
       " ['larger', 'ravens', 'clever', 'bred', 'carry', 'important', 'messages'],\n",
       " ['one',\n",
       "  'came',\n",
       "  'tell',\n",
       "  'us',\n",
       "  'conclave',\n",
       "  'met',\n",
       "  'considered',\n",
       "  'reports',\n",
       "  'measurements',\n",
       "  'made',\n",
       "  'maesters',\n",
       "  'realm',\n",
       "  'declared',\n",
       "  'great',\n",
       "  'summer',\n",
       "  'done',\n",
       "  'last'],\n",
       " ['ten',\n",
       "  'years',\n",
       "  'two',\n",
       "  'turns',\n",
       "  'sixteen',\n",
       "  'days',\n",
       "  'lasted',\n",
       "  'longest',\n",
       "  'summer',\n",
       "  'living',\n",
       "  'memory'],\n",
       " ['get', 'cold'],\n",
       " ['shireen', 'summer', 'child', 'never', 'known', 'true', 'cold'],\n",
       " ['time', 'cressen', 'replied'],\n",
       " ['gods',\n",
       "  'good',\n",
       "  'grant',\n",
       "  'us',\n",
       "  'warm',\n",
       "  'autumn',\n",
       "  'bountiful',\n",
       "  'harvests',\n",
       "  'might',\n",
       "  'prepare',\n",
       "  'winter',\n",
       "  'come'],\n",
       " ['smallfolk',\n",
       "  'said',\n",
       "  'long',\n",
       "  'summer',\n",
       "  'meant',\n",
       "  'even',\n",
       "  'longer',\n",
       "  'winter',\n",
       "  'maester',\n",
       "  'saw',\n",
       "  'reason',\n",
       "  'frighten',\n",
       "  'child',\n",
       "  'tales'],\n",
       " ['page', 'patchface', 'rang', 'bells'],\n",
       " ['always', 'summer', 'sea', 'intoned'],\n",
       " ['merwives',\n",
       "  'wear',\n",
       "  'nennymoans',\n",
       "  'hair',\n",
       "  'weave',\n",
       "  'gowns',\n",
       "  'silver',\n",
       "  'seaweed'],\n",
       " ['know', 'know', 'oh', 'oh', 'oh'],\n",
       " ['shireen', 'giggled'],\n",
       " ['like', 'gown', 'silver', 'seaweed'],\n",
       " ['sea', 'snows', 'said', 'fool', 'rain', 'dry', 'bone'],\n",
       " ['know', 'know', 'oh', 'oh', 'oh'],\n",
       " ['truly', 'snow'],\n",
       " ['child', 'asked'],\n",
       " ['cressen', 'said'],\n",
       " ['years', 'yet', 'pray', 'long'],\n",
       " ['ah', 'pylos', 'bird'],\n",
       " ['shireen', 'gave', 'cry', 'delight'],\n",
       " ['even',\n",
       "  'cressen',\n",
       "  'admit',\n",
       "  'bird',\n",
       "  'made',\n",
       "  'impressive',\n",
       "  'sight',\n",
       "  'white',\n",
       "  'snow',\n",
       "  'larger',\n",
       "  'hawk',\n",
       "  'bright',\n",
       "  'black',\n",
       "  'eyes',\n",
       "  'meant',\n",
       "  'mere',\n",
       "  'albino',\n",
       "  'truebred',\n",
       "  'white',\n",
       "  'raven',\n",
       "  'citadel'],\n",
       " ['called'],\n",
       " ['raven',\n",
       "  'spread',\n",
       "  'wings',\n",
       "  'leapt',\n",
       "  'air',\n",
       "  'flapped',\n",
       "  'noisily',\n",
       "  'across',\n",
       "  'room',\n",
       "  'land',\n",
       "  'table',\n",
       "  'beside'],\n",
       " ['see', 'breakfast', 'pylos', 'announced'],\n",
       " ['cressen', 'nodded'],\n",
       " ['lady', 'shireen', 'told', 'raven'],\n",
       " ['bird', 'bobbed', 'pale', 'head', 'bowing'],\n",
       " ['lady', 'croaked'],\n",
       " ['lady'],\n",
       " ['child', 'mouth', 'gaped', 'open'],\n",
       " ['talks'],\n",
       " ['words'],\n",
       " ['said', 'clever', 'birds'],\n",
       " ['clever',\n",
       "  'bird',\n",
       "  'clever',\n",
       "  'man',\n",
       "  'clever',\n",
       "  'clever',\n",
       "  'fool',\n",
       "  'said',\n",
       "  'patchface',\n",
       "  'jangling'],\n",
       " ['oh', 'clever', 'clever', 'clever', 'fool'],\n",
       " ['began', 'sing'],\n",
       " ['shadows',\n",
       "  'come',\n",
       "  'dance',\n",
       "  'lord',\n",
       "  'dance',\n",
       "  'lord',\n",
       "  'dance',\n",
       "  'lord',\n",
       "  'sang',\n",
       "  'hopping',\n",
       "  'one',\n",
       "  'foot',\n",
       "  'back'],\n",
       " ['shadows', 'come', 'stay', 'lord', 'stay', 'lord', 'stay', 'lord'],\n",
       " ['jerked', 'head', 'word', 'bells', 'antlers', 'sending', 'clangor'],\n",
       " ['white',\n",
       "  'raven',\n",
       "  'screamed',\n",
       "  'went',\n",
       "  'flapping',\n",
       "  'away',\n",
       "  'perch',\n",
       "  'iron',\n",
       "  'railing',\n",
       "  'rookery',\n",
       "  'stairs'],\n",
       " ['shireen', 'seemed', 'grow', 'smaller'],\n",
       " ['sings', 'time'],\n",
       " ['told', 'stop'],\n",
       " ['makes', 'scared'],\n",
       " ['make', 'stop'],\n",
       " [],\n",
       " ['old', 'man', 'wondered'],\n",
       " ['might', 'silenced', 'forever'],\n",
       " [],\n",
       " [],\n",
       " ['patchface', 'come', 'boy'],\n",
       " ['lord',\n",
       "  'steffon',\n",
       "  'cherished',\n",
       "  'memory',\n",
       "  'found',\n",
       "  'volantis',\n",
       "  'across',\n",
       "  'narrow',\n",
       "  'sea'],\n",
       " ['king',\n",
       "  'old',\n",
       "  'king',\n",
       "  'aerys',\n",
       "  'ii',\n",
       "  'targaryen',\n",
       "  'quite',\n",
       "  'mad',\n",
       "  'dayshad',\n",
       "  'sent',\n",
       "  'lordship',\n",
       "  'seek',\n",
       "  'bride',\n",
       "  'prince',\n",
       "  'rhaegar',\n",
       "  'sisters',\n",
       "  'wed',\n",
       "  'found',\n",
       "  'splendid',\n",
       "  'fool',\n",
       "  'wrote',\n",
       "  'cressen',\n",
       "  'fortnight',\n",
       "  'return',\n",
       "  'home',\n",
       "  'fruitless',\n",
       "  'mission'],\n",
       " ['boy', 'yet', 'nimble', 'monkey', 'witty', 'dozen', 'courtiers'],\n",
       " ['juggles', 'riddles', 'magic', 'sing', 'prettily', 'four', 'tongues'],\n",
       " ['bought', 'freedom', 'hope', 'bring', 'home', 'us'],\n",
       " ['robert',\n",
       "  'delighted',\n",
       "  'perhaps',\n",
       "  'time',\n",
       "  'even',\n",
       "  'teach',\n",
       "  'stannis',\n",
       "  'laugh'],\n",
       " ['saddened', 'cressen', 'remember', 'letter'],\n",
       " ['one', 'ever', 'taught', 'stannis', 'laugh', 'least', 'boy', 'patchface'],\n",
       " ['storm',\n",
       "  'came',\n",
       "  'suddenly',\n",
       "  'howling',\n",
       "  'shipbreaker',\n",
       "  'bay',\n",
       "  'proved',\n",
       "  'truth',\n",
       "  'name'],\n",
       " ['lord',\n",
       "  'two',\n",
       "  'masted',\n",
       "  'galley',\n",
       "  'windproud',\n",
       "  'broke',\n",
       "  'within',\n",
       "  'sight',\n",
       "  'castle'],\n",
       " ['parapets',\n",
       "  'two',\n",
       "  'eldest',\n",
       "  'sons',\n",
       "  'watched',\n",
       "  'father',\n",
       "  'ship',\n",
       "  'smashed',\n",
       "  'rocks',\n",
       "  'swallowed',\n",
       "  'waters'],\n",
       " ['hundred',\n",
       "  'oarsmen',\n",
       "  'sailors',\n",
       "  'went',\n",
       "  'lord',\n",
       "  'steffon',\n",
       "  'baratheon',\n",
       "  'lady',\n",
       "  'wife',\n",
       "  'days',\n",
       "  'thereafter',\n",
       "  'every',\n",
       "  'tide',\n",
       "  'left',\n",
       "  'fresh',\n",
       "  'crop',\n",
       "  'swollen',\n",
       "  'corpses',\n",
       "  'strand',\n",
       "  'storm',\n",
       "  'end'],\n",
       " ['page', 'boy', 'washed', 'third', 'day'],\n",
       " ['maester', 'cressen', 'come', 'rest', 'help', 'put', 'names', 'dead'],\n",
       " ['found',\n",
       "  'fool',\n",
       "  'naked',\n",
       "  'skin',\n",
       "  'white',\n",
       "  'wrinkled',\n",
       "  'powdered',\n",
       "  'wet',\n",
       "  'sand'],\n",
       " ['cressen',\n",
       "  'thought',\n",
       "  'another',\n",
       "  'corpse',\n",
       "  'jornmy',\n",
       "  'grabbed',\n",
       "  'ankles',\n",
       "  'drag',\n",
       "  'burial',\n",
       "  'wagon',\n",
       "  'boy',\n",
       "  'coughed',\n",
       "  'water',\n",
       "  'sat'],\n",
       " ['dying', 'day', 'jornmy', 'sworn', 'patchface', 'flesh', 'clammy', 'cold'],\n",
       " ['one', 'ever', 'explained', 'two', 'days', 'fool', 'lost', 'sea'],\n",
       " ['fisherfolk',\n",
       "  'liked',\n",
       "  'say',\n",
       "  'mermaid',\n",
       "  'taught',\n",
       "  'breathe',\n",
       "  'water',\n",
       "  'return',\n",
       "  'seed'],\n",
       " ['patchface', 'said', 'nothing'],\n",
       " ['witty',\n",
       "  'clever',\n",
       "  'lad',\n",
       "  'lord',\n",
       "  'steffon',\n",
       "  'written',\n",
       "  'never',\n",
       "  'reached',\n",
       "  'storm',\n",
       "  'end',\n",
       "  'boy',\n",
       "  'found',\n",
       "  'someone',\n",
       "  'else',\n",
       "  'broken',\n",
       "  'body',\n",
       "  'mind',\n",
       "  'hardly',\n",
       "  'capable',\n",
       "  'speech',\n",
       "  'much',\n",
       "  'less',\n",
       "  'wit'],\n",
       " ['yet', 'fool', 'face', 'left', 'doubt'],\n",
       " ['fashion',\n",
       "  'free',\n",
       "  'city',\n",
       "  'volantis',\n",
       "  'tattoo',\n",
       "  'faces',\n",
       "  'slaves',\n",
       "  'servants',\n",
       "  'neck',\n",
       "  'scalp',\n",
       "  'boy',\n",
       "  'skin',\n",
       "  'patterned',\n",
       "  'squares',\n",
       "  'red',\n",
       "  'green',\n",
       "  'motley'],\n",
       " ['wretch',\n",
       "  'mad',\n",
       "  'pain',\n",
       "  'use',\n",
       "  'anyone',\n",
       "  'least',\n",
       "  'declared',\n",
       "  'old',\n",
       "  'ser',\n",
       "  'harbert',\n",
       "  'castellan',\n",
       "  'storm',\n",
       "  'end',\n",
       "  'years'],\n",
       " ['kindest', 'thing', 'could', 'one', 'fill', 'cup', 'milk', 'poppy'],\n",
       " ['painless', 'sleep', 'end'],\n",
       " ['bless', 'wit'],\n",
       " ['cressen', 'refused', 'end'],\n",
       " ['whether',\n",
       "  'patchface',\n",
       "  'gotten',\n",
       "  'joy',\n",
       "  'victory',\n",
       "  'could',\n",
       "  'say',\n",
       "  'even',\n",
       "  'today',\n",
       "  'many',\n",
       "  'years',\n",
       "  'later'],\n",
       " ['shadows',\n",
       "  'come',\n",
       "  'dance',\n",
       "  'lord',\n",
       "  'dance',\n",
       "  'lord',\n",
       "  'dance',\n",
       "  'lord',\n",
       "  'fool',\n",
       "  'sang',\n",
       "  'swinging',\n",
       "  'head',\n",
       "  'making',\n",
       "  'bells',\n",
       "  'clang',\n",
       "  'clatter'],\n",
       " ['bong', 'dong', 'ring', 'ling', 'bong', 'dong'],\n",
       " ['lord', 'white', 'raven', 'shrieked'],\n",
       " ['lord', 'lord', 'lord'],\n",
       " ['fool', 'sings', 'maester', 'told', 'anxious', 'princess'],\n",
       " ['must', 'take', 'words', 'heart'],\n",
       " ['morrow', 'may', 'remember', 'another', 'song', 'one', 'never', 'heard'],\n",
       " ['sing', 'prettily', 'four', 'tongues', 'lord', 'steffon', 'written'],\n",
       " [],\n",
       " [],\n",
       " ['pylos', 'strode', 'door'],\n",
       " ['maester', 'pardons'],\n",
       " ['forgotten', 'porridge', 'cressen', 'said', 'amused'],\n",
       " ['unlike', 'pylos'],\n",
       " ['maester', 'ser', 'davos', 'returned', 'last', 'night'],\n",
       " ['talking', 'kitchen'],\n",
       " ['thought', 'would', 'want', 'know'],\n",
       " ['davos'],\n",
       " [],\n",
       " [],\n",
       " ['last', 'night', 'say'],\n",
       " [],\n",
       " ['king'],\n",
       " ['together', 'night'],\n",
       " ['time',\n",
       "  'lord',\n",
       "  'stannis',\n",
       "  'would',\n",
       "  'woken',\n",
       "  'matter',\n",
       "  'hour',\n",
       "  'give',\n",
       "  'counsel'],\n",
       " ['told', 'cressen', 'complained'],\n",
       " ['woken'],\n",
       " ['disentangled', 'fingers', 'shireen'],\n",
       " ['pardons', 'lady', 'must', 'speak', 'lord', 'father'],\n",
       " ['pylos', 'give', 'arm'],\n",
       " ['many', 'steps', 'castle', 'seems', 'add', 'every', 'night', 'vex'],\n",
       " ['shireen',\n",
       "  'patchface',\n",
       "  'followed',\n",
       "  'child',\n",
       "  'soon',\n",
       "  'grew',\n",
       "  'restless',\n",
       "  'old',\n",
       "  'man',\n",
       "  'creeping',\n",
       "  'pace',\n",
       "  'dashed',\n",
       "  'ahead',\n",
       "  'fool',\n",
       "  'lurching',\n",
       "  'cowbells',\n",
       "  'clanging',\n",
       "  'madly'],\n",
       " ['castles',\n",
       "  'friendly',\n",
       "  'places',\n",
       "  'frail',\n",
       "  'cressen',\n",
       "  'reminded',\n",
       "  'descended',\n",
       "  'turnpike',\n",
       "  'stairs',\n",
       "  'page',\n",
       "  'sea',\n",
       "  'dragon',\n",
       "  'tower'],\n",
       " ['lord',\n",
       "  'stannis',\n",
       "  'would',\n",
       "  'found',\n",
       "  'chamber',\n",
       "  'painted',\n",
       "  'table',\n",
       "  'atop',\n",
       "  'stone',\n",
       "  'drum',\n",
       "  'dragonstone',\n",
       "  'central',\n",
       "  'keep',\n",
       "  'named',\n",
       "  'way',\n",
       "  'ancient',\n",
       "  'walls',\n",
       "  'boomed',\n",
       "  'rumbled',\n",
       "  'storms'],\n",
       " ['reach',\n",
       "  'must',\n",
       "  'cross',\n",
       "  'gallery',\n",
       "  'pass',\n",
       "  'middle',\n",
       "  'inner',\n",
       "  'walls',\n",
       "  'guardian',\n",
       "  'gargoyles',\n",
       "  'black',\n",
       "  'iron',\n",
       "  'gates',\n",
       "  'ascend',\n",
       "  'steps',\n",
       "  'cressen',\n",
       "  'cared',\n",
       "  'contemplate'],\n",
       " ['young',\n",
       "  'men',\n",
       "  'climbed',\n",
       "  'steps',\n",
       "  'two',\n",
       "  'time',\n",
       "  'old',\n",
       "  'men',\n",
       "  'bad',\n",
       "  'hips',\n",
       "  'every',\n",
       "  'one',\n",
       "  'torment'],\n",
       " ['lord',\n",
       "  'stannis',\n",
       "  'would',\n",
       "  'think',\n",
       "  'come',\n",
       "  'maester',\n",
       "  'resigned',\n",
       "  'ordeal'],\n",
       " ['pylos', 'help', 'least', 'grateful'],\n",
       " ['shuffling',\n",
       "  'along',\n",
       "  'gallery',\n",
       "  'passed',\n",
       "  'row',\n",
       "  'tall',\n",
       "  'arched',\n",
       "  'windows',\n",
       "  'commanding',\n",
       "  'views',\n",
       "  'outer',\n",
       "  'bailey',\n",
       "  'curtain',\n",
       "  'wall',\n",
       "  'fishing',\n",
       "  'village',\n",
       "  'beyond'],\n",
       " ['yard',\n",
       "  'archers',\n",
       "  'firing',\n",
       "  'practice',\n",
       "  'butts',\n",
       "  'call',\n",
       "  'notch',\n",
       "  'draw',\n",
       "  'loose'],\n",
       " ['arrows', 'made', 'sound', 'like', 'flock', 'birds', 'taking', 'wing'],\n",
       " ['guardsmen',\n",
       "  'strode',\n",
       "  'wallwalks',\n",
       "  'peering',\n",
       "  'gargoyles',\n",
       "  'host',\n",
       "  'camped',\n",
       "  'without'],\n",
       " ['morning',\n",
       "  'air',\n",
       "  'hazy',\n",
       "  'smoke',\n",
       "  'cookfires',\n",
       "  'three',\n",
       "  'thousand',\n",
       "  'men',\n",
       "  'sat',\n",
       "  'break',\n",
       "  'fasts',\n",
       "  'beneath',\n",
       "  'banners',\n",
       "  'lords'],\n",
       " ['past', 'sprawl', 'camp', 'anchorage', 'crowded', 'ships'],\n",
       " ['craft',\n",
       "  'come',\n",
       "  'within',\n",
       "  'sight',\n",
       "  'dragonstone',\n",
       "  'past',\n",
       "  'half',\n",
       "  'year',\n",
       "  'allowed',\n",
       "  'leave'],\n",
       " ['lord',\n",
       "  'stannis',\n",
       "  'fury',\n",
       "  'triple',\n",
       "  'decked',\n",
       "  'war',\n",
       "  'galley',\n",
       "  'three',\n",
       "  'hundred',\n",
       "  'oars',\n",
       "  'looked',\n",
       "  'almost',\n",
       "  'small',\n",
       "  'beside',\n",
       "  'big',\n",
       "  'bellied',\n",
       "  'carracks',\n",
       "  'cogs',\n",
       "  'surrounded'],\n",
       " ['guardsmen',\n",
       "  'outside',\n",
       "  'stone',\n",
       "  'drum',\n",
       "  'knew',\n",
       "  'maesters',\n",
       "  'sight',\n",
       "  'passed'],\n",
       " ['wait', 'cressen', 'told', 'pylos', 'within'],\n",
       " ['best', 'see', 'alone'],\n",
       " ['long', 'climb', 'maester'],\n",
       " ['cressen', 'smiled'],\n",
       " ['think', 'forgotten'],\n",
       " ['climbed', 'steps', 'often', 'know', 'one', 'name'],\n",
       " ['halfway', 'regretted', 'decision'],\n",
       " ['stopped',\n",
       "  'catch',\n",
       "  'breath',\n",
       "  'ease',\n",
       "  'pain',\n",
       "  'hip',\n",
       "  'heard',\n",
       "  'scuff',\n",
       "  'boots',\n",
       "  'stone',\n",
       "  'came',\n",
       "  'face',\n",
       "  'face',\n",
       "  'ser',\n",
       "  'davos',\n",
       "  'seaworth',\n",
       "  'descending'],\n",
       " ['davos',\n",
       "  'slight',\n",
       "  'man',\n",
       "  'low',\n",
       "  'birth',\n",
       "  'written',\n",
       "  'plain',\n",
       "  'upon',\n",
       "  'common',\n",
       "  'face'],\n",
       " ['well',\n",
       "  'worn',\n",
       "  'green',\n",
       "  'cloak',\n",
       "  'stained',\n",
       "  'salt',\n",
       "  'spray',\n",
       "  'faded',\n",
       "  'sun',\n",
       "  'draped',\n",
       "  'thin',\n",
       "  'shoulders',\n",
       "  'brown',\n",
       "  'doublet',\n",
       "  'breeches',\n",
       "  'matched',\n",
       "  'brown',\n",
       "  'eyes',\n",
       "  'hair'],\n",
       " ['neck', 'pouch', 'worn', 'leather', 'hung', 'thong'],\n",
       " ['small',\n",
       "  'beard',\n",
       "  'well',\n",
       "  'peppered',\n",
       "  'grey',\n",
       "  'wore',\n",
       "  'leather',\n",
       "  'glove',\n",
       "  'maimed',\n",
       "  'left',\n",
       "  'hand'],\n",
       " ['saw', 'cressen', 'checked', 'descent'],\n",
       " ['ser', 'davos', 'maester', 'said'],\n",
       " ['return'],\n",
       " ['black', 'morning'],\n",
       " ['favorite', 'time'],\n",
       " ['said',\n",
       "  'one',\n",
       "  'ever',\n",
       "  'handled',\n",
       "  'ship',\n",
       "  'night',\n",
       "  'half',\n",
       "  'well',\n",
       "  'davos',\n",
       "  'shorthand'],\n",
       " ['lord',\n",
       "  'stannis',\n",
       "  'knighted',\n",
       "  'notorious',\n",
       "  'elusive',\n",
       "  'smuggler',\n",
       "  'seven',\n",
       "  'kingdoms'],\n",
       " [],\n",
       " ['man', 'shook', 'head'],\n",
       " ['warned'],\n",
       " ['rise', 'maester'],\n",
       " [],\n",
       " ['love'],\n",
       " ['cressen', 'thought'],\n",
       " ['ever'],\n",
       " ['strong', 'able'],\n",
       " [],\n",
       " [],\n",
       " ['aye', 'past', 'point', 'wisdom'],\n",
       " [],\n",
       " [],\n",
       " ['yet', 'enough'],\n",
       " ['never', 'enough'],\n",
       " ['spoke'],\n",
       " ['page'],\n",
       " [],\n",
       " ['would', 'see'],\n",
       " ['love', 'either', 'highborns'],\n",
       " ['always', 'onion', 'knight'],\n",
       " ['left',\n",
       "  'hand',\n",
       "  'closed',\n",
       "  'stubby',\n",
       "  'fingers',\n",
       "  'locking',\n",
       "  'fist',\n",
       "  'stannis',\n",
       "  'hacked',\n",
       "  'ends',\n",
       "  'last',\n",
       "  'joint',\n",
       "  'thumb'],\n",
       " ['broke',\n",
       "  'bread',\n",
       "  'gulian',\n",
       "  'swann',\n",
       "  'old',\n",
       "  'penrose',\n",
       "  'tarths',\n",
       "  'consented',\n",
       "  'midnight',\n",
       "  'meeting',\n",
       "  'grove'],\n",
       " ['others',\n",
       "  'well',\n",
       "  'beric',\n",
       "  'dondarrion',\n",
       "  'gone',\n",
       "  'missing',\n",
       "  'say',\n",
       "  'dead',\n",
       "  'lord',\n",
       "  'caron',\n",
       "  'renly'],\n",
       " ['bryce', 'orange', 'rainbow', 'guard'],\n",
       " ['rainbow', 'guard'],\n",
       " ['renly',\n",
       "  'made',\n",
       "  'kingsguard',\n",
       "  'onetime',\n",
       "  'smuggler',\n",
       "  'explained',\n",
       "  'seven',\n",
       "  'wear',\n",
       "  'white'],\n",
       " ['one', 'color'],\n",
       " ['loras', 'tyrell', 'lord', 'commander'],\n",
       " ['sort',\n",
       "  'notion',\n",
       "  'would',\n",
       "  'appeal',\n",
       "  'renly',\n",
       "  'baratheon',\n",
       "  'splendid',\n",
       "  'new',\n",
       "  'order',\n",
       "  'knighthood',\n",
       "  'gorgeous',\n",
       "  'new',\n",
       "  'raiment',\n",
       "  'proclaim'],\n",
       " ['even',\n",
       "  'boy',\n",
       "  'renly',\n",
       "  'loved',\n",
       "  'bright',\n",
       "  'colors',\n",
       "  'rich',\n",
       "  'fabrics',\n",
       "  'loved',\n",
       "  'games',\n",
       "  'well'],\n",
       " ['look'],\n",
       " ['would', 'shout', 'ran', 'laughing', 'halls', 'storm', 'end'],\n",
       " ['look', 'dragon', 'look', 'wizard', 'look', 'look', 'rain', 'god'],\n",
       " ['bold',\n",
       "  'little',\n",
       "  'boy',\n",
       "  'wild',\n",
       "  'black',\n",
       "  'hair',\n",
       "  'laughing',\n",
       "  'eyes',\n",
       "  'man',\n",
       "  'grown',\n",
       "  'one',\n",
       "  'twenty',\n",
       "  'still',\n",
       "  'played',\n",
       "  'games'],\n",
       " ['look', 'king', 'cressen', 'thought', 'sadly'],\n",
       " ['oh', 'renly', 'renly', 'dear', 'sweet', 'child', 'know', 'would', 'care'],\n",
       " ['anyone', 'cares', 'reasons', 'lords', 'give', 'refusals'],\n",
       " ['asked', 'ser', 'davos'],\n",
       " ['well',\n",
       "  'gave',\n",
       "  'soft',\n",
       "  'words',\n",
       "  'blunt',\n",
       "  'made',\n",
       "  'excuses',\n",
       "  'promises',\n",
       "  'lied'],\n",
       " ['shrugged'],\n",
       " ['end', 'words', 'wind'],\n",
       " ['could', 'bring', 'hope'],\n",
       " ['false', 'sort', 'davos', 'said'],\n",
       " ['truth'],\n",
       " ['maester',\n",
       "  'cressen',\n",
       "  'remembered',\n",
       "  'day',\n",
       "  'davos',\n",
       "  'knighted',\n",
       "  'siege',\n",
       "  'storm',\n",
       "  'end'],\n",
       " ['lord',\n",
       "  'stannis',\n",
       "  'small',\n",
       "  'garrison',\n",
       "  'held',\n",
       "  'castle',\n",
       "  'close',\n",
       "  'year',\n",
       "  'great',\n",
       "  'host',\n",
       "  'lords',\n",
       "  'tyrell',\n",
       "  'redwyne'],\n",
       " ['even',\n",
       "  'sea',\n",
       "  'closed',\n",
       "  'watched',\n",
       "  'day',\n",
       "  'night',\n",
       "  'redwyne',\n",
       "  'galleys',\n",
       "  'flying',\n",
       "  'burgundy',\n",
       "  'banners',\n",
       "  'arbor'],\n",
       " ['within',\n",
       "  'storm',\n",
       "  'end',\n",
       "  'horses',\n",
       "  'long',\n",
       "  'since',\n",
       "  'eaten',\n",
       "  'dogs',\n",
       "  'cats',\n",
       "  'gone',\n",
       "  'garrison',\n",
       "  'roots',\n",
       "  'rats'],\n",
       " ['came', 'night', 'moon', 'new', 'black', 'clouds', 'hid', 'stars'],\n",
       " ['cloaked',\n",
       "  'darkness',\n",
       "  'davos',\n",
       "  'smuggler',\n",
       "  'dared',\n",
       "  'redwyne',\n",
       "  'cordon',\n",
       "  'rocks',\n",
       "  'shipbreaker',\n",
       "  'bay',\n",
       "  'alike'],\n",
       " ['little',\n",
       "  'ship',\n",
       "  'black',\n",
       "  'hull',\n",
       "  'black',\n",
       "  'sails',\n",
       "  'black',\n",
       "  'oars',\n",
       "  'hold',\n",
       "  'crammed',\n",
       "  'onions',\n",
       "  'salt',\n",
       "  'fish'],\n",
       " ['little',\n",
       "  'enough',\n",
       "  'yet',\n",
       "  'kept',\n",
       "  'garrison',\n",
       "  'alive',\n",
       "  'long',\n",
       "  'enough',\n",
       "  'eddard',\n",
       "  'stark',\n",
       "  'reach',\n",
       "  'storm',\n",
       "  'end',\n",
       "  'break',\n",
       "  'siege'],\n",
       " ['lord',\n",
       "  'stannis',\n",
       "  'rewarded',\n",
       "  'davos',\n",
       "  'choice',\n",
       "  'lands',\n",
       "  'cape',\n",
       "  'wrath',\n",
       "  'small',\n",
       "  'keep',\n",
       "  'knight',\n",
       "  'honors'],\n",
       " [],\n",
       " [],\n",
       " ['also',\n",
       "  'decreed',\n",
       "  'lose',\n",
       "  'joint',\n",
       "  'finger',\n",
       "  'left',\n",
       "  'hand',\n",
       "  'pay',\n",
       "  'years',\n",
       "  'smuggling'],\n",
       " ['davos',\n",
       "  'submitted',\n",
       "  'condition',\n",
       "  'stannis',\n",
       "  'wield',\n",
       "  'knife',\n",
       "  'would',\n",
       "  'accept',\n",
       "  'punishment',\n",
       "  'lesser',\n",
       "  'hands'],\n",
       " ['lord', 'used', 'butcher', 'cleaver', 'better', 'cut', 'clean', 'true'],\n",
       " ['afterward',\n",
       "  'davos',\n",
       "  'chosen',\n",
       "  'name',\n",
       "  'seaworth',\n",
       "  'new',\n",
       "  'made',\n",
       "  'house',\n",
       "  'took',\n",
       "  'banner',\n",
       "  'black',\n",
       "  'ship',\n",
       "  'pale',\n",
       "  'grey',\n",
       "  'field',\n",
       "  'onion',\n",
       "  'sails'],\n",
       " ['onetime',\n",
       "  'smuggler',\n",
       "  'fond',\n",
       "  'saying',\n",
       "  'lord',\n",
       "  'stannis',\n",
       "  'done',\n",
       "  'boon',\n",
       "  'giving',\n",
       "  'four',\n",
       "  'less',\n",
       "  'fingernails',\n",
       "  'clean',\n",
       "  'trim'],\n",
       " ['cressen',\n",
       "  'thought',\n",
       "  'man',\n",
       "  'like',\n",
       "  'would',\n",
       "  'give',\n",
       "  'false',\n",
       "  'hope',\n",
       "  'soften',\n",
       "  'hard',\n",
       "  'truth'],\n",
       " ['ser',\n",
       "  'davos',\n",
       "  'truth',\n",
       "  'bitter',\n",
       "  'draught',\n",
       "  'even',\n",
       "  'man',\n",
       "  'like',\n",
       "  'lord',\n",
       "  'stannis'],\n",
       " ['thinks',\n",
       "  'returning',\n",
       "  'king',\n",
       "  'landing',\n",
       "  'fullness',\n",
       "  'power',\n",
       "  'tear',\n",
       "  'enemies',\n",
       "  'claim',\n",
       "  'rightfully'],\n",
       " ['yet'],\n",
       " [],\n",
       " [],\n",
       " ['page', 'takes', 'meager', 'host', 'king', 'landing', 'die'],\n",
       " ['numbers'],\n",
       " ['told', 'much', 'know', 'pride'],\n",
       " ['davos', 'held', 'gloved', 'hand'],\n",
       " ['fingers', 'grow', 'back', 'man', 'bends', 'sense'],\n",
       " ['old', 'man', 'sighed'],\n",
       " ['done', 'could'],\n",
       " ['must', 'add', 'voice'],\n",
       " ['wearily', 'resumed', 'climb'],\n",
       " ['lord',\n",
       "  'stannis',\n",
       "  'baratheon',\n",
       "  'refuge',\n",
       "  'great',\n",
       "  'round',\n",
       "  'room',\n",
       "  'walls',\n",
       "  'bare',\n",
       "  'black',\n",
       "  'stone',\n",
       "  'four',\n",
       "  'tall',\n",
       "  'narrow',\n",
       "  'windows',\n",
       "  'looked',\n",
       "  'four',\n",
       "  'points',\n",
       "  'compass'],\n",
       " ['center',\n",
       "  'chamber',\n",
       "  'great',\n",
       "  'table',\n",
       "  'took',\n",
       "  'name',\n",
       "  'massive',\n",
       "  'slab',\n",
       "  'carved',\n",
       "  'wood',\n",
       "  'fashioned',\n",
       "  'command',\n",
       "  'aegon',\n",
       "  'targaryen',\n",
       "  'days',\n",
       "  'conquest'],\n",
       " ['painted',\n",
       "  'table',\n",
       "  'fifty',\n",
       "  'feet',\n",
       "  'long',\n",
       "  'perhaps',\n",
       "  'half',\n",
       "  'wide',\n",
       "  'widest',\n",
       "  'point',\n",
       "  'less',\n",
       "  'four',\n",
       "  'feet',\n",
       "  'across',\n",
       "  'narrowest'],\n",
       " ['aegon',\n",
       "  'carpenters',\n",
       "  'shaped',\n",
       "  'land',\n",
       "  'westeros',\n",
       "  'sawing',\n",
       "  'bay',\n",
       "  'peninsula',\n",
       "  'table',\n",
       "  'nowhere',\n",
       "  'ran',\n",
       "  'straight'],\n",
       " ['surface',\n",
       "  'darkened',\n",
       "  'near',\n",
       "  'three',\n",
       "  'hundred',\n",
       "  'years',\n",
       "  'varnish',\n",
       "  'painted',\n",
       "  'seven',\n",
       "  'kingdoms',\n",
       "  'aegon',\n",
       "  'day',\n",
       "  'rivers',\n",
       "  'mountains',\n",
       "  'castles',\n",
       "  'cities',\n",
       "  'lakes',\n",
       "  'forests'],\n",
       " ['single',\n",
       "  'chair',\n",
       "  'room',\n",
       "  'carefully',\n",
       "  'positioned',\n",
       "  'precise',\n",
       "  'place',\n",
       "  'dragonstone',\n",
       "  'occupied',\n",
       "  'coast',\n",
       "  'westeros',\n",
       "  'raised',\n",
       "  'give',\n",
       "  'good',\n",
       "  'view',\n",
       "  'tabletop'],\n",
       " ['seated',\n",
       "  'chair',\n",
       "  'man',\n",
       "  'tight',\n",
       "  'laced',\n",
       "  'leather',\n",
       "  'jerkin',\n",
       "  'breeches',\n",
       "  'roughspun',\n",
       "  'brown',\n",
       "  'wool'],\n",
       " ['maester', 'cressen', 'entered', 'glanced'],\n",
       " ['knew', 'would', 'come', 'old', 'man', 'whether', 'summoned'],\n",
       " ['hint', 'warmth', 'voice', 'seldom'],\n",
       " ['stannis',\n",
       "  'baratheon',\n",
       "  'lord',\n",
       "  'dragonstone',\n",
       "  'grace',\n",
       "  'gods',\n",
       "  'rightful',\n",
       "  'heir',\n",
       "  'iron',\n",
       "  'throne',\n",
       "  'seven',\n",
       "  'kingdoms',\n",
       "  'westeros',\n",
       "  'broad',\n",
       "  'shoulder',\n",
       "  'sinewy',\n",
       "  'limb',\n",
       "  'tightness',\n",
       "  'face',\n",
       "  'flesh',\n",
       "  'spoke',\n",
       "  'leather',\n",
       "  'cured',\n",
       "  'sun',\n",
       "  'tough',\n",
       "  'steel'],\n",
       " ['hard', 'word', 'men', 'used', 'spoke', 'stannis', 'hard'],\n",
       " ['though',\n",
       "  'yet',\n",
       "  'five',\n",
       "  'thirty',\n",
       "  'fringe',\n",
       "  'thin',\n",
       "  'black',\n",
       "  'hair',\n",
       "  'remained',\n",
       "  'head',\n",
       "  'circling',\n",
       "  'behind',\n",
       "  'ears',\n",
       "  'like',\n",
       "  'shadow',\n",
       "  'crown'],\n",
       " ['brother', 'late', 'king', 'robert', 'grown', 'beard', 'final', 'years'],\n",
       " ['maester',\n",
       "  'cressen',\n",
       "  'never',\n",
       "  'seen',\n",
       "  'said',\n",
       "  'wild',\n",
       "  'thing',\n",
       "  'thick',\n",
       "  'flerce'],\n",
       " ['answer', 'stannis', 'kept', 'whiskers', 'cropped', 'tight', 'short'],\n",
       " ['lay',\n",
       "  'like',\n",
       "  'blue',\n",
       "  'black',\n",
       "  'shadow',\n",
       "  'across',\n",
       "  'square',\n",
       "  'jaw',\n",
       "  'bony',\n",
       "  'hollows',\n",
       "  'cheeks'],\n",
       " ['eyes',\n",
       "  'open',\n",
       "  'wounds',\n",
       "  'beneath',\n",
       "  'heavy',\n",
       "  'brows',\n",
       "  'blue',\n",
       "  'dark',\n",
       "  'sea',\n",
       "  'night'],\n",
       " ['mouth',\n",
       "  'would',\n",
       "  'given',\n",
       "  'despair',\n",
       "  'even',\n",
       "  'drollest',\n",
       "  'fools',\n",
       "  'mouth',\n",
       "  'made',\n",
       "  'frowns',\n",
       "  'scowls',\n",
       "  'sharply',\n",
       "  'worded',\n",
       "  'commands',\n",
       "  'thin',\n",
       "  'pale',\n",
       "  'lips',\n",
       "  'clenched',\n",
       "  'muscles',\n",
       "  'mouth',\n",
       "  'forgotten',\n",
       "  'smile',\n",
       "  'never',\n",
       "  'known',\n",
       "  'laugh'],\n",
       " ['sometimes',\n",
       "  'world',\n",
       "  'grew',\n",
       "  'still',\n",
       "  'silent',\n",
       "  'night',\n",
       "  'maester',\n",
       "  'cressen',\n",
       "  'fancied',\n",
       "  'could',\n",
       "  'hear',\n",
       "  'lord',\n",
       "  'stannis',\n",
       "  'grinding',\n",
       "  'teeth',\n",
       "  'half',\n",
       "  'castle',\n",
       "  'away'],\n",
       " ['would', 'woken', 'old', 'man', 'said'],\n",
       " ['young'],\n",
       " ['old', 'sick', 'need', 'sleep'],\n",
       " ['stannis',\n",
       "  'never',\n",
       "  'learned',\n",
       "  'soften',\n",
       "  'speech',\n",
       "  'dissemble',\n",
       "  'flatter',\n",
       "  'said',\n",
       "  'thought',\n",
       "  'like',\n",
       "  'could',\n",
       "  'damned'],\n",
       " ['knew', 'learn', 'davos', 'say', 'soon', 'enough'],\n",
       " ['always'],\n",
       " ['would', 'help', 'cressen', 'said'],\n",
       " ['met', 'davos', 'stair'],\n",
       " ['told', 'suppose'],\n",
       " ['man', 'tongue', 'shortened', 'along', 'fingers'],\n",
       " ['would', 'made', 'poor', 'envoy'],\n",
       " ['made', 'poor', 'envoy', 'case'],\n",
       " ['storm', 'lords', 'rise'],\n",
       " ['seems', 'like', 'page', 'justice', 'cause', 'means', 'nothing'],\n",
       " ['cravenly',\n",
       "  'ones',\n",
       "  'sit',\n",
       "  'behind',\n",
       "  'walls',\n",
       "  'waiting',\n",
       "  'see',\n",
       "  'wind',\n",
       "  'rises',\n",
       "  'likely',\n",
       "  'triumph'],\n",
       " ['bold', 'ones', 'already', 'declared', 'renly'],\n",
       " ['enly'],\n",
       " ['spat', 'name', 'like', 'poison', 'tongue'],\n",
       " ['brother', 'lord', 'storm', 'end', 'past', 'thirteen', 'years'],\n",
       " ['lords', 'sworn', 'bannermen', 'stannis', 'broke', 'rights', 'mine'],\n",
       " ['never', 'asked', 'dragonstone'],\n",
       " ['never', 'wanted'],\n",
       " ['took', 'robert', 'enemies', 'commanded', 'root'],\n",
       " ['built', 'fleet', 'work', 'dutiful', 'younger', 'brother', 'elder', 'renly'],\n",
       " ['robert', 'thanks'],\n",
       " ['names', 'lord', 'dragonstone', 'gives', 'storm', 'end', 'incomes', 'renly'],\n",
       " ['storm',\n",
       "  'end',\n",
       "  'belonged',\n",
       "  'house',\n",
       "  'baratheon',\n",
       "  'three',\n",
       "  'hundred',\n",
       "  'years',\n",
       "  'rights',\n",
       "  'passed',\n",
       "  'robert',\n",
       "  'took',\n",
       "  'iron',\n",
       "  'throne'],\n",
       " ['old', 'grievance', 'deeply', 'felt', 'never'],\n",
       " ['heart',\n",
       "  'lord',\n",
       "  'weakness',\n",
       "  'dragonstone',\n",
       "  'old',\n",
       "  'strong',\n",
       "  'though',\n",
       "  'commanded',\n",
       "  'allegiance',\n",
       "  'handful',\n",
       "  'lesser',\n",
       "  'lords',\n",
       "  'whose',\n",
       "  'stony',\n",
       "  'island',\n",
       "  'holdings',\n",
       "  'thinly',\n",
       "  'peopled',\n",
       "  'yield',\n",
       "  'men',\n",
       "  'stannis',\n",
       "  'needed'],\n",
       " ['even',\n",
       "  'sellswords',\n",
       "  'brought',\n",
       "  'across',\n",
       "  'narrow',\n",
       "  'sea',\n",
       "  'free',\n",
       "  'cities',\n",
       "  'myr',\n",
       "  'lys',\n",
       "  'host',\n",
       "  'camped',\n",
       "  'outside',\n",
       "  'walls',\n",
       "  'far',\n",
       "  'small',\n",
       "  'bring',\n",
       "  'power',\n",
       "  'house',\n",
       "  'lannister'],\n",
       " ['robert',\n",
       "  'injustice',\n",
       "  'maester',\n",
       "  'cressen',\n",
       "  'replied',\n",
       "  'carefully',\n",
       "  'yet',\n",
       "  'sound',\n",
       "  'reasons'],\n",
       " ['dragonstone', 'long', 'seat', 'house', 'targaryen'],\n",
       " ['needed', 'man', 'strength', 'rule', 'renly', 'child'],\n",
       " ['child',\n",
       "  'still',\n",
       "  'stannis',\n",
       "  'declared',\n",
       "  'anger',\n",
       "  'ringing',\n",
       "  'loud',\n",
       "  'empty',\n",
       "  'hall',\n",
       "  'thieving',\n",
       "  'child',\n",
       "  'thinks',\n",
       "  'snatch',\n",
       "  'crown',\n",
       "  'brow'],\n",
       " ['renly', 'ever', 'done', 'earn', 'throne'],\n",
       " ['sits',\n",
       "  'council',\n",
       "  'jests',\n",
       "  'littlefinger',\n",
       "  'tourneys',\n",
       "  'dons',\n",
       "  'splendid',\n",
       "  'suit',\n",
       "  'armor',\n",
       "  'allows',\n",
       "  'knocked',\n",
       "  'horse',\n",
       "  'better',\n",
       "  'man'],\n",
       " ['sum', 'brother', 'renly', 'thinks', 'ought', 'king'],\n",
       " ['ask', 'gods', 'inflict', 'brothers'],\n",
       " ['cannot', 'answer', 'gods'],\n",
       " ['seldom', 'answer', 'days', 'seems'],\n",
       " ['maesters', 'renly'],\n",
       " ['perchance', 'send', 'might', 'like', 'counsel', 'better'],\n",
       " ['think', 'maester', 'said', 'brother', 'decided', 'steal', 'crown'],\n",
       " ['counsel', 'colleague', 'offer', 'traitor', 'blood', 'mine'],\n",
       " ['would', 'surprise', 'lord', 'renly', 'sought', 'counsel', 'grace'],\n",
       " ['youngest',\n",
       "  'lord',\n",
       "  'steffon',\n",
       "  'three',\n",
       "  'sons',\n",
       "  'grown',\n",
       "  'man',\n",
       "  'bold',\n",
       "  'heedless',\n",
       "  'acted',\n",
       "  'impulse',\n",
       "  'rather',\n",
       "  'calculation'],\n",
       " ['much',\n",
       "  'else',\n",
       "  'renly',\n",
       "  'like',\n",
       "  'brother',\n",
       "  'robert',\n",
       "  'utterly',\n",
       "  'unlike',\n",
       "  'stannis'],\n",
       " ['grace', 'stannis', 'repeated', 'bitterly'],\n",
       " ['mock', 'king', 'style', 'yet', 'king'],\n",
       " ['dragonstone', 'rocks', 'narrow', 'sea', 'kingdom'],\n",
       " ['descended',\n",
       "  'steps',\n",
       "  'chair',\n",
       "  'stand',\n",
       "  'table',\n",
       "  'shadow',\n",
       "  'falling',\n",
       "  'across',\n",
       "  'mouth',\n",
       "  'blackwater',\n",
       "  'rush',\n",
       "  'painted',\n",
       "  'forest',\n",
       "  'king',\n",
       "  'landing',\n",
       "  'stood'],\n",
       " ['stood',\n",
       "  'brooding',\n",
       "  'realm',\n",
       "  'sought',\n",
       "  'claim',\n",
       "  'near',\n",
       "  'hand',\n",
       "  'yet',\n",
       "  'far',\n",
       "  'away'],\n",
       " ['tonight', 'sup', 'lords', 'bannermen'],\n",
       " ['celtigar', 'velaryon', 'bar', 'emmon', 'whole', 'paltry', 'lot'],\n",
       " ['poor', 'crop', 'truth', 'told', 'brothers', 'left'],\n",
       " ['lysene',\n",
       "  'pirate',\n",
       "  'salladhor',\n",
       "  'saan',\n",
       "  'latest',\n",
       "  'tally',\n",
       "  'owe',\n",
       "  'morosh',\n",
       "  'myrman',\n",
       "  'caution',\n",
       "  'talk',\n",
       "  'tides',\n",
       "  'autumn',\n",
       "  'gales',\n",
       "  'lord',\n",
       "  'sunglass',\n",
       "  'mutters',\n",
       "  'piously',\n",
       "  'seven'],\n",
       " ['celtigar', 'want', 'know', 'storm', 'lords', 'joining', 'page', 'us'],\n",
       " ['velaryon', 'threaten', 'take', 'levies', 'home', 'unless', 'strike'],\n",
       " ['tell'],\n",
       " ['must'],\n",
       " ['true', 'enemies', 'lannisters', 'lord', 'maester', 'cressen', 'answered'],\n",
       " ['brother',\n",
       "  'make',\n",
       "  'common',\n",
       "  'cause',\n",
       "  'treat',\n",
       "  'renly',\n",
       "  'stannis',\n",
       "  'answered',\n",
       "  'tone',\n",
       "  'brooked',\n",
       "  'argument'],\n",
       " ['calls', 'king'],\n",
       " ['renly', 'maester', 'yielded'],\n",
       " ['lord', 'stubborn', 'proud', 'set', 'mind', 'changing'],\n",
       " ['others', 'might', 'serve', 'needs', 'well'],\n",
       " ['eddard',\n",
       "  'stark',\n",
       "  'son',\n",
       "  'proclaimed',\n",
       "  'king',\n",
       "  'north',\n",
       "  'power',\n",
       "  'winterfell',\n",
       "  'riverrun',\n",
       "  'behind'],\n",
       " ['green', 'boy', 'said', 'stannis', 'another', 'false', 'king'],\n",
       " ['accept', 'broken', 'realm'],\n",
       " ['surely',\n",
       "  'half',\n",
       "  'kingdom',\n",
       "  'better',\n",
       "  'none',\n",
       "  'cressen',\n",
       "  'said',\n",
       "  'help',\n",
       "  'boy',\n",
       "  'avenge',\n",
       "  'father',\n",
       "  'murder',\n",
       "  'avenge',\n",
       "  'eddard',\n",
       "  'stark'],\n",
       " ['man', 'nothing'],\n",
       " ['oh', 'robert', 'loved', 'sure'],\n",
       " ['loved', 'brother', 'often', 'hear'],\n",
       " ['brother', 'ned', 'stark', 'would', 'never', 'known', 'way', 'treated'],\n",
       " ['held',\n",
       "  'storm',\n",
       "  'end',\n",
       "  'watching',\n",
       "  'good',\n",
       "  'men',\n",
       "  'starve',\n",
       "  'mace',\n",
       "  'tyrell',\n",
       "  'paxter',\n",
       "  'redwyne',\n",
       "  'feasted',\n",
       "  'within',\n",
       "  'sight',\n",
       "  'walls'],\n",
       " ['robert', 'thank'],\n",
       " [],\n",
       " ['thanked', 'stark', 'lifting', 'siege', 'rats', 'radishes'],\n",
       " ['built', 'fleet', 'robert', 'command', 'took', 'dragonstone', 'name'],\n",
       " ['take', 'hand', 'say', 'well', 'done', 'brother', 'whatever', 'without'],\n",
       " ['blamed',\n",
       "  'letting',\n",
       "  'willem',\n",
       "  'darry',\n",
       "  'steal',\n",
       "  'away',\n",
       "  'viserys',\n",
       "  'babe',\n",
       "  'could',\n",
       "  'stopped'],\n",
       " ['sat',\n",
       "  'council',\n",
       "  'fifteen',\n",
       "  'years',\n",
       "  'helping',\n",
       "  'jon',\n",
       "  'arryn',\n",
       "  'rule',\n",
       "  'realm',\n",
       "  'robert',\n",
       "  'drank',\n",
       "  'whored',\n",
       "  'jon',\n",
       "  'died',\n",
       "  'brother',\n",
       "  'name',\n",
       "  'hand'],\n",
       " ['went', 'galloping', 'dear', 'friend', 'ned', 'stark', 'offered', 'honor'],\n",
       " ['small', 'good', 'either'],\n",
       " ['may', 'lord', 'maester', 'cressen', 'said', 'gently'],\n",
       " ['great', 'wrongs', 'done', 'past', 'dust'],\n",
       " ['future', 'may', 'yet', 'join', 'starks'],\n",
       " ['others', 'might', 'sound', 'well'],\n",
       " ['lady', 'arryn'],\n",
       " ['queen', 'murdered', 'husband', 'surely', 'want', 'justice'],\n",
       " ['young', 'son', 'jon', 'arryn', 'heir'],\n",
       " ['betroth',\n",
       "  'shireen',\n",
       "  'boy',\n",
       "  'weak',\n",
       "  'sickly',\n",
       "  'lord',\n",
       "  'stannis',\n",
       "  'objected'],\n",
       " ['even', 'father', 'saw', 'asked', 'foster', 'dragonstone'],\n",
       " ['service',\n",
       "  'page',\n",
       "  'might',\n",
       "  'done',\n",
       "  'good',\n",
       "  'damnable',\n",
       "  'lannister',\n",
       "  'woman',\n",
       "  'lord',\n",
       "  'arryn',\n",
       "  'poisoned',\n",
       "  'could',\n",
       "  'done',\n",
       "  'lysa',\n",
       "  'hides',\n",
       "  'eyrie'],\n",
       " ['never', 'part', 'boy', 'promise'],\n",
       " ['must', 'send', 'shireen', 'eyrie', 'maester', 'urged'],\n",
       " ['dragonstone', 'grim', 'home', 'child'],\n",
       " ['let', 'fool', 'go', 'familiar', 'face'],\n",
       " ['familiar', 'hideous'],\n",
       " ['stannis', 'furrowed', 'brow', 'thought'],\n",
       " ['still'],\n",
       " [],\n",
       " [],\n",
       " ['perhaps', 'worth', 'trying'],\n",
       " [],\n",
       " [],\n",
       " ['must',\n",
       "  'rightful',\n",
       "  'lord',\n",
       "  'seven',\n",
       "  'kingdoms',\n",
       "  'beg',\n",
       "  'help',\n",
       "  'widow',\n",
       "  'women',\n",
       "  'usurpers'],\n",
       " ['woman', 'voice', 'asked', 'sharply'],\n",
       " ['maester', 'cressen', 'turned', 'bowed', 'head'],\n",
       " ['lady', 'said', 'chagrined', 'heard', 'enter'],\n",
       " ['page', 'lord', 'stannis', 'scowled'],\n",
       " ['beg'],\n",
       " ['anyone'],\n",
       " ['mind', 'remember', 'woman'],\n",
       " ['pleased', 'hear', 'lord'],\n",
       " ['lady',\n",
       "  'selyse',\n",
       "  'tall',\n",
       "  'husband',\n",
       "  'thin',\n",
       "  'body',\n",
       "  'thin',\n",
       "  'face',\n",
       "  'prominent',\n",
       "  'ears',\n",
       "  'sharp',\n",
       "  'nose',\n",
       "  'faintest',\n",
       "  'hint',\n",
       "  'mustache',\n",
       "  'upper',\n",
       "  'lip'],\n",
       " ['plucked',\n",
       "  'daily',\n",
       "  'cursed',\n",
       "  'regularly',\n",
       "  'yet',\n",
       "  'never',\n",
       "  'failed',\n",
       "  'return'],\n",
       " ['eyes', 'pale', 'mouth', 'stern', 'voice', 'whip'],\n",
       " ['cracked'],\n",
       " ['lady', 'arryn', 'owes', 'allegiance', 'starks', 'brother', 'renly', 'rest'],\n",
       " ['one', 'true', 'king'],\n",
       " ['would', 'fitting', 'plead', 'bargain', 'rightfully', 'grace', 'god'],\n",
       " ['god', 'said', 'gods'],\n",
       " ['red',\n",
       "  'woman',\n",
       "  'heart',\n",
       "  'soul',\n",
       "  'turning',\n",
       "  'gods',\n",
       "  'seven',\n",
       "  'kingdoms',\n",
       "  'old',\n",
       "  'new',\n",
       "  'worship',\n",
       "  'one',\n",
       "  'called',\n",
       "  'lord',\n",
       "  'light'],\n",
       " ['god',\n",
       "  'keep',\n",
       "  'grace',\n",
       "  'said',\n",
       "  'lord',\n",
       "  'stannis',\n",
       "  'share',\n",
       "  'wife',\n",
       "  'fervent',\n",
       "  'new',\n",
       "  'faith'],\n",
       " ['swords', 'need', 'blessings'],\n",
       " ['army', 'hidden', 'somewhere', 'told'],\n",
       " ['affection', 'tone'],\n",
       " ['stannis', 'always', 'uncomfortable', 'around', 'women', 'even', 'wife'],\n",
       " ['gone',\n",
       "  'king',\n",
       "  'landing',\n",
       "  'sit',\n",
       "  'robert',\n",
       "  'council',\n",
       "  'left',\n",
       "  'selyse',\n",
       "  'dragonstone',\n",
       "  'daughter'],\n",
       " ['letters',\n",
       "  'visits',\n",
       "  'fewer',\n",
       "  'duty',\n",
       "  'marriage',\n",
       "  'bed',\n",
       "  'twice',\n",
       "  'year',\n",
       "  'took',\n",
       "  'joy',\n",
       "  'sons',\n",
       "  'hoped',\n",
       "  'never',\n",
       "  'come'],\n",
       " ['brothers', 'uncles', 'cousins', 'armies', 'told'],\n",
       " ['house', 'florent', 'rally', 'banner'],\n",
       " ['house', 'florent', 'field', 'two', 'thousand', 'swords', 'best'],\n",
       " ['said',\n",
       "  'stannis',\n",
       "  'knew',\n",
       "  'strength',\n",
       "  'every',\n",
       "  'house',\n",
       "  'seven',\n",
       "  'kingdoms'],\n",
       " ['deal', 'faith', 'brothers', 'uncles', 'lady'],\n",
       " ['florent',\n",
       "  'lands',\n",
       "  'lie',\n",
       "  'close',\n",
       "  'highgarden',\n",
       "  'lord',\n",
       "  'uncle',\n",
       "  'risk',\n",
       "  'mace',\n",
       "  'tyrell',\n",
       "  'wrath'],\n",
       " ['another', 'way'],\n",
       " ['lady', 'selyse', 'moved', 'closer'],\n",
       " ['look', 'windows', 'lord'],\n",
       " ['sign', 'waited', 'blazoned', 'sky'],\n",
       " ['red', 'red', 'flame', 'red', 'fiery', 'heart', 'true', 'god'],\n",
       " ['banner'],\n",
       " ['see',\n",
       "  'unfurls',\n",
       "  'across',\n",
       "  'heavens',\n",
       "  'like',\n",
       "  'dragon',\n",
       "  'hot',\n",
       "  'breath',\n",
       "  'lord',\n",
       "  'dragonstone'],\n",
       " ['means', 'time', 'come', 'grace'],\n",
       " ['nothing', 'certain'],\n",
       " ['meant',\n",
       "  'sail',\n",
       "  'desolate',\n",
       "  'rock',\n",
       "  'aegon',\n",
       "  'conqueror',\n",
       "  'sailed',\n",
       "  'sweep'],\n",
       " ['say', 'word', 'embrace', 'power', 'lord', 'light'],\n",
       " ['many', 'swords', 'lord', 'light', 'put', 'hand'],\n",
       " ['stannis', 'demanded'],\n",
       " ['need',\n",
       "  'wife',\n",
       "  'promised',\n",
       "  'swords',\n",
       "  'storm',\n",
       "  'end',\n",
       "  'highgarden',\n",
       "  'start',\n",
       "  'lords',\n",
       "  'bannermen'],\n",
       " ['davos', 'would', 'tell', 'different', 'stannis', 'said'],\n",
       " ['swords', 'sworn', 'renly'],\n",
       " ['love', 'charming', 'young', 'brother', 'loved', 'robert'],\n",
       " [],\n",
       " [],\n",
       " ['never', 'loved'],\n",
       " ['yes', 'answered', 'renly', 'die'],\n",
       " [],\n",
       " [],\n",
       " ['stannis',\n",
       "  'looked',\n",
       "  'lady',\n",
       "  'narrowed',\n",
       "  'eyes',\n",
       "  'cressen',\n",
       "  'could',\n",
       "  'hold',\n",
       "  'tongue'],\n",
       " ['thought'],\n",
       " ['grace', 'whatever', 'follies', 'renly', 'committed', 'follies'],\n",
       " ['call', 'treasons'],\n",
       " ['stannis', 'turned', 'back', 'wife'],\n",
       " ['brother',\n",
       "  'young',\n",
       "  'strong',\n",
       "  'vast',\n",
       "  'host',\n",
       "  'around',\n",
       "  'rainbow',\n",
       "  'knights'],\n",
       " ['page', 'melisandre', 'gazed', 'flames', 'seen', 'dead'],\n",
       " ['cressen', 'horrorstruck'],\n",
       " ['fratricide'],\n",
       " [],\n",
       " [],\n",
       " ['lord', 'evil', 'unthinkable'],\n",
       " [],\n",
       " [],\n",
       " ['please', 'listen'],\n",
       " ['lady', 'selyse', 'gave', 'measured', 'look'],\n",
       " ['tell', 'maester'],\n",
       " ['might',\n",
       "  'win',\n",
       "  'half',\n",
       "  'kingdom',\n",
       "  'goes',\n",
       "  'starks',\n",
       "  'knees',\n",
       "  'sells',\n",
       "  'daughter',\n",
       "  'lysa',\n",
       "  'arryn'],\n",
       " ['heard', 'counsel', 'cressen', 'lord', 'stannis', 'said'],\n",
       " ['hear'],\n",
       " ['dismissed'],\n",
       " ['maester', 'cressen', 'bent', 'stiff', 'knee'],\n",
       " ['could',\n",
       "  'feel',\n",
       "  'lady',\n",
       "  'selyse',\n",
       "  'eyes',\n",
       "  'back',\n",
       "  'shuffled',\n",
       "  'slowly',\n",
       "  'across',\n",
       "  'room'],\n",
       " ['time', 'reached', 'bottom', 'steps', 'could', 'stand', 'erect'],\n",
       " ['help', 'said', 'pylos'],\n",
       " ['safe',\n",
       "  'back',\n",
       "  'rooms',\n",
       "  'cressen',\n",
       "  'sent',\n",
       "  'younger',\n",
       "  'man',\n",
       "  'away',\n",
       "  'limped',\n",
       "  'balcony',\n",
       "  'stand',\n",
       "  'gargoyles',\n",
       "  'stare',\n",
       "  'sea'],\n",
       " ['one',\n",
       "  'salladhor',\n",
       "  'saan',\n",
       "  'warships',\n",
       "  'sweeping',\n",
       "  'past',\n",
       "  'castle',\n",
       "  'gaily',\n",
       "  'striped',\n",
       "  'hull',\n",
       "  'slicing',\n",
       "  'greygreen',\n",
       "  'waters',\n",
       "  'oars',\n",
       "  'rose',\n",
       "  'fell'],\n",
       " ['watched', 'vanished', 'behind', 'headland'],\n",
       " ['would', 'fears', 'could', 'vanish', 'easily'],\n",
       " ['lived', 'long'],\n",
       " ['maester',\n",
       "  'donned',\n",
       "  'collar',\n",
       "  'put',\n",
       "  'aside',\n",
       "  'hope',\n",
       "  'children',\n",
       "  'yet',\n",
       "  'cressen',\n",
       "  'oft',\n",
       "  'felt',\n",
       "  'father',\n",
       "  'nonetheless'],\n",
       " ['robert', 'stannis', 'renly'],\n",
       " [],\n",
       " [],\n",
       " ['three', 'sons', 'raised', 'angry', 'sea', 'claimed', 'lord', 'steffon'],\n",
       " ['done', 'ill', 'must', 'watch', 'one', 'kill'],\n",
       " ['could', 'allow', 'would', 'allow'],\n",
       " ['woman', 'heart'],\n",
       " ['lady', 'selyse', 'one'],\n",
       " ['red', 'woman', 'servants', 'named', 'afraid', 'speak', 'name'],\n",
       " ['speak', 'name', 'cressen', 'told', 'stone', 'hellhound'],\n",
       " ['melisandre'],\n",
       " [],\n",
       " ['melisandre',\n",
       "  'asshai',\n",
       "  'sorceress',\n",
       "  'shadowbinder',\n",
       "  'priestess',\n",
       "  'hllor',\n",
       "  'lord',\n",
       "  'light',\n",
       "  'heart',\n",
       "  'fire',\n",
       "  'god',\n",
       "  'flame',\n",
       "  'shadow'],\n",
       " ['melisandre',\n",
       "  'whose',\n",
       "  'madness',\n",
       "  'must',\n",
       "  'allowed',\n",
       "  'spread',\n",
       "  'beyond',\n",
       "  'dragonstone'],\n",
       " ['chambers', 'seemed', 'dim', 'gloomy', 'brightness', 'morning'],\n",
       " ['fumbling',\n",
       "  'hands',\n",
       "  'old',\n",
       "  'man',\n",
       "  'lit',\n",
       "  'candle',\n",
       "  'carried',\n",
       "  'workroom',\n",
       "  'beneath',\n",
       "  'rookery',\n",
       "  'stair',\n",
       "  'ointments',\n",
       "  'potions',\n",
       "  'medicines',\n",
       "  'stood',\n",
       "  'neatly',\n",
       "  'shelves'],\n",
       " ['bottom',\n",
       "  'shelf',\n",
       "  'behind',\n",
       "  'row',\n",
       "  'salves',\n",
       "  'squat',\n",
       "  'clay',\n",
       "  'jars',\n",
       "  'found',\n",
       "  'vial',\n",
       "  'indigo',\n",
       "  'glass',\n",
       "  'larger',\n",
       "  'little',\n",
       "  'finger'],\n",
       " ['rattled', 'shook'],\n",
       " ['cressen', 'blew', 'away', 'layer', 'dust', 'carried', 'back', 'table'],\n",
       " ['collapsing', 'chair', 'pulled', 'stopper', 'spilled', 'vial', 'contents'],\n",
       " ['dozen',\n",
       "  'crystals',\n",
       "  'larger',\n",
       "  'seeds',\n",
       "  'rattled',\n",
       "  'across',\n",
       "  'parchment',\n",
       "  'reading'],\n",
       " ['shone',\n",
       "  'like',\n",
       "  'jewels',\n",
       "  'candlelight',\n",
       "  'purple',\n",
       "  'maester',\n",
       "  'found',\n",
       "  'thinking',\n",
       "  'never',\n",
       "  'truly',\n",
       "  'seen',\n",
       "  'color'],\n",
       " ['chain', 'around', 'throat', 'felt', 'heavy'],\n",
       " ['touched', 'one', 'crystals', 'lightly', 'tip', 'little', 'finger'],\n",
       " ['small', 'thing', 'hold', 'power', 'life', 'death'],\n",
       " ['made',\n",
       "  'certain',\n",
       "  'plant',\n",
       "  'grew',\n",
       "  'islands',\n",
       "  'jade',\n",
       "  'sea',\n",
       "  'half',\n",
       "  'world',\n",
       "  'away'],\n",
       " ['leaves',\n",
       "  'aged',\n",
       "  'soaked',\n",
       "  'wash',\n",
       "  'limes',\n",
       "  'sugar',\n",
       "  'water',\n",
       "  'certain',\n",
       "  'rare',\n",
       "  'spices',\n",
       "  'summer',\n",
       "  'isles'],\n",
       " ['afterward',\n",
       "  'could',\n",
       "  'discarded',\n",
       "  'potion',\n",
       "  'must',\n",
       "  'thickened',\n",
       "  'ash',\n",
       "  'allowed',\n",
       "  'crystallize'],\n",
       " ['process', 'slow', 'difficult', 'necessaries', 'costly', 'hard', 'acquire'],\n",
       " ['alchemists', 'lys', 'knew', 'way', 'though', 'faceless', 'men', 'braavos'],\n",
       " [],\n",
       " [],\n",
       " ['maesters',\n",
       "  'order',\n",
       "  'well',\n",
       "  'though',\n",
       "  'something',\n",
       "  'talked',\n",
       "  'beyond',\n",
       "  'walls',\n",
       "  'citadel'],\n",
       " ['world',\n",
       "  'knew',\n",
       "  'maester',\n",
       "  'forged',\n",
       "  'silver',\n",
       "  'link',\n",
       "  'learned',\n",
       "  'art',\n",
       "  'healing',\n",
       "  'world',\n",
       "  'preferred',\n",
       "  'forget',\n",
       "  'men',\n",
       "  'knew',\n",
       "  'heal',\n",
       "  'also',\n",
       "  'knew',\n",
       "  'kill'],\n",
       " ['page',\n",
       "  'cressen',\n",
       "  'longer',\n",
       "  'recalled',\n",
       "  'name',\n",
       "  'asshai',\n",
       "  'gave',\n",
       "  'leaf',\n",
       "  'lysene',\n",
       "  'poisoners',\n",
       "  'crystal'],\n",
       " ['citadel', 'simply', 'called', 'strangler'],\n",
       " ['dissolved',\n",
       "  'wine',\n",
       "  'would',\n",
       "  'make',\n",
       "  'muscles',\n",
       "  'man',\n",
       "  'throat',\n",
       "  'clench',\n",
       "  'tighter',\n",
       "  'fist',\n",
       "  'shutting',\n",
       "  'windpipe'],\n",
       " ['said',\n",
       "  'victim',\n",
       "  'face',\n",
       "  'turned',\n",
       "  'purple',\n",
       "  'little',\n",
       "  'crystal',\n",
       "  'seed',\n",
       "  'death',\n",
       "  'grown',\n",
       "  'man',\n",
       "  'choking',\n",
       "  'morsel',\n",
       "  'food'],\n",
       " ['night', 'lord', 'stannis', 'would', 'feast', 'bannermen', 'lady', 'wife'],\n",
       " [],\n",
       " [],\n",
       " ['red', 'woman', 'melisandre', 'asshai'],\n",
       " ['must', 'rest', 'maester', 'cressen', 'told'],\n",
       " ['must', 'strength', 'come', 'dark'],\n",
       " ['hands', 'must', 'shake', 'courage', 'flag'],\n",
       " ['dreadful', 'thing', 'yet', 'must', 'done'],\n",
       " ['gods', 'surely', 'forgive'],\n",
       " ['slept', 'poorly', 'late'],\n",
       " ['nap', 'would', 'refresh', 'ordeal', 'ahead'],\n",
       " ['wearily', 'tottered', 'bed'],\n",
       " ['yet',\n",
       "  'closed',\n",
       "  'eyes',\n",
       "  'could',\n",
       "  'still',\n",
       "  'see',\n",
       "  'light',\n",
       "  'comet',\n",
       "  'red',\n",
       "  'flery',\n",
       "  'vividly',\n",
       "  'alive',\n",
       "  'amidst',\n",
       "  'darkness',\n",
       "  'dreams'],\n",
       " ['perhaps', 'comet', 'thought', 'drowsily', 'last', 'sleep', 'took'],\n",
       " ['omen', 'blood', 'foretelling', 'murder'],\n",
       " [],\n",
       " [],\n",
       " ['yes'],\n",
       " [],\n",
       " [],\n",
       " ['woke',\n",
       "  'full',\n",
       "  'dark',\n",
       "  'bedchamber',\n",
       "  'black',\n",
       "  'every',\n",
       "  'joint',\n",
       "  'body',\n",
       "  'ached'],\n",
       " ['cressen', 'pushed', 'head', 'throbbing'],\n",
       " ['clutching', 'cane', 'rose', 'unsteady', 'feet'],\n",
       " ['late', 'thought'],\n",
       " ['summon'],\n",
       " ['always',\n",
       "  'summoned',\n",
       "  'feasts',\n",
       "  'seated',\n",
       "  'near',\n",
       "  'salt',\n",
       "  'close',\n",
       "  'lord',\n",
       "  'stannis'],\n",
       " ['lord',\n",
       "  'face',\n",
       "  'swam',\n",
       "  'man',\n",
       "  'boy',\n",
       "  'standing',\n",
       "  'cold',\n",
       "  'shadows',\n",
       "  'sun',\n",
       "  'shone',\n",
       "  'elder',\n",
       "  'brother'],\n",
       " ['whatever', 'robert', 'done', 'first', 'better'],\n",
       " ['poor', 'boy'],\n",
       " [],\n",
       " [],\n",
       " ['must', 'hurry', 'sake'],\n",
       " ['maester', 'found', 'crystals', 'left', 'scooped', 'parchment'],\n",
       " ['cressen',\n",
       "  'owned',\n",
       "  'hollow',\n",
       "  'rings',\n",
       "  'poisoners',\n",
       "  'lys',\n",
       "  'said',\n",
       "  'favor',\n",
       "  'myriad',\n",
       "  'pockets',\n",
       "  'great',\n",
       "  'small',\n",
       "  'sewn',\n",
       "  'inside',\n",
       "  'loose',\n",
       "  'sleeves',\n",
       "  'robe'],\n",
       " ['secreted',\n",
       "  'strangler',\n",
       "  'seeds',\n",
       "  'one',\n",
       "  'threw',\n",
       "  'open',\n",
       "  'door',\n",
       "  'called',\n",
       "  'pylos'],\n",
       " [],\n",
       " ['heard', 'reply', 'called', 'louder'],\n",
       " ['pylos', 'need', 'help'],\n",
       " ['still', 'came', 'answer'],\n",
       " ['queer',\n",
       "  'young',\n",
       "  'maester',\n",
       "  'cell',\n",
       "  'half',\n",
       "  'turn',\n",
       "  'stair',\n",
       "  'within',\n",
       "  'easy',\n",
       "  'earshot'],\n",
       " ['end', 'cressen', 'shout', 'servants'],\n",
       " ['make', 'haste', 'told'],\n",
       " ['slept', 'long'],\n",
       " ['feasting'],\n",
       " [],\n",
       " [],\n",
       " ['drinking'],\n",
       " [],\n",
       " [],\n",
       " ['woken'],\n",
       " ['happened', 'maester', 'pylos'],\n",
       " ['truly', 'understand'],\n",
       " ['cross', 'long', 'gallery'],\n",
       " ['night', 'wind', 'whispered', 'great', 'windows', 'sharp', 'smell', 'sea'],\n",
       " ['torches',\n",
       "  'flickered',\n",
       "  'along',\n",
       "  'walls',\n",
       "  'dragonstone',\n",
       "  'camp',\n",
       "  'beyond',\n",
       "  'could',\n",
       "  'see',\n",
       "  'hundreds',\n",
       "  'cookfires',\n",
       "  'burning',\n",
       "  'field',\n",
       "  'stars',\n",
       "  'fallen',\n",
       "  'earth'],\n",
       " ['comet', 'blazed', 'red', 'malevolent'],\n",
       " ['old', 'wise', 'fear', 'things', 'maester', 'told'],\n",
       " ['doors', 'great', 'hall', 'set', 'mouth', 'stone', 'dragon'],\n",
       " ['told', 'servants', 'leave', 'outside'],\n",
       " ['would', 'better', 'enter', 'alone', 'must', 'appear', 'feeble'],\n",
       " ['leaning',\n",
       "  'heavily',\n",
       "  'cane',\n",
       "  'cressen',\n",
       "  'climbed',\n",
       "  'last',\n",
       "  'steps',\n",
       "  'hobbled',\n",
       "  'beneath',\n",
       "  'gateway',\n",
       "  'teeth'],\n",
       " ['pair',\n",
       "  'guardsmen',\n",
       "  'opened',\n",
       "  'heavy',\n",
       "  'red',\n",
       "  'doors',\n",
       "  'unleashing',\n",
       "  'sudden',\n",
       "  'blast',\n",
       "  'noise',\n",
       "  'light'],\n",
       " ['cressen', 'stepped', 'dragon', 'maw'],\n",
       " ['clatter',\n",
       "  'knife',\n",
       "  'plate',\n",
       "  'low',\n",
       "  'mutter',\n",
       "  'table',\n",
       "  'talk',\n",
       "  'heard',\n",
       "  'patchface',\n",
       "  'singing'],\n",
       " [],\n",
       " [],\n",
       " ['dance', 'lord', 'dance', 'lord', 'accompaniment', 'jangling', 'cowbells'],\n",
       " ['dreadful', 'song', 'sung', 'morning'],\n",
       " ['shadows', 'come', 'stay', 'lord', 'stay', 'lord', 'stay', 'lord'],\n",
       " ['lower',\n",
       "  'tables',\n",
       "  'crowded',\n",
       "  'knights',\n",
       "  'archers',\n",
       "  'sellsword',\n",
       "  'captains',\n",
       "  'tearing',\n",
       "  'apart',\n",
       "  'loaves',\n",
       "  'black',\n",
       "  'bread',\n",
       "  'soak',\n",
       "  'page',\n",
       "  'fish',\n",
       "  'stew'],\n",
       " ['loud',\n",
       "  'laughter',\n",
       "  'raucous',\n",
       "  'shouting',\n",
       "  'marred',\n",
       "  'dignity',\n",
       "  'men',\n",
       "  'feasts',\n",
       "  'lord',\n",
       "  'stannis',\n",
       "  'permit'],\n",
       " ['cressen',\n",
       "  'made',\n",
       "  'way',\n",
       "  'toward',\n",
       "  'raised',\n",
       "  'platform',\n",
       "  'lords',\n",
       "  'sat',\n",
       "  'king'],\n",
       " ['step', 'wide', 'around', 'patchface'],\n",
       " ['dancing',\n",
       "  'bells',\n",
       "  'ringing',\n",
       "  'fool',\n",
       "  'neither',\n",
       "  'saw',\n",
       "  'heard',\n",
       "  'approach'],\n",
       " ['hopped',\n",
       "  'one',\n",
       "  'leg',\n",
       "  'patchface',\n",
       "  'lurched',\n",
       "  'cressen',\n",
       "  'knocking',\n",
       "  'cane'],\n",
       " ['went',\n",
       "  'crashing',\n",
       "  'together',\n",
       "  'amidst',\n",
       "  'rushes',\n",
       "  'tangle',\n",
       "  'arms',\n",
       "  'legs',\n",
       "  'sudden',\n",
       "  'gale',\n",
       "  'laughter',\n",
       "  'went',\n",
       "  'around'],\n",
       " ['doubt', 'comical', 'sight'],\n",
       " ['patchface',\n",
       "  'sprawled',\n",
       "  'half',\n",
       "  'top',\n",
       "  'motley',\n",
       "  'fool',\n",
       "  'face',\n",
       "  'pressed',\n",
       "  'close'],\n",
       " ['lost', 'tin', 'helm', 'antlers', 'bells'],\n",
       " ['sea', 'fall', 'declared'],\n",
       " ['know', 'know', 'oh', 'oh', 'oh'],\n",
       " ['giggling', 'fool', 'rolled', 'bounded', 'feet', 'little', 'dance'],\n",
       " ['trying',\n",
       "  'make',\n",
       "  'best',\n",
       "  'maester',\n",
       "  'smiled',\n",
       "  'feebly',\n",
       "  'struggled',\n",
       "  'rise',\n",
       "  'hip',\n",
       "  'pain',\n",
       "  'moment',\n",
       "  'half',\n",
       "  'afraid',\n",
       "  'broken'],\n",
       " ['felt', 'strong', 'hands', 'grasp', 'arms', 'lift', 'back', 'feet'],\n",
       " ['thank', 'ser', 'murmured', 'turning', 'see', 'knight', 'come', 'aid'],\n",
       " [],\n",
       " [],\n",
       " ['maester',\n",
       "  'said',\n",
       "  'lady',\n",
       "  'melisandre',\n",
       "  'deep',\n",
       "  'voice',\n",
       "  'flavored',\n",
       "  'music',\n",
       "  'jade',\n",
       "  'sea'],\n",
       " ['ought', 'take', 'care'],\n",
       " ['ever',\n",
       "  'wore',\n",
       "  'red',\n",
       "  'head',\n",
       "  'heel',\n",
       "  'long',\n",
       "  'loose',\n",
       "  'gown',\n",
       "  'flowing',\n",
       "  'silk',\n",
       "  'bright',\n",
       "  'fire',\n",
       "  'dagged',\n",
       "  'sleeves',\n",
       "  'deep',\n",
       "  'slashes',\n",
       "  'bodice',\n",
       "  'showed',\n",
       "  'glimpses',\n",
       "  'darker',\n",
       "  'bloodred',\n",
       "  'fabric',\n",
       "  'beneath'],\n",
       " ['around',\n",
       "  'throat',\n",
       "  'red',\n",
       "  'gold',\n",
       "  'choker',\n",
       "  'tighter',\n",
       "  'maester',\n",
       "  'chain',\n",
       "  'ornamented',\n",
       "  'single',\n",
       "  'great',\n",
       "  'ruby'],\n",
       " ['hair',\n",
       "  'orange',\n",
       "  'strawberry',\n",
       "  'color',\n",
       "  'common',\n",
       "  'red',\n",
       "  'haired',\n",
       "  'men',\n",
       "  'deep',\n",
       "  'burnished',\n",
       "  'copper',\n",
       "  'shone',\n",
       "  'light',\n",
       "  'torches'],\n",
       " ['even', 'eyes', 'red'],\n",
       " [],\n",
       " [],\n",
       " ['skin', 'smooth', 'white', 'unblemished', 'pale', 'cream'],\n",
       " ['slender',\n",
       "  'graceful',\n",
       "  'taller',\n",
       "  'knights',\n",
       "  'full',\n",
       "  'breasts',\n",
       "  'narrow',\n",
       "  'waist',\n",
       "  'heart',\n",
       "  'shaped',\n",
       "  'face'],\n",
       " ['men',\n",
       "  'eyes',\n",
       "  'found',\n",
       "  'quickly',\n",
       "  'look',\n",
       "  'away',\n",
       "  'even',\n",
       "  'maester',\n",
       "  'eyes'],\n",
       " ['many', 'called', 'beautiful'],\n",
       " ['beautiful'],\n",
       " ['red', 'terrible', 'red'],\n",
       " [],\n",
       " [],\n",
       " [],\n",
       " ['thank', 'lady'],\n",
       " ['man', 'age', 'must', 'look', 'steps', 'melisandre', 'said', 'courteously'],\n",
       " ['night', 'dark', 'full', 'terrors'],\n",
       " ['knew', 'phrase', 'prayer', 'faith'],\n",
       " ['makes', 'matter', 'faith'],\n",
       " ['children', 'fear', 'dark', 'told'],\n",
       " ['yet', 'even', 'said', 'words', 'heard', 'patchface', 'take', 'song'],\n",
       " ['shadows', 'come', 'dance', 'lord', 'dance', 'lord', 'dance', 'lord'],\n",
       " ['riddle', 'melisandre', 'said'],\n",
       " ['clever', 'fool', 'foolish', 'wise', 'man'],\n",
       " ['bending',\n",
       "  'picked',\n",
       "  'patchface',\n",
       "  'helm',\n",
       "  'fallen',\n",
       "  'set',\n",
       "  'cressen',\n",
       "  'head'],\n",
       " ['cowbells', 'rang', 'softly', 'tin', 'bucket', 'slid', 'ears'],\n",
       " ['crown', 'match', 'chain', 'lord', 'maester', 'announced'],\n",
       " ['around', 'men', 'laughing'],\n",
       " ['cressen', 'pressed', 'lips', 'together', 'fought', 'still', 'rage'],\n",
       " ['thought',\n",
       "  'feeble',\n",
       "  'helpless',\n",
       "  'would',\n",
       "  'learn',\n",
       "  'otherwise',\n",
       "  'night',\n",
       "  'done'],\n",
       " ['old', 'might', 'yet', 'still', 'maester', 'citadel'],\n",
       " ['need', 'crown', 'truth', 'told', 'removing', 'fool', 'helm', 'head'],\n",
       " ['truths', 'world', 'taught', 'oldtown'],\n",
       " ['melisandre',\n",
       "  'turned',\n",
       "  'swirl',\n",
       "  'red',\n",
       "  'silk',\n",
       "  'made',\n",
       "  'way',\n",
       "  'back',\n",
       "  'high',\n",
       "  'table',\n",
       "  'king',\n",
       "  'stannis',\n",
       "  'queen',\n",
       "  'seated'],\n",
       " ['page',\n",
       "  'cressen',\n",
       "  'handed',\n",
       "  'antlered',\n",
       "  'tin',\n",
       "  'bucket',\n",
       "  'back',\n",
       "  'patchface',\n",
       "  'made',\n",
       "  'follow'],\n",
       " ['maester', 'pylos', 'sat', 'place'],\n",
       " ['old', 'man', 'could', 'stop', 'stare'],\n",
       " ['maester', 'pylos', 'said', 'last'],\n",
       " [],\n",
       " [],\n",
       " [],\n",
       " ['wake'],\n",
       " ['grace', 'commanded', 'let', 'rest'],\n",
       " ['pylos', 'least', 'grace', 'blush'],\n",
       " ['told', 'needed'],\n",
       " ['cressen', 'looked', 'knights', 'captains', 'lords', 'sitting', 'silent'],\n",
       " ['lord',\n",
       "  'celtigar',\n",
       "  'aged',\n",
       "  'sour',\n",
       "  'wore',\n",
       "  'mantle',\n",
       "  'patterned',\n",
       "  'red',\n",
       "  'crabs',\n",
       "  'picked',\n",
       "  'garnets'],\n",
       " ['handsome',\n",
       "  'lord',\n",
       "  'velaryon',\n",
       "  'chose',\n",
       "  'sea',\n",
       "  'green',\n",
       "  'silk',\n",
       "  'white',\n",
       "  'gold',\n",
       "  'seahorse',\n",
       "  'throat',\n",
       "  'matching',\n",
       "  'long',\n",
       "  'fair',\n",
       "  'hair'],\n",
       " ['lord',\n",
       "  'bar',\n",
       "  'emmon',\n",
       "  'plump',\n",
       "  'boy',\n",
       "  'fourteen',\n",
       "  'swathed',\n",
       "  'purple',\n",
       "  'velvet',\n",
       "  'trimmed',\n",
       "  'white',\n",
       "  'seal',\n",
       "  'ser',\n",
       "  'axell',\n",
       "  'florent',\n",
       "  'remained',\n",
       "  'homely',\n",
       "  'even',\n",
       "  'russet',\n",
       "  'fox',\n",
       "  'fur',\n",
       "  'pious',\n",
       "  'lord',\n",
       "  'sunglass',\n",
       "  'wore',\n",
       "  'moonstones',\n",
       "  'throat',\n",
       "  'wrist',\n",
       "  'finger',\n",
       "  'lysene',\n",
       "  'captain',\n",
       "  'salladhor',\n",
       "  'saan',\n",
       "  'sunburst',\n",
       "  'scarlet',\n",
       "  'satin',\n",
       "  'gold',\n",
       "  'jewels'],\n",
       " ['ser',\n",
       "  'davos',\n",
       "  'dressed',\n",
       "  'simply',\n",
       "  'brown',\n",
       "  'doublet',\n",
       "  'green',\n",
       "  'wool',\n",
       "  'mantle',\n",
       "  'ser',\n",
       "  'davos',\n",
       "  'met',\n",
       "  'gaze',\n",
       "  'pity',\n",
       "  'eyes'],\n",
       " ['ill', 'confused', 'use', 'old', 'man'],\n",
       " ['sounded', 'like', 'lord', 'stannis', 'voice', 'could', 'could'],\n",
       " ['pylos', 'counsel', 'henceforth'],\n",
       " ['already', 'works', 'ravens', 'since', 'longer', 'climb', 'rookery'],\n",
       " ['kill', 'service'],\n",
       " ['maester', 'cressen', 'blinked'],\n",
       " ['stannis',\n",
       "  'lord',\n",
       "  'sad',\n",
       "  'sullen',\n",
       "  'boy',\n",
       "  'son',\n",
       "  'never',\n",
       "  'must',\n",
       "  'know',\n",
       "  'cared',\n",
       "  'lived',\n",
       "  'loved',\n",
       "  'despite'],\n",
       " ['yes',\n",
       "  'loved',\n",
       "  'better',\n",
       "  'robert',\n",
       "  'even',\n",
       "  'renly',\n",
       "  'one',\n",
       "  'unloved',\n",
       "  'one',\n",
       "  'needed'],\n",
       " ['yet', 'said', 'command', 'lord'],\n",
       " [],\n",
       " [],\n",
       " ['hungry'],\n",
       " ['might', 'place', 'table'],\n",
       " ['side', 'belong', 'side'],\n",
       " [],\n",
       " [],\n",
       " ['ser', 'davos', 'rose', 'bench'],\n",
       " ['honored', 'maester', 'would', 'sit', 'beside', 'grace'],\n",
       " [],\n",
       " ['lord',\n",
       "  'stannis',\n",
       "  'turned',\n",
       "  'away',\n",
       "  'say',\n",
       "  'something',\n",
       "  'melisandre',\n",
       "  'seated',\n",
       "  'right',\n",
       "  'hand',\n",
       "  'place',\n",
       "  'high',\n",
       "  'honor'],\n",
       " ['lady',\n",
       "  'selyse',\n",
       "  'left',\n",
       "  'flashing',\n",
       "  'smile',\n",
       "  'bright',\n",
       "  'brittle',\n",
       "  'jewels'],\n",
       " ['far', 'cressen', 'thought', 'dully', 'looking', 'ser', 'davos', 'seated'],\n",
       " ['half', 'lords', 'bannermen', 'smuggler', 'high', 'table'],\n",
       " ['must', 'closer', 'get', 'strangler', 'cup', 'yet'],\n",
       " ['patchface',\n",
       "  'capering',\n",
       "  'maester',\n",
       "  'made',\n",
       "  'slow',\n",
       "  'way',\n",
       "  'around',\n",
       "  'table',\n",
       "  'davos',\n",
       "  'seaworth'],\n",
       " ['eat',\n",
       "  'fish',\n",
       "  'fool',\n",
       "  'declared',\n",
       "  'happily',\n",
       "  'waving',\n",
       "  'cod',\n",
       "  'like',\n",
       "  'scepter'],\n",
       " ['sea', 'fish', 'eat', 'us'],\n",
       " ['know', 'know', 'oh', 'oh', 'oh'],\n",
       " ['ser', 'davos', 'moved', 'aside', 'make', 'room', 'bench'],\n",
       " ['motley',\n",
       "  'tonight',\n",
       "  'said',\n",
       "  'gloomily',\n",
       "  'cressen',\n",
       "  'seated',\n",
       "  'fool',\n",
       "  'business'],\n",
       " ['red',\n",
       "  'woman',\n",
       "  'seen',\n",
       "  'victory',\n",
       "  'flames',\n",
       "  'stannis',\n",
       "  'means',\n",
       "  'press',\n",
       "  'claim',\n",
       "  'matter',\n",
       "  'numbers'],\n",
       " ['done', 'like', 'see', 'patchface', 'saw', 'fearthe', 'bottom', 'sea'],\n",
       " ['cressen', 'slid', 'hands', 'sleeves', 'warmth'],\n",
       " ['fingers', 'found', 'hard', 'lumps', 'crystals', 'made', 'wool'],\n",
       " ['lord', 'stannis'],\n",
       " ['page', 'stannis', 'turned', 'red', 'woman', 'lady', 'selyse', 'replied'],\n",
       " ['king', 'stannis'],\n",
       " ['forget', 'maester'],\n",
       " ['old', 'mind', 'wanders', 'king', 'told', 'gruffly'],\n",
       " ['cressen'],\n",
       " ['speak', 'mind'],\n",
       " ['intend',\n",
       "  'sail',\n",
       "  'vital',\n",
       "  'make',\n",
       "  'common',\n",
       "  'cause',\n",
       "  'lord',\n",
       "  'stark',\n",
       "  'lady',\n",
       "  'arryn'],\n",
       " [],\n",
       " [],\n",
       " ['make', 'common', 'cause', 'one', 'stannis', 'baratheon', 'said'],\n",
       " ['light', 'makes', 'common', 'cause', 'darkness'],\n",
       " ['lady', 'selyse', 'took', 'hand'],\n",
       " ['stannis', 'nodded'],\n",
       " ['starks',\n",
       "  'seek',\n",
       "  'steal',\n",
       "  'half',\n",
       "  'kingdom',\n",
       "  'even',\n",
       "  'lannisters',\n",
       "  'stolen',\n",
       "  'throne',\n",
       "  'sweet',\n",
       "  'brother',\n",
       "  'swords',\n",
       "  'service',\n",
       "  'strongholds',\n",
       "  'mine',\n",
       "  'rights'],\n",
       " ['usurpers', 'enemies'],\n",
       " ['lost', 'cressen', 'thought', 'despairing'],\n",
       " ['could', 'somehow', 'approach', 'melisandre', 'unseen'],\n",
       " [],\n",
       " [],\n",
       " ['needed', 'instant', 'access', 'cup'],\n",
       " ['rightful',\n",
       "  'heir',\n",
       "  'brother',\n",
       "  'robert',\n",
       "  'true',\n",
       "  'lord',\n",
       "  'seven',\n",
       "  'kingdoms',\n",
       "  'king',\n",
       "  'andals',\n",
       "  'rhoynar',\n",
       "  'first',\n",
       "  'men',\n",
       "  'said',\n",
       "  'desperately',\n",
       "  'even',\n",
       "  'cannot',\n",
       "  'hope',\n",
       "  'triumph',\n",
       "  'without',\n",
       "  'allies'],\n",
       " ['ally', 'lady', 'selyse', 'said'],\n",
       " ['whilor', 'lord', 'light', 'heart', 'fire', 'god', 'flame', 'shadow'],\n",
       " ['gods',\n",
       "  'make',\n",
       "  'uncertain',\n",
       "  'allies',\n",
       "  'best',\n",
       "  'old',\n",
       "  'man',\n",
       "  'insisted',\n",
       "  'one',\n",
       "  'power'],\n",
       " ['think'],\n",
       " ['ruby',\n",
       "  'melisandre',\n",
       "  'throat',\n",
       "  'caught',\n",
       "  'light',\n",
       "  'turned',\n",
       "  'head',\n",
       "  'instant',\n",
       "  'seemed',\n",
       "  'glow',\n",
       "  'bright',\n",
       "  'comet'],\n",
       " ['speak', 'folly', 'maester', 'ought', 'wear', 'crown'],\n",
       " ['yes', 'lady', 'selyse', 'agreed'],\n",
       " ['patches', 'helm'],\n",
       " ['suits', 'well', 'old', 'man'],\n",
       " ['put', 'command'],\n",
       " ['sea', 'one', 'wears', 'hats', 'patchface', 'said'],\n",
       " ['know', 'know', 'oh', 'oh', 'oh'],\n",
       " ['lord',\n",
       "  'stannis',\n",
       "  'eyes',\n",
       "  'shadowed',\n",
       "  'beneath',\n",
       "  'heavy',\n",
       "  'brow',\n",
       "  'mouth',\n",
       "  'tight',\n",
       "  'jaw',\n",
       "  'worked',\n",
       "  'silently'],\n",
       " ['always', 'ground', 'teeth', 'angry'],\n",
       " ['fool', 'growled', 'last', 'lady', 'wife', 'commands'],\n",
       " ['give', 'cressen', 'helm'],\n",
       " ['old',\n",
       "  'maester',\n",
       "  'thought',\n",
       "  'way',\n",
       "  'always',\n",
       "  'always',\n",
       "  'hard',\n",
       "  'yet',\n",
       "  'never',\n",
       "  'cruel',\n",
       "  'never',\n",
       "  'understand',\n",
       "  'mockery',\n",
       "  'understood',\n",
       "  'laughter'],\n",
       " ['patchface',\n",
       "  'danced',\n",
       "  'closer',\n",
       "  'cowbells',\n",
       "  'ringing',\n",
       "  'clang',\n",
       "  'lang',\n",
       "  'ding',\n",
       "  'ding',\n",
       "  'clink',\n",
       "  'clank',\n",
       "  'clink',\n",
       "  'clank'],\n",
       " ['maester', 'sat', 'silent', 'fool', 'set', 'antlered', 'bucket', 'brow'],\n",
       " ['cressen', 'bowed', 'head', 'beneath', 'weight'],\n",
       " ['bells', 'clanged'],\n",
       " ['perhaps',\n",
       "  'ought',\n",
       "  'sing',\n",
       "  'counsel',\n",
       "  'henceforth',\n",
       "  'lady',\n",
       "  'selyse',\n",
       "  'said'],\n",
       " ['go', 'far', 'woman', 'lord', 'stannis', 'said'],\n",
       " ['old', 'man', 'served', 'well'],\n",
       " ['serve',\n",
       "  'last',\n",
       "  'sweet',\n",
       "  'lord',\n",
       "  'poor',\n",
       "  'lonely',\n",
       "  'son',\n",
       "  'cressen',\n",
       "  'thought',\n",
       "  'suddenly',\n",
       "  'saw',\n",
       "  'way'],\n",
       " ['ser', 'davos', 'cup', 'still', 'half', 'full', 'sour', 'red'],\n",
       " ['found',\n",
       "  'hard',\n",
       "  'flake',\n",
       "  'crystal',\n",
       "  'sleeve',\n",
       "  'held',\n",
       "  'tight',\n",
       "  'thumb',\n",
       "  'forefinger',\n",
       "  'reached',\n",
       "  'cup'],\n",
       " ['smooth',\n",
       "  'motions',\n",
       "  'deft',\n",
       "  'must',\n",
       "  'fumble',\n",
       "  'prayed',\n",
       "  'page',\n",
       "  'gods',\n",
       "  'kind'],\n",
       " ['blink', 'eye', 'fingers', 'empty'],\n",
       " ['hands', 'steady', 'years', 'half', 'fluid'],\n",
       " ['davos', 'saw', 'one', 'else', 'certain'],\n",
       " ['cup', 'hand', 'rose', 'feet'],\n",
       " ['mayhaps', 'fool'],\n",
       " ['lady', 'melisandre', 'share', 'cup', 'wine'],\n",
       " ['cup', 'honor', 'god', 'lord', 'light'],\n",
       " ['cup', 'toast', 'power'],\n",
       " ['red', 'woman', 'studied'],\n",
       " ['wish'],\n",
       " ['could', 'feel', 'watching'],\n",
       " ['davos',\n",
       "  'clutched',\n",
       "  'left',\n",
       "  'bench',\n",
       "  'catching',\n",
       "  'sleeve',\n",
       "  'fingers',\n",
       "  'lord',\n",
       "  'stannis',\n",
       "  'shortened'],\n",
       " [],\n",
       " ['whispered'],\n",
       " ['thing',\n",
       "  'must',\n",
       "  'done',\n",
       "  'maester',\n",
       "  'cressen',\n",
       "  'answered',\n",
       "  'sake',\n",
       "  'realm',\n",
       "  'soul',\n",
       "  'lord'],\n",
       " ['shook', 'davos', 'hand', 'spilling', 'drop', 'wine', 'rushes'],\n",
       " ['met', 'beneath', 'high', 'table', 'every', 'man', 'eyes', 'upon'],\n",
       " ['cressen', 'saw'],\n",
       " ['red',\n",
       "  'silk',\n",
       "  'red',\n",
       "  'eyes',\n",
       "  'ruby',\n",
       "  'red',\n",
       "  'throat',\n",
       "  'red',\n",
       "  'lips',\n",
       "  'curled',\n",
       "  'faint',\n",
       "  'smile',\n",
       "  'put',\n",
       "  'hand',\n",
       "  'atop',\n",
       "  'around',\n",
       "  'cup'],\n",
       " ['skin', 'felt', 'hot', 'feverish'],\n",
       " ['late', 'spill', 'wine', 'maester'],\n",
       " ['whispered', 'hoarsely'],\n",
       " [],\n",
       " [],\n",
       " ['melisandre', 'asshai', 'took', 'cup', 'hands', 'drank', 'long', 'deep'],\n",
       " ['half', 'swallow', 'wine', 'remaining', 'offered', 'back'],\n",
       " [],\n",
       " ['hands', 'shaking', 'made', 'strong'],\n",
       " ['maester', 'citadel', 'must', 'afraid'],\n",
       " ['wine', 'sour', 'tongue'],\n",
       " ['let', 'empty', 'cup', 'drop', 'fingers', 'shatter', 'floor'],\n",
       " ['power', 'lord', 'woman', 'said'],\n",
       " ['fire', 'cleanses'],\n",
       " ['throat', 'ruby', 'shimmered', 'redly'],\n",
       " ['cressen', 'tried', 'reply', 'words', 'caught', 'throat'],\n",
       " ['cough', 'became', 'terrible', 'thin', 'whistle', 'strained', 'suck', 'air'],\n",
       " ['iron', 'fingers', 'tightened', 'round', 'neck'],\n",
       " ['sank',\n",
       "  'knees',\n",
       "  'still',\n",
       "  'shook',\n",
       "  'head',\n",
       "  'denying',\n",
       "  'denying',\n",
       "  'power',\n",
       "  'denying',\n",
       "  'magic',\n",
       "  'denying',\n",
       "  'god'],\n",
       " ['cowbells',\n",
       "  'peeled',\n",
       "  'antlers',\n",
       "  'singing',\n",
       "  'fool',\n",
       "  'fool',\n",
       "  'fool',\n",
       "  'red',\n",
       "  'woman',\n",
       "  'looked',\n",
       "  'pity',\n",
       "  'candle',\n",
       "  'flames',\n",
       "  'dancing',\n",
       "  'red',\n",
       "  'red',\n",
       "  'eyes'],\n",
       " ['chapter',\n",
       "  'arya',\n",
       "  'winterfell',\n",
       "  'called',\n",
       "  'arya',\n",
       "  'horseface',\n",
       "  'thought',\n",
       "  'nothing',\n",
       "  'could',\n",
       "  'worse',\n",
       "  'orphan',\n",
       "  'boy',\n",
       "  'lommy',\n",
       "  'greenhands',\n",
       "  'named',\n",
       "  'lumpyhead'],\n",
       " ['head', 'felt', 'lumpy', 'touched'],\n",
       " ['yoren',\n",
       "  'dragged',\n",
       "  'alley',\n",
       "  'thought',\n",
       "  'meant',\n",
       "  'kill',\n",
       "  'sour',\n",
       "  'old',\n",
       "  'man',\n",
       "  'held',\n",
       "  'tight',\n",
       "  'sawing',\n",
       "  'mats',\n",
       "  'tangles',\n",
       "  'dagger'],\n",
       " ['remembered',\n",
       "  'breeze',\n",
       "  'sent',\n",
       "  'fistfuls',\n",
       "  'dirty',\n",
       "  'brown',\n",
       "  'hair',\n",
       "  'skittering',\n",
       "  'across',\n",
       "  'paving',\n",
       "  'stones',\n",
       "  'toward',\n",
       "  'sept',\n",
       "  'father',\n",
       "  'died'],\n",
       " ['taking',\n",
       "  'men',\n",
       "  'boys',\n",
       "  'city',\n",
       "  'yoren',\n",
       "  'growled',\n",
       "  'sharp',\n",
       "  'steel',\n",
       "  'scraped',\n",
       "  'head'],\n",
       " ['hold', 'still', 'boy'],\n",
       " ['time', 'finished', 'scalp', 'nothing', 'tufts', 'stubble'],\n",
       " ['page', 'afterward', 'told', 'winterfell', 'arry', 'orphan', 'boy'],\n",
       " ['gate', 'hard', 'road', 'another', 'matter'],\n",
       " ['got', 'long', 'way', 'go', 'bad', 'company'],\n",
       " ['got',\n",
       "  'thirty',\n",
       "  'time',\n",
       "  'men',\n",
       "  'boys',\n",
       "  'bound',\n",
       "  'wall',\n",
       "  'thinking',\n",
       "  'like',\n",
       "  'bastard',\n",
       "  'brother'],\n",
       " ['shook'],\n",
       " ['lord', 'eddard', 'gave', 'pick', 'dungeons', 'find', 'little', 'lordlings'],\n",
       " ['lot',\n",
       "  'half',\n",
       "  'would',\n",
       "  'turn',\n",
       "  'queen',\n",
       "  'quick',\n",
       "  'spit',\n",
       "  'pardon',\n",
       "  'maybe',\n",
       "  'silvers'],\n",
       " ['half', 'rape', 'first'],\n",
       " ['keep', 'make', 'water', 'woods', 'alone'],\n",
       " ['hardest', 'part', 'pissing', 'drink', 'need'],\n",
       " ['leaving', 'king', 'landing', 'easy', 'like', 'said'],\n",
       " ['lannister',\n",
       "  'guardsmen',\n",
       "  'gate',\n",
       "  'stopping',\n",
       "  'everyone',\n",
       "  'yoren',\n",
       "  'called',\n",
       "  'one',\n",
       "  'name',\n",
       "  'wagons',\n",
       "  'waved'],\n",
       " ['one', 'spared', 'arya', 'glance'],\n",
       " ['looking',\n",
       "  'highborn',\n",
       "  'girl',\n",
       "  'daughter',\n",
       "  'king',\n",
       "  'hand',\n",
       "  'skinny',\n",
       "  'boy',\n",
       "  'hair',\n",
       "  'chopped'],\n",
       " ['arya', 'never', 'looked', 'back'],\n",
       " ['wished',\n",
       "  'rush',\n",
       "  'would',\n",
       "  'rise',\n",
       "  'wash',\n",
       "  'whole',\n",
       "  'city',\n",
       "  'away',\n",
       "  'flea',\n",
       "  'bottom',\n",
       "  'red',\n",
       "  'keep',\n",
       "  'great',\n",
       "  'sept',\n",
       "  'everything',\n",
       "  'everyone',\n",
       "  'especially',\n",
       "  'prince',\n",
       "  'joffrey',\n",
       "  'mother'],\n",
       " ['knew', 'anyhow', 'sansa', 'still', 'city', 'would', 'wash', 'away'],\n",
       " ['remembered', 'arya', 'decided', 'wish', 'winterfell', 'instead'],\n",
       " ['yoren', 'wrong', 'pissing', 'though'],\n",
       " ['hardest', 'part', 'lommy', 'greenhands', 'hot', 'pie', 'hardest', 'part'],\n",
       " ['orphan', 'boys'],\n",
       " ['yoren',\n",
       "  'plucked',\n",
       "  'streets',\n",
       "  'promises',\n",
       "  'food',\n",
       "  'bellies',\n",
       "  'shoes',\n",
       "  'feet'],\n",
       " ['rest', 'found', 'chains'],\n",
       " ['watch', 'needs', 'good', 'men', 'told', 'set', 'lot'],\n",
       " ['yoren',\n",
       "  'taken',\n",
       "  'grown',\n",
       "  'men',\n",
       "  'dungeons',\n",
       "  'well',\n",
       "  'thieves',\n",
       "  'poachers',\n",
       "  'rapers',\n",
       "  'like'],\n",
       " ['worst',\n",
       "  'three',\n",
       "  'found',\n",
       "  'black',\n",
       "  'cells',\n",
       "  'must',\n",
       "  'scared',\n",
       "  'even',\n",
       "  'kept',\n",
       "  'fettered',\n",
       "  'hand',\n",
       "  'foot',\n",
       "  'back',\n",
       "  'wagon',\n",
       "  'vowed',\n",
       "  'stay',\n",
       "  'irons',\n",
       "  'way',\n",
       "  'wall'],\n",
       " ['one',\n",
       "  'nose',\n",
       "  'hole',\n",
       "  'face',\n",
       "  'cut',\n",
       "  'gross',\n",
       "  'fat',\n",
       "  'bald',\n",
       "  'one',\n",
       "  'pointed',\n",
       "  'teeth',\n",
       "  'weeping',\n",
       "  'sores',\n",
       "  'cheeks',\n",
       "  'eyes',\n",
       "  'like',\n",
       "  'nothing',\n",
       "  'human'],\n",
       " ['took',\n",
       "  'five',\n",
       "  'wagons',\n",
       "  'king',\n",
       "  'landing',\n",
       "  'laden',\n",
       "  'supplies',\n",
       "  'wall',\n",
       "  'hides',\n",
       "  'bolts',\n",
       "  'cloth',\n",
       "  'bars',\n",
       "  'pig',\n",
       "  'iron',\n",
       "  'cage',\n",
       "  'ravens',\n",
       "  'books',\n",
       "  'paper',\n",
       "  'ink',\n",
       "  'bale',\n",
       "  'sourleaf',\n",
       "  'jars',\n",
       "  'oil',\n",
       "  'chests',\n",
       "  'medicine',\n",
       "  'spices'],\n",
       " ['teams',\n",
       "  'plow',\n",
       "  'horses',\n",
       "  'pulled',\n",
       "  'wagons',\n",
       "  'yoren',\n",
       "  'bought',\n",
       "  'two',\n",
       "  'coursers',\n",
       "  'half',\n",
       "  'dozen',\n",
       "  'donkeys',\n",
       "  'boys'],\n",
       " ['arya',\n",
       "  'would',\n",
       "  'preferred',\n",
       "  'real',\n",
       "  'horse',\n",
       "  'donkey',\n",
       "  'better',\n",
       "  'riding',\n",
       "  'wagon'],\n",
       " ['men', 'paid', 'mind', 'lucky', 'boys'],\n",
       " ['two',\n",
       "  'years',\n",
       "  'younger',\n",
       "  'youngest',\n",
       "  'orphan',\n",
       "  'mention',\n",
       "  'smaller',\n",
       "  'skinnier',\n",
       "  'lommy',\n",
       "  'hot',\n",
       "  'pie',\n",
       "  'took',\n",
       "  'silence',\n",
       "  'mean',\n",
       "  'scared',\n",
       "  'stupid',\n",
       "  'deaf'],\n",
       " ['look',\n",
       "  'sword',\n",
       "  'lumpyhead',\n",
       "  'got',\n",
       "  'lommy',\n",
       "  'said',\n",
       "  'one',\n",
       "  'morning',\n",
       "  'made',\n",
       "  'plodding',\n",
       "  'way',\n",
       "  'past',\n",
       "  'orchards',\n",
       "  'wheat',\n",
       "  'fields'],\n",
       " ['dyer',\n",
       "  'apprentice',\n",
       "  'caught',\n",
       "  'stealing',\n",
       "  'arms',\n",
       "  'mottled',\n",
       "  'green',\n",
       "  'elbow'],\n",
       " ['laughed', 'brayed', 'like', 'donkeys', 'riding'],\n",
       " ['gutter', 'rat', 'like', 'lumpyhead', 'get', 'sword'],\n",
       " ['arya', 'chewed', 'lip', 'sullenly'],\n",
       " ['could',\n",
       "  'see',\n",
       "  'back',\n",
       "  'yoren',\n",
       "  'faded',\n",
       "  'black',\n",
       "  'cloak',\n",
       "  'ahead',\n",
       "  'wagons',\n",
       "  'determined',\n",
       "  'go',\n",
       "  'crying',\n",
       "  'help'],\n",
       " ['maybe', 'little', 'squire', 'hot', 'pie', 'put'],\n",
       " ['mother',\n",
       "  'baker',\n",
       "  'died',\n",
       "  'pushed',\n",
       "  'cart',\n",
       "  'streets',\n",
       "  'day',\n",
       "  'shouting',\n",
       "  'hot',\n",
       "  'pies'],\n",
       " ['hot', 'pies'],\n",
       " ['lordy', 'lord', 'little', 'squire', 'boy'],\n",
       " ['page', 'squire', 'look'],\n",
       " ['bet', 'even', 'real', 'sword'],\n",
       " ['bet', 'play', 'sword', 'made', 'tin'],\n",
       " ['arya', 'hated', 'making', 'fun', 'needle'],\n",
       " ['castle',\n",
       "  'forged',\n",
       "  'steel',\n",
       "  'stupid',\n",
       "  'snapped',\n",
       "  'turning',\n",
       "  'saddle',\n",
       "  'glare',\n",
       "  'better',\n",
       "  'shut',\n",
       "  'mouth'],\n",
       " ['orphan', 'boys', 'hooted'],\n",
       " ['get', 'blade', 'like', 'lumpyface'],\n",
       " ['hot', 'pie', 'wanted', 'know'],\n",
       " ['lumpyhead', 'corrected', 'lommy'],\n",
       " ['prob', 'ly', 'stole'],\n",
       " [],\n",
       " ['shouted'],\n",
       " ['jon', 'snow', 'given', 'needle'],\n",
       " ['maybe', 'let', 'call', 'lumpyhead', 'going', 'let', 'call', 'jon', 'thief'],\n",
       " ['stole', 'could', 'take', 'said', 'hot', 'pie'],\n",
       " ['anyhow'],\n",
       " ['could', 'use', 'sword', 'like'],\n",
       " ['lommy', 'egged'],\n",
       " ['go', 'take', 'dare'],\n",
       " ['hot', 'pie', 'kicked', 'donkey', 'riding', 'closer'],\n",
       " ['hey', 'lumpyface', 'gimme', 'sword'],\n",
       " ['hair', 'color', 'straw', 'fat', 'face', 'sunburnt', 'peeling'],\n",
       " ['know', 'use'],\n",
       " ['yes', 'arya', 'could', 'said'],\n",
       " ['killed',\n",
       "  'boy',\n",
       "  'fat',\n",
       "  'boy',\n",
       "  'like',\n",
       "  'stabbed',\n",
       "  'belly',\n",
       "  'died',\n",
       "  'kill',\n",
       "  'let',\n",
       "  'alone'],\n",
       " ['dare'],\n",
       " ['yoren', 'know', 'stableboy', 'afraid', 'might', 'found'],\n",
       " ['arya',\n",
       "  'pretty',\n",
       "  'sure',\n",
       "  'men',\n",
       "  'killers',\n",
       "  'three',\n",
       "  'manacles',\n",
       "  'sure',\n",
       "  'queen',\n",
       "  'looking'],\n",
       " ['look', 'brayed', 'lommy', 'greenhands'],\n",
       " ['bet', 'going', 'cry'],\n",
       " ['want', 'cry', 'lumpyhead'],\n",
       " ['cried', 'sleep', 'night', 'dreaming', 'father'],\n",
       " ['come',\n",
       "  'morning',\n",
       "  'woken',\n",
       "  'red',\n",
       "  'eyed',\n",
       "  'dry',\n",
       "  'could',\n",
       "  'shed',\n",
       "  'another',\n",
       "  'tear',\n",
       "  'life',\n",
       "  'hung'],\n",
       " ['going', 'wet', 'pants', 'hot', 'pie', 'suggested'],\n",
       " ['leave', 'said', 'boy', 'shaggy', 'black', 'hair', 'rode', 'behind'],\n",
       " ['lommy',\n",
       "  'named',\n",
       "  'bull',\n",
       "  'account',\n",
       "  'horned',\n",
       "  'helm',\n",
       "  'polished',\n",
       "  'time',\n",
       "  'never',\n",
       "  'wore'],\n",
       " ['lommy', 'dare', 'mock', 'bull'],\n",
       " ['older', 'big', 'age', 'broad', 'chest', 'strong', 'looking', 'arms'],\n",
       " ['better', 'give', 'hot', 'pie', 'sword', 'arry', 'lommy', 'said'],\n",
       " ['hot', 'pie', 'wants', 'bad'],\n",
       " ['kicked', 'boy', 'death'],\n",
       " ['bet'],\n",
       " ['knocked',\n",
       "  'kicked',\n",
       "  'balls',\n",
       "  'kept',\n",
       "  'kicking',\n",
       "  'dead',\n",
       "  'hot',\n",
       "  'pie',\n",
       "  'boasted'],\n",
       " ['kicked', 'pieces'],\n",
       " ['balls', 'broke', 'open', 'bloody', 'cock', 'turned', 'black'],\n",
       " ['better', 'gimme', 'sword'],\n",
       " ['arya', 'slid', 'practice', 'sword', 'belt'],\n",
       " ['one', 'told', 'hot', 'pie', 'wanting', 'fight'],\n",
       " ['stick'],\n",
       " ['rode', 'nearer', 'tried', 'reach', 'needle', 'hilt'],\n",
       " ['page',\n",
       "  'arya',\n",
       "  'made',\n",
       "  'stick',\n",
       "  'whistle',\n",
       "  'laid',\n",
       "  'wood',\n",
       "  'across',\n",
       "  'donkey',\n",
       "  'hindquarters'],\n",
       " ['animal', 'hawed', 'bucked', 'dumping', 'hot', 'pie', 'ground'],\n",
       " ['vaulted', 'donkey', 'poked', 'gut', 'tried', 'get', 'sat', 'back', 'grunt'],\n",
       " ['whacked',\n",
       "  'across',\n",
       "  'face',\n",
       "  'nose',\n",
       "  'made',\n",
       "  'crack',\n",
       "  'like',\n",
       "  'branch',\n",
       "  'breaking'],\n",
       " ['blood', 'dribbled', 'nostrils'],\n",
       " ['hot',\n",
       "  'pie',\n",
       "  'began',\n",
       "  'wail',\n",
       "  'arya',\n",
       "  'whirled',\n",
       "  'toward',\n",
       "  'lommy',\n",
       "  'greenhands',\n",
       "  'sitting',\n",
       "  'donkey',\n",
       "  'openmouthed'],\n",
       " ['want', 'sword'],\n",
       " ['yelled'],\n",
       " ['raised',\n",
       "  'dyed',\n",
       "  'green',\n",
       "  'hands',\n",
       "  'front',\n",
       "  'face',\n",
       "  'squealed',\n",
       "  'get',\n",
       "  'away'],\n",
       " ['bull', 'shouted', 'behind', 'arya', 'spun'],\n",
       " ['hot', 'pie', 'knees', 'fist', 'closing', 'around', 'big', 'jagged', 'rock'],\n",
       " ['let', 'throw', 'ducking', 'head', 'sailed', 'past'],\n",
       " ['flew'],\n",
       " ['raised', 'hand', 'hit', 'cheek', 'knee'],\n",
       " ['grabbed', 'danced', 'aside', 'bounced', 'wood', 'back', 'head'],\n",
       " ['fell', 'got', 'stumbled', 'red', 'face', 'smeared', 'dirt', 'blood'],\n",
       " ['arya', 'slid', 'water', 'dancer', 'stance', 'waited'],\n",
       " ['came',\n",
       "  'close',\n",
       "  'enough',\n",
       "  'lunged',\n",
       "  'right',\n",
       "  'legs',\n",
       "  'hard',\n",
       "  'wooden',\n",
       "  'sword',\n",
       "  'point',\n",
       "  'would',\n",
       "  'come',\n",
       "  'butt',\n",
       "  'cheeks'],\n",
       " ['time',\n",
       "  'yoren',\n",
       "  'pulled',\n",
       "  'hot',\n",
       "  'pie',\n",
       "  'sprawled',\n",
       "  'ground',\n",
       "  'breeches',\n",
       "  'brown',\n",
       "  'smelly',\n",
       "  'crying',\n",
       "  'arya',\n",
       "  'whapped'],\n",
       " ['enough',\n",
       "  'black',\n",
       "  'brother',\n",
       "  'roared',\n",
       "  'prying',\n",
       "  'stick',\n",
       "  'sword',\n",
       "  'fingers',\n",
       "  'want',\n",
       "  'kill',\n",
       "  'fool'],\n",
       " ['lommy', 'others', 'started', 'squeal', 'old', 'man', 'turned'],\n",
       " ['shut', 'mouths', 'shutting'],\n",
       " ['tie', 'lot', 'behind', 'wagons', 'drag', 'wall'],\n",
       " ['spat'],\n",
       " ['goes', 'twice', 'arry'],\n",
       " ['come', 'boy'],\n",
       " ['looking', 'even', 'three', 'chained', 'manacled', 'back', 'wagon'],\n",
       " ['fat',\n",
       "  'one',\n",
       "  'snapped',\n",
       "  'pointy',\n",
       "  'teeth',\n",
       "  'together',\n",
       "  'hissed',\n",
       "  'arya',\n",
       "  'ignored'],\n",
       " ['old',\n",
       "  'man',\n",
       "  'dragged',\n",
       "  'well',\n",
       "  'road',\n",
       "  'tangle',\n",
       "  'trees',\n",
       "  'cursing',\n",
       "  'muttering'],\n",
       " ...]"
      ]
     },
     "execution_count": 4,
     "metadata": {},
     "output_type": "execute_result"
    }
   ],
   "source": [
    "story"
   ]
  },
  {
   "cell_type": "code",
   "execution_count": 5,
   "metadata": {},
   "outputs": [],
   "source": [
    "model = gensim.models.Word2Vec(\n",
    "    window=10,\n",
    "    min_count=2\n",
    ")"
   ]
  },
  {
   "cell_type": "code",
   "execution_count": 6,
   "metadata": {},
   "outputs": [],
   "source": [
    "model.build_vocab(story)"
   ]
  },
  {
   "cell_type": "code",
   "execution_count": 7,
   "metadata": {},
   "outputs": [
    {
     "data": {
      "text/plain": [
       "(4396488, 4579390)"
      ]
     },
     "execution_count": 7,
     "metadata": {},
     "output_type": "execute_result"
    }
   ],
   "source": [
    "model.train(story , total_examples=model.corpus_count,epochs=model.epochs)"
   ]
  },
  {
   "cell_type": "code",
   "execution_count": 8,
   "metadata": {},
   "outputs": [
    {
     "data": {
      "text/plain": [
       "[('girl', 0.8342874050140381),\n",
       " ('runty', 0.7756868600845337),\n",
       " ('eleyna', 0.7481688857078552),\n",
       " ('young', 0.7312673926353455),\n",
       " ('maid', 0.7280023694038391),\n",
       " ('jeyne', 0.7242240309715271),\n",
       " ('callow', 0.714082658290863),\n",
       " ('child', 0.7110346555709839),\n",
       " ('lad', 0.7098439335823059),\n",
       " ('brandon', 0.7089879512786865)]"
      ]
     },
     "execution_count": 8,
     "metadata": {},
     "output_type": "execute_result"
    }
   ],
   "source": [
    "model.wv.most_similar('boy')"
   ]
  },
  {
   "cell_type": "code",
   "execution_count": 9,
   "metadata": {},
   "outputs": [
    {
     "data": {
      "text/plain": [
       "'jon'"
      ]
     },
     "execution_count": 9,
     "metadata": {},
     "output_type": "execute_result"
    }
   ],
   "source": [
    "model.wv.doesnt_match(['jon','rikon','robb','arya','sansa','bran'])"
   ]
  },
  {
   "cell_type": "code",
   "execution_count": 10,
   "metadata": {},
   "outputs": [
    {
     "data": {
      "text/plain": [
       "array([-1.3771675e+00,  1.3290063e-02,  1.0507157e+00, -8.1896162e-01,\n",
       "        6.6206396e-01,  7.5749642e-01,  6.1206567e-01,  1.3453389e+00,\n",
       "        1.3213185e+00, -2.1923823e+00, -1.4865859e+00, -2.5244834e+00,\n",
       "       -4.0212056e-01, -5.5983245e-01, -1.3695325e-01, -3.7680003e-01,\n",
       "        1.0733569e+00, -8.3647168e-01,  4.2831935e-02, -1.6591711e+00,\n",
       "        2.2651480e-01,  8.2652193e-01,  5.0665480e-01,  6.0292596e-01,\n",
       "        1.3461025e+00,  1.0723603e+00, -2.3682315e+00, -6.0821050e-01,\n",
       "       -1.6002341e-01,  9.4045955e-01, -7.4249649e-01,  3.0029303e-01,\n",
       "       -4.5182016e-01,  7.6890814e-01, -5.5563623e-01, -8.6233532e-01,\n",
       "       -8.4024286e-01, -8.2641464e-01,  1.2187864e+00, -1.5968517e+00,\n",
       "        1.0540560e+00, -3.1490277e-02,  1.8484983e-01,  2.1219635e-01,\n",
       "       -5.4259723e-01, -6.4718914e-01,  9.1844159e-01, -9.8892850e-01,\n",
       "       -4.5270059e-01,  2.0623887e+00,  8.0118233e-01, -1.2271532e+00,\n",
       "        4.0833619e-01, -8.1358486e-01,  8.0024385e-01, -1.9196555e-03,\n",
       "        3.1717187e-01,  1.2685800e+00,  1.5743945e+00,  2.8468170e+00,\n",
       "       -1.8897525e+00, -5.7793128e-01,  5.2711362e-01, -1.4702510e+00,\n",
       "       -2.5908774e-01,  6.8628162e-01,  6.2652183e-01,  3.8998431e-01,\n",
       "       -6.4659297e-01,  3.4325337e-01, -2.7120363e-03,  8.0633320e-02,\n",
       "        1.5162956e+00,  9.7607233e-02,  1.0097718e+00,  6.9708908e-01,\n",
       "        4.5601413e-01, -1.1859993e+00, -7.2205693e-01,  3.7070864e-01,\n",
       "       -1.6850612e+00,  1.0006012e+00, -7.1001405e-01,  6.1413920e-01,\n",
       "        2.8514412e-01,  1.1521646e+00,  1.2343458e+00, -1.9176635e+00,\n",
       "       -1.2724721e-01,  2.8967750e-01,  6.7987114e-01,  1.0970137e+00,\n",
       "        3.1171152e-01,  4.1821098e-01,  5.6089991e-01,  3.0751187e-01,\n",
       "        1.1227655e+00, -7.1960723e-01,  1.5375937e+00,  3.6523831e-01],\n",
       "      dtype=float32)"
      ]
     },
     "execution_count": 10,
     "metadata": {},
     "output_type": "execute_result"
    }
   ],
   "source": [
    "model.wv['jon']"
   ]
  },
  {
   "cell_type": "code",
   "execution_count": 11,
   "metadata": {},
   "outputs": [
    {
     "data": {
      "text/plain": [
       "(100,)"
      ]
     },
     "execution_count": 11,
     "metadata": {},
     "output_type": "execute_result"
    }
   ],
   "source": [
    "model.wv['king'].shape"
   ]
  },
  {
   "cell_type": "code",
   "execution_count": 12,
   "metadata": {},
   "outputs": [
    {
     "data": {
      "text/plain": [
       "0.81247234"
      ]
     },
     "execution_count": 12,
     "metadata": {},
     "output_type": "execute_result"
    }
   ],
   "source": [
    "model.wv.similarity('arya','sansa')"
   ]
  },
  {
   "cell_type": "code",
   "execution_count": 13,
   "metadata": {},
   "outputs": [
    {
     "data": {
      "text/plain": [
       "array([[ 0.02623111,  0.15244815,  0.00795571, ..., -0.05262249,\n",
       "        -0.10709339,  0.18943189],\n",
       "       [-0.17268628,  0.1091629 ,  0.16699389, ..., -0.06203438,\n",
       "        -0.13835374,  0.15135293],\n",
       "       [ 0.03824477,  0.10066065, -0.05014903, ..., -0.05049948,\n",
       "         0.11655789, -0.14521983],\n",
       "       ...,\n",
       "       [ 0.03818225,  0.17115302,  0.07298613, ..., -0.0293817 ,\n",
       "        -0.03976892,  0.00864746],\n",
       "       [ 0.06801932,  0.09961713,  0.10000936, ..., -0.17546901,\n",
       "        -0.00777991,  0.04233316],\n",
       "       [-0.20761688,  0.15608554,  0.05831404, ..., -0.00665938,\n",
       "        -0.08189258,  0.16320106]], dtype=float32)"
      ]
     },
     "execution_count": 13,
     "metadata": {},
     "output_type": "execute_result"
    }
   ],
   "source": [
    "model.wv.get_normed_vectors()"
   ]
  },
  {
   "cell_type": "code",
   "execution_count": 14,
   "metadata": {},
   "outputs": [
    {
     "data": {
      "text/plain": [
       "(17310, 100)"
      ]
     },
     "execution_count": 14,
     "metadata": {},
     "output_type": "execute_result"
    }
   ],
   "source": [
    "model.wv.get_normed_vectors().shape"
   ]
  },
  {
   "cell_type": "code",
   "execution_count": 15,
   "metadata": {},
   "outputs": [],
   "source": [
    "from sklearn.decomposition import PCA\n",
    "pca = PCA(n_components=3)\n",
    "X = pca.fit_transform(model.wv.get_normed_vectors())"
   ]
  },
  {
   "cell_type": "code",
   "execution_count": 16,
   "metadata": {},
   "outputs": [],
   "source": [
    "y = model.wv.index_to_key"
   ]
  },
  {
   "cell_type": "code",
   "execution_count": 17,
   "metadata": {},
   "outputs": [
    {
     "data": {
      "application/vnd.plotly.v1+json": {
       "config": {
        "plotlyServerURL": "https://plot.ly"
       },
       "data": [
        {
         "hovertemplate": "color=said<br>0=%{x}<br>1=%{y}<br>2=%{z}<extra></extra>",
         "legendgroup": "said",
         "marker": {
          "color": "#636efa",
          "symbol": "circle"
         },
         "mode": "markers",
         "name": "said",
         "scene": "scene",
         "showlegend": true,
         "type": "scatter3d",
         "x": [
          -0.48171454668045044
         ],
         "y": [
          0.020650094375014305
         ],
         "z": [
          0.2538113594055176
         ]
        },
        {
         "hovertemplate": "color=lord<br>0=%{x}<br>1=%{y}<br>2=%{z}<extra></extra>",
         "legendgroup": "lord",
         "marker": {
          "color": "#EF553B",
          "symbol": "circle"
         },
         "mode": "markers",
         "name": "lord",
         "scene": "scene",
         "showlegend": true,
         "type": "scatter3d",
         "x": [
          -0.37676531076431274
         ],
         "y": [
          0.5974935293197632
         ],
         "z": [
          0.3883950412273407
         ]
        },
        {
         "hovertemplate": "color=would<br>0=%{x}<br>1=%{y}<br>2=%{z}<extra></extra>",
         "legendgroup": "would",
         "marker": {
          "color": "#00cc96",
          "symbol": "circle"
         },
         "mode": "markers",
         "name": "would",
         "scene": "scene",
         "showlegend": true,
         "type": "scatter3d",
         "x": [
          -0.5388243794441223
         ],
         "y": [
          -0.058398790657520294
         ],
         "z": [
          -0.3111724257469177
         ]
        },
        {
         "hovertemplate": "color=one<br>0=%{x}<br>1=%{y}<br>2=%{z}<extra></extra>",
         "legendgroup": "one",
         "marker": {
          "color": "#ab63fa",
          "symbol": "circle"
         },
         "mode": "markers",
         "name": "one",
         "scene": "scene",
         "showlegend": true,
         "type": "scatter3d",
         "x": [
          0.01633102260529995
         ],
         "y": [
          0.16321608424186707
         ],
         "z": [
          -0.015752609819173813
         ]
        },
        {
         "hovertemplate": "color=ser<br>0=%{x}<br>1=%{y}<br>2=%{z}<extra></extra>",
         "legendgroup": "ser",
         "marker": {
          "color": "#FFA15A",
          "symbol": "circle"
         },
         "mode": "markers",
         "name": "ser",
         "scene": "scene",
         "showlegend": true,
         "type": "scatter3d",
         "x": [
          -0.2668212354183197
         ],
         "y": [
          0.5485645532608032
         ],
         "z": [
          0.5499078035354614
         ]
        },
        {
         "hovertemplate": "color=could<br>0=%{x}<br>1=%{y}<br>2=%{z}<extra></extra>",
         "legendgroup": "could",
         "marker": {
          "color": "#19d3f3",
          "symbol": "circle"
         },
         "mode": "markers",
         "name": "could",
         "scene": "scene",
         "showlegend": true,
         "type": "scatter3d",
         "x": [
          -0.0481807105243206
         ],
         "y": [
          -0.1339237242937088
         ],
         "z": [
          -0.23876768350601196
         ]
        },
        {
         "hovertemplate": "color=man<br>0=%{x}<br>1=%{y}<br>2=%{z}<extra></extra>",
         "legendgroup": "man",
         "marker": {
          "color": "#FF6692",
          "symbol": "circle"
         },
         "mode": "markers",
         "name": "man",
         "scene": "scene",
         "showlegend": true,
         "type": "scatter3d",
         "x": [
          -0.06836821883916855
         ],
         "y": [
          0.09844451397657394
         ],
         "z": [
          0.19232051074504852
         ]
        },
        {
         "hovertemplate": "color=king<br>0=%{x}<br>1=%{y}<br>2=%{z}<extra></extra>",
         "legendgroup": "king",
         "marker": {
          "color": "#B6E880",
          "symbol": "circle"
         },
         "mode": "markers",
         "name": "king",
         "scene": "scene",
         "showlegend": true,
         "type": "scatter3d",
         "x": [
          -0.37467050552368164
         ],
         "y": [
          0.5324205160140991
         ],
         "z": [
          0.12622195482254028
         ]
        },
        {
         "hovertemplate": "color=men<br>0=%{x}<br>1=%{y}<br>2=%{z}<extra></extra>",
         "legendgroup": "men",
         "marker": {
          "color": "#FF97FF",
          "symbol": "circle"
         },
         "mode": "markers",
         "name": "men",
         "scene": "scene",
         "showlegend": true,
         "type": "scatter3d",
         "x": [
          -0.10286442190408707
         ],
         "y": [
          0.5135672092437744
         ],
         "z": [
          -0.31682372093200684
         ]
        },
        {
         "hovertemplate": "color=back<br>0=%{x}<br>1=%{y}<br>2=%{z}<extra></extra>",
         "legendgroup": "back",
         "marker": {
          "color": "#FECB52",
          "symbol": "circle"
         },
         "mode": "markers",
         "name": "back",
         "scene": "scene",
         "showlegend": true,
         "type": "scatter3d",
         "x": [
          0.24129949510097504
         ],
         "y": [
          0.03318829461932182
         ],
         "z": [
          0.026481086388230324
         ]
        },
        {
         "hovertemplate": "color=well<br>0=%{x}<br>1=%{y}<br>2=%{z}<extra></extra>",
         "legendgroup": "well",
         "marker": {
          "color": "#636efa",
          "symbol": "circle"
         },
         "mode": "markers",
         "name": "well",
         "scene": "scene",
         "showlegend": true,
         "type": "scatter3d",
         "x": [
          -0.43988949060440063
         ],
         "y": [
          0.1825656145811081
         ],
         "z": [
          -0.17407068610191345
         ]
        },
        {
         "hovertemplate": "color=like<br>0=%{x}<br>1=%{y}<br>2=%{z}<extra></extra>",
         "legendgroup": "like",
         "marker": {
          "color": "#EF553B",
          "symbol": "circle"
         },
         "mode": "markers",
         "name": "like",
         "scene": "scene",
         "showlegend": true,
         "type": "scatter3d",
         "x": [
          0.24689385294914246
         ],
         "y": [
          -0.14534053206443787
         ],
         "z": [
          -0.16698706150054932
         ]
        },
        {
         "hovertemplate": "color=jon<br>0=%{x}<br>1=%{y}<br>2=%{z}<extra></extra>",
         "legendgroup": "jon",
         "marker": {
          "color": "#00cc96",
          "symbol": "circle"
         },
         "mode": "markers",
         "name": "jon",
         "scene": "scene",
         "showlegend": true,
         "type": "scatter3d",
         "x": [
          -0.02027980051934719
         ],
         "y": [
          -0.0034469205420464277
         ],
         "z": [
          0.12182211130857468
         ]
        },
        {
         "hovertemplate": "color=father<br>0=%{x}<br>1=%{y}<br>2=%{z}<extra></extra>",
         "legendgroup": "father",
         "marker": {
          "color": "#ab63fa",
          "symbol": "circle"
         },
         "mode": "markers",
         "name": "father",
         "scene": "scene",
         "showlegend": true,
         "type": "scatter3d",
         "x": [
          -0.623847246170044
         ],
         "y": [
          0.3432258069515228
         ],
         "z": [
          0.18102699518203735
         ]
        },
        {
         "hovertemplate": "color=old<br>0=%{x}<br>1=%{y}<br>2=%{z}<extra></extra>",
         "legendgroup": "old",
         "marker": {
          "color": "#FFA15A",
          "symbol": "circle"
         },
         "mode": "markers",
         "name": "old",
         "scene": "scene",
         "showlegend": true,
         "type": "scatter3d",
         "x": [
          -0.007994895800948143
         ],
         "y": [
          0.28476375341415405
         ],
         "z": [
          0.03644714877009392
         ]
        },
        {
         "hovertemplate": "color=hand<br>0=%{x}<br>1=%{y}<br>2=%{z}<extra></extra>",
         "legendgroup": "hand",
         "marker": {
          "color": "#19d3f3",
          "symbol": "circle"
         },
         "mode": "markers",
         "name": "hand",
         "scene": "scene",
         "showlegend": true,
         "type": "scatter3d",
         "x": [
          0.10695736110210419
         ],
         "y": [
          0.09815285354852676
         ],
         "z": [
          0.4363415837287903
         ]
        },
        {
         "hovertemplate": "color=even<br>0=%{x}<br>1=%{y}<br>2=%{z}<extra></extra>",
         "legendgroup": "even",
         "marker": {
          "color": "#FF6692",
          "symbol": "circle"
         },
         "mode": "markers",
         "name": "even",
         "scene": "scene",
         "showlegend": true,
         "type": "scatter3d",
         "x": [
          -0.09540658444166183
         ],
         "y": [
          -0.09469136595726013
         ],
         "z": [
          -0.43373504281044006
         ]
        },
        {
         "hovertemplate": "color=tyrion<br>0=%{x}<br>1=%{y}<br>2=%{z}<extra></extra>",
         "legendgroup": "tyrion",
         "marker": {
          "color": "#B6E880",
          "symbol": "circle"
         },
         "mode": "markers",
         "name": "tyrion",
         "scene": "scene",
         "showlegend": true,
         "type": "scatter3d",
         "x": [
          -0.10174771398305893
         ],
         "y": [
          -0.19070404767990112
         ],
         "z": [
          0.32117894291877747
         ]
        },
        {
         "hovertemplate": "color=never<br>0=%{x}<br>1=%{y}<br>2=%{z}<extra></extra>",
         "legendgroup": "never",
         "marker": {
          "color": "#FF97FF",
          "symbol": "circle"
         },
         "mode": "markers",
         "name": "never",
         "scene": "scene",
         "showlegend": true,
         "type": "scatter3d",
         "x": [
          -0.43223145604133606
         ],
         "y": [
          -0.19915138185024261
         ],
         "z": [
          -0.13334880769252777
         ]
        },
        {
         "hovertemplate": "color=know<br>0=%{x}<br>1=%{y}<br>2=%{z}<extra></extra>",
         "legendgroup": "know",
         "marker": {
          "color": "#FECB52",
          "symbol": "circle"
         },
         "mode": "markers",
         "name": "know",
         "scene": "scene",
         "showlegend": true,
         "type": "scatter3d",
         "x": [
          -0.6639423966407776
         ],
         "y": [
          -0.056687261909246445
         ],
         "z": [
          -0.20134426653385162
         ]
        },
        {
         "hovertemplate": "color=see<br>0=%{x}<br>1=%{y}<br>2=%{z}<extra></extra>",
         "legendgroup": "see",
         "marker": {
          "color": "#636efa",
          "symbol": "circle"
         },
         "mode": "markers",
         "name": "see",
         "scene": "scene",
         "showlegend": true,
         "type": "scatter3d",
         "x": [
          -0.06193957105278969
         ],
         "y": [
          -0.0392058901488781
         ],
         "z": [
          -0.14641951024532318
         ]
        },
        {
         "hovertemplate": "color=made<br>0=%{x}<br>1=%{y}<br>2=%{z}<extra></extra>",
         "legendgroup": "made",
         "marker": {
          "color": "#EF553B",
          "symbol": "circle"
         },
         "mode": "markers",
         "name": "made",
         "scene": "scene",
         "showlegend": true,
         "type": "scatter3d",
         "x": [
          0.09444151073694229
         ],
         "y": [
          -0.09759310632944107
         ],
         "z": [
          -0.08534232527017593
         ]
        },
        {
         "hovertemplate": "color=eyes<br>0=%{x}<br>1=%{y}<br>2=%{z}<extra></extra>",
         "legendgroup": "eyes",
         "marker": {
          "color": "#00cc96",
          "symbol": "circle"
         },
         "mode": "markers",
         "name": "eyes",
         "scene": "scene",
         "showlegend": true,
         "type": "scatter3d",
         "x": [
          0.25872528553009033
         ],
         "y": [
          -0.16250315308570862
         ],
         "z": [
          0.2625187635421753
         ]
        },
        {
         "hovertemplate": "color=black<br>0=%{x}<br>1=%{y}<br>2=%{z}<extra></extra>",
         "legendgroup": "black",
         "marker": {
          "color": "#ab63fa",
          "symbol": "circle"
         },
         "mode": "markers",
         "name": "black",
         "scene": "scene",
         "showlegend": true,
         "type": "scatter3d",
         "x": [
          0.4550623297691345
         ],
         "y": [
          0.42996349930763245
         ],
         "z": [
          0.07447291910648346
         ]
        },
        {
         "hovertemplate": "color=told<br>0=%{x}<br>1=%{y}<br>2=%{z}<extra></extra>",
         "legendgroup": "told",
         "marker": {
          "color": "#FFA15A",
          "symbol": "circle"
         },
         "mode": "markers",
         "name": "told",
         "scene": "scene",
         "showlegend": true,
         "type": "scatter3d",
         "x": [
          -0.488788366317749
         ],
         "y": [
          -0.01058195997029543
         ],
         "z": [
          -0.05794854089617729
         ]
        },
        {
         "hovertemplate": "color=lady<br>0=%{x}<br>1=%{y}<br>2=%{z}<extra></extra>",
         "legendgroup": "lady",
         "marker": {
          "color": "#19d3f3",
          "symbol": "circle"
         },
         "mode": "markers",
         "name": "lady",
         "scene": "scene",
         "showlegend": true,
         "type": "scatter3d",
         "x": [
          -0.4519335925579071
         ],
         "y": [
          0.41784563660621643
         ],
         "z": [
          0.5084609389305115
         ]
        },
        {
         "hovertemplate": "color=thought<br>0=%{x}<br>1=%{y}<br>2=%{z}<extra></extra>",
         "legendgroup": "thought",
         "marker": {
          "color": "#FF6692",
          "symbol": "circle"
         },
         "mode": "markers",
         "name": "thought",
         "scene": "scene",
         "showlegend": true,
         "type": "scatter3d",
         "x": [
          -0.26170533895492554
         ],
         "y": [
          -0.22765523195266724
         ],
         "z": [
          -0.0949261412024498
         ]
        },
        {
         "hovertemplate": "color=time<br>0=%{x}<br>1=%{y}<br>2=%{z}<extra></extra>",
         "legendgroup": "time",
         "marker": {
          "color": "#B6E880",
          "symbol": "circle"
         },
         "mode": "markers",
         "name": "time",
         "scene": "scene",
         "showlegend": true,
         "type": "scatter3d",
         "x": [
          -0.033525366336107254
         ],
         "y": [
          -0.05551692098379135
         ],
         "z": [
          -0.1888570785522461
         ]
        },
        {
         "hovertemplate": "color=long<br>0=%{x}<br>1=%{y}<br>2=%{z}<extra></extra>",
         "legendgroup": "long",
         "marker": {
          "color": "#FF97FF",
          "symbol": "circle"
         },
         "mode": "markers",
         "name": "long",
         "scene": "scene",
         "showlegend": true,
         "type": "scatter3d",
         "x": [
          0.29978233575820923
         ],
         "y": [
          0.2224055528640747
         ],
         "z": [
          -0.23277883231639862
         ]
        },
        {
         "hovertemplate": "color=might<br>0=%{x}<br>1=%{y}<br>2=%{z}<extra></extra>",
         "legendgroup": "might",
         "marker": {
          "color": "#FECB52",
          "symbol": "circle"
         },
         "mode": "markers",
         "name": "might",
         "scene": "scene",
         "showlegend": true,
         "type": "scatter3d",
         "x": [
          -0.5816112160682678
         ],
         "y": [
          -0.09378955513238907
         ],
         "z": [
          -0.2536109387874603
         ]
        },
        {
         "hovertemplate": "color=us<br>0=%{x}<br>1=%{y}<br>2=%{z}<extra></extra>",
         "legendgroup": "us",
         "marker": {
          "color": "#636efa",
          "symbol": "circle"
         },
         "mode": "markers",
         "name": "us",
         "scene": "scene",
         "showlegend": true,
         "type": "scatter3d",
         "x": [
          -0.5426675081253052
         ],
         "y": [
          0.1913347989320755
         ],
         "z": [
          -0.3068346381187439
         ]
        },
        {
         "hovertemplate": "color=come<br>0=%{x}<br>1=%{y}<br>2=%{z}<extra></extra>",
         "legendgroup": "come",
         "marker": {
          "color": "#EF553B",
          "symbol": "circle"
         },
         "mode": "markers",
         "name": "come",
         "scene": "scene",
         "showlegend": true,
         "type": "scatter3d",
         "x": [
          -0.3786160945892334
         ],
         "y": [
          0.10112284123897552
         ],
         "z": [
          -0.4255456030368805
         ]
        },
        {
         "hovertemplate": "color=face<br>0=%{x}<br>1=%{y}<br>2=%{z}<extra></extra>",
         "legendgroup": "face",
         "marker": {
          "color": "#00cc96",
          "symbol": "circle"
         },
         "mode": "markers",
         "name": "face",
         "scene": "scene",
         "showlegend": true,
         "type": "scatter3d",
         "x": [
          0.34259384870529175
         ],
         "y": [
          -0.2601691782474518
         ],
         "z": [
          0.40783512592315674
         ]
        },
        {
         "hovertemplate": "color=still<br>0=%{x}<br>1=%{y}<br>2=%{z}<extra></extra>",
         "legendgroup": "still",
         "marker": {
          "color": "#ab63fa",
          "symbol": "circle"
         },
         "mode": "markers",
         "name": "still",
         "scene": "scene",
         "showlegend": true,
         "type": "scatter3d",
         "x": [
          0.12224998325109482
         ],
         "y": [
          0.05564643070101738
         ],
         "z": [
          -0.3531051576137543
         ]
        },
        {
         "hovertemplate": "color=head<br>0=%{x}<br>1=%{y}<br>2=%{z}<extra></extra>",
         "legendgroup": "head",
         "marker": {
          "color": "#FFA15A",
          "symbol": "circle"
         },
         "mode": "markers",
         "name": "head",
         "scene": "scene",
         "showlegend": true,
         "type": "scatter3d",
         "x": [
          0.3161051571369171
         ],
         "y": [
          -0.04430624470114708
         ],
         "z": [
          0.5496507287025452
         ]
        },
        {
         "hovertemplate": "color=red<br>0=%{x}<br>1=%{y}<br>2=%{z}<extra></extra>",
         "legendgroup": "red",
         "marker": {
          "color": "#19d3f3",
          "symbol": "circle"
         },
         "mode": "markers",
         "name": "red",
         "scene": "scene",
         "showlegend": true,
         "type": "scatter3d",
         "x": [
          0.3428086042404175
         ],
         "y": [
          0.3644285500049591
         ],
         "z": [
          0.23829589784145355
         ]
        },
        {
         "hovertemplate": "color=way<br>0=%{x}<br>1=%{y}<br>2=%{z}<extra></extra>",
         "legendgroup": "way",
         "marker": {
          "color": "#FF6692",
          "symbol": "circle"
         },
         "mode": "markers",
         "name": "way",
         "scene": "scene",
         "showlegend": true,
         "type": "scatter3d",
         "x": [
          0.08024952560663223
         ],
         "y": [
          -0.05498808994889259
         ],
         "z": [
          -0.3187384605407715
         ]
        },
        {
         "hovertemplate": "color=boy<br>0=%{x}<br>1=%{y}<br>2=%{z}<extra></extra>",
         "legendgroup": "boy",
         "marker": {
          "color": "#B6E880",
          "symbol": "circle"
         },
         "mode": "markers",
         "name": "boy",
         "scene": "scene",
         "showlegend": true,
         "type": "scatter3d",
         "x": [
          -0.282645046710968
         ],
         "y": [
          0.17868433892726898
         ],
         "z": [
          0.4254114329814911
         ]
        },
        {
         "hovertemplate": "color=page<br>0=%{x}<br>1=%{y}<br>2=%{z}<extra></extra>",
         "legendgroup": "page",
         "marker": {
          "color": "#FF97FF",
          "symbol": "circle"
         },
         "mode": "markers",
         "name": "page",
         "scene": "scene",
         "showlegend": true,
         "type": "scatter3d",
         "x": [
          -0.14499899744987488
         ],
         "y": [
          0.1176610067486763
         ],
         "z": [
          0.3212389051914215
         ]
        },
        {
         "hovertemplate": "color=must<br>0=%{x}<br>1=%{y}<br>2=%{z}<extra></extra>",
         "legendgroup": "must",
         "marker": {
          "color": "#FECB52",
          "symbol": "circle"
         },
         "mode": "markers",
         "name": "must",
         "scene": "scene",
         "showlegend": true,
         "type": "scatter3d",
         "x": [
          -0.6419404745101929
         ],
         "y": [
          0.037624139338731766
         ],
         "z": [
          -0.24524176120758057
         ]
        },
        {
         "hovertemplate": "color=queen<br>0=%{x}<br>1=%{y}<br>2=%{z}<extra></extra>",
         "legendgroup": "queen",
         "marker": {
          "color": "#636efa",
          "symbol": "circle"
         },
         "mode": "markers",
         "name": "queen",
         "scene": "scene",
         "showlegend": true,
         "type": "scatter3d",
         "x": [
          -0.49214833974838257
         ],
         "y": [
          0.3443293571472168
         ],
         "z": [
          0.2774328887462616
         ]
        },
        {
         "hovertemplate": "color=good<br>0=%{x}<br>1=%{y}<br>2=%{z}<extra></extra>",
         "legendgroup": "good",
         "marker": {
          "color": "#EF553B",
          "symbol": "circle"
         },
         "mode": "markers",
         "name": "good",
         "scene": "scene",
         "showlegend": true,
         "type": "scatter3d",
         "x": [
          -0.4861827790737152
         ],
         "y": [
          -0.0798138752579689
         ],
         "z": [
          -0.12435779720544815
         ]
        },
        {
         "hovertemplate": "color=two<br>0=%{x}<br>1=%{y}<br>2=%{z}<extra></extra>",
         "legendgroup": "two",
         "marker": {
          "color": "#00cc96",
          "symbol": "circle"
         },
         "mode": "markers",
         "name": "two",
         "scene": "scene",
         "showlegend": true,
         "type": "scatter3d",
         "x": [
          0.19768276810646057
         ],
         "y": [
          0.5999800562858582
         ],
         "z": [
          -0.1386384665966034
         ]
        },
        {
         "hovertemplate": "color=brother<br>0=%{x}<br>1=%{y}<br>2=%{z}<extra></extra>",
         "legendgroup": "brother",
         "marker": {
          "color": "#ab63fa",
          "symbol": "circle"
         },
         "mode": "markers",
         "name": "brother",
         "scene": "scene",
         "showlegend": true,
         "type": "scatter3d",
         "x": [
          -0.5448867082595825
         ],
         "y": [
          0.4926126003265381
         ],
         "z": [
          0.3501455783843994
         ]
        },
        {
         "hovertemplate": "color=night<br>0=%{x}<br>1=%{y}<br>2=%{z}<extra></extra>",
         "legendgroup": "night",
         "marker": {
          "color": "#FFA15A",
          "symbol": "circle"
         },
         "mode": "markers",
         "name": "night",
         "scene": "scene",
         "showlegend": true,
         "type": "scatter3d",
         "x": [
          0.019166501238942146
         ],
         "y": [
          0.14967843890190125
         ],
         "z": [
          -0.27645251154899597
         ]
        },
        {
         "hovertemplate": "color=little<br>0=%{x}<br>1=%{y}<br>2=%{z}<extra></extra>",
         "legendgroup": "little",
         "marker": {
          "color": "#19d3f3",
          "symbol": "circle"
         },
         "mode": "markers",
         "name": "little",
         "scene": "scene",
         "showlegend": true,
         "type": "scatter3d",
         "x": [
          -0.11694034188985825
         ],
         "y": [
          -0.14973150193691254
         ],
         "z": [
          0.08840805292129517
         ]
        },
        {
         "hovertemplate": "color=took<br>0=%{x}<br>1=%{y}<br>2=%{z}<extra></extra>",
         "legendgroup": "took",
         "marker": {
          "color": "#FF6692",
          "symbol": "circle"
         },
         "mode": "markers",
         "name": "took",
         "scene": "scene",
         "showlegend": true,
         "type": "scatter3d",
         "x": [
          0.008445573970675468
         ],
         "y": [
          0.18049782514572144
         ],
         "z": [
          0.1775863915681839
         ]
        },
        {
         "hovertemplate": "color=came<br>0=%{x}<br>1=%{y}<br>2=%{z}<extra></extra>",
         "legendgroup": "came",
         "marker": {
          "color": "#B6E880",
          "symbol": "circle"
         },
         "mode": "markers",
         "name": "came",
         "scene": "scene",
         "showlegend": true,
         "type": "scatter3d",
         "x": [
          0.27354520559310913
         ],
         "y": [
          0.19489015638828278
         ],
         "z": [
          -0.34121328592300415
         ]
        },
        {
         "hovertemplate": "color=though<br>0=%{x}<br>1=%{y}<br>2=%{z}<extra></extra>",
         "legendgroup": "though",
         "marker": {
          "color": "#FF97FF",
          "symbol": "circle"
         },
         "mode": "markers",
         "name": "though",
         "scene": "scene",
         "showlegend": true,
         "type": "scatter3d",
         "x": [
          -0.1942591816186905
         ],
         "y": [
          -0.21121110022068024
         ],
         "z": [
          -0.16049636900424957
         ]
        },
        {
         "hovertemplate": "color=say<br>0=%{x}<br>1=%{y}<br>2=%{z}<extra></extra>",
         "legendgroup": "say",
         "marker": {
          "color": "#FECB52",
          "symbol": "circle"
         },
         "mode": "markers",
         "name": "say",
         "scene": "scene",
         "showlegend": true,
         "type": "scatter3d",
         "x": [
          -0.6241733431816101
         ],
         "y": [
          -0.17693646252155304
         ],
         "z": [
          -0.050319965928792953
         ]
        },
        {
         "hovertemplate": "color=three<br>0=%{x}<br>1=%{y}<br>2=%{z}<extra></extra>",
         "legendgroup": "three",
         "marker": {
          "color": "#636efa",
          "symbol": "circle"
         },
         "mode": "markers",
         "name": "three",
         "scene": "scene",
         "showlegend": true,
         "type": "scatter3d",
         "x": [
          0.08324258029460907
         ],
         "y": [
          0.7095820307731628
         ],
         "z": [
          -0.1691560447216034
         ]
        },
        {
         "hovertemplate": "color=away<br>0=%{x}<br>1=%{y}<br>2=%{z}<extra></extra>",
         "legendgroup": "away",
         "marker": {
          "color": "#EF553B",
          "symbol": "circle"
         },
         "mode": "markers",
         "name": "away",
         "scene": "scene",
         "showlegend": true,
         "type": "scatter3d",
         "x": [
          0.2688239514827728
         ],
         "y": [
          -0.1678084433078766
         ],
         "z": [
          -0.05059194564819336
         ]
        },
        {
         "hovertemplate": "color=dead<br>0=%{x}<br>1=%{y}<br>2=%{z}<extra></extra>",
         "legendgroup": "dead",
         "marker": {
          "color": "#00cc96",
          "symbol": "circle"
         },
         "mode": "markers",
         "name": "dead",
         "scene": "scene",
         "showlegend": true,
         "type": "scatter3d",
         "x": [
          -0.062165290117263794
         ],
         "y": [
          0.12774357199668884
         ],
         "z": [
          -0.17939546704292297
         ]
        },
        {
         "hovertemplate": "color=son<br>0=%{x}<br>1=%{y}<br>2=%{z}<extra></extra>",
         "legendgroup": "son",
         "marker": {
          "color": "#ab63fa",
          "symbol": "circle"
         },
         "mode": "markers",
         "name": "son",
         "scene": "scene",
         "showlegend": true,
         "type": "scatter3d",
         "x": [
          -0.4268794357776642
         ],
         "y": [
          0.709489107131958
         ],
         "z": [
          0.49012553691864014
         ]
        },
        {
         "hovertemplate": "color=blood<br>0=%{x}<br>1=%{y}<br>2=%{z}<extra></extra>",
         "legendgroup": "blood",
         "marker": {
          "color": "#FFA15A",
          "symbol": "circle"
         },
         "mode": "markers",
         "name": "blood",
         "scene": "scene",
         "showlegend": true,
         "type": "scatter3d",
         "x": [
          0.2477964162826538
         ],
         "y": [
          -0.09493009001016617
         ],
         "z": [
          0.00736374594271183
         ]
        },
        {
         "hovertemplate": "color=take<br>0=%{x}<br>1=%{y}<br>2=%{z}<extra></extra>",
         "legendgroup": "take",
         "marker": {
          "color": "#19d3f3",
          "symbol": "circle"
         },
         "mode": "markers",
         "name": "take",
         "scene": "scene",
         "showlegend": true,
         "type": "scatter3d",
         "x": [
          -0.4573734700679779
         ],
         "y": [
          0.14801278710365295
         ],
         "z": [
          -0.12353027611970901
         ]
        },
        {
         "hovertemplate": "color=go<br>0=%{x}<br>1=%{y}<br>2=%{z}<extra></extra>",
         "legendgroup": "go",
         "marker": {
          "color": "#FF6692",
          "symbol": "circle"
         },
         "mode": "markers",
         "name": "go",
         "scene": "scene",
         "showlegend": true,
         "type": "scatter3d",
         "x": [
          -0.27316907048225403
         ],
         "y": [
          -0.18160207569599152
         ],
         "z": [
          -0.3124189078807831
         ]
        },
        {
         "hovertemplate": "color=half<br>0=%{x}<br>1=%{y}<br>2=%{z}<extra></extra>",
         "legendgroup": "half",
         "marker": {
          "color": "#B6E880",
          "symbol": "circle"
         },
         "mode": "markers",
         "name": "half",
         "scene": "scene",
         "showlegend": true,
         "type": "scatter3d",
         "x": [
          0.2524935007095337
         ],
         "y": [
          0.21179725229740143
         ],
         "z": [
          -0.28710073232650757
         ]
        },
        {
         "hovertemplate": "color=make<br>0=%{x}<br>1=%{y}<br>2=%{z}<extra></extra>",
         "legendgroup": "make",
         "marker": {
          "color": "#FF97FF",
          "symbol": "circle"
         },
         "mode": "markers",
         "name": "make",
         "scene": "scene",
         "showlegend": true,
         "type": "scatter3d",
         "x": [
          -0.440187931060791
         ],
         "y": [
          -0.22006388008594513
         ],
         "z": [
          -0.24788890779018402
         ]
        },
        {
         "hovertemplate": "color=arya<br>0=%{x}<br>1=%{y}<br>2=%{z}<extra></extra>",
         "legendgroup": "arya",
         "marker": {
          "color": "#FECB52",
          "symbol": "circle"
         },
         "mode": "markers",
         "name": "arya",
         "scene": "scene",
         "showlegend": true,
         "type": "scatter3d",
         "x": [
          0.11404914408922195
         ],
         "y": [
          -0.4011572301387787
         ],
         "z": [
          0.012028385885059834
         ]
        },
        {
         "hovertemplate": "color=saw<br>0=%{x}<br>1=%{y}<br>2=%{z}<extra></extra>",
         "legendgroup": "saw",
         "marker": {
          "color": "#636efa",
          "symbol": "circle"
         },
         "mode": "markers",
         "name": "saw",
         "scene": "scene",
         "showlegend": true,
         "type": "scatter3d",
         "x": [
          0.31445184350013733
         ],
         "y": [
          0.06948908418416977
         ],
         "z": [
          -0.010225536301732063
         ]
        },
        {
         "hovertemplate": "color=day<br>0=%{x}<br>1=%{y}<br>2=%{z}<extra></extra>",
         "legendgroup": "day",
         "marker": {
          "color": "#EF553B",
          "symbol": "circle"
         },
         "mode": "markers",
         "name": "day",
         "scene": "scene",
         "showlegend": true,
         "type": "scatter3d",
         "x": [
          -0.09182385355234146
         ],
         "y": [
          0.21820583939552307
         ],
         "z": [
          -0.3635929226875305
         ]
        },
        {
         "hovertemplate": "color=white<br>0=%{x}<br>1=%{y}<br>2=%{z}<extra></extra>",
         "legendgroup": "white",
         "marker": {
          "color": "#00cc96",
          "symbol": "circle"
         },
         "mode": "markers",
         "name": "white",
         "scene": "scene",
         "showlegend": true,
         "type": "scatter3d",
         "x": [
          0.4067241847515106
         ],
         "y": [
          0.5112248063087463
         ],
         "z": [
          0.3325103521347046
         ]
        },
        {
         "hovertemplate": "color=jaime<br>0=%{x}<br>1=%{y}<br>2=%{z}<extra></extra>",
         "legendgroup": "jaime",
         "marker": {
          "color": "#ab63fa",
          "symbol": "circle"
         },
         "mode": "markers",
         "name": "jaime",
         "scene": "scene",
         "showlegend": true,
         "type": "scatter3d",
         "x": [
          -0.24174697697162628
         ],
         "y": [
          0.08507664501667023
         ],
         "z": [
          0.374557763338089
         ]
        },
        {
         "hovertemplate": "color=first<br>0=%{x}<br>1=%{y}<br>2=%{z}<extra></extra>",
         "legendgroup": "first",
         "marker": {
          "color": "#FFA15A",
          "symbol": "circle"
         },
         "mode": "markers",
         "name": "first",
         "scene": "scene",
         "showlegend": true,
         "type": "scatter3d",
         "x": [
          -0.19160279631614685
         ],
         "y": [
          0.35963112115859985
         ],
         "z": [
          -0.17726348340511322
         ]
        },
        {
         "hovertemplate": "color=look<br>0=%{x}<br>1=%{y}<br>2=%{z}<extra></extra>",
         "legendgroup": "look",
         "marker": {
          "color": "#19d3f3",
          "symbol": "circle"
         },
         "mode": "markers",
         "name": "look",
         "scene": "scene",
         "showlegend": true,
         "type": "scatter3d",
         "x": [
          -0.009828103706240654
         ],
         "y": [
          -0.25688573718070984
         ],
         "z": [
          0.18547981977462769
         ]
        },
        {
         "hovertemplate": "color=want<br>0=%{x}<br>1=%{y}<br>2=%{z}<extra></extra>",
         "legendgroup": "want",
         "marker": {
          "color": "#FF6692",
          "symbol": "circle"
         },
         "mode": "markers",
         "name": "want",
         "scene": "scene",
         "showlegend": true,
         "type": "scatter3d",
         "x": [
          -0.54451584815979
         ],
         "y": [
          -0.18332135677337646
         ],
         "z": [
          -0.15479552745819092
         ]
        },
        {
         "hovertemplate": "color=much<br>0=%{x}<br>1=%{y}<br>2=%{z}<extra></extra>",
         "legendgroup": "much",
         "marker": {
          "color": "#B6E880",
          "symbol": "circle"
         },
         "mode": "markers",
         "name": "much",
         "scene": "scene",
         "showlegend": true,
         "type": "scatter3d",
         "x": [
          -0.48683619499206543
         ],
         "y": [
          -0.2559663951396942
         ],
         "z": [
          -0.21860556304454803
         ]
        },
        {
         "hovertemplate": "color=enough<br>0=%{x}<br>1=%{y}<br>2=%{z}<extra></extra>",
         "legendgroup": "enough",
         "marker": {
          "color": "#FF97FF",
          "symbol": "circle"
         },
         "mode": "markers",
         "name": "enough",
         "scene": "scene",
         "showlegend": true,
         "type": "scatter3d",
         "x": [
          -0.2164173275232315
         ],
         "y": [
          -0.08104203641414642
         ],
         "z": [
          -0.3045938014984131
         ]
        },
        {
         "hovertemplate": "color=sword<br>0=%{x}<br>1=%{y}<br>2=%{z}<extra></extra>",
         "legendgroup": "sword",
         "marker": {
          "color": "#FECB52",
          "symbol": "circle"
         },
         "mode": "markers",
         "name": "sword",
         "scene": "scene",
         "showlegend": true,
         "type": "scatter3d",
         "x": [
          0.13203173875808716
         ],
         "y": [
          0.13315795361995697
         ],
         "z": [
          0.295055627822876
         ]
        },
        {
         "hovertemplate": "color=tell<br>0=%{x}<br>1=%{y}<br>2=%{z}<extra></extra>",
         "legendgroup": "tell",
         "marker": {
          "color": "#636efa",
          "symbol": "circle"
         },
         "mode": "markers",
         "name": "tell",
         "scene": "scene",
         "showlegend": true,
         "type": "scatter3d",
         "x": [
          -0.6686363816261292
         ],
         "y": [
          -0.17567120492458344
         ],
         "z": [
          -0.12300997972488403
         ]
        },
        {
         "hovertemplate": "color=girl<br>0=%{x}<br>1=%{y}<br>2=%{z}<extra></extra>",
         "legendgroup": "girl",
         "marker": {
          "color": "#EF553B",
          "symbol": "circle"
         },
         "mode": "markers",
         "name": "girl",
         "scene": "scene",
         "showlegend": true,
         "type": "scatter3d",
         "x": [
          -0.23108671605587006
         ],
         "y": [
          0.001691817189566791
         ],
         "z": [
          0.33594876527786255
         ]
        },
        {
         "hovertemplate": "color=bran<br>0=%{x}<br>1=%{y}<br>2=%{z}<extra></extra>",
         "legendgroup": "bran",
         "marker": {
          "color": "#00cc96",
          "symbol": "circle"
         },
         "mode": "markers",
         "name": "bran",
         "scene": "scene",
         "showlegend": true,
         "type": "scatter3d",
         "x": [
          0.05395245552062988
         ],
         "y": [
          -0.36421117186546326
         ],
         "z": [
          -0.06181689724326134
         ]
        },
        {
         "hovertemplate": "color=great<br>0=%{x}<br>1=%{y}<br>2=%{z}<extra></extra>",
         "legendgroup": "great",
         "marker": {
          "color": "#ab63fa",
          "symbol": "circle"
         },
         "mode": "markers",
         "name": "great",
         "scene": "scene",
         "showlegend": true,
         "type": "scatter3d",
         "x": [
          0.19181208312511444
         ],
         "y": [
          0.7915483117103577
         ],
         "z": [
          -0.21082323789596558
         ]
        },
        {
         "hovertemplate": "color=looked<br>0=%{x}<br>1=%{y}<br>2=%{z}<extra></extra>",
         "legendgroup": "looked",
         "marker": {
          "color": "#FFA15A",
          "symbol": "circle"
         },
         "mode": "markers",
         "name": "looked",
         "scene": "scene",
         "showlegend": true,
         "type": "scatter3d",
         "x": [
          0.19557838141918182
         ],
         "y": [
          -0.06287021189928055
         ],
         "z": [
          0.2586643695831299
         ]
        },
        {
         "hovertemplate": "color=left<br>0=%{x}<br>1=%{y}<br>2=%{z}<extra></extra>",
         "legendgroup": "left",
         "marker": {
          "color": "#19d3f3",
          "symbol": "circle"
         },
         "mode": "markers",
         "name": "left",
         "scene": "scene",
         "showlegend": true,
         "type": "scatter3d",
         "x": [
          0.25438663363456726
         ],
         "y": [
          0.25446343421936035
         ],
         "z": [
          0.01071767695248127
         ]
        },
        {
         "hovertemplate": "color=knew<br>0=%{x}<br>1=%{y}<br>2=%{z}<extra></extra>",
         "legendgroup": "knew",
         "marker": {
          "color": "#FF6692",
          "symbol": "circle"
         },
         "mode": "markers",
         "name": "knew",
         "scene": "scene",
         "showlegend": true,
         "type": "scatter3d",
         "x": [
          -0.35158467292785645
         ],
         "y": [
          -0.19386185705661774
         ],
         "z": [
          -0.28409096598625183
         ]
        },
        {
         "hovertemplate": "color=asked<br>0=%{x}<br>1=%{y}<br>2=%{z}<extra></extra>",
         "legendgroup": "asked",
         "marker": {
          "color": "#B6E880",
          "symbol": "circle"
         },
         "mode": "markers",
         "name": "asked",
         "scene": "scene",
         "showlegend": true,
         "type": "scatter3d",
         "x": [
          -0.49354660511016846
         ],
         "y": [
          0.01681208610534668
         ],
         "z": [
          0.3339873254299164
         ]
        },
        {
         "hovertemplate": "color=gave<br>0=%{x}<br>1=%{y}<br>2=%{z}<extra></extra>",
         "legendgroup": "gave",
         "marker": {
          "color": "#FF97FF",
          "symbol": "circle"
         },
         "mode": "markers",
         "name": "gave",
         "scene": "scene",
         "showlegend": true,
         "type": "scatter3d",
         "x": [
          -0.07341167330741882
         ],
         "y": [
          -0.17051205039024353
         ],
         "z": [
          0.5525808334350586
         ]
        },
        {
         "hovertemplate": "color=maester<br>0=%{x}<br>1=%{y}<br>2=%{z}<extra></extra>",
         "legendgroup": "maester",
         "marker": {
          "color": "#FECB52",
          "symbol": "circle"
         },
         "mode": "markers",
         "name": "maester",
         "scene": "scene",
         "showlegend": true,
         "type": "scatter3d",
         "x": [
          -0.14419987797737122
         ],
         "y": [
          0.2342139631509781
         ],
         "z": [
          0.3198739290237427
         ]
        },
        {
         "hovertemplate": "color=called<br>0=%{x}<br>1=%{y}<br>2=%{z}<extra></extra>",
         "legendgroup": "called",
         "marker": {
          "color": "#636efa",
          "symbol": "circle"
         },
         "mode": "markers",
         "name": "called",
         "scene": "scene",
         "showlegend": true,
         "type": "scatter3d",
         "x": [
          -0.19597719609737396
         ],
         "y": [
          0.696478545665741
         ],
         "z": [
          0.42454296350479126
         ]
        },
        {
         "hovertemplate": "color=wall<br>0=%{x}<br>1=%{y}<br>2=%{z}<extra></extra>",
         "legendgroup": "wall",
         "marker": {
          "color": "#EF553B",
          "symbol": "circle"
         },
         "mode": "markers",
         "name": "wall",
         "scene": "scene",
         "showlegend": true,
         "type": "scatter3d",
         "x": [
          0.22963787615299225
         ],
         "y": [
          0.3287903666496277
         ],
         "z": [
          -0.4816513955593109
         ]
        },
        {
         "hovertemplate": "color=every<br>0=%{x}<br>1=%{y}<br>2=%{z}<extra></extra>",
         "legendgroup": "every",
         "marker": {
          "color": "#00cc96",
          "symbol": "circle"
         },
         "mode": "markers",
         "name": "every",
         "scene": "scene",
         "showlegend": true,
         "type": "scatter3d",
         "x": [
          0.1223599761724472
         ],
         "y": [
          0.21305835247039795
         ],
         "z": [
          -0.2967371642589569
         ]
        },
        {
         "hovertemplate": "color=heard<br>0=%{x}<br>1=%{y}<br>2=%{z}<extra></extra>",
         "legendgroup": "heard",
         "marker": {
          "color": "#ab63fa",
          "symbol": "circle"
         },
         "mode": "markers",
         "name": "heard",
         "scene": "scene",
         "showlegend": true,
         "type": "scatter3d",
         "x": [
          -0.014644177630543709
         ],
         "y": [
          -0.11694548279047012
         ],
         "z": [
          -0.204729363322258
         ]
        },
        {
         "hovertemplate": "color=sansa<br>0=%{x}<br>1=%{y}<br>2=%{z}<extra></extra>",
         "legendgroup": "sansa",
         "marker": {
          "color": "#FFA15A",
          "symbol": "circle"
         },
         "mode": "markers",
         "name": "sansa",
         "scene": "scene",
         "showlegend": true,
         "type": "scatter3d",
         "x": [
          -0.18892094492912292
         ],
         "y": [
          -0.33190491795539856
         ],
         "z": [
          0.3378114104270935
         ]
        },
        {
         "hovertemplate": "color=let<br>0=%{x}<br>1=%{y}<br>2=%{z}<extra></extra>",
         "legendgroup": "let",
         "marker": {
          "color": "#19d3f3",
          "symbol": "circle"
         },
         "mode": "markers",
         "name": "let",
         "scene": "scene",
         "showlegend": true,
         "type": "scatter3d",
         "x": [
          -0.24626874923706055
         ],
         "y": [
          -0.22510865330696106
         ],
         "z": [
          -0.1372724175453186
         ]
        },
        {
         "hovertemplate": "color=yet<br>0=%{x}<br>1=%{y}<br>2=%{z}<extra></extra>",
         "legendgroup": "yet",
         "marker": {
          "color": "#FF6692",
          "symbol": "circle"
         },
         "mode": "markers",
         "name": "yet",
         "scene": "scene",
         "showlegend": true,
         "type": "scatter3d",
         "x": [
          -0.2346537858247757
         ],
         "y": [
          -0.05584021285176277
         ],
         "z": [
          -0.41953128576278687
         ]
        },
        {
         "hovertemplate": "color=went<br>0=%{x}<br>1=%{y}<br>2=%{z}<extra></extra>",
         "legendgroup": "went",
         "marker": {
          "color": "#B6E880",
          "symbol": "circle"
         },
         "mode": "markers",
         "name": "went",
         "scene": "scene",
         "showlegend": true,
         "type": "scatter3d",
         "x": [
          0.37625426054000854
         ],
         "y": [
          0.057472702115774155
         ],
         "z": [
          -0.11572754383087158
         ]
        },
        {
         "hovertemplate": "color=turned<br>0=%{x}<br>1=%{y}<br>2=%{z}<extra></extra>",
         "legendgroup": "turned",
         "marker": {
          "color": "#FF97FF",
          "symbol": "circle"
         },
         "mode": "markers",
         "name": "turned",
         "scene": "scene",
         "showlegend": true,
         "type": "scatter3d",
         "x": [
          0.26940444111824036
         ],
         "y": [
          0.09011111408472061
         ],
         "z": [
          0.2806398272514343
         ]
        },
        {
         "hovertemplate": "color=dany<br>0=%{x}<br>1=%{y}<br>2=%{z}<extra></extra>",
         "legendgroup": "dany",
         "marker": {
          "color": "#FECB52",
          "symbol": "circle"
         },
         "mode": "markers",
         "name": "dany",
         "scene": "scene",
         "showlegend": true,
         "type": "scatter3d",
         "x": [
          0.08646027743816376
         ],
         "y": [
          -0.1620117872953415
         ],
         "z": [
          0.002911556279286742
         ]
        },
        {
         "hovertemplate": "color=need<br>0=%{x}<br>1=%{y}<br>2=%{z}<extra></extra>",
         "legendgroup": "need",
         "marker": {
          "color": "#636efa",
          "symbol": "circle"
         },
         "mode": "markers",
         "name": "need",
         "scene": "scene",
         "showlegend": true,
         "type": "scatter3d",
         "x": [
          -0.47157225012779236
         ],
         "y": [
          0.017121152952313423
         ],
         "z": [
          -0.32850441336631775
         ]
        },
        {
         "hovertemplate": "color=behind<br>0=%{x}<br>1=%{y}<br>2=%{z}<extra></extra>",
         "legendgroup": "behind",
         "marker": {
          "color": "#EF553B",
          "symbol": "circle"
         },
         "mode": "markers",
         "name": "behind",
         "scene": "scene",
         "showlegend": true,
         "type": "scatter3d",
         "x": [
          0.5594878196716309
         ],
         "y": [
          0.3732560873031616
         ],
         "z": [
          -0.11860430985689163
         ]
        },
        {
         "hovertemplate": "color=around<br>0=%{x}<br>1=%{y}<br>2=%{z}<extra></extra>",
         "legendgroup": "around",
         "marker": {
          "color": "#00cc96",
          "symbol": "circle"
         },
         "mode": "markers",
         "name": "around",
         "scene": "scene",
         "showlegend": true,
         "type": "scatter3d",
         "x": [
          0.7446959614753723
         ],
         "y": [
          0.09634726494550705
         ],
         "z": [
          -0.07299380004405975
         ]
        },
        {
         "hovertemplate": "color=woman<br>0=%{x}<br>1=%{y}<br>2=%{z}<extra></extra>",
         "legendgroup": "woman",
         "marker": {
          "color": "#ab63fa",
          "symbol": "circle"
         },
         "mode": "markers",
         "name": "woman",
         "scene": "scene",
         "showlegend": true,
         "type": "scatter3d",
         "x": [
          -0.08935505151748657
         ],
         "y": [
          -0.09187201410531998
         ],
         "z": [
          0.25872209668159485
         ]
        },
        {
         "hovertemplate": "color=another<br>0=%{x}<br>1=%{y}<br>2=%{z}<extra></extra>",
         "legendgroup": "another",
         "marker": {
          "color": "#FFA15A",
          "symbol": "circle"
         },
         "mode": "markers",
         "name": "another",
         "scene": "scene",
         "showlegend": true,
         "type": "scatter3d",
         "x": [
          0.0388423427939415
         ],
         "y": [
          0.031392283737659454
         ],
         "z": [
          -0.13491646945476532
         ]
        },
        {
         "hovertemplate": "color=snow<br>0=%{x}<br>1=%{y}<br>2=%{z}<extra></extra>",
         "legendgroup": "snow",
         "marker": {
          "color": "#19d3f3",
          "symbol": "circle"
         },
         "mode": "markers",
         "name": "snow",
         "scene": "scene",
         "showlegend": true,
         "type": "scatter3d",
         "x": [
          0.26887989044189453
         ],
         "y": [
          0.04237406328320503
         ],
         "z": [
          -0.06320852041244507
         ]
        },
        {
         "hovertemplate": "color=beneath<br>0=%{x}<br>1=%{y}<br>2=%{z}<extra></extra>",
         "legendgroup": "beneath",
         "marker": {
          "color": "#FF6692",
          "symbol": "circle"
         },
         "mode": "markers",
         "name": "beneath",
         "scene": "scene",
         "showlegend": true,
         "type": "scatter3d",
         "x": [
          0.7524769306182861
         ],
         "y": [
          0.3324081003665924
         ],
         "z": [
          -0.15246392786502838
         ]
        },
        {
         "hovertemplate": "color=across<br>0=%{x}<br>1=%{y}<br>2=%{z}<extra></extra>",
         "legendgroup": "across",
         "marker": {
          "color": "#B6E880",
          "symbol": "circle"
         },
         "mode": "markers",
         "name": "across",
         "scene": "scene",
         "showlegend": true,
         "type": "scatter3d",
         "x": [
          0.6788948178291321
         ],
         "y": [
          0.2611716389656067
         ],
         "z": [
          -0.11318609863519669
         ]
        },
        {
         "hovertemplate": "color=knight<br>0=%{x}<br>1=%{y}<br>2=%{z}<extra></extra>",
         "legendgroup": "knight",
         "marker": {
          "color": "#FF97FF",
          "symbol": "circle"
         },
         "mode": "markers",
         "name": "knight",
         "scene": "scene",
         "showlegend": true,
         "type": "scatter3d",
         "x": [
          -0.244095116853714
         ],
         "y": [
          0.490784615278244
         ],
         "z": [
          0.5754539370536804
         ]
        },
        {
         "hovertemplate": "color=keep<br>0=%{x}<br>1=%{y}<br>2=%{z}<extra></extra>",
         "legendgroup": "keep",
         "marker": {
          "color": "#FECB52",
          "symbol": "circle"
         },
         "mode": "markers",
         "name": "keep",
         "scene": "scene",
         "showlegend": true,
         "type": "scatter3d",
         "x": [
          -0.07075000554323196
         ],
         "y": [
          0.1509530246257782
         ],
         "z": [
          -0.3633761703968048
         ]
        }
       ],
       "layout": {
        "legend": {
         "title": {
          "text": "color"
         },
         "tracegroupgap": 0
        },
        "margin": {
         "t": 60
        },
        "scene": {
         "domain": {
          "x": [
           0,
           1
          ],
          "y": [
           0,
           1
          ]
         },
         "xaxis": {
          "title": {
           "text": "0"
          }
         },
         "yaxis": {
          "title": {
           "text": "1"
          }
         },
         "zaxis": {
          "title": {
           "text": "2"
          }
         }
        },
        "template": {
         "data": {
          "bar": [
           {
            "error_x": {
             "color": "#2a3f5f"
            },
            "error_y": {
             "color": "#2a3f5f"
            },
            "marker": {
             "line": {
              "color": "#E5ECF6",
              "width": 0.5
             },
             "pattern": {
              "fillmode": "overlay",
              "size": 10,
              "solidity": 0.2
             }
            },
            "type": "bar"
           }
          ],
          "barpolar": [
           {
            "marker": {
             "line": {
              "color": "#E5ECF6",
              "width": 0.5
             },
             "pattern": {
              "fillmode": "overlay",
              "size": 10,
              "solidity": 0.2
             }
            },
            "type": "barpolar"
           }
          ],
          "carpet": [
           {
            "aaxis": {
             "endlinecolor": "#2a3f5f",
             "gridcolor": "white",
             "linecolor": "white",
             "minorgridcolor": "white",
             "startlinecolor": "#2a3f5f"
            },
            "baxis": {
             "endlinecolor": "#2a3f5f",
             "gridcolor": "white",
             "linecolor": "white",
             "minorgridcolor": "white",
             "startlinecolor": "#2a3f5f"
            },
            "type": "carpet"
           }
          ],
          "choropleth": [
           {
            "colorbar": {
             "outlinewidth": 0,
             "ticks": ""
            },
            "type": "choropleth"
           }
          ],
          "contour": [
           {
            "colorbar": {
             "outlinewidth": 0,
             "ticks": ""
            },
            "colorscale": [
             [
              0,
              "#0d0887"
             ],
             [
              0.1111111111111111,
              "#46039f"
             ],
             [
              0.2222222222222222,
              "#7201a8"
             ],
             [
              0.3333333333333333,
              "#9c179e"
             ],
             [
              0.4444444444444444,
              "#bd3786"
             ],
             [
              0.5555555555555556,
              "#d8576b"
             ],
             [
              0.6666666666666666,
              "#ed7953"
             ],
             [
              0.7777777777777778,
              "#fb9f3a"
             ],
             [
              0.8888888888888888,
              "#fdca26"
             ],
             [
              1,
              "#f0f921"
             ]
            ],
            "type": "contour"
           }
          ],
          "contourcarpet": [
           {
            "colorbar": {
             "outlinewidth": 0,
             "ticks": ""
            },
            "type": "contourcarpet"
           }
          ],
          "heatmap": [
           {
            "colorbar": {
             "outlinewidth": 0,
             "ticks": ""
            },
            "colorscale": [
             [
              0,
              "#0d0887"
             ],
             [
              0.1111111111111111,
              "#46039f"
             ],
             [
              0.2222222222222222,
              "#7201a8"
             ],
             [
              0.3333333333333333,
              "#9c179e"
             ],
             [
              0.4444444444444444,
              "#bd3786"
             ],
             [
              0.5555555555555556,
              "#d8576b"
             ],
             [
              0.6666666666666666,
              "#ed7953"
             ],
             [
              0.7777777777777778,
              "#fb9f3a"
             ],
             [
              0.8888888888888888,
              "#fdca26"
             ],
             [
              1,
              "#f0f921"
             ]
            ],
            "type": "heatmap"
           }
          ],
          "heatmapgl": [
           {
            "colorbar": {
             "outlinewidth": 0,
             "ticks": ""
            },
            "colorscale": [
             [
              0,
              "#0d0887"
             ],
             [
              0.1111111111111111,
              "#46039f"
             ],
             [
              0.2222222222222222,
              "#7201a8"
             ],
             [
              0.3333333333333333,
              "#9c179e"
             ],
             [
              0.4444444444444444,
              "#bd3786"
             ],
             [
              0.5555555555555556,
              "#d8576b"
             ],
             [
              0.6666666666666666,
              "#ed7953"
             ],
             [
              0.7777777777777778,
              "#fb9f3a"
             ],
             [
              0.8888888888888888,
              "#fdca26"
             ],
             [
              1,
              "#f0f921"
             ]
            ],
            "type": "heatmapgl"
           }
          ],
          "histogram": [
           {
            "marker": {
             "pattern": {
              "fillmode": "overlay",
              "size": 10,
              "solidity": 0.2
             }
            },
            "type": "histogram"
           }
          ],
          "histogram2d": [
           {
            "colorbar": {
             "outlinewidth": 0,
             "ticks": ""
            },
            "colorscale": [
             [
              0,
              "#0d0887"
             ],
             [
              0.1111111111111111,
              "#46039f"
             ],
             [
              0.2222222222222222,
              "#7201a8"
             ],
             [
              0.3333333333333333,
              "#9c179e"
             ],
             [
              0.4444444444444444,
              "#bd3786"
             ],
             [
              0.5555555555555556,
              "#d8576b"
             ],
             [
              0.6666666666666666,
              "#ed7953"
             ],
             [
              0.7777777777777778,
              "#fb9f3a"
             ],
             [
              0.8888888888888888,
              "#fdca26"
             ],
             [
              1,
              "#f0f921"
             ]
            ],
            "type": "histogram2d"
           }
          ],
          "histogram2dcontour": [
           {
            "colorbar": {
             "outlinewidth": 0,
             "ticks": ""
            },
            "colorscale": [
             [
              0,
              "#0d0887"
             ],
             [
              0.1111111111111111,
              "#46039f"
             ],
             [
              0.2222222222222222,
              "#7201a8"
             ],
             [
              0.3333333333333333,
              "#9c179e"
             ],
             [
              0.4444444444444444,
              "#bd3786"
             ],
             [
              0.5555555555555556,
              "#d8576b"
             ],
             [
              0.6666666666666666,
              "#ed7953"
             ],
             [
              0.7777777777777778,
              "#fb9f3a"
             ],
             [
              0.8888888888888888,
              "#fdca26"
             ],
             [
              1,
              "#f0f921"
             ]
            ],
            "type": "histogram2dcontour"
           }
          ],
          "mesh3d": [
           {
            "colorbar": {
             "outlinewidth": 0,
             "ticks": ""
            },
            "type": "mesh3d"
           }
          ],
          "parcoords": [
           {
            "line": {
             "colorbar": {
              "outlinewidth": 0,
              "ticks": ""
             }
            },
            "type": "parcoords"
           }
          ],
          "pie": [
           {
            "automargin": true,
            "type": "pie"
           }
          ],
          "scatter": [
           {
            "fillpattern": {
             "fillmode": "overlay",
             "size": 10,
             "solidity": 0.2
            },
            "type": "scatter"
           }
          ],
          "scatter3d": [
           {
            "line": {
             "colorbar": {
              "outlinewidth": 0,
              "ticks": ""
             }
            },
            "marker": {
             "colorbar": {
              "outlinewidth": 0,
              "ticks": ""
             }
            },
            "type": "scatter3d"
           }
          ],
          "scattercarpet": [
           {
            "marker": {
             "colorbar": {
              "outlinewidth": 0,
              "ticks": ""
             }
            },
            "type": "scattercarpet"
           }
          ],
          "scattergeo": [
           {
            "marker": {
             "colorbar": {
              "outlinewidth": 0,
              "ticks": ""
             }
            },
            "type": "scattergeo"
           }
          ],
          "scattergl": [
           {
            "marker": {
             "colorbar": {
              "outlinewidth": 0,
              "ticks": ""
             }
            },
            "type": "scattergl"
           }
          ],
          "scattermapbox": [
           {
            "marker": {
             "colorbar": {
              "outlinewidth": 0,
              "ticks": ""
             }
            },
            "type": "scattermapbox"
           }
          ],
          "scatterpolar": [
           {
            "marker": {
             "colorbar": {
              "outlinewidth": 0,
              "ticks": ""
             }
            },
            "type": "scatterpolar"
           }
          ],
          "scatterpolargl": [
           {
            "marker": {
             "colorbar": {
              "outlinewidth": 0,
              "ticks": ""
             }
            },
            "type": "scatterpolargl"
           }
          ],
          "scatterternary": [
           {
            "marker": {
             "colorbar": {
              "outlinewidth": 0,
              "ticks": ""
             }
            },
            "type": "scatterternary"
           }
          ],
          "surface": [
           {
            "colorbar": {
             "outlinewidth": 0,
             "ticks": ""
            },
            "colorscale": [
             [
              0,
              "#0d0887"
             ],
             [
              0.1111111111111111,
              "#46039f"
             ],
             [
              0.2222222222222222,
              "#7201a8"
             ],
             [
              0.3333333333333333,
              "#9c179e"
             ],
             [
              0.4444444444444444,
              "#bd3786"
             ],
             [
              0.5555555555555556,
              "#d8576b"
             ],
             [
              0.6666666666666666,
              "#ed7953"
             ],
             [
              0.7777777777777778,
              "#fb9f3a"
             ],
             [
              0.8888888888888888,
              "#fdca26"
             ],
             [
              1,
              "#f0f921"
             ]
            ],
            "type": "surface"
           }
          ],
          "table": [
           {
            "cells": {
             "fill": {
              "color": "#EBF0F8"
             },
             "line": {
              "color": "white"
             }
            },
            "header": {
             "fill": {
              "color": "#C8D4E3"
             },
             "line": {
              "color": "white"
             }
            },
            "type": "table"
           }
          ]
         },
         "layout": {
          "annotationdefaults": {
           "arrowcolor": "#2a3f5f",
           "arrowhead": 0,
           "arrowwidth": 1
          },
          "autotypenumbers": "strict",
          "coloraxis": {
           "colorbar": {
            "outlinewidth": 0,
            "ticks": ""
           }
          },
          "colorscale": {
           "diverging": [
            [
             0,
             "#8e0152"
            ],
            [
             0.1,
             "#c51b7d"
            ],
            [
             0.2,
             "#de77ae"
            ],
            [
             0.3,
             "#f1b6da"
            ],
            [
             0.4,
             "#fde0ef"
            ],
            [
             0.5,
             "#f7f7f7"
            ],
            [
             0.6,
             "#e6f5d0"
            ],
            [
             0.7,
             "#b8e186"
            ],
            [
             0.8,
             "#7fbc41"
            ],
            [
             0.9,
             "#4d9221"
            ],
            [
             1,
             "#276419"
            ]
           ],
           "sequential": [
            [
             0,
             "#0d0887"
            ],
            [
             0.1111111111111111,
             "#46039f"
            ],
            [
             0.2222222222222222,
             "#7201a8"
            ],
            [
             0.3333333333333333,
             "#9c179e"
            ],
            [
             0.4444444444444444,
             "#bd3786"
            ],
            [
             0.5555555555555556,
             "#d8576b"
            ],
            [
             0.6666666666666666,
             "#ed7953"
            ],
            [
             0.7777777777777778,
             "#fb9f3a"
            ],
            [
             0.8888888888888888,
             "#fdca26"
            ],
            [
             1,
             "#f0f921"
            ]
           ],
           "sequentialminus": [
            [
             0,
             "#0d0887"
            ],
            [
             0.1111111111111111,
             "#46039f"
            ],
            [
             0.2222222222222222,
             "#7201a8"
            ],
            [
             0.3333333333333333,
             "#9c179e"
            ],
            [
             0.4444444444444444,
             "#bd3786"
            ],
            [
             0.5555555555555556,
             "#d8576b"
            ],
            [
             0.6666666666666666,
             "#ed7953"
            ],
            [
             0.7777777777777778,
             "#fb9f3a"
            ],
            [
             0.8888888888888888,
             "#fdca26"
            ],
            [
             1,
             "#f0f921"
            ]
           ]
          },
          "colorway": [
           "#636efa",
           "#EF553B",
           "#00cc96",
           "#ab63fa",
           "#FFA15A",
           "#19d3f3",
           "#FF6692",
           "#B6E880",
           "#FF97FF",
           "#FECB52"
          ],
          "font": {
           "color": "#2a3f5f"
          },
          "geo": {
           "bgcolor": "white",
           "lakecolor": "white",
           "landcolor": "#E5ECF6",
           "showlakes": true,
           "showland": true,
           "subunitcolor": "white"
          },
          "hoverlabel": {
           "align": "left"
          },
          "hovermode": "closest",
          "mapbox": {
           "style": "light"
          },
          "paper_bgcolor": "white",
          "plot_bgcolor": "#E5ECF6",
          "polar": {
           "angularaxis": {
            "gridcolor": "white",
            "linecolor": "white",
            "ticks": ""
           },
           "bgcolor": "#E5ECF6",
           "radialaxis": {
            "gridcolor": "white",
            "linecolor": "white",
            "ticks": ""
           }
          },
          "scene": {
           "xaxis": {
            "backgroundcolor": "#E5ECF6",
            "gridcolor": "white",
            "gridwidth": 2,
            "linecolor": "white",
            "showbackground": true,
            "ticks": "",
            "zerolinecolor": "white"
           },
           "yaxis": {
            "backgroundcolor": "#E5ECF6",
            "gridcolor": "white",
            "gridwidth": 2,
            "linecolor": "white",
            "showbackground": true,
            "ticks": "",
            "zerolinecolor": "white"
           },
           "zaxis": {
            "backgroundcolor": "#E5ECF6",
            "gridcolor": "white",
            "gridwidth": 2,
            "linecolor": "white",
            "showbackground": true,
            "ticks": "",
            "zerolinecolor": "white"
           }
          },
          "shapedefaults": {
           "line": {
            "color": "#2a3f5f"
           }
          },
          "ternary": {
           "aaxis": {
            "gridcolor": "white",
            "linecolor": "white",
            "ticks": ""
           },
           "baxis": {
            "gridcolor": "white",
            "linecolor": "white",
            "ticks": ""
           },
           "bgcolor": "#E5ECF6",
           "caxis": {
            "gridcolor": "white",
            "linecolor": "white",
            "ticks": ""
           }
          },
          "title": {
           "x": 0.05
          },
          "xaxis": {
           "automargin": true,
           "gridcolor": "white",
           "linecolor": "white",
           "ticks": "",
           "title": {
            "standoff": 15
           },
           "zerolinecolor": "white",
           "zerolinewidth": 2
          },
          "yaxis": {
           "automargin": true,
           "gridcolor": "white",
           "linecolor": "white",
           "ticks": "",
           "title": {
            "standoff": 15
           },
           "zerolinecolor": "white",
           "zerolinewidth": 2
          }
         }
        }
       }
      }
     },
     "metadata": {},
     "output_type": "display_data"
    }
   ],
   "source": [
    "import plotly.express as px\n",
    "fig = px.scatter_3d(X[:100],x=0,y=1,z=2,color = y[:100])\n",
    "fig.show()"
   ]
  }
 ],
 "metadata": {
  "kernelspec": {
   "display_name": "myenv",
   "language": "python",
   "name": "python3"
  },
  "language_info": {
   "codemirror_mode": {
    "name": "ipython",
    "version": 3
   },
   "file_extension": ".py",
   "mimetype": "text/x-python",
   "name": "python",
   "nbconvert_exporter": "python",
   "pygments_lexer": "ipython3",
   "version": "3.12.3"
  }
 },
 "nbformat": 4,
 "nbformat_minor": 2
}
